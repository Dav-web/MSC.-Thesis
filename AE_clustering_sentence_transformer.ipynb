{
  "cells": [
    {
      "cell_type": "markdown",
      "source": [
        ""
      ],
      "metadata": {
        "id": "EeCUr7KgH-Cr"
      }
    },
    {
      "cell_type": "code",
      "source": [
        "# mount the google drive to read in data\n",
        "from google.colab import drive\n",
        "drive.mount('/content/gdrive')"
      ],
      "metadata": {
        "id": "eobpYghWIClI",
        "colab": {
          "base_uri": "https://localhost:8080/"
        },
        "outputId": "45b292a9-990a-4a8b-8d42-da2ec43e4147"
      },
      "execution_count": 1,
      "outputs": [
        {
          "output_type": "stream",
          "name": "stdout",
          "text": [
            "Drive already mounted at /content/gdrive; to attempt to forcibly remount, call drive.mount(\"/content/gdrive\", force_remount=True).\n"
          ]
        }
      ]
    },
    {
      "cell_type": "code",
      "execution_count": 2,
      "metadata": {
        "id": "gy0-CWT45LmV"
      },
      "outputs": [],
      "source": [
        "# define file path on google drive\n",
        "root_path = '/content/gdrive/My Drive/covidvaccine.csv'"
      ]
    },
    {
      "cell_type": "markdown",
      "source": [
        "## Import LIbraries and Helper Functions"
      ],
      "metadata": {
        "id": "fED0LjMFlNEL"
      }
    },
    {
      "cell_type": "code",
      "execution_count": 3,
      "metadata": {
        "colab": {
          "base_uri": "https://localhost:8080/"
        },
        "id": "CHciUtbZ5Sys",
        "outputId": "78575a0b-3dd7-40c6-aaea-573456aa10d4"
      },
      "outputs": [
        {
          "output_type": "stream",
          "name": "stdout",
          "text": [
            "[nltk_data] Downloading package punkt to /root/nltk_data...\n",
            "[nltk_data]   Package punkt is already up-to-date!\n",
            "[nltk_data] Downloading package stopwords to /root/nltk_data...\n",
            "[nltk_data]   Package stopwords is already up-to-date!\n",
            "Requirement already satisfied: emoji in /usr/local/lib/python3.7/dist-packages (1.7.0)\n",
            "[nltk_data] Downloading package words to /root/nltk_data...\n",
            "[nltk_data]   Package words is already up-to-date!\n"
          ]
        }
      ],
      "source": [
        "from sklearn.feature_extraction.text import TfidfVectorizer, CountVectorizer, TfidfTransformer\n",
        "from sklearn.cluster import k_means\n",
        "import re\n",
        "import numpy as np \n",
        "import pandas as pd\n",
        "import pandas as pd\n",
        "import numpy as np\n",
        "import sys\n",
        "import json\n",
        "import re\n",
        "import copy\n",
        "import math\n",
        "\n",
        "#for text cleaning\n",
        "import string\n",
        "import re\n",
        "import nltk\n",
        "import itertools as it\n",
        "import logging\n",
        "import os\n",
        "import sys\n",
        "nltk.download('punkt')\n",
        "nltk.download('stopwords')\n",
        "from nltk.tokenize import word_tokenize\n",
        "from nltk.stem import PorterStemmer\n",
        "from nltk.corpus import stopwords\n",
        "from nltk.util import everygrams\n",
        "from nltk.tokenize.casual import TweetTokenizer\n",
        "from collections import Counter\n",
        "!pip install emoji\n",
        "import emoji\n",
        "nltk.download('words')\n",
        "words = set(nltk.corpus.words.words())\n",
        "from gensim.utils import simple_preprocess\n",
        "\n",
        "import matplotlib\n",
        "import seaborn as sns\n",
        "import matplotlib.pyplot as plt\n",
        "from textblob import TextBlob \n",
        "from wordcloud import WordCloud, STOPWORDS\n",
        "import warnings\n",
        "warnings.simplefilter(\"ignore\")\n",
        "%matplotlib inline\n",
        "pd.set_option('display.max_colwidth', 400)"
      ]
    },
    {
      "cell_type": "markdown",
      "source": [
        "## Read in data from the data source (Google drive)"
      ],
      "metadata": {
        "id": "Wzbj2pgzlPvf"
      }
    },
    {
      "cell_type": "code",
      "execution_count": 4,
      "metadata": {
        "colab": {
          "base_uri": "https://localhost:8080/",
          "height": 617
        },
        "id": "fHrf3shf5f-p",
        "outputId": "20d9ad38-cf58-4e3a-b621-3e31bfe4739a"
      },
      "outputs": [
        {
          "output_type": "execute_result",
          "data": {
            "text/plain": [
              "                 user_name              user_location  \\\n",
              "0                 MyNewsNE                      Assam   \n",
              "1            Shubham Gupta                        NaN   \n",
              "2  Journal of Infectiology                        NaN   \n",
              "3                     Zane                        NaN   \n",
              "4       Ann-Maree O’Connor  Adelaide, South Australia   \n",
              "\n",
              "                                                                                                                                                  user_description  \\\n",
              "0                                                                                         MyNewsNE a dedicated multi-lingual media house from North Eastern India.   \n",
              "1                                                                  I will tell about all experiences of my life from my videos hope that you all like the videos 🙂   \n",
              "2  Journal of Infectiology (ISSN 2689-9981) is accepting submissions for an upcoming Volume 3 Issue 2. For further queries contact editor@infectiologyjournal.com.   \n",
              "3                                                                                                                                                Fresher than you.   \n",
              "4           Retired university administrator. Melburnian by birth, now living in Adelaide. Look back fondly to the Whitlam years; one of Keating’s true believers.   \n",
              "\n",
              "       user_created  user_followers user_friends user_favourites  \\\n",
              "0  24-05-2020 10:18            64.0         11.0           110.0   \n",
              "1  14-08-2020 16:42             1.0         17.0             0.0   \n",
              "2  14-12-2017 07:07           143.0        566.0             8.0   \n",
              "3  18-09-2019 11:01            29.0         25.0           620.0   \n",
              "4  24-01-2013 14:53            83.0        497.0         10737.0   \n",
              "\n",
              "  user_verified              date  \\\n",
              "0         False  18-08-2020 12:55   \n",
              "1         False  18-08-2020 12:55   \n",
              "2         False  18-08-2020 12:46   \n",
              "3         False  18-08-2020 12:45   \n",
              "4         False  18-08-2020 12:45   \n",
              "\n",
              "                                                                                                                                           text  \\\n",
              "0              Australia to Manufacture Covid-19 Vaccine and give it to the Citizens for free of cost: AFP quotes Prime Minister\\n#CovidVaccine   \n",
              "1                                         #CoronavirusVaccine #CoronaVaccine #CovidVaccine Australia is doing very good https://t.co/kBT7l6pArY   \n",
              "2         Deaths due to COVID-19 in Affected Countries\\nRead More: https://t.co/V8Y3Stu0UW\\n@r_piryani @shitalbhandary… https://t.co/6jpMxX2KtI   \n",
              "3              @Team_Subhashree @subhashreesotwe @iamrajchoco Stay safe @subhashreesotwe di &amp; @iamrajchoco da ❤️❤️… https://t.co/ayhoaQm0Ls   \n",
              "4  @michellegrattan @ConversationEDU This is what passes for leadership in our country: a voucher for something that w… https://t.co/OUUb1PeYIj   \n",
              "\n",
              "                                                  hashtags  \\\n",
              "0                                         ['CovidVaccine']   \n",
              "1  ['CoronavirusVaccine', 'CoronaVaccine', 'CovidVaccine']   \n",
              "2                                                      NaN   \n",
              "3                                                      NaN   \n",
              "4                                                      NaN   \n",
              "\n",
              "                source is_retweet  \n",
              "0      Twitter Web App      False  \n",
              "1  Twitter for Android      False  \n",
              "2      Twitter Web App      False  \n",
              "3  Twitter for Android      False  \n",
              "4      Twitter Web App      False  "
            ],
            "text/html": [
              "\n",
              "  <div id=\"df-aa50c00e-973c-427e-9069-bbf1380e26a3\">\n",
              "    <div class=\"colab-df-container\">\n",
              "      <div>\n",
              "<style scoped>\n",
              "    .dataframe tbody tr th:only-of-type {\n",
              "        vertical-align: middle;\n",
              "    }\n",
              "\n",
              "    .dataframe tbody tr th {\n",
              "        vertical-align: top;\n",
              "    }\n",
              "\n",
              "    .dataframe thead th {\n",
              "        text-align: right;\n",
              "    }\n",
              "</style>\n",
              "<table border=\"1\" class=\"dataframe\">\n",
              "  <thead>\n",
              "    <tr style=\"text-align: right;\">\n",
              "      <th></th>\n",
              "      <th>user_name</th>\n",
              "      <th>user_location</th>\n",
              "      <th>user_description</th>\n",
              "      <th>user_created</th>\n",
              "      <th>user_followers</th>\n",
              "      <th>user_friends</th>\n",
              "      <th>user_favourites</th>\n",
              "      <th>user_verified</th>\n",
              "      <th>date</th>\n",
              "      <th>text</th>\n",
              "      <th>hashtags</th>\n",
              "      <th>source</th>\n",
              "      <th>is_retweet</th>\n",
              "    </tr>\n",
              "  </thead>\n",
              "  <tbody>\n",
              "    <tr>\n",
              "      <th>0</th>\n",
              "      <td>MyNewsNE</td>\n",
              "      <td>Assam</td>\n",
              "      <td>MyNewsNE a dedicated multi-lingual media house from North Eastern India.</td>\n",
              "      <td>24-05-2020 10:18</td>\n",
              "      <td>64.0</td>\n",
              "      <td>11.0</td>\n",
              "      <td>110.0</td>\n",
              "      <td>False</td>\n",
              "      <td>18-08-2020 12:55</td>\n",
              "      <td>Australia to Manufacture Covid-19 Vaccine and give it to the Citizens for free of cost: AFP quotes Prime Minister\\n#CovidVaccine</td>\n",
              "      <td>['CovidVaccine']</td>\n",
              "      <td>Twitter Web App</td>\n",
              "      <td>False</td>\n",
              "    </tr>\n",
              "    <tr>\n",
              "      <th>1</th>\n",
              "      <td>Shubham Gupta</td>\n",
              "      <td>NaN</td>\n",
              "      <td>I will tell about all experiences of my life from my videos hope that you all like the videos 🙂</td>\n",
              "      <td>14-08-2020 16:42</td>\n",
              "      <td>1.0</td>\n",
              "      <td>17.0</td>\n",
              "      <td>0.0</td>\n",
              "      <td>False</td>\n",
              "      <td>18-08-2020 12:55</td>\n",
              "      <td>#CoronavirusVaccine #CoronaVaccine #CovidVaccine Australia is doing very good https://t.co/kBT7l6pArY</td>\n",
              "      <td>['CoronavirusVaccine', 'CoronaVaccine', 'CovidVaccine']</td>\n",
              "      <td>Twitter for Android</td>\n",
              "      <td>False</td>\n",
              "    </tr>\n",
              "    <tr>\n",
              "      <th>2</th>\n",
              "      <td>Journal of Infectiology</td>\n",
              "      <td>NaN</td>\n",
              "      <td>Journal of Infectiology (ISSN 2689-9981) is accepting submissions for an upcoming Volume 3 Issue 2. For further queries contact editor@infectiologyjournal.com.</td>\n",
              "      <td>14-12-2017 07:07</td>\n",
              "      <td>143.0</td>\n",
              "      <td>566.0</td>\n",
              "      <td>8.0</td>\n",
              "      <td>False</td>\n",
              "      <td>18-08-2020 12:46</td>\n",
              "      <td>Deaths due to COVID-19 in Affected Countries\\nRead More: https://t.co/V8Y3Stu0UW\\n@r_piryani @shitalbhandary… https://t.co/6jpMxX2KtI</td>\n",
              "      <td>NaN</td>\n",
              "      <td>Twitter Web App</td>\n",
              "      <td>False</td>\n",
              "    </tr>\n",
              "    <tr>\n",
              "      <th>3</th>\n",
              "      <td>Zane</td>\n",
              "      <td>NaN</td>\n",
              "      <td>Fresher than you.</td>\n",
              "      <td>18-09-2019 11:01</td>\n",
              "      <td>29.0</td>\n",
              "      <td>25.0</td>\n",
              "      <td>620.0</td>\n",
              "      <td>False</td>\n",
              "      <td>18-08-2020 12:45</td>\n",
              "      <td>@Team_Subhashree @subhashreesotwe @iamrajchoco Stay safe @subhashreesotwe di &amp;amp; @iamrajchoco da ❤️❤️… https://t.co/ayhoaQm0Ls</td>\n",
              "      <td>NaN</td>\n",
              "      <td>Twitter for Android</td>\n",
              "      <td>False</td>\n",
              "    </tr>\n",
              "    <tr>\n",
              "      <th>4</th>\n",
              "      <td>Ann-Maree O’Connor</td>\n",
              "      <td>Adelaide, South Australia</td>\n",
              "      <td>Retired university administrator. Melburnian by birth, now living in Adelaide. Look back fondly to the Whitlam years; one of Keating’s true believers.</td>\n",
              "      <td>24-01-2013 14:53</td>\n",
              "      <td>83.0</td>\n",
              "      <td>497.0</td>\n",
              "      <td>10737.0</td>\n",
              "      <td>False</td>\n",
              "      <td>18-08-2020 12:45</td>\n",
              "      <td>@michellegrattan @ConversationEDU This is what passes for leadership in our country: a voucher for something that w… https://t.co/OUUb1PeYIj</td>\n",
              "      <td>NaN</td>\n",
              "      <td>Twitter Web App</td>\n",
              "      <td>False</td>\n",
              "    </tr>\n",
              "  </tbody>\n",
              "</table>\n",
              "</div>\n",
              "      <button class=\"colab-df-convert\" onclick=\"convertToInteractive('df-aa50c00e-973c-427e-9069-bbf1380e26a3')\"\n",
              "              title=\"Convert this dataframe to an interactive table.\"\n",
              "              style=\"display:none;\">\n",
              "        \n",
              "  <svg xmlns=\"http://www.w3.org/2000/svg\" height=\"24px\"viewBox=\"0 0 24 24\"\n",
              "       width=\"24px\">\n",
              "    <path d=\"M0 0h24v24H0V0z\" fill=\"none\"/>\n",
              "    <path d=\"M18.56 5.44l.94 2.06.94-2.06 2.06-.94-2.06-.94-.94-2.06-.94 2.06-2.06.94zm-11 1L8.5 8.5l.94-2.06 2.06-.94-2.06-.94L8.5 2.5l-.94 2.06-2.06.94zm10 10l.94 2.06.94-2.06 2.06-.94-2.06-.94-.94-2.06-.94 2.06-2.06.94z\"/><path d=\"M17.41 7.96l-1.37-1.37c-.4-.4-.92-.59-1.43-.59-.52 0-1.04.2-1.43.59L10.3 9.45l-7.72 7.72c-.78.78-.78 2.05 0 2.83L4 21.41c.39.39.9.59 1.41.59.51 0 1.02-.2 1.41-.59l7.78-7.78 2.81-2.81c.8-.78.8-2.07 0-2.86zM5.41 20L4 18.59l7.72-7.72 1.47 1.35L5.41 20z\"/>\n",
              "  </svg>\n",
              "      </button>\n",
              "      \n",
              "  <style>\n",
              "    .colab-df-container {\n",
              "      display:flex;\n",
              "      flex-wrap:wrap;\n",
              "      gap: 12px;\n",
              "    }\n",
              "\n",
              "    .colab-df-convert {\n",
              "      background-color: #E8F0FE;\n",
              "      border: none;\n",
              "      border-radius: 50%;\n",
              "      cursor: pointer;\n",
              "      display: none;\n",
              "      fill: #1967D2;\n",
              "      height: 32px;\n",
              "      padding: 0 0 0 0;\n",
              "      width: 32px;\n",
              "    }\n",
              "\n",
              "    .colab-df-convert:hover {\n",
              "      background-color: #E2EBFA;\n",
              "      box-shadow: 0px 1px 2px rgba(60, 64, 67, 0.3), 0px 1px 3px 1px rgba(60, 64, 67, 0.15);\n",
              "      fill: #174EA6;\n",
              "    }\n",
              "\n",
              "    [theme=dark] .colab-df-convert {\n",
              "      background-color: #3B4455;\n",
              "      fill: #D2E3FC;\n",
              "    }\n",
              "\n",
              "    [theme=dark] .colab-df-convert:hover {\n",
              "      background-color: #434B5C;\n",
              "      box-shadow: 0px 1px 3px 1px rgba(0, 0, 0, 0.15);\n",
              "      filter: drop-shadow(0px 1px 2px rgba(0, 0, 0, 0.3));\n",
              "      fill: #FFFFFF;\n",
              "    }\n",
              "  </style>\n",
              "\n",
              "      <script>\n",
              "        const buttonEl =\n",
              "          document.querySelector('#df-aa50c00e-973c-427e-9069-bbf1380e26a3 button.colab-df-convert');\n",
              "        buttonEl.style.display =\n",
              "          google.colab.kernel.accessAllowed ? 'block' : 'none';\n",
              "\n",
              "        async function convertToInteractive(key) {\n",
              "          const element = document.querySelector('#df-aa50c00e-973c-427e-9069-bbf1380e26a3');\n",
              "          const dataTable =\n",
              "            await google.colab.kernel.invokeFunction('convertToInteractive',\n",
              "                                                     [key], {});\n",
              "          if (!dataTable) return;\n",
              "\n",
              "          const docLinkHtml = 'Like what you see? Visit the ' +\n",
              "            '<a target=\"_blank\" href=https://colab.research.google.com/notebooks/data_table.ipynb>data table notebook</a>'\n",
              "            + ' to learn more about interactive tables.';\n",
              "          element.innerHTML = '';\n",
              "          dataTable['output_type'] = 'display_data';\n",
              "          await google.colab.output.renderOutput(dataTable, element);\n",
              "          const docLink = document.createElement('div');\n",
              "          docLink.innerHTML = docLinkHtml;\n",
              "          element.appendChild(docLink);\n",
              "        }\n",
              "      </script>\n",
              "    </div>\n",
              "  </div>\n",
              "  "
            ]
          },
          "metadata": {},
          "execution_count": 4
        }
      ],
      "source": [
        "df = pd.read_csv(root_path)\n",
        "df.head()"
      ]
    },
    {
      "cell_type": "markdown",
      "source": [
        "## Exploratory data analysis"
      ],
      "metadata": {
        "id": "EIGhODM_lcbu"
      }
    },
    {
      "cell_type": "code",
      "execution_count": 5,
      "metadata": {
        "colab": {
          "base_uri": "https://localhost:8080/"
        },
        "id": "E_rTS0Iq5lvS",
        "outputId": "0b64ca9d-fd81-4dbc-ac85-8f098c7bf517"
      },
      "outputs": [
        {
          "output_type": "execute_result",
          "data": {
            "text/plain": [
              "(368588, 13)"
            ]
          },
          "metadata": {},
          "execution_count": 5
        }
      ],
      "source": [
        "df.shape"
      ]
    },
    {
      "cell_type": "code",
      "execution_count": 6,
      "metadata": {
        "colab": {
          "base_uri": "https://localhost:8080/"
        },
        "id": "-CTVsHPH5mVC",
        "outputId": "95b5c4dd-370a-4998-dd12-3df3d0088cf4"
      },
      "outputs": [
        {
          "output_type": "stream",
          "name": "stdout",
          "text": [
            "<class 'pandas.core.frame.DataFrame'>\n",
            "RangeIndex: 368588 entries, 0 to 368587\n",
            "Data columns (total 13 columns):\n",
            " #   Column            Non-Null Count   Dtype  \n",
            "---  ------            --------------   -----  \n",
            " 0   user_name         368574 non-null  object \n",
            " 1   user_location     289065 non-null  object \n",
            " 2   user_description  348130 non-null  object \n",
            " 3   user_created      368563 non-null  object \n",
            " 4   user_followers    368549 non-null  float64\n",
            " 5   user_friends      368549 non-null  object \n",
            " 6   user_favourites   368549 non-null  object \n",
            " 7   user_verified     368549 non-null  object \n",
            " 8   date              368547 non-null  object \n",
            " 9   text              368549 non-null  object \n",
            " 10  hashtags          306913 non-null  object \n",
            " 11  source            366135 non-null  object \n",
            " 12  is_retweet        368526 non-null  object \n",
            "dtypes: float64(1), object(12)\n",
            "memory usage: 36.6+ MB\n"
          ]
        }
      ],
      "source": [
        "df.info()"
      ]
    },
    {
      "cell_type": "code",
      "execution_count": 7,
      "metadata": {
        "colab": {
          "base_uri": "https://localhost:8080/",
          "height": 300
        },
        "id": "2TWTuYok5tLZ",
        "outputId": "cf7a961b-dd42-4939-f5bc-3c2c85f00899"
      },
      "outputs": [
        {
          "output_type": "execute_result",
          "data": {
            "text/plain": [
              "       user_followers\n",
              "count    3.685490e+05\n",
              "mean     6.001895e+04\n",
              "std      7.028443e+05\n",
              "min      0.000000e+00\n",
              "25%      1.270000e+02\n",
              "50%      6.080000e+02\n",
              "75%      2.796000e+03\n",
              "max      1.658379e+07"
            ],
            "text/html": [
              "\n",
              "  <div id=\"df-323e5dc2-4e8d-4957-96cd-86ef35b39ebc\">\n",
              "    <div class=\"colab-df-container\">\n",
              "      <div>\n",
              "<style scoped>\n",
              "    .dataframe tbody tr th:only-of-type {\n",
              "        vertical-align: middle;\n",
              "    }\n",
              "\n",
              "    .dataframe tbody tr th {\n",
              "        vertical-align: top;\n",
              "    }\n",
              "\n",
              "    .dataframe thead th {\n",
              "        text-align: right;\n",
              "    }\n",
              "</style>\n",
              "<table border=\"1\" class=\"dataframe\">\n",
              "  <thead>\n",
              "    <tr style=\"text-align: right;\">\n",
              "      <th></th>\n",
              "      <th>user_followers</th>\n",
              "    </tr>\n",
              "  </thead>\n",
              "  <tbody>\n",
              "    <tr>\n",
              "      <th>count</th>\n",
              "      <td>3.685490e+05</td>\n",
              "    </tr>\n",
              "    <tr>\n",
              "      <th>mean</th>\n",
              "      <td>6.001895e+04</td>\n",
              "    </tr>\n",
              "    <tr>\n",
              "      <th>std</th>\n",
              "      <td>7.028443e+05</td>\n",
              "    </tr>\n",
              "    <tr>\n",
              "      <th>min</th>\n",
              "      <td>0.000000e+00</td>\n",
              "    </tr>\n",
              "    <tr>\n",
              "      <th>25%</th>\n",
              "      <td>1.270000e+02</td>\n",
              "    </tr>\n",
              "    <tr>\n",
              "      <th>50%</th>\n",
              "      <td>6.080000e+02</td>\n",
              "    </tr>\n",
              "    <tr>\n",
              "      <th>75%</th>\n",
              "      <td>2.796000e+03</td>\n",
              "    </tr>\n",
              "    <tr>\n",
              "      <th>max</th>\n",
              "      <td>1.658379e+07</td>\n",
              "    </tr>\n",
              "  </tbody>\n",
              "</table>\n",
              "</div>\n",
              "      <button class=\"colab-df-convert\" onclick=\"convertToInteractive('df-323e5dc2-4e8d-4957-96cd-86ef35b39ebc')\"\n",
              "              title=\"Convert this dataframe to an interactive table.\"\n",
              "              style=\"display:none;\">\n",
              "        \n",
              "  <svg xmlns=\"http://www.w3.org/2000/svg\" height=\"24px\"viewBox=\"0 0 24 24\"\n",
              "       width=\"24px\">\n",
              "    <path d=\"M0 0h24v24H0V0z\" fill=\"none\"/>\n",
              "    <path d=\"M18.56 5.44l.94 2.06.94-2.06 2.06-.94-2.06-.94-.94-2.06-.94 2.06-2.06.94zm-11 1L8.5 8.5l.94-2.06 2.06-.94-2.06-.94L8.5 2.5l-.94 2.06-2.06.94zm10 10l.94 2.06.94-2.06 2.06-.94-2.06-.94-.94-2.06-.94 2.06-2.06.94z\"/><path d=\"M17.41 7.96l-1.37-1.37c-.4-.4-.92-.59-1.43-.59-.52 0-1.04.2-1.43.59L10.3 9.45l-7.72 7.72c-.78.78-.78 2.05 0 2.83L4 21.41c.39.39.9.59 1.41.59.51 0 1.02-.2 1.41-.59l7.78-7.78 2.81-2.81c.8-.78.8-2.07 0-2.86zM5.41 20L4 18.59l7.72-7.72 1.47 1.35L5.41 20z\"/>\n",
              "  </svg>\n",
              "      </button>\n",
              "      \n",
              "  <style>\n",
              "    .colab-df-container {\n",
              "      display:flex;\n",
              "      flex-wrap:wrap;\n",
              "      gap: 12px;\n",
              "    }\n",
              "\n",
              "    .colab-df-convert {\n",
              "      background-color: #E8F0FE;\n",
              "      border: none;\n",
              "      border-radius: 50%;\n",
              "      cursor: pointer;\n",
              "      display: none;\n",
              "      fill: #1967D2;\n",
              "      height: 32px;\n",
              "      padding: 0 0 0 0;\n",
              "      width: 32px;\n",
              "    }\n",
              "\n",
              "    .colab-df-convert:hover {\n",
              "      background-color: #E2EBFA;\n",
              "      box-shadow: 0px 1px 2px rgba(60, 64, 67, 0.3), 0px 1px 3px 1px rgba(60, 64, 67, 0.15);\n",
              "      fill: #174EA6;\n",
              "    }\n",
              "\n",
              "    [theme=dark] .colab-df-convert {\n",
              "      background-color: #3B4455;\n",
              "      fill: #D2E3FC;\n",
              "    }\n",
              "\n",
              "    [theme=dark] .colab-df-convert:hover {\n",
              "      background-color: #434B5C;\n",
              "      box-shadow: 0px 1px 3px 1px rgba(0, 0, 0, 0.15);\n",
              "      filter: drop-shadow(0px 1px 2px rgba(0, 0, 0, 0.3));\n",
              "      fill: #FFFFFF;\n",
              "    }\n",
              "  </style>\n",
              "\n",
              "      <script>\n",
              "        const buttonEl =\n",
              "          document.querySelector('#df-323e5dc2-4e8d-4957-96cd-86ef35b39ebc button.colab-df-convert');\n",
              "        buttonEl.style.display =\n",
              "          google.colab.kernel.accessAllowed ? 'block' : 'none';\n",
              "\n",
              "        async function convertToInteractive(key) {\n",
              "          const element = document.querySelector('#df-323e5dc2-4e8d-4957-96cd-86ef35b39ebc');\n",
              "          const dataTable =\n",
              "            await google.colab.kernel.invokeFunction('convertToInteractive',\n",
              "                                                     [key], {});\n",
              "          if (!dataTable) return;\n",
              "\n",
              "          const docLinkHtml = 'Like what you see? Visit the ' +\n",
              "            '<a target=\"_blank\" href=https://colab.research.google.com/notebooks/data_table.ipynb>data table notebook</a>'\n",
              "            + ' to learn more about interactive tables.';\n",
              "          element.innerHTML = '';\n",
              "          dataTable['output_type'] = 'display_data';\n",
              "          await google.colab.output.renderOutput(dataTable, element);\n",
              "          const docLink = document.createElement('div');\n",
              "          docLink.innerHTML = docLinkHtml;\n",
              "          element.appendChild(docLink);\n",
              "        }\n",
              "      </script>\n",
              "    </div>\n",
              "  </div>\n",
              "  "
            ]
          },
          "metadata": {},
          "execution_count": 7
        }
      ],
      "source": [
        "df.describe()"
      ]
    },
    {
      "cell_type": "markdown",
      "source": [
        "## Data Cleaning and Preprocessing"
      ],
      "metadata": {
        "id": "DmvOr3zXllSB"
      }
    },
    {
      "cell_type": "code",
      "execution_count": 8,
      "metadata": {
        "id": "qA8LXUeo5tqt"
      },
      "outputs": [],
      "source": [
        "dff = df.drop_duplicates(subset=['text'], keep=False, inplace=False)\n",
        "print(dff.shape)"
      ]
    },
    {
      "cell_type": "code",
      "execution_count": 9,
      "metadata": {
        "colab": {
          "base_uri": "https://localhost:8080/"
        },
        "id": "R-_3fUeu51J4",
        "outputId": "bec1440b-7c99-4dab-b7e4-d8d81668d22d"
      },
      "outputs": [
        {
          "output_type": "stream",
          "name": "stdout",
          "text": [
            "Requirement already satisfied: emoji in /usr/local/lib/python3.7/dist-packages (1.7.0)\n",
            "[nltk_data] Downloading package words to /root/nltk_data...\n",
            "[nltk_data]   Package words is already up-to-date!\n"
          ]
        }
      ],
      "source": [
        "import pandas as pd\n",
        "import re\n",
        "!pip install emoji\n",
        "import emoji\n",
        "import nltk\n",
        "nltk.download('words')\n",
        "words = set(nltk.corpus.words.words())"
      ]
    },
    {
      "cell_type": "code",
      "execution_count": 10,
      "metadata": {
        "id": "Q4z5Zao9gScw"
      },
      "outputs": [],
      "source": [
        "def replace_urls(in_string, replacement=None):\n",
        "    \"\"\"Replace URLs in strings. See also: ``bit.ly/PyURLre``\n",
        "\n",
        "    Args:\n",
        "        in_string (str): string to filter\n",
        "        replacement (str or None): replacment text. defaults to '<-URL->'\n",
        "\n",
        "    Returns:\n",
        "        str\n",
        "    \"\"\"\n",
        "    replacement = '<-URL->' if replacement is None else replacement\n",
        "    pattern = re.compile('(https?://)?(\\w*[.]\\w+)+([/?=&]+\\w+)*')\n",
        "    return re.sub(pattern, replacement, in_string)"
      ]
    },
    {
      "cell_type": "code",
      "execution_count": 11,
      "metadata": {
        "colab": {
          "base_uri": "https://localhost:8080/",
          "height": 35
        },
        "id": "WscyQx6bkt5T",
        "outputId": "e95c1428-fc53-44e1-eeec-276b62d82c1b"
      },
      "outputs": [
        {
          "output_type": "execute_result",
          "data": {
            "text/plain": [
              "'So glad it works \\n\\n#Covid_19 #covidph #RussianVaccine #CovidVaccine #PhilHealthcorruption <-URL->'"
            ],
            "application/vnd.google.colaboratory.intrinsic+json": {
              "type": "string"
            }
          },
          "metadata": {},
          "execution_count": 11
        }
      ],
      "source": [
        "replace_urls(df.text[51])"
      ]
    },
    {
      "cell_type": "code",
      "execution_count": 12,
      "metadata": {
        "id": "knwn54q_gb2o"
      },
      "outputs": [],
      "source": [
        "def my_tokenizer(in_string):\n",
        "    \"\"\"\n",
        "    Convert `in_string` of text to a list of tokens using NLTK's TweetTokenizer\n",
        "    \"\"\"\n",
        "    # reasonable, but adjustable tokenizer settings\n",
        "    tokenizer = TweetTokenizer(preserve_case=False,\n",
        "                               reduce_len=True,\n",
        "                               strip_handles=False)\n",
        "    tokens = tokenizer.tokenize(in_string)\n",
        "    return tokens"
      ]
    },
    {
      "cell_type": "code",
      "execution_count": 13,
      "metadata": {
        "colab": {
          "base_uri": "https://localhost:8080/"
        },
        "id": "bM8Mq6Apgyxu",
        "outputId": "2b032aec-76ce-4b6b-f884-668aa79d05e6"
      },
      "outputs": [
        {
          "output_type": "execute_result",
          "data": {
            "text/plain": [
              "['so',\n",
              " 'glad',\n",
              " 'it',\n",
              " 'works',\n",
              " '#covid_19',\n",
              " '#covidph',\n",
              " '#russianvaccine',\n",
              " '#covidvaccine',\n",
              " '#philhealthcorruption',\n",
              " 'https://t.co/kpHnWweJ0i']"
            ]
          },
          "metadata": {},
          "execution_count": 13
        }
      ],
      "source": [
        "my_tokenizer(df.text[51])"
      ]
    },
    {
      "cell_type": "code",
      "execution_count": 14,
      "metadata": {
        "id": "oM_XnBcYbYa0"
      },
      "outputs": [],
      "source": [
        "def make_punc_stopwords(max_length=4):\n",
        "    \"\"\"Generates punctuation 'words' up to\n",
        "    ``max_length`` characters.\n",
        "    \"\"\"\n",
        "    def punct_maker(length):\n",
        "        return ((''.join(x) for x in it.product(string.punctuation,\n",
        "                                                repeat=length)))\n",
        "    words = it.chain.from_iterable((punct_maker(length)\n",
        "                                    for length in range(max_length+1)))\n",
        "    return list(words)"
      ]
    },
    {
      "cell_type": "code",
      "execution_count": 15,
      "metadata": {
        "colab": {
          "base_uri": "https://localhost:8080/"
        },
        "id": "utWtmYU0b_1-",
        "outputId": "396a6520-80cd-474b-ef86-399122e892f2"
      },
      "outputs": [
        {
          "output_type": "stream",
          "name": "stdout",
          "text": [
            "Requirement already satisfied: nltk in /usr/local/lib/python3.7/dist-packages (3.2.5)\n",
            "Requirement already satisfied: six in /usr/local/lib/python3.7/dist-packages (from nltk) (1.15.0)\n"
          ]
        }
      ],
      "source": [
        "!pip install nltk\n",
        "from nltk.corpus import stopwords\n",
        "my_stopwords = set(stopwords.words('english'))"
      ]
    },
    {
      "cell_type": "code",
      "execution_count": 16,
      "metadata": {
        "colab": {
          "base_uri": "https://localhost:8080/"
        },
        "id": "V-KitW3gb3hd",
        "outputId": "b2b0a565-7e5d-4432-c8a1-bb25c1dd221a"
      },
      "outputs": [
        {
          "output_type": "stream",
          "name": "stdout",
          "text": [
            "current count of stopwords: 1082580\n",
            "example punctuation words:\n",
            " ['~~~[', '~~~\\\\', '~~~]', '~~~^', '~~~_', '~~~`', '~~~{', '~~~|', '~~~}', '~~~~']\n"
          ]
        }
      ],
      "source": [
        "my_stopwords = list(it.chain(my_stopwords, make_punc_stopwords(max_length=4)))\n",
        "\n",
        "print('current count of stopwords: {}'.format(len(my_stopwords)))\n",
        "print('example punctuation words:\\n {}'.format(my_stopwords[-10:]))"
      ]
    },
    {
      "cell_type": "code",
      "execution_count": 17,
      "metadata": {
        "colab": {
          "base_uri": "https://localhost:8080/"
        },
        "id": "D74A43CiqOTU",
        "outputId": "2e05ffcd-6a34-414e-ecc9-79de21285ec9"
      },
      "outputs": [
        {
          "output_type": "stream",
          "name": "stdout",
          "text": [
            "[nltk_data] Downloading package wordnet to /root/nltk_data...\n",
            "[nltk_data]   Package wordnet is already up-to-date!\n"
          ]
        }
      ],
      "source": [
        "import pandas as pd\n",
        "import re\n",
        "import gensim\n",
        "import nltk\n",
        "nltk.download('wordnet')\n",
        "from nltk.stem import WordNetLemmatizer\n",
        "# NLTK Stop words\n",
        "from nltk.corpus import stopwords\n",
        "stop_words = stopwords.words('english')\n",
        "stop_words.extend(['from', 'RT', 'amp', 'afp'])\n",
        "\n",
        "punctuation = '!\"$%&\\'()*+,-./:;<=>?[\\\\]^_`{|}~•@'         # define a string of punctuation symbols\n",
        "\n",
        "# Functions to clean tweets\n",
        "def remove_links(tweet):\n",
        "    \"\"\"Takes a string and removes web links from it\"\"\"\n",
        "    tweet = re.sub(r'http\\S+', '', tweet)   # remove http links\n",
        "    tweet = re.sub(r'bit.ly/\\S+', '', tweet)  # remove bitly links\n",
        "    tweet = tweet.strip('[link]')   # remove [links]\n",
        "    tweet = re.sub(r'pic.twitter\\S+','', tweet)\n",
        "    return tweet\n",
        "\n",
        "def remove_users(tweet):\n",
        "    \"\"\"Takes a string and removes retweet and @user information\"\"\"\n",
        "    tweet = re.sub('(RT\\s@[A-Za-z]+[A-Za-z0-9-_]+)', '', str(tweet))  # remove re-tweet\n",
        "    tweet = re.sub('(@[A-Za-z]+[A-Za-z0-9-_]+)', '', str(tweet))  # remove tweeted at\n",
        "    return tweet\n",
        "\n",
        "def remove_hashtags(tweet):\n",
        "    \"\"\"Takes a string and removes any hash tags\"\"\"\n",
        "    #Remove hashtag sign but keep the text\n",
        "    #tweet = tweet.replace(\"#\", \"\").replace(\"_\", \" \") \n",
        "    tweet = re.sub('(#[A-Za-z]+[A-Za-z0-9-_]+)', '', tweet)  # remove hash tags\n",
        "    return tweet\n",
        "\n",
        "def remove_av(tweet):\n",
        "    \"\"\"Takes a string and removes AUDIO/VIDEO tags or labels\"\"\"\n",
        "    tweet = re.sub('VIDEO:', '', tweet)  # remove 'VIDEO:' from start of tweet\n",
        "    tweet = re.sub('AUDIO:', '', tweet)  # remove 'AUDIO:' from start of tweet\n",
        "    return tweet\n",
        "\n",
        "def tokenize(tweet):\n",
        "    \"\"\"Returns tokenized representation of words in lemma form excluding stopwords\"\"\"\n",
        "    result = []\n",
        "    for token in gensim.utils.simple_preprocess(tweet, deacc=True, min_len=3):  # drops words with less than 3 characters\n",
        "            result.append(lemmatize(token))\n",
        "    return result\n",
        "\n",
        "def lemmatize(token):\n",
        "    \"\"\"Returns lemmatization of a token\"\"\"\n",
        "    return WordNetLemmatizer().lemmatize(token, pos='v')\n",
        "\n",
        "def preprocess_tweet(tweet):\n",
        "    \"\"\"Main master function to clean tweets, stripping noisy characters, and tokenizing use lemmatization\"\"\"\n",
        "    tweet = remove_users(tweet)\n",
        "    tweet = remove_links(tweet)\n",
        "    tweet = remove_hashtags(tweet)\n",
        "    tweet = remove_av(tweet)\n",
        "    tweet = tweet.lower()  # lower case\n",
        "    tweet = re.sub('[' + punctuation + ']+', ' ', tweet)  # strip punctuation\n",
        "    tweet = re.sub('\\s+', ' ', tweet)  # remove double spacing\n",
        "    tweet = re.sub('([0-9]+)', '', tweet)  # remove numbers\n",
        "    tweet_token_list = tokenize(tweet)  # apply lemmatization and tokenization\n",
        "    tweet = ' '.join(tweet_token_list)\n",
        "    return tweet"
      ]
    },
    {
      "cell_type": "code",
      "execution_count": 18,
      "metadata": {
        "id": "2eavXYwKqhmK"
      },
      "outputs": [],
      "source": [
        "df['tweet'] = df['text'].map(lambda x: preprocess_tweet(x))"
      ]
    },
    {
      "cell_type": "code",
      "execution_count": 19,
      "metadata": {
        "colab": {
          "base_uri": "https://localhost:8080/",
          "height": 320
        },
        "id": "bRYVUtlrsLrz",
        "outputId": "46638795-baa2-42aa-faa1-112483cacd07"
      },
      "outputs": [
        {
          "output_type": "execute_result",
          "data": {
            "text/plain": [
              "                                                                                              tweet  \\\n",
              "0  australia manufacture covid vaccine and give the citizens for free cost afp quote prime minister   \n",
              "1                                                                            australia do very good   \n",
              "2                                                       deaths due covid affect countries read more   \n",
              "3                                                                                     stay safe amp   \n",
              "4                              this what pass for leadership our country voucher for something that   \n",
              "\n",
              "                                                                                                                                           text  \n",
              "0              Australia to Manufacture Covid-19 Vaccine and give it to the Citizens for free of cost: AFP quotes Prime Minister\\n#CovidVaccine  \n",
              "1                                         #CoronavirusVaccine #CoronaVaccine #CovidVaccine Australia is doing very good https://t.co/kBT7l6pArY  \n",
              "2         Deaths due to COVID-19 in Affected Countries\\nRead More: https://t.co/V8Y3Stu0UW\\n@r_piryani @shitalbhandary… https://t.co/6jpMxX2KtI  \n",
              "3              @Team_Subhashree @subhashreesotwe @iamrajchoco Stay safe @subhashreesotwe di &amp; @iamrajchoco da ❤️❤️… https://t.co/ayhoaQm0Ls  \n",
              "4  @michellegrattan @ConversationEDU This is what passes for leadership in our country: a voucher for something that w… https://t.co/OUUb1PeYIj  "
            ],
            "text/html": [
              "\n",
              "  <div id=\"df-8824ce0b-0851-49d4-a9d4-5e567985ded6\">\n",
              "    <div class=\"colab-df-container\">\n",
              "      <div>\n",
              "<style scoped>\n",
              "    .dataframe tbody tr th:only-of-type {\n",
              "        vertical-align: middle;\n",
              "    }\n",
              "\n",
              "    .dataframe tbody tr th {\n",
              "        vertical-align: top;\n",
              "    }\n",
              "\n",
              "    .dataframe thead th {\n",
              "        text-align: right;\n",
              "    }\n",
              "</style>\n",
              "<table border=\"1\" class=\"dataframe\">\n",
              "  <thead>\n",
              "    <tr style=\"text-align: right;\">\n",
              "      <th></th>\n",
              "      <th>tweet</th>\n",
              "      <th>text</th>\n",
              "    </tr>\n",
              "  </thead>\n",
              "  <tbody>\n",
              "    <tr>\n",
              "      <th>0</th>\n",
              "      <td>australia manufacture covid vaccine and give the citizens for free cost afp quote prime minister</td>\n",
              "      <td>Australia to Manufacture Covid-19 Vaccine and give it to the Citizens for free of cost: AFP quotes Prime Minister\\n#CovidVaccine</td>\n",
              "    </tr>\n",
              "    <tr>\n",
              "      <th>1</th>\n",
              "      <td>australia do very good</td>\n",
              "      <td>#CoronavirusVaccine #CoronaVaccine #CovidVaccine Australia is doing very good https://t.co/kBT7l6pArY</td>\n",
              "    </tr>\n",
              "    <tr>\n",
              "      <th>2</th>\n",
              "      <td>deaths due covid affect countries read more</td>\n",
              "      <td>Deaths due to COVID-19 in Affected Countries\\nRead More: https://t.co/V8Y3Stu0UW\\n@r_piryani @shitalbhandary… https://t.co/6jpMxX2KtI</td>\n",
              "    </tr>\n",
              "    <tr>\n",
              "      <th>3</th>\n",
              "      <td>stay safe amp</td>\n",
              "      <td>@Team_Subhashree @subhashreesotwe @iamrajchoco Stay safe @subhashreesotwe di &amp;amp; @iamrajchoco da ❤️❤️… https://t.co/ayhoaQm0Ls</td>\n",
              "    </tr>\n",
              "    <tr>\n",
              "      <th>4</th>\n",
              "      <td>this what pass for leadership our country voucher for something that</td>\n",
              "      <td>@michellegrattan @ConversationEDU This is what passes for leadership in our country: a voucher for something that w… https://t.co/OUUb1PeYIj</td>\n",
              "    </tr>\n",
              "  </tbody>\n",
              "</table>\n",
              "</div>\n",
              "      <button class=\"colab-df-convert\" onclick=\"convertToInteractive('df-8824ce0b-0851-49d4-a9d4-5e567985ded6')\"\n",
              "              title=\"Convert this dataframe to an interactive table.\"\n",
              "              style=\"display:none;\">\n",
              "        \n",
              "  <svg xmlns=\"http://www.w3.org/2000/svg\" height=\"24px\"viewBox=\"0 0 24 24\"\n",
              "       width=\"24px\">\n",
              "    <path d=\"M0 0h24v24H0V0z\" fill=\"none\"/>\n",
              "    <path d=\"M18.56 5.44l.94 2.06.94-2.06 2.06-.94-2.06-.94-.94-2.06-.94 2.06-2.06.94zm-11 1L8.5 8.5l.94-2.06 2.06-.94-2.06-.94L8.5 2.5l-.94 2.06-2.06.94zm10 10l.94 2.06.94-2.06 2.06-.94-2.06-.94-.94-2.06-.94 2.06-2.06.94z\"/><path d=\"M17.41 7.96l-1.37-1.37c-.4-.4-.92-.59-1.43-.59-.52 0-1.04.2-1.43.59L10.3 9.45l-7.72 7.72c-.78.78-.78 2.05 0 2.83L4 21.41c.39.39.9.59 1.41.59.51 0 1.02-.2 1.41-.59l7.78-7.78 2.81-2.81c.8-.78.8-2.07 0-2.86zM5.41 20L4 18.59l7.72-7.72 1.47 1.35L5.41 20z\"/>\n",
              "  </svg>\n",
              "      </button>\n",
              "      \n",
              "  <style>\n",
              "    .colab-df-container {\n",
              "      display:flex;\n",
              "      flex-wrap:wrap;\n",
              "      gap: 12px;\n",
              "    }\n",
              "\n",
              "    .colab-df-convert {\n",
              "      background-color: #E8F0FE;\n",
              "      border: none;\n",
              "      border-radius: 50%;\n",
              "      cursor: pointer;\n",
              "      display: none;\n",
              "      fill: #1967D2;\n",
              "      height: 32px;\n",
              "      padding: 0 0 0 0;\n",
              "      width: 32px;\n",
              "    }\n",
              "\n",
              "    .colab-df-convert:hover {\n",
              "      background-color: #E2EBFA;\n",
              "      box-shadow: 0px 1px 2px rgba(60, 64, 67, 0.3), 0px 1px 3px 1px rgba(60, 64, 67, 0.15);\n",
              "      fill: #174EA6;\n",
              "    }\n",
              "\n",
              "    [theme=dark] .colab-df-convert {\n",
              "      background-color: #3B4455;\n",
              "      fill: #D2E3FC;\n",
              "    }\n",
              "\n",
              "    [theme=dark] .colab-df-convert:hover {\n",
              "      background-color: #434B5C;\n",
              "      box-shadow: 0px 1px 3px 1px rgba(0, 0, 0, 0.15);\n",
              "      filter: drop-shadow(0px 1px 2px rgba(0, 0, 0, 0.3));\n",
              "      fill: #FFFFFF;\n",
              "    }\n",
              "  </style>\n",
              "\n",
              "      <script>\n",
              "        const buttonEl =\n",
              "          document.querySelector('#df-8824ce0b-0851-49d4-a9d4-5e567985ded6 button.colab-df-convert');\n",
              "        buttonEl.style.display =\n",
              "          google.colab.kernel.accessAllowed ? 'block' : 'none';\n",
              "\n",
              "        async function convertToInteractive(key) {\n",
              "          const element = document.querySelector('#df-8824ce0b-0851-49d4-a9d4-5e567985ded6');\n",
              "          const dataTable =\n",
              "            await google.colab.kernel.invokeFunction('convertToInteractive',\n",
              "                                                     [key], {});\n",
              "          if (!dataTable) return;\n",
              "\n",
              "          const docLinkHtml = 'Like what you see? Visit the ' +\n",
              "            '<a target=\"_blank\" href=https://colab.research.google.com/notebooks/data_table.ipynb>data table notebook</a>'\n",
              "            + ' to learn more about interactive tables.';\n",
              "          element.innerHTML = '';\n",
              "          dataTable['output_type'] = 'display_data';\n",
              "          await google.colab.output.renderOutput(dataTable, element);\n",
              "          const docLink = document.createElement('div');\n",
              "          docLink.innerHTML = docLinkHtml;\n",
              "          element.appendChild(docLink);\n",
              "        }\n",
              "      </script>\n",
              "    </div>\n",
              "  </div>\n",
              "  "
            ]
          },
          "metadata": {},
          "execution_count": 19
        }
      ],
      "source": [
        "pd.set_option('display.max_colwidth', 400)\n",
        "df[['tweet', 'text']].head()"
      ]
    },
    {
      "cell_type": "markdown",
      "source": [
        "## Build the TF-IDF of the Data"
      ],
      "metadata": {
        "id": "Hsdj_Qeglv7J"
      }
    },
    {
      "cell_type": "code",
      "execution_count": 20,
      "metadata": {
        "id": "5BhbSkTdDZcj"
      },
      "outputs": [],
      "source": [
        "unique_tweet_cnt = len(set(df.text))"
      ]
    },
    {
      "cell_type": "code",
      "execution_count": 21,
      "metadata": {
        "id": "dpgoB62IoBVP"
      },
      "outputs": [],
      "source": [
        "vec = TfidfVectorizer(min_df=2,\n",
        "                      stop_words=my_stopwords,\n",
        "                      max_features=unique_tweet_cnt//100,\n",
        "                     )"
      ]
    },
    {
      "cell_type": "code",
      "execution_count": 22,
      "metadata": {
        "id": "C1bikI8xoRwA"
      },
      "outputs": [],
      "source": [
        "tfidf_matrix = vec.fit_transform(df['tweet'].values.astype(str))"
      ]
    },
    {
      "cell_type": "code",
      "execution_count": 23,
      "metadata": {
        "colab": {
          "base_uri": "https://localhost:8080/"
        },
        "id": "witU9nvurQwb",
        "outputId": "37476c7f-5c62-4ffe-8551-450cdbd944f7"
      },
      "outputs": [
        {
          "output_type": "stream",
          "name": "stdout",
          "text": [
            "(368588, 3682)\n",
            "<class 'scipy.sparse.csr.csr_matrix'>\n"
          ]
        },
        {
          "output_type": "execute_result",
          "data": {
            "text/plain": [
              "(None, None)"
            ]
          },
          "metadata": {},
          "execution_count": 23
        }
      ],
      "source": [
        "print(tfidf_matrix.shape), print(type(tfidf_matrix))"
      ]
    },
    {
      "cell_type": "code",
      "execution_count": 24,
      "metadata": {
        "colab": {
          "base_uri": "https://localhost:8080/"
        },
        "id": "p5AsMWzzoqPy",
        "outputId": "05c356b5-11f1-438d-cfdd-0574165b765d"
      },
      "outputs": [
        {
          "output_type": "execute_result",
          "data": {
            "text/plain": [
              "<368588x3682 sparse matrix of type '<class 'numpy.float64'>'\n",
              "\twith 2887676 stored elements in Compressed Sparse Row format>"
            ]
          },
          "metadata": {},
          "execution_count": 24
        }
      ],
      "source": [
        "tfidf_matrix"
      ]
    },
    {
      "cell_type": "code",
      "execution_count": 25,
      "metadata": {
        "colab": {
          "base_uri": "https://localhost:8080/"
        },
        "id": "PVexpWmChGPy",
        "outputId": "5d4f81a3-c0ce-49f0-bd7a-ef682ef53e81"
      },
      "outputs": [
        {
          "output_type": "stream",
          "name": "stdout",
          "text": [
            "{'australia': 263, 'manufacture': 1981, 'covid': 788, 'vaccine': 3464, 'give': 1410, 'citizens': 605, 'free': 1349, 'cost': 766, 'quote': 2629, 'prime': 2530, 'minister': 2065, 'good': 1423, 'deaths': 864, 'due': 1028, 'affect': 75, 'countries': 773, 'read': 2657, 'stay': 3103, 'safe': 2839, 'amp': 140, 'pass': 2353, 'leadership': 1873, 'country': 774, 'something': 3043, 'multi': 2124, 'system': 3205, 'syndrome': 3203, 'children': 585, 'disease': 969, 'well': 3586, 'let': 1890, 'qualify': 2614, 'would': 3648, 'anyone': 173, 'party': 2352, 'get': 1404, 'rush': 2832, 'test': 3249, 'come': 667, 'russia': 2833, 'without': 3623, 'ability': 4, 'make': 1967, 'locally': 1918, 'force': 1325, 'rely': 2728, 'others': 2297, 'like': 1906, 'china': 587, 'zoom': 3679, 'chart': 567, 'week': 3577, 'hear': 1518, 'episode': 1120, 'executive': 1177, 'contract': 740, 'coronavirus': 757, 'inform': 1702, 'twitter': 3385, 'great': 1450, 'news': 2186, 'enter': 1112, 'phase': 2409, 'trial': 3360, 'dangerous': 844, 'yet': 3663, 'whole': 3599, 'narrative': 2147, 'go': 1416, 'silent': 2981, 'look': 1933, 'raise': 2638, 'billion': 366, 'around': 215, 'crore': 809, 'development': 929, 'global': 1413, 'tracker': 3335, 'update': 3430, 'american': 133, 'root': 2816, 'lead': 1870, 'attend': 255, 'also': 124, 'world': 3642, 'first': 1300, 'thank': 3256, 'god': 1419, 'ineffective': 1689, 'thing': 3267, 'adopt': 62, 'search': 2884, 'chennai': 575, 'corona': 756, 'street': 3128, 'area': 206, 'wise': 3617, 'vaccinate': 3459, 'source': 3056, 'design': 918, 'mark': 1988, 'hall': 1481, 'nearly': 2165, 'second': 2888, 'wave': 3558, 'appear': 186, 'india': 1676, 'active': 39, 'confirm': 709, 'case': 523, 'see': 2896, 'state': 3096, 'list': 1911, 'study': 3142, 'show': 2967, 'antibodies': 162, 'sample': 2851, 'feature': 1258, 'today': 3309, 'award': 287, 'book': 400, 'record': 2682, 'pandemic': 2333, 'wor': 3635, 'pakistan': 2330, 'begin': 336, 'iii': 1629, 'clinical': 623, 'candidate': 494, 'english': 1106, 'period': 2385, 'click': 617, 'via': 3497, 'type': 3388, 'white': 3597, 'blood': 387, 'cell': 541, 'two': 3386, 'cells': 542, 'pro': 2543, 'omg': 2259, 'expose': 1199, 'ingredients': 1707, 'surprise': 3183, 'informative': 1704, 'kill': 1821, 'baby': 294, 'please': 2443, 'watch': 3556, 'candidates': 495, 'trials': 3361, 'infectious': 1695, 'next': 2188, 'days': 856, 'mean': 2010, 'already': 122, 'launch': 1863, 'single': 2990, 'vaccination': 3460, 'induce': 1687, 'immune': 1642, 'response': 2769, 'leak': 1874, 'russian': 2834, 'lab': 1836, 'serum': 2920, 'institute': 1730, 'start': 3093, 'trail': 3341, 'oxford': 2319, 'astrazeneca': 247, 'centre': 547, 'short': 2957, 'relate': 2716, 'special': 3065, 'session': 2923, 'outbreak': 2301, 'must': 2134, 'tell': 3234, 'matter': 2003, 'hard': 1494, 'decline': 876, 'daily': 837, 'day': 855, 'row': 2824, 'human': 1605, 'video': 3506, 'link': 1910, 'grant': 1445, 'patent': 2357, 'underway': 3403, 'produce': 2552, 'batch': 321, 'vax': 3479, 'set': 2925, 'roll': 2811, 'august': 261, 'end': 1096, 'gonna': 1422, 'worst': 3646, 'president': 2516, 'time': 3301, 'years': 3658, 'clear': 615, 'feel': 1266, 'hop': 1572, 'scare': 2867, 'careful': 510, 'approve': 199, 'novel': 2218, 'similar': 2983, 'turkey': 3380, 'discuss': 966, 'national': 2150, 'expert': 1191, 'group': 1460, 'administration': 57, 'meet': 2023, 'domestic': 996, 'glad': 1411, 'work': 3637, 'usa': 3441, 'doctor': 990, 'wake': 3536, 'recovery': 2685, 'better': 353, 'sport': 3076, 'likely': 1907, 'hold': 1558, 'virtually': 3518, 'virus': 3519, 'adequate': 53, 'ready': 2658, 'long': 1931, 'wait': 3535, 'even': 1149, 'australian': 264, 'government': 1429, 'sign': 2975, 'advance': 66, 'purchase': 2608, 'agreement': 90, 'secure': 2893, 'never': 2181, 'greatest': 1452, 'fault': 1251, 'speak': 3064, 'peter': 2399, 'bay': 323, 'mandatory': 1979, 'school': 2872, 'avail': 277, 'nyc': 2228, 'report': 2741, 'beautiful': 330, 'heat': 1521, 'los': 1935, 'angeles': 146, 'pfizer': 2402, 'people': 2375, 'drug': 1024, 'placebo': 2430, 'much': 2123, 'election': 1068, 'urge': 3438, 'everyone': 1157, 'wonder': 3629, 'mutation': 2137, 'might': 2049, 'impact': 1647, 'efficacy': 1057, 'latest': 1861, 'fly': 1313, 'grow': 1461, 'back': 295, 'brazil': 431, 'run': 2830, 'foundation': 1339, 'commence': 671, 'production': 2554, 'december': 871, 'initial': 1708, 'lockdowns': 1924, 'april': 204, 'either': 1064, 'vaxx': 3482, 'early': 1035, 'measure': 2013, 'saw': 2860, 'think': 3269, 'funny': 1375, 'add': 48, 'volunteer': 3531, 'need': 2168, 'flu': 1312, 'currently': 828, 'months': 2102, 'protect': 2575, 'cannot': 496, 'however': 1595, 'provide': 2587, 'immunity': 1644, 'multiple': 2125, 'person': 2391, 'important': 1653, 'regard': 2701, 'federal': 1261, 'officials': 2251, 'california': 480, 'florida': 1310, 'north': 2208, 'develop': 928, 'plan': 2433, 'trust': 3373, 'receive': 2670, 'track': 3334, 'experimental': 1190, 'immediate': 1638, 'side': 2972, 'awareness': 289, 'tune': 3378, 'ten': 3240, 'vladimir': 3528, 'putin': 2613, 'recently': 2672, 'vaccines': 3465, 'wonderful': 3630, 'viruses': 3520, 'exist': 1183, 'soldier': 3034, 'say': 2861, 'monday': 2094, 'mid': 2044, 'stage': 3087, 'question': 2621, 'successfully': 3153, 'parent': 2338, 'promise': 2566, 'email': 1081, 'arrive': 219, 'enrol': 1110, 'weekly': 3579, 'cure': 825, 'infect': 1692, 'postpone': 2486, 'large': 1854, 'number': 2222, 'life': 1902, 'risk': 2800, 'often': 2252, 'else': 1078, 'buy': 475, 'share': 2938, 'dip': 946, 'win': 3609, 'could': 768, 'obviously': 2236, 'lack': 1839, 'fund': 1373, 'best': 351, 'data': 850, 'target': 3217, 'programme': 2563, 'broadcast': 452, 'among': 137, 'makers': 1969, 'reach': 2653, 'lakh': 1844, 'profit': 2561, 'want': 3545, 'live': 1915, 'job': 1785, 'progress': 2564, 'pay': 2366, 'cash': 524, 'tax': 3220, 'take': 3211, 'chance': 558, 'play': 2438, 'seek': 2897, 'donald': 997, 'trump': 3372, 'opportunity': 2275, 'notice': 2214, 'interest': 1740, 'emergency': 1084, 'limit': 1908, 'die': 937, 'every': 1154, 'month': 2100, 'slow': 3014, 'recruit': 2686, 'black': 379, 'delay': 889, 'huge': 1603, 'jab': 1770, 'film': 1286, 'freeze': 1352, 'pharmaceutical': 2404, 'platform': 2437, 'potential': 2487, 'attention': 256, 'hundreds': 1609, 'fear': 1256, 'solidarity': 3036, 'determine': 926, 'success': 3151, 'dont': 1001, 'know': 1831, 'mask': 1993, 'hai': 1478, 'story': 3121, 'another': 158, 'biotech': 372, 'deal': 861, 'lot': 1938, 'eager': 1032, 'many': 1984, 'hesitant': 1535, 'war': 3546, 'find': 1293, 'strain': 3123, 'europe': 1145, 'star': 3092, 'market': 1989, 'company': 685, 'jump': 1802, 'hand': 1485, 'machine': 1953, 'budget': 457, 'prevent': 2521, 'register': 2706, 'regulatory': 2714, 'approval': 198, 'foreign': 1328, 'choose': 592, 'learn': 1875, 'oregon': 2287, 'step': 3106, 'humanity': 1606, 'pledge': 2446, 'flag': 1304, 'unite': 3411, 'america': 132, 'stand': 3089, 'one': 2261, 'nation': 2149, 'check': 572, 'unique': 3409, 'minimal': 2063, 'modern': 2084, 'business': 469, 'card': 506, 'constant': 729, 'developments': 930, 'freedom': 1350, 'rather': 2650, 'warriors': 3551, 'ones': 2262, 'heavy': 1522, 'warn': 3549, 'maharashtra': 1959, 'hope': 1573, 'major': 1965, 'safety': 2844, 'issue': 1767, 'science': 2873, 'technology': 3229, 'lecture': 1878, 'bbc': 324, 'race': 2631, 'unless': 3417, 'enough': 1109, 'final': 1289, 'predict': 2506, 'south': 3057, 'africa': 79, 'part': 2342, 'gate': 1387, 'novavax': 2217, 'invent': 1748, 'optimistic': 2281, 'genuinely': 1399, 'curious': 826, 'understand': 3402, 'still': 3112, 'counter': 771, 'min': 2060, 'kind': 1823, 'inc': 1662, 'recover': 2683, 'patients': 2363, 'massive': 1996, 'anti': 161, 'body': 397, 'last': 1858, 'covi': 787, 'change': 559, 'course': 778, 'expand': 1185, 'partnership': 2350, 'man': 1974, 'withhold': 3621, 'original': 2296, 'genetic': 1396, 'code': 642, 'create': 797, 'chinese': 588, 'serious': 2918, 'new': 2182, 'club': 636, 'pick': 2419, 'wife': 3605, 'booster': 403, 'morning': 2106, 'shall': 2933, 'cake': 478, 'coffee': 645, 'thx': 3292, 'shout': 2964, 'release': 2720, 'four': 1341, 'athletes': 249, 'use': 3442, 'skills': 3003, 'year': 3657, 'accord': 23, 'health': 1514, 'stock': 3113, 'grind': 1456, 'zero': 3675, 'sunday': 3168, 'fresh': 1356, 'deadly': 860, 'discover': 963, 'literally': 1913, 'german': 1402, 'trade': 3336, 'worth': 3647, 'bntx': 394, 'mrna': 2121, 'nvax': 2227, 'ways': 3561, 'accept': 15, 'dna': 987, 'alter': 125, 'reliable': 2722, 'available': 279, 'scale': 2862, 'vaccinations': 3461, 'hkt': 1553, 'local': 1917, 'express': 1201, 'may': 2006, 'saturday': 2857, 'tamil': 3215, 'nadu': 2143, 'chief': 582, 'recognition': 2677, 'ban': 307, 'call': 482, 'republicans': 2746, 'probably': 2544, 'idea': 1621, 'sputnik': 3080, 'join': 1789, 'online': 2264, 'prize': 2542, 'winner': 3613, 'professor': 2559, 'decision': 873, 'recent': 2671, 'protein': 2578, 'base': 316, 'combat': 665, 'access': 18, 'vital': 3526, 'key': 1814, 'focus': 1314, 'goals': 1418, 'keep': 1811, 'pet': 2398, 'indoor': 1685, 'situation': 2998, 'shit': 2952, 'anyway': 176, 'stick': 3109, 'sun': 3167, 'earlier': 1033, 'least': 1876, 'three': 3282, 'detect': 925, 'mutate': 2136, 'distribute': 980, 'vote': 3532, 'sure': 3177, 'tha': 3254, 'eligible': 1071, 'treat': 3356, 'diseases': 970, 'include': 1666, 'disorder': 975, 'loss': 1937, 'mexico': 2037, 'expect': 1186, 'break': 432, 'headline': 1512, 'inactivate': 1661, 'seem': 2898, 'generate': 1394, 'article': 223, 'really': 2663, 'help': 1527, 'queue': 2622, 'anything': 174, 'right': 2795, 'men': 2030, 'alive': 108, 'bigger': 362, 'problems': 2547, 'late': 1859, 'follow': 1319, 'tweet': 3382, 'mild': 2052, 'moderate': 2083, 'beg': 335, 'towards': 3329, 'houston': 1594, 'center': 545, 'scientist': 2875, 'term': 3243, 'love': 1941, 'guy': 1475, 'peace': 2369, 'light': 1905, 'fresno': 1357, 'mother': 2112, 'nature': 2156, 'encourage': 1095, 'place': 2429, 'spring': 3079, 'leader': 1871, 'officially': 2250, 'million': 2058, 'dose': 1005, 'highly': 1543, 'indian': 1677, 'nut': 2226, 'talk': 3212, 'shoot': 2954, 'mouth': 2116, 'somebody': 3040, 'population': 2473, 'admit': 60, 'wrong': 3652, 'especially': 1131, 'epidemiologist': 1119, 'sense': 2912, 'little': 1914, 'bite': 377, 'critical': 805, 'age': 84, 'reddy': 2689, 'cov': 782, 'killer': 1822, 'cause': 532, 'damage': 839, 'past': 2356, 'pretty': 2520, 'comparison': 687, 'sir': 2994, 'threat': 3279, 'fall': 1226, 'line': 1909, 'become': 331, 'social': 3029, 'word': 3636, 'greg': 1455, 'hunt': 1610, 'face': 1210, 'com': 664, 'hours': 1590, 'rate': 2649, 'reference': 2695, 'care': 508, 'ass': 233, 'rat': 2648, 'infographic': 1701, 'top': 3317, 'sars': 2855, 'distribution': 981, 'welcome': 3584, 'tourists': 3327, 'version': 3492, 'bore': 407, 'cross': 811, 'cover': 785, 'complete': 689, 'review': 2786, 'icymi': 1620, 'catch': 526, 'collect': 653, 'infection': 1693, 'spread': 3078, 'across': 35, 'tech': 3227, 'silver': 2982, 'action': 37, 'author': 267, 'reaction': 2655, 'someone': 3042, 'ask': 232, 'ivermectin': 1769, 'pharmacy': 2408, 'way': 3560, 'involve': 1755, 'various': 3476, 'stag': 3086, 'vaccin': 3456, 'persons': 2395, 'city': 606, 'district': 982, 'till': 3299, 'true': 3370, 'put': 2612, 'students': 3141, 'govt': 1433, 'post': 2485, 'girls': 1409, 'wax': 3559, 'covaxin': 784, 'convince': 749, 'result': 2778, 'healthcare': 1515, 'partner': 2349, 'firm': 1299, 'whoop': 3600, 'ahead': 91, 'bring': 447, 'director': 951, 'mass': 1994, 'offer': 2245, 'although': 127, 'manage': 1975, 'entry': 1116, 'name': 2145, 'third': 3270, 'price': 2526, 'rise': 2799, 'moment': 2090, 'announce': 153, 'oil': 2254, 'demand': 898, 'normal': 2204, 'within': 3622, 'discharge': 960, 'infrastructure': 1705, 'await': 285, 'agency': 86, 'several': 2927, 'tens': 3242, 'thousands': 3277, 'research': 2752, 'public': 2597, 'guest': 1466, 'bad': 297, 'current': 827, 'full': 1369, 'tiktok': 3297, 'precautions': 2504, 'reveal': 2784, 'happen': 1489, 'dec': 868, 'january': 1777, 'schedule': 2870, 'economy': 1045, 'address': 51, 'kindly': 1825, 'real': 2659, 'minute': 2070, 'silence': 2980, 'modi': 2086, 'ago': 88, 'legal': 1881, 'screen': 2882, 'clue': 637, 'reopen': 2736, 'layer': 1869, 'bharat': 357, 'vac': 3452, 'death': 863, 'toll': 3311, 'near': 2163, 'poll': 2467, 'strategies': 3125, 'management': 1976, 'digital': 943, 'medicine': 2021, 'challenge': 556, 'powerful': 2491, 'civil': 608, 'engineer': 1104, 'mind': 2061, 'always': 128, 'believe': 342, 'everything': 1158, 'fee': 1263, 'faith': 1224, 'truth': 3374, 'move': 2117, 'panic': 2335, 'wow': 3649, 'project': 2565, 'bill': 365, 'microchip': 2042, 'respect': 2765, 'regulator': 2712, 'products': 2555, 'behind': 340, 'polio': 2461, 'bat': 320, 'policy': 2460, 'antibody': 163, 'bridge': 443, 'benefit': 347, 'old': 2256, 'kid': 1818, 'easy': 1042, 'quiet': 2626, 'write': 3651, 'whether': 3595, 'college': 656, 'explain': 1195, 'permanent': 2387, 'press': 2517, 'conference': 706, 'worldwide': 3643, 'crap': 793, 'wont': 3631, 'forget': 1332, 'underlie': 3400, 'imagine': 1637, 'claim': 609, 'aim': 94, 'scientists': 2876, 'bio': 369, 'remember': 2731, 'thread': 3278, 'narendra': 2146, 'nod': 2197, 'sorry': 3052, 'crisis': 803, 'self': 2902, 'patience': 2360, 'away': 290, 'protocol': 2582, 'apply': 190, 'point': 2455, 'fail': 1220, 'deliver': 894, 'anger': 148, 'message': 2035, 'stats': 3101, 'hot': 1586, 'spot': 3077, 'decrease': 877, 'positive': 2480, 'summary': 3165, 'control': 743, 'staff': 3085, 'deputy': 913, 'resign': 2758, 'yes': 3661, 'cdc': 537, 'game': 1379, 'power': 2490, 'extremely': 1206, 'prepare': 2513, 'condition': 704, 'sound': 3055, 'announcement': 154, 'san': 2852, 'gain': 1378, 'fight': 1282, 'weeks': 3580, 'canada': 489, 'robust': 2808, 'information': 1703, 'fake': 1225, 'contribute': 741, 'successful': 3152, 'ministry': 2066, 'btw': 455, 'blue': 390, 'big': 361, 'red': 2687, 'maker': 1968, 'june': 1803, 'problem': 2546, 'cancer': 493, 'per': 2376, 'combine': 666, 'possible': 2483, 'simple': 2984, 'indonesia': 1684, 'philippines': 2411, 'shield': 2945, 'media': 2016, 'sinopharm': 2992, 'trigger': 3363, 'fence': 1272, 'wall': 3541, 'far': 1238, 'different': 940, 'database': 851, 'member': 2026, 'mission': 2076, 'suppose': 3174, 'ever': 1153, 'herd': 1531, 'ensure': 1111, 'scam': 2863, 'governments': 1430, 'speech': 3069, 'range': 2643, 'fauci': 1250, 'concern': 701, 'disparities': 976, 'inequity': 1691, 'pocket': 2452, 'conspiracy': 728, 'theory': 3263, 'mostly': 2111, 'asymptomatic': 248, 'soon': 3048, 'danger': 843, 'tip': 3305, 'style': 3146, 'guide': 1468, 'medical': 2017, 'practice': 2496, 'petition': 2400, 'restrictions': 2777, 'heroes': 1533, 'independent': 1675, 'sacrifice': 2836, 'rest': 2773, 'politician': 2463, 'happy': 1493, 'celebrate': 538, 'lockdown': 1923, 'heart': 1519, 'detail': 924, 'less': 1887, 'evidence': 1160, 'transmission': 3346, 'jan': 1775, 'appointment': 192, 'support': 3172, 'whatever': 3590, 'utter': 3451, 'friends': 1362, 'since': 2986, 'deadline': 859, 'fertility': 1274, 'soul': 3054, 'arrival': 218, 'almost': 118, 'sept': 2915, 'ruin': 2826, 'zombie': 3677, 'prove': 2586, 'fact': 1215, 'humans': 1607, 'edition': 1046, 'series': 2917, 'spike': 3072, 'tally': 3213, 'wish': 3618, 'citizen': 604, 'happiness': 1492, 'pray': 2499, 'asap': 226, 'optimism': 2280, 'ease': 1038, 'quarantine': 2616, 'capital': 503, 'region': 2704, 'scheme': 2871, 'straight': 3122, 'figure': 1283, 'november': 2219, 'green': 1454, 'level': 1893, 'signal': 2976, 'absolutely': 11, 'earth': 1037, 'bullshit': 462, 'wil': 3606, 'thoughts': 3275, 'excite': 1172, 'survive': 3187, 'enemy': 1099, 'possibly': 2484, 'retire': 2781, 'try': 3375, 'sheeple': 2943, 'singh': 2989, 'rahul': 2636, 'gandhi': 1380, 'hell': 1525, 'king': 1826, 'vehicle': 3487, 'fda': 1255, 'ongoing': 2263, 'workers': 3639, 'require': 2748, 'employer': 1090, 'tire': 3306, 'hurry': 1611, 'safely': 2841, 'open': 2268, 'amid': 135, 'infections': 1694, 'double': 1007, 'triple': 3365, 'options': 2283, 'cold': 648, 'chain': 553, 'shoulder': 2963, 'british': 450, 'feet': 1267, 'apart': 178, 'facebook': 1211, 'page': 2325, 'nobody': 2196, 'childhood': 584, 'injury': 1716, 'act': 36, 'sue': 3157, 'manufacturers': 1983, 'knowledge': 1832, 'expertise': 1192, 'decades': 869, 'round': 2821, 'absolute': 10, 'inside': 1723, 'founder': 1340, 'amaze': 129, 'channel': 561, 'youtube': 3670, 'moderna': 2085, 'johnson': 1788, 'lie': 1901, 'shots': 2962, 'front': 1364, 'percentage': 2378, 'actually': 45, 'listen': 1912, 'friend': 1360, 'americans': 134, 'distrust': 983, 'gov': 1428, 'island': 1762, 'along': 120, 'era': 1125, 'gas': 1386, 'continue': 739, 'tom': 3312, 'mike': 2050, 'mandate': 1978, 'instead': 1729, 'speed': 3070, 'participant': 2344, 'blow': 389, 'origin': 2295, 'team': 3225, 'identify': 1623, 'aug': 260, 'cnn': 638, 'reject': 2715, 'european': 1146, 'dear': 862, 'skip': 3005, 'ads': 63, 'unsafe': 3423, 'survey': 3185, 'suggest': 3161, 'committee': 678, 'toxic': 3331, 'effective': 1054, 'close': 629, 'present': 2514, 'perspective': 2396, 'discussions': 968, 'pharma': 2403, 'vials': 3499, 'package': 2324, 'common': 679, 'confusion': 713, 'community': 683, 'con': 700, 'mom': 2089, 'maybe': 2007, 'wear': 3568, 'order': 2286, 'poison': 2456, 'drs': 1023, 'definitely': 885, 'forward': 1338, 'rapidly': 2646, 'divide': 985, 'taiwan': 3210, 'visit': 3523, 'immunization': 1645, 'consider': 725, 'treatment': 3357, 'hug': 1602, 'high': 1539, 'korea': 1833, 'japan': 1778, 'proud': 2584, 'despite': 921, 'accuse': 28, 'small': 3016, 'jesus': 1782, 'nice': 2190, 'match': 1999, 'cant': 497, 'travel': 3353, 'dead': 858, 'tuesday': 3377, 'driver': 1020, 'return': 2782, 'negative': 2170, 'temporary': 3239, 'wealth': 3564, 'save': 2859, 'money': 2095, 'lessons': 1889, 'daughter': 853, 'coverage': 786, 'apparently': 184, 'priority': 2537, 'university': 3415, 'reverse': 2785, 'trend': 3359, 'equal': 1121, 'rich': 2789, 'poor': 2468, 'importance': 1652, 'occur': 2238, 'weird': 3583, 'total': 3321, 'september': 2916, 'britain': 449, 'eight': 1062, 'goal': 1417, 'beat': 328, 'feb': 1259, 'credit': 798, 'western': 3589, 'sales': 2848, 'lady': 1841, 'opportunities': 2274, 'rare': 2647, 'effect': 1053, 'reserve': 2755, 'fuck': 1367, 'season': 2885, 'administer': 55, 'positivity': 2481, 'friday': 1359, 'nationwide': 2153, 'commitment': 677, 'arm': 213, 'washington': 3553, 'invest': 1749, 'six': 2999, 'statement': 3097, 'facilitate': 1212, 'millions': 2059, 'refusal': 2699, 'example': 1166, 'journey': 1797, 'conclude': 703, 'janssen': 1776, 'supply': 3171, 'icmr': 1618, 'preliminary': 2510, 'camera': 484, 'display': 978, 'anthony': 160, 'effectiveness': 1056, 'evaluate': 1147, 'visa': 3521, 'smart': 3019, 'relative': 2717, 'whatsapp': 3592, 'flight': 1306, 'cancel': 492, 'together': 3310, 'separate': 2914, 'biological': 370, 'deployment': 911, 'middle': 2045, 'low': 1943, 'nations': 2152, 'teachers': 3224, 'tomorrow': 3313, 'interview': 1746, 'strategy': 3126, 'beyond': 356, 'stupid': 3144, 'experts': 1193, 'worry': 3644, 'pre': 2501, 'mil': 2051, 'luck': 1946, 'goi': 1420, 'shri': 2968, 'stop': 3116, 'hate': 1505, 'politics': 2466, 'moon': 2104, 'senior': 2910, 'organization': 2292, 'conversation': 747, 'seriously': 2919, 'hit': 1551, 'reply': 2740, 'nov': 2216, 'shameful': 2936, 'answer': 159, 'england': 1105, 'wales': 3538, 'insist': 1726, 'everywhere': 1159, 'panel': 2334, 'logistics': 1927, 'ethical': 1140, 'joke': 1791, 'circulate': 601, 'etc': 1138, 'labor': 1838, 'earliest': 1034, 'doc': 988, 'rapid': 2645, 'demonstrate': 901, 'scientific': 2874, 'proper': 2571, 'pressure': 2518, 'reasonable': 2666, 'request': 2747, 'pls': 2448, 'house': 1591, 'outside': 2308, 'privilege': 2541, 'donate': 998, 'fortunate': 1336, 'worse': 3645, 'payment': 2367, 'march': 1987, 'concert': 702, 'participants': 2345, 'treatments': 3358, 'modify': 2088, 'eat': 1043, 'kinda': 1824, 'faster': 1242, 'boost': 402, 'elderly': 1065, 'vulnerable': 3534, 'populations': 2474, 'remain': 2729, 'assume': 243, 'essential': 1132, 'service': 2922, 'category': 528, 'followers': 1320, 'highest': 1541, 'things': 3268, 'eye': 1207, 'odd': 2242, 'politicians': 2464, 'leave': 1877, 'brainwash': 424, 'youth': 3669, 'behavior': 338, 'website': 3572, 'beware': 355, 'grand': 1440, 'usually': 3447, 'distance': 979, 'suddenly': 3156, 'doubt': 1008, 'brand': 426, 'finally': 1290, 'congrats': 714, 'vaxxers': 3485, 'allow': 117, 'misinformation': 2073, 'breakthrough': 434, 'meanwhile': 2011, 'non': 2198, 'emerge': 1083, 'agencies': 85, 'theories': 3261, 'pain': 2326, 'future': 1376, 'outstanding': 2309, 'family': 1231, 'select': 2901, 'astra': 246, 'spin': 3073, 'push': 2611, 'biontech': 371, 'crush': 815, 'paper': 2336, 'super': 3169, 'steal': 3104, 'opinions': 2273, 'view': 3508, 'nurse': 2225, 'police': 2458, 'west': 3588, 'overwhelm': 2316, 'gratitude': 1449, 'ppl': 2494, 'huh': 1604, 'neither': 2174, 'helpful': 1528, 'discussion': 967, 'refuse': 2700, 'indians': 1679, 'recommend': 2679, 'awesome': 291, 'print': 2532, 'contact': 734, 'estimate': 1136, 'abt': 12, 'regime': 2703, 'supporters': 3173, 'couple': 777, 'july': 1801, 'court': 779, 'decide': 872, 'form': 1333, 'pure': 2609, 'investment': 1752, 'enable': 1094, 'event': 1150, 'famous': 1232, 'improve': 1659, 'outcomes': 2304, 'higher': 1540, 'phone': 2412, 'certain': 550, 'bengal': 348, 'registration': 2707, 'okay': 2255, 'germany': 1403, 'license': 1900, 'affordable': 77, 'suffer': 3158, 'insight': 1724, 'efforts': 1061, 'proudly': 2585, 'appreciate': 195, 'stance': 3088, 'affairs': 74, 'quality': 2615, 'pull': 2602, 'adverse': 68, 'pfe': 2401, 'dismiss': 974, 'mount': 2114, 'though': 3274, 'vacc': 3454, 'space': 3060, 'birthday': 375, 'researchers': 2754, 'pound': 2489, 'fell': 1268, 'declare': 875, 'guarantee': 1463, 'tragedy': 3339, 'nationalism': 2151, 'cool': 751, 'procure': 2550, 'comprehensive': 696, 'congratulations': 716, 'gun': 1473, 'globe': 1415, 'yesterday': 3662, 'lay': 1868, 'timeline': 3302, 'zydus': 3681, 'vial': 3498, 'availability': 278, 'draw': 1015, 'procurement': 2551, 'process': 2549, 'totally': 3322, 'agree': 89, 'milestone': 2055, 'difference': 938, 'vision': 3522, 'obtain': 2234, 'water': 3557, 'clean': 614, 'courtesy': 780, 'analysis': 142, 'whoever': 3598, 'largest': 1857, 'manufacturer': 1982, 'excellent': 1168, 'profile': 2560, 'urgently': 3440, 'hospital': 1579, 'coordinate': 752, 'note': 2212, 'threats': 3281, 'hashtag': 1503, 'uptake': 3436, 'measles': 2012, 'young': 3666, 'necessary': 2166, 'ventilator': 3489, 'usual': 3446, 'experience': 1188, 'fill': 1285, 'professionals': 2558, 'tho': 3271, 'sinovac': 2993, 'strange': 3124, 'coincidence': 647, 'whenever': 3594, 'ray': 2652, 'international': 1743, 'curve': 829, 'supreme': 3176, 'severe': 2928, 'fro': 1363, 'park': 2340, 'choice': 590, 'mistake': 2078, 'karen': 1808, 'language': 1851, 'aid': 92, 'regardless': 2702, 'genuine': 1398, 'ethealthworld': 1139, 'delivery': 896, 'remove': 2735, 'planet': 2435, 'reason': 2665, 'damn': 840, 'disappoint': 958, 'fifth': 1281, 'propose': 2574, 'remind': 2732, 'strong': 3136, 'explanation': 1196, 'yrs': 3671, 'bless': 383, 'symptoms': 3202, 'desperate': 919, 'exemption': 1179, 'religious': 2726, 'advocate': 73, 'trip': 3364, 'whose': 3601, 'majority': 1966, 'nepal': 2175, 'hesitancy': 1534, 'racist': 2634, 'wanna': 3544, 'tonight': 3314, 'guess': 1465, 'none': 2199, 'par': 2337, 'injections': 1713, 'reminder': 2733, 'send': 2909, 'solve': 3039, 'turn': 3381, 'stephen': 3107, 'disaster': 959, 'hurt': 1612, 'obesity': 2231, 'epidemic': 1118, 'undermine': 3401, 'evolve': 1162, 'defeat': 881, 'education': 1050, 'discovery': 964, 'crucial': 813, 'role': 2810, 'equally': 1122, 'idiot': 1624, 'train': 3342, 'pediatrician': 2372, 'allege': 110, 'subscribe': 3150, 'compromise': 697, 'fast': 1241, 'outrage': 2306, 'kaiser': 1807, 'participate': 2346, 'dance': 842, 'transparency': 3348, 'prior': 2533, 'ethics': 1141, 'society': 3031, 'rally': 2639, 'weigh': 3581, 'nasal': 2148, 'corner': 755, 'cartoon': 522, 'except': 1169, 'clinically': 624, 'certificate': 552, 'widely': 3603, 'achieve': 30, 'suck': 3154, 'pilot': 2425, 'diagnosis': 934, 'fever': 1277, 'dream': 1016, 'elect': 1067, 'alarm': 100, 'hopeful': 1574, 'throw': 3287, 'air': 95, 'cap': 499, 'ignore': 1628, 'unapproved': 3394, 'bottom': 414, 'entire': 1113, 'chase': 568, 'pride': 2528, 'image': 1636, 'unlikely': 3419, 'dare': 847, 'urgent': 3439, 'liberals': 1897, 'app': 182, 'applaud': 187, 'leaders': 1872, 'patient': 2361, 'hence': 1530, 'completely': 690, 'eradicate': 1126, 'fold': 1316, 'home': 1563, 'husband': 1613, 'biden': 360, 'harris': 1500, 'ticket': 3294, 'nightmare': 2193, 'october': 2241, 'salute': 2849, 'welfare': 3585, 'file': 1284, 'wednesday': 3575, 'isolation': 1764, 'plz': 2450, 'advice': 70, 'ceo': 549, 'mix': 2079, 'industry': 1688, 'shut': 2969, 'engage': 1102, 'kudos': 1834, 'opt': 2279, 'lock': 1922, 'facilities': 1213, 'rna': 2805, 'undergo': 3399, 'mutations': 2138, 'younger': 3667, 'finish': 1296, 'rigorous': 2796, 'lol': 1928, 'chair': 554, 'paul': 2364, 'secretary': 2890, 'pump': 2603, 'prefer': 2507, 'political': 2462, 'laugh': 1862, 'cry': 816, 'fun': 1371, 'sit': 2996, 'annual': 156, 'value': 3471, 'podcast': 2454, 'conduct': 705, 'random': 2642, 'healthy': 1517, 'grade': 1439, 'frame': 1344, 'propaganda': 2570, 'pretend': 2519, 'sister': 2995, 'food': 1321, 'taste': 3219, 'log': 1925, 'injection': 1712, 'approach': 196, 'behalf': 337, 'inoculate': 1718, 'military': 2056, 'basic': 317, 'senator': 2908, 'scott': 2879, 'board': 395, 'pace': 2322, 'environment': 1117, 'gold': 1421, 'lose': 1936, 'contribution': 742, 'finger': 1295, 'picture': 2421, 'irresponsible': 1760, 'field': 1280, 'coach': 639, 'century': 548, 'task': 3218, 'criticism': 807, 'adults': 65, 'immunisation': 1643, 'secret': 2889, 'boss': 410, 'protection': 2576, 'din': 944, 'mood': 2103, 'clearly': 616, 'head': 1509, 'dumb': 1029, 'publish': 2600, 'filter': 1287, 'pack': 2323, 'amazon': 130, 'thrill': 3283, 'download': 1012, 'opinion': 2272, 'msm': 2122, 'guinea': 1471, 'pig': 2423, 'overnight': 2313, 'sleep': 3008, 'five': 1302, 'color': 660, 'touch': 3323, 'sale': 2847, 'quarter': 2617, 'aiims': 93, 'recoveries': 2684, 'hrs': 1596, 'later': 1860, 'score': 2877, 'station': 3099, 'diplomacy': 947, 'standards': 3091, 'syringe': 3204, 'anxious': 170, 'resist': 2759, 'joy': 1798, 'bird': 373, 'rock': 2809, 'stronger': 3137, 'eligibility': 1070, 'piss': 2428, 'commission': 674, 'pune': 2605, 'solution': 3037, 'sum': 3164, 'sii': 2979, 'equitable': 1123, 'room': 2815, 'bet': 352, 'vacation': 3453, 'delhi': 891, 'guard': 1464, 'stories': 3119, 'able': 6, 'inspire': 1727, 'comment': 672, 'hilarious': 1545, 'hello': 1526, 'wit': 3619, 'voluntary': 3530, 'outcome': 2303, 'hour': 1589, 'congress': 717, 'ottawa': 2299, 'unfortunately': 3406, 'hey': 1537, 'caution': 533, 'wind': 3610, 'legit': 1884, 'tunnel': 3379, 'surely': 3178, 'corruption': 764, 'union': 3408, 'movie': 2119, 'efficiency': 1058, 'fully': 1370, 'canadian': 490, 'eve': 1148, 'smell': 3020, 'rumour': 2829, 'journalists': 1796, 'shock': 2953, 'workplace': 3641, 'fatalities': 1246, 'capacity': 501, 'correct': 760, 'quickly': 2625, 'honestly': 1567, 'law': 1864, 'boys': 421, 'shape': 2937, 'allocation': 116, 'guidelines': 1469, 'tag': 3209, 'bag': 299, 'fantastic': 1235, 'inject': 1711, 'mention': 2033, 'fabulous': 1209, 'eventually': 1152, 'easier': 1039, 'cough': 767, 'alright': 123, 'barriers': 315, 'half': 1480, 'amongst': 138, 'sell': 2905, 'legend': 1883, 'joint': 1790, 'colleagues': 652, 'hospitals': 1584, 'destroy': 922, 'beach': 325, 'louisiana': 1940, 'corporate': 758, 'dog': 992, 'timely': 3303, 'acknowledge': 33, 'yeah': 3656, 'smallpox': 3018, 'ron': 2814, 'former': 1334, 'legitimate': 1885, 'peak': 2370, 'busy': 472, 'bother': 412, 'commercial': 673, 'master': 1997, 'rank': 2644, 'players': 2440, 'reactions': 2656, 'realise': 2660, 'contain': 736, 'load': 1916, 'thats': 3260, 'forecast': 1327, 'sudden': 3155, 'occasion': 2237, 'activate': 38, 'fyi': 1377, 'fam': 1228, 'truly': 3371, 'pic': 2418, 'enjoy': 1108, 'dedicate': 878, 'effectively': 1055, 'horrible': 1577, 'vacci': 3455, 'account': 24, 'bias': 358, 'allergy': 114, 'slowly': 3015, 'untested': 3425, 'atleast': 251, 'plus': 2449, 'boosters': 404, 'allegedly': 111, 'boom': 401, 'indeed': 1673, 'skeptical': 3001, 'nowhere': 2220, 'history': 1550, 'authorities': 270, 'hype': 1616, 'comfortable': 669, 'flow': 1311, 'jim': 1783, 'desperately': 920, 'horse': 1578, 'hopefully': 1575, 'land': 1848, 'storm': 3120, 'sink': 2991, 'boy': 419, 'ride': 2793, 'collaboration': 649, 'defence': 882, 'fine': 1294, 'waste': 3555, 'responsible': 2772, 'deny': 906, 'surge': 3179, 'protocols': 2583, 'model': 2082, 'organisation': 2290, 'perhaps': 2384, 'biggest': 363, 'sad': 2837, 'amount': 139, 'drive': 1019, 'addition': 49, 'shop': 2955, 'drop': 1022, 'cut': 831, 'fatality': 1247, 'asian': 230, 'avoid': 284, 'vector': 3486, 'import': 1651, 'vaccinator': 3462, 'teach': 3222, 'quick': 2623, 'zealand': 3673, 'attack': 253, 'consequences': 723, 'guru': 1474, 'skepticism': 3002, 'women': 3628, 'class': 613, 'status': 3102, 'newly': 2184, 'basically': 318, 'degree': 887, 'severity': 2930, 'office': 2246, 'holy': 1562, 'safer': 2842, 'virtual': 3517, 'presentation': 2515, 'est': 1134, 'therapy': 3264, 'deploy': 910, 'miss': 2075, 'brain': 423, 'reality': 2661, 'internet': 1744, 'institutions': 1731, 'ridiculous': 2794, 'useless': 3444, 'travellers': 3355, 'scar': 2866, 'threaten': 3280, 'artificial': 224, 'politicize': 2465, 'upon': 3433, 'reduce': 2691, 'thankfully': 3258, 'introduce': 1747, 'false': 1227, 'night': 2192, 'exactly': 1164, 'intend': 1737, 'dems': 902, 'cop': 753, 'folks': 1318, 'switch': 3198, 'mon': 2093, 'confidence': 707, 'belong': 345, 'increase': 1670, 'math': 2001, 'girl': 1408, 'viral': 3514, 'info': 1700, 'ideas': 1622, 'medication': 2019, 'yellow': 3659, 'snow': 3027, 'chill': 586, 'hav': 1506, 'carry': 518, 'fan': 1233, 'repeat': 2738, 'greater': 1451, 'useful': 3443, 'react': 2654, 'fastest': 1243, 'effort': 1060, 'magic': 1957, 'moments': 2091, 'permission': 2388, 'central': 546, 'wash': 3552, 'nothing': 2213, 'mate': 2000, 'percent': 2377, 'reportedly': 2742, 'grateful': 1448, 'lord': 1934, 'official': 2249, 'gene': 1391, 'sri': 3082, 'gift': 1406, 'zeneca': 3674, 'victory': 3504, 'changer': 560, 'quite': 2628, 'somewhere': 3045, 'maryland': 1992, 'authority': 271, 'jail': 1773, 'reward': 2788, 'lanka': 1853, 'mumbai': 2127, 'possibility': 2482, 'witness': 3624, 'chaos': 562, 'connect': 718, 'individuals': 1683, 'letter': 1892, 'vaccina': 3457, 'submit': 3149, 'peer': 2374, 'traditional': 3337, 'tie': 3295, 'favour': 1254, 'upcoming': 3429, 'generation': 1395, 'label': 1837, 'closely': 630, 'bank': 312, 'reassure': 2667, 'struggle': 3139, 'maintain': 1964, 'premier': 2511, 'abroad': 9, 'sooner': 3049, 'sigh': 2973, 'relief': 2723, 'inoculation': 1719, 'disclose': 961, 'impress': 1657, 'describe': 915, 'technical': 3228, 'mess': 2034, 'thankful': 3257, 'achievement': 31, 'difficult': 942, 'main': 1961, 'proof': 2569, 'product': 2553, 'security': 2894, 'rescue': 2751, 'verify': 3491, 'mad': 1954, 'eff': 1052, 'hmm': 1554, 'amidst': 136, 'thorough': 3273, 'criminal': 802, 'sector': 2892, 'toward': 3328, 'liberty': 1898, 'spend': 3071, 'honour': 1569, 'count': 770, 'protest': 2580, 'realize': 2662, 'york': 3664, 'blind': 384, 'breath': 437, 'stress': 3132, 'everybody': 1155, 'certainly': 551, 'army': 214, 'troop': 3366, 'google': 1425, 'query': 2620, 'build': 460, 'complain': 688, 'frustrate': 1366, 'heck': 1523, 'scan': 2865, 'microchips': 2043, 'variant': 3474, 'crazy': 795, 'minor': 2067, 'blame': 381, 'protective': 2577, 'exclusive': 1175, 'safeguard': 2840, 'thursday': 3290, 'clip': 627, 'org': 2288, 'uae': 3391, 'topic': 3318, 'preventable': 2522, 'webinar': 3571, 'position': 2479, 'fellow': 1269, 'cadila': 477, 'extreme': 1205, 'partially': 2343, 'campaign': 487, 'compulsory': 698, 'invite': 1754, 'facility': 1214, 'pradesh': 2497, 'icu': 1619, 'bed': 332, 'heal': 1513, 'breathe': 438, 'screw': 2883, 'discrimination': 965, 'sponsor': 3075, 'private': 2540, 'frontline': 1365, 'minutes': 2071, 'replace': 2739, 'oct': 2240, 'cheap': 571, 'normalcy': 2205, 'newest': 2183, 'influenza': 1699, 'antivaxxers': 168, 'instagram': 1728, 'kerala': 1813, 'cat': 525, 'yep': 3660, 'greed': 1453, 'kingdom': 1827, 'acceptable': 16, 'newsletter': 2187, 'internal': 1742, 'voice': 3529, 'student': 3140, 'forever': 1330, 'crores': 810, 'fewer': 1278, 'scary': 2868, 'abc': 2, 'mine': 2062, 'fascinate': 1240, 'employees': 1089, 'sadly': 2838, 'butt': 473, 'moral': 2105, 'opposition': 2278, 'socially': 3030, 'promote': 2568, 'bntb': 393, 'particularly': 2348, 'canadians': 491, 'warp': 3550, 'dad': 836, 'cuba': 817, 'wide': 3602, 'wuhan': 3654, 'crowd': 812, 'comfort': 668, 'chest': 577, 'dry': 1025, 'stuff': 3143, 'particular': 2347, 'highlight': 1542, 'hole': 1559, 'injuries': 1715, 'program': 2562, 'plague': 2431, 'onto': 2267, 'leg': 1880, 'devastate': 927, 'researcher': 2753, 'connection': 720, 'additional': 50, 'web': 3570, 'harsh': 1501, 'vardhan': 3473, 'obvious': 2235, 'grandparents': 1444, 'mock': 2081, 'discount': 962, 'cos': 765, 'direct': 948, 'fire': 1298, 'families': 1230, 'facts': 1217, 'kick': 1817, 'battle': 322, 'sometimes': 3044, 'australians': 265, 'pregnant': 2509, 'actual': 44, 'transport': 3350, 'texans': 3250, 'sort': 3053, 'felt': 1270, 'border': 406, 'cabinet': 476, 'agenda': 87, 'exempt': 1178, 'liability': 1894, 'freak': 1348, 'texas': 3251, 'regulators': 2713, 'whatsoever': 3593, 'neutralize': 2180, 'mortality': 2109, 'otherwise': 2298, 'nope': 2202, 'confuse': 712, 'controversy': 744, 'mar': 1986, 'immediately': 1639, 'employment': 1092, 'incredibly': 1672, 'incredible': 1671, 'uttar': 3450, 'beast': 327, 'thousand': 3276, 'miles': 2054, 'appeal': 185, 'debate': 865, 'fox': 1343, 'translate': 3344, 'option': 2282, 'exercise': 1181, 'hide': 1538, 'father': 1248, 'angry': 149, 'bloody': 388, 'melbourne': 2025, 'consent': 722, 'valid': 3468, 'mum': 2126, 'vaxxer': 3484, 'lower': 1944, 'fix': 1303, 'responsibility': 2771, 'plant': 2436, 'garden': 1384, 'ramp': 2640, 'clarify': 610, 'initiative': 1710, 'african': 80, 'defend': 883, 'esp': 1130, 'whats': 3591, 'personal': 2392, 'camp': 486, 'fir': 1297, 'globally': 1414, 'liberal': 1896, 'charge': 563, 'autism': 274, 'bangladesh': 311, 'recipient': 2674, 'sky': 3006, 'generally': 1393, 'glass': 1412, 'authorisation': 268, 'strongly': 3138, 'grab': 1437, 'nose': 2211, 'assess': 236, 'tough': 3324, 'disgust': 972, 'serve': 2921, 'observe': 2233, 'apple': 188, 'hat': 1504, 'tea': 3221, 'halt': 1482, 'quit': 2627, 'familiar': 1229, 'sex': 2931, 'weapon': 3566, 'eliminate': 1072, 'pharmacists': 2407, 'farm': 1239, 'chip': 589, 'basis': 319, 'relevant': 2721, 'routine': 2823, 'afford': 76, 'disappear': 957, 'subject': 3148, 'previously': 2525, 'band': 309, 'logic': 1926, 'wolf': 3626, 'personally': 2393, 'boycott': 420, 'dollar': 993, 'lucky': 1947, 'aka': 98, 'woman': 3627, 'assist': 238, 'general': 1392, 'worker': 3638, 'argument': 210, 'prof': 2556, 'remote': 2734, 'victims': 3502, 'abuse': 13, 'morrison': 2108, 'santa': 2853, 'christmas': 597, 'dashboard': 849, 'older': 2257, 'hang': 1488, 'educate': 1049, 'retail': 2780, 'association': 242, 'fool': 1322, 'initially': 1709, 'rule': 2827, 'donation': 999, 'properly': 2572, 'simply': 2985, 'proteins': 2579, 'employee': 1088, 'unnecessary': 3420, 'upset': 3435, 'failure': 1221, 'fatal': 1245, 'overcome': 2312, 'terrible': 3244, 'drink': 1018, 'photos': 2414, 'gujarat': 1472, 'incentives': 1664, 'liar': 1895, 'max': 2004, 'survival': 3186, 'events': 1151, 'twice': 3383, 'dollars': 994, 'genocide': 1397, 'bleed': 382, 'cautious': 534, 'arrest': 217, 'site': 2997, 'afternoon': 82, 'unexpected': 3404, 'brown': 454, 'church': 599, 'members': 2027, 'application': 189, 'date': 852, 'unpaid': 3421, 'violation': 3512, 'impose': 1655, 'refresh': 2697, 'pause': 2365, 'requirements': 2750, 'art': 221, 'thus': 3291, 'dust': 1030, 'flip': 1307, 'cod': 641, 'map': 1985, 'animal': 150, 'gen': 1390, 'selfish': 2904, 'idiots': 1625, 'pan': 2332, 'indicate': 1680, 'anymore': 172, 'refer': 2694, 'ffs': 1279, 'isolate': 1763, 'alternative': 126, 'provider': 2588, 'function': 1372, 'conservative': 724, 'terrify': 3245, 'parliament': 2341, 'cook': 750, 'sugar': 3160, 'expedite': 1187, 'wtf': 3653, 'authorize': 273, 'oppose': 2276, 'dept': 912, 'communication': 681, 'pin': 2426, 'sticker': 3110, 'financial': 1292, 'explore': 1197, 'eua': 1143, 'sydney': 3199, 'catholic': 531, 'medically': 2018, 'abortion': 8, 'insurance': 1734, 'ashamed': 227, 'ship': 2948, 'purpose': 2610, 'vaxers': 3481, 'authorization': 272, 'dick': 935, 'hmmm': 1555, 'judge': 1799, 'council': 769, 'gop': 1426, 'sen': 2906, 'specific': 3067, 'represent': 2744, 'warm': 3548, 'resident': 2756, 'religion': 2725, 'nonsense': 2200, 'immunize': 1646, 'perfect': 2380, 'cohort': 646, 'regularly': 2710, 'chicago': 579, 'muslim': 2133, 'assam': 234, 'covax': 783, 'prayers': 2500, 'brief': 444, 'lesson': 1888, 'favor': 1252, 'organ': 2289, 'transplant': 3349, 'differences': 939, 'deep': 879, 'previous': 2524, 'murder': 2130, 'indemnity': 1674, 'somehow': 3041, 'universal': 3413, 'hero': 1532, 'accelerate': 14, 'stream': 3127, 'experiment': 1189, 'rollout': 2812, 'stat': 3095, 'shortage': 2958, 'longer': 1932, 'piece': 2422, 'david': 854, 'requirement': 2749, 'stem': 3105, 'implement': 1648, 'priorities': 2534, 'madness': 1956, 'smile': 3022, 'tool': 3316, 'box': 418, 'activity': 42, 'climate': 620, 'cbc': 535, 'vary': 3477, 'exposure': 1200, 'woo': 3632, 'voters': 3533, 'dude': 1027, 'attempt': 254, 'covishield': 789, 'clown': 635, 'strengthen': 3131, 'upper': 3434, 'respiratory': 2766, 'withdraw': 3620, 'sheep': 2942, 'nhs': 2189, 'impressive': 1658, 'corrupt': 763, 'natural': 2154, 'unbelievable': 3395, 'career': 509, 'accompany': 21, 'miracle': 2072, 'orange': 2285, 'physical': 2415, 'deliberately': 892, 'thru': 3288, 'billions': 367, 'incompetent': 1669, 'appoint': 191, 'brilliant': 446, 'navy': 2159, 'excuse': 1176, 'virginia': 3515, 'commissioner': 675, 'evil': 1161, 'residents': 2757, 'theorists': 3262, 'trouble': 3367, 'enforce': 1101, 'wealthy': 3565, 'lowest': 1945, 'risky': 2801, 'skin': 3004, 'muscle': 2131, 'ignorant': 1627, 'comply': 695, 'illegal': 1631, 'unacceptable': 3393, 'reflect': 2696, 'telangana': 3233, 'neurological': 2179, 'closer': 631, 'exemptions': 1180, 'exact': 1163, 'dan': 841, 'lawyer': 1867, 'door': 1002, 'crime': 801, 'dot': 1006, 'keen': 1810, 'anytime': 175, 'patiently': 2362, 'pop': 2471, 'performance': 2383, 'sec': 2887, 'indigenous': 1681, 'anywhere': 177, 'shirt': 2951, 'admission': 58, 'operation': 2270, 'afraid': 78, 'brother': 453, 'arena': 208, 'perfectly': 2381, 'advisory': 72, 'neighbour': 2173, 'hardly': 1496, 'copy': 754, 'unit': 3410, 'advise': 71, 'feed': 1264, 'actively': 40, 'hoax': 1557, 'bunch': 465, 'democracy': 899, 'summer': 3166, 'illness': 1634, 'insights': 1725, 'bind': 368, 'engagement': 1103, 'recall': 2669, 'confident': 708, 'correlation': 762, 'popular': 2472, 'excitement': 1173, 'surpass': 3182, 'prevention': 2523, 'potentially': 2488, 'gather': 1388, 'swab': 3193, 'recipients': 2675, 'harm': 1498, 'nih': 2194, 'jnj': 1784, 'scenario': 2869, 'shift': 2946, 'responses': 2770, 'employers': 1091, 'bob': 396, 'baker': 300, 'outweigh': 2310, 'hire': 1548, 'hill': 1546, 'unknown': 3416, 'lethal': 1891, 'editor': 1047, 'cvs': 834, 'tyranny': 3390, 'anybody': 171, 'pharmacist': 2406, 'providers': 2589, 'alone': 119, 'disturb': 984, 'gotta': 1427, 'deniers': 903, 'suit': 3162, 'compare': 686, 'christian': 595, 'carolina': 516, 'french': 1354, 'diabetes': 932, 'definition': 886, 'document': 991, 'scramble': 2880, 'painless': 2328, 'hea': 1508, 'bear': 326, 'queen': 2619, 'ignorance': 1626, 'surround': 3184, 'storage': 3117, 'acquire': 34, 'antigen': 165, 'directly': 950, 'london': 1929, 'conversations': 748, 'trudeau': 3369, 'dangers': 845, 'revise': 2787, 'laws': 1865, 'sweet': 3195, 'operate': 2269, 'department': 907, 'associate': 241, 'mps': 2120, 'debt': 866, 'complicate': 693, 'regulations': 2711, 'fit': 1301, 'colleges': 657, 'drag': 1013, 'individual': 1682, 'allocate': 115, 'seven': 2926, 'larger': 1856, 'unlike': 3418, 'kit': 1829, 'car': 505, 'overseas': 2314, 'abort': 7, 'adult': 64, 'journalist': 1795, 'sentence': 2913, 'defense': 884, 'embarrass': 1082, 'animals': 151, 'naturally': 2155, 'virologist': 3516, 'primary': 2529, 'clinicians': 625, 'swear': 3194, 'alert': 104, 'truck': 3368, 'temp': 3236, 'physician': 2416, 'systems': 3206, 'uni': 3407, 'capable': 500, 'handle': 1486, 'climb': 621, 'confirmation': 710, 'implications': 1650, 'del': 888, 'size': 3000, 'shipment': 2949, 'burden': 466, 'calendar': 479, 'strike': 3134, 'ino': 1717, 'consultant': 733, 'flat': 1305, 'users': 3445, 'song': 3047, 'plenty': 2447, 'plea': 2442, 'mayor': 2008, 'photo': 2413, 'fair': 1223, 'extra': 1203, 'nine': 2195, 'faculty': 1219, 'gear': 1389, 'extend': 1202, 'interim': 1741, 'permit': 2389, 'elections': 1069, 'dark': 848, 'dependent': 909, 'son': 3046, 'block': 385, 'thi': 3266, 'andrew': 145, 'suspect': 3190, 'videos': 3507, 'pics': 2420, 'autumn': 276, 'solid': 3035, 'owe': 2317, 'charlie': 565, 'resources': 2764, 'growth': 1462, 'soar': 3028, 'bright': 445, 'sing': 2988, 'destruction': 923, 'actor': 43, 'resume': 2779, 'suspend': 3191, 'inflammation': 1697, 'ill': 1630, 'aside': 231, 'sight': 2974, 'aware': 288, 'background': 296, 'publicity': 2598, 'female': 1271, 'rumor': 2828, 'lawsuit': 1866, 'rome': 2813, 'sick': 2970, 'temporarily': 3238, 'collapse': 650, 'economic': 1044, 'ndtv': 2162, 'average': 283, 'monitor': 2097, 'unexplained': 3405, 'endorse': 1098, 'deeply': 880, 'spirit': 3074, 'accurate': 27, 'cup': 823, 'anticipate': 164, 'everyday': 1156, 'cheer': 573, 'vein': 3488, 'bang': 310, 'asia': 229, 'tony': 3315, 'giant': 1405, 'calm': 483, 'investigation': 1751, 'michael': 2040, 'businesses': 470, 'vet': 3494, 'retweet': 2783, 'investigate': 1750, 'physicians': 2417, 'pod': 2453, 'significant': 2977, 'movement': 2118, 'instructions': 1732, 'attach': 252, 'psa': 2594, 'dcgi': 857, 'bus': 468, 'lift': 1904, 'expire': 1194, 'commit': 676, 'easily': 1040, 'offices': 2248, 'goodness': 1424, 'badly': 298, 'pleasure': 2444, 'joe': 1786, 'vice': 3500, 'pill': 2424, 'prioritize': 2536, 'error': 1128, 'reduction': 2692, 'store': 3118, 'fuel': 1368, 'upgrade': 3431, 'depend': 908, 'irony': 1759, 'sufficient': 3159, 'hoard': 1556, 'scream': 2881, 'gap': 1381, 'complex': 691, 'assure': 244, 'cite': 602, 'universities': 3414, 'disagree': 956, 'whilst': 3596, 'weak': 3562, 'cent': 544, 'statistics': 3100, 'bid': 359, 'iran': 1756, 'oral': 2284, 'title': 3308, 'honor': 1568, 'network': 2178, 'insanity': 1722, 'sleeves': 3010, 'widespread': 3604, 'breakdown': 433, 'influence': 1698, 'dis': 952, 'journal': 1794, 'nigeria': 2191, 'bravo': 429, 'shove': 2966, 'decisions': 874, 'robert': 2807, 'mhra': 2038, 'israel': 1765, 'blog': 386, 'hyderabad': 1614, 'horizon': 1576, 'shortages': 2959, 'yup': 3672, 'regional': 2705, 'insane': 1721, 'wild': 3607, 'allergic': 112, 'shingle': 2947, 'ford': 1326, 'ladies': 1840, 'balance': 302, 'democrats': 900, 'bully': 463, 'incompetence': 1668, 'path': 2358, 'alex': 105, 'navigate': 2158, 'bout': 415, 'superior': 3170, 'prioritise': 2535, 'sheet': 2944, 'brian': 441, 'donations': 1000, 'rec': 2668, 'admin': 54, 'seniors': 2911, 'argue': 209, 'lungs': 1950, 'throat': 3284, 'moms': 2092, 'eric': 1127, 'justify': 1806, 'tam': 3214, 'weaponize': 3567, 'acceptance': 17, 'motivate': 2113, 'comorbidities': 684, 'pneumonia': 2451, 'suspicious': 3192, 'smoke': 3023, 'legally': 1882, 'symptomatic': 3201, 'lake': 1843, 'caregivers': 512, 'relatives': 2718, 'recommendations': 2681, 'fat': 1244, 'hair': 1479, 'norway': 2210, 'export': 1198, 'unable': 3392, 'ppe': 2493, 'weekend': 3578, 'passport': 2354, 'ireland': 1757, 'abandon': 1, 'road': 2806, 'relieve': 2724, 'manipulate': 1980, 'reporter': 2743, 'criteria': 804, 'throughout': 3286, 'standard': 3090, 'exclude': 1174, 'chairman': 555, 'racial': 2632, 'regular': 2709, 'fraud': 1347, 'mental': 2032, 'clinic': 622, 'bjp': 378, 'accessible': 19, 'respond': 2767, 'section': 2891, 'context': 738, 'fin': 1288, 'uncertain': 3397, 'practical': 2495, 'emotional': 1086, 'graph': 1446, 'attorney': 257, 'sarah': 2854, 'gilbert': 1407, 'mary': 1991, 'maximum': 2005, 'sub': 3147, 'bump': 464, 'organizations': 2293, 'memory': 2029, 'charles': 564, 'locations': 1921, 'correctly': 761, 'host': 1585, 'efficient': 1059, 'spare': 3063, 'energy': 1100, 'republican': 2745, 'kenya': 1812, 'chronic': 598, 'overall': 2311, 'february': 1260, 'italy': 1768, 'matt': 2002, 'hancock': 1484, 'justice': 1805, 'elders': 1066, 'governor': 1431, 'khan': 1816, 'typical': 3389, 'interact': 1739, 'pcr': 2368, 'coercion': 644, 'grace': 1438, 'freedoms': 1351, 'steve': 3108, 'privacy': 2539, 'rid': 2792, 'lag': 1842, 'sake': 2846, 'portal': 2476, 'med': 2015, 'stupidity': 3145, 'significantly': 2978, 'alongside': 121, 'neighbor': 2171, 'unprecedented': 3422, 'feat': 1257, 'impossible': 1656, 'escape': 1129, 'michigan': 2041, 'minimum': 2064, 'complications': 694, 'criticize': 808, 'grande': 1441, 'valley': 3469, 'ball': 304, 'lee': 1879, 'freezers': 1353, 'nuremberg': 2224, 'establish': 1135, 'constantly': 730, 'vaccinat': 3458, 'bar': 313, 'outline': 2305, 'editorial': 1048, 'boris': 408, 'monger': 2096, 'feedback': 1265, 'til': 3298, 'fri': 1358, 'ins': 1720, 'precautionary': 2503, 'fourth': 1342, 'airlines': 96, 'village': 3510, 'harmful': 1499, 'awful': 292, 'poke': 2457, 'senate': 2907, 'diagnose': 933, 'wan': 3543, 'nervous': 2177, 'satan': 2856, 'downingstreet': 1011, 'crack': 792, 'medications': 2020, 'tour': 3325, 'france': 1345, 'deliveries': 895, 'forum': 1337, 'music': 2132, 'bribe': 442, 'needle': 2169, 'meat': 2014, 'guidance': 1467, 'child': 583, 'friendly': 1361, 'communities': 682, 'segment': 2899, 'painful': 2327, 'duty': 1031, 'landmark': 1849, 'device': 931, 'civic': 607, 'memorial': 2028, 'implementation': 1649, 'punjab': 2607, 'punish': 2606, 'numerous': 2223, 'beneficiaries': 346, 'walk': 3540, 'ice': 1617, 'cream': 796, 'radio': 2635, 'pose': 2478, 'opposite': 2277, 'gps': 1436, 'anniversary': 152, 'auburn': 259, 'precaution': 2502, 'rip': 2798, 'burn': 467, 'alcohol': 103, 'coup': 776, 'vitamin': 3527, 'monoclonal': 2098, 'illnesses': 1635, 'peep': 2373, 'airport': 97, 'spanish': 3062, 'wipe': 3615, 'branch': 425, 'brave': 428, 'sore': 3050, 'hiv': 1552, 'tiny': 3304, 'boston': 411, 'bell': 343, 'debunk': 867, 'vaers': 3466, 'chris': 593, 'differently': 941, 'doors': 1003, 'slightly': 3012, 'shame': 2935, 'minority': 2068, 'folk': 1317, 'midnight': 2047, 'professional': 2557, 'resistance': 2760, 'wee': 3576, 'spain': 3061, 'winter': 3614, 'elite': 1073, 'mail': 1960, 'manager': 1977, 'happily': 1491, 'reluctant': 2727, 'statements': 3098, 'teen': 3230, 'critically': 806, 'closest': 632, 'wks': 3625, 'regret': 2708, 'software': 3032, 'finance': 1291, 'praise': 2498, 'football': 1324, 'owner': 2318, 'colleague': 651, 'hubs': 1601, 'town': 3330, 'endanger': 1097, 'assessment': 237, 'income': 1667, 'parental': 2339, 'organise': 2291, 'therefore': 3265, 'county': 775, 'uncle': 3398, 'hooray': 1571, 'awake': 286, 'weaken': 3563, 'tackle': 3208, 'factor': 1216, 'normality': 2206, 'dental': 905, 'beliefs': 341, 'coerce': 643, 'precious': 2505, 'excess': 1170, 'didnt': 936, 'window': 3611, 'overview': 2315, 'provisional': 2593, 'mainly': 1962, 'dosage': 1004, 'customers': 830, 'entirely': 1114, 'swing': 3197, 'slam': 3007, 'interval': 1745, 'hubby': 1600, 'toronto': 3319, 'ontario': 2266, 'mislead': 2074, 'birth': 374, 'banana': 308, 'assistance': 239, 'empty': 1093, 'ring': 2797, 'oxygen': 2320, 'carefully': 511, 'lakhs': 1845, 'injure': 1714, 'woods': 3633, 'conscience': 721, 'square': 3081, 'walgreens': 3539, 'websites': 3573, 'accountable': 25, 'barely': 314, 'province': 2590, 'responders': 2768, 'player': 2439, 'apollo': 181, 'restrict': 2776, 'compliance': 692, 'equity': 1124, 'transportation': 3351, 'survivor': 3188, 'organize': 2294, 'hub': 1599, 'historic': 1549, 'massachusetts': 1995, 'authorise': 269, 'bame': 306, 'strict': 3133, 'examine': 1165, 'racism': 2633, 'rain': 2637, 'temperature': 3237, 'pathetic': 2359, 'shed': 2941, 'remarkable': 2730, 'collection': 654, 'smh': 3021, 'versus': 3493, 'disinformation': 973, 'wing': 3612, 'trace': 3333, 'thailand': 3255, 'john': 1787, 'clock': 628, 'wrap': 3650, 'olds': 2258, 'resource': 2763, 'raw': 2651, 'sickness': 2971, 'jones': 1792, 'delete': 890, 'odds': 2243, 'seat': 2886, 'jersey': 1780, 'honest': 1566, 'workforce': 3640, 'myths': 2142, 'bust': 471, 'inequality': 1690, 'grocery': 1457, 'advantage': 67, 'holiday': 1560, 'poorer': 2469, 'victim': 3501, 'areas': 207, 'heights': 1524, 'bihar': 364, 'govts': 1434, 'disgrace': 971, 'feds': 1262, 'exchange': 1171, 'jul': 1800, 'tim': 3300, 'clarity': 611, 'tory': 3320, 'chat': 569, 'chemist': 574, 'anxiety': 169, 'assembly': 235, 'pharmacies': 2405, 'roughly': 2820, 'stroke': 3135, 'foot': 1323, 'chicken': 580, 'stone': 3115, 'officer': 2247, 'suppress': 3175, 'persuade': 2397, 'tragic': 3340, 'communicate': 680, 'recommendation': 2680, 'governors': 1432, 'policies': 2459, 'docs': 989, 'anderson': 144, 'table': 3207, 'morons': 2107, 'neighborhood': 2172, 'exit': 1184, 'festive': 1276, 'wellness': 3587, 'highway': 1544, 'disability': 954, 'cuomo': 822, 'alabama': 99, 'frequently': 1355, 'metro': 2036, 'flood': 1308, 'karnataka': 1809, 'suite': 3163, 'perform': 2382, 'employ': 1087, 'cities': 603, 'intellectual': 1735, 'property': 2573, 'veteran': 3495, 'kumar': 1835, 'hospitalisation': 1580, 'londoners': 1930, 'prick': 2527, 'grandmother': 1443, 'heartbreaking': 1520, 'gross': 1458, 'factual': 1218, 'nail': 2144, 'immigrants': 1640, 'congratulate': 715, 'wakefield': 3537, 'plane': 2434, 'cycle': 835, 'recognise': 2676, 'delight': 893, 'besides': 350, 'carson': 520, 'violence': 3513, 'monthly': 2101, 'mile': 2053, 'van': 3472, 'travelers': 3354, 'curb': 824, 'utah': 3448, 'deceive': 870, 'passports': 2355, 'streets': 3129, 'protesters': 2581, 'appropriate': 197, 'grandma': 1442, 'tick': 3293, 'recieved': 2673, 'division': 986, 'colonial': 659, 'tourism': 3326, 'twist': 3384, 'quicker': 2624, 'tier': 3296, 'enhance': 1107, 'zone': 3678, 'ward': 3547, 'aunt': 262, 'disable': 955, 'largely': 1855, 'prison': 2538, 'realm': 2664, 'wed': 3574, 'vid': 3505, 'apparent': 183, 'arrange': 216, 'extraordinary': 1204, 'allah': 109, 'neck': 2167, 'ground': 1459, 'scotland': 2878, 'traffic': 3338, 'knock': 1830, 'stab': 3083, 'shortly': 2961, 'tiredness': 3307, 'jose': 1793, 'hoo': 1570, 'tear': 3226, 'weight': 3582, 'brits': 451, 'solutions': 3038, 'cruise': 814, 'convention': 746, 'drivers': 1021, 'publicly': 2599, 'lovely': 1942, 'cult': 818, 'deserve': 917, 'importantly': 1654, 'east': 1041, 'pub': 2596, 'yay': 3655, 'irish': 1758, 'unsure': 3424, 'george': 1400, 'capita': 502, 'personnel': 2394, 'humble': 1608, 'woohoo': 3634, 'plain': 2432, 'hesitate': 1536, 'festival': 1275, 'walmart': 3542, 'essex': 1133, 'earn': 1036, 'hint': 1547, 'relax': 2719, 'thankyou': 3259, 'pediatric': 2371, 'asthma': 245, 'dress': 1017, 'smooth': 3024, 'sham': 2934, 'crash': 794, 'anonymous': 157, 'operations': 2271, 'sharp': 2939, 'nerve': 2176, 'tap': 3216, 'button': 474, 'hotel': 1587, 'jam': 1774, 'shake': 2932, 'headache': 1510, 'bottle': 413, 'rural': 2831, 'counties': 772, 'collective': 655, 'direction': 949, 'censor': 543, 'slight': 3011, 'bowie': 417, 'boot': 405, 'smaller': 3017, 'trick': 3362, 'celebrities': 539, 'surgery': 3181, 'brexit': 440, 'pts': 2595, 'exceed': 1167, 'mega': 2024, 'vaccinators': 3463, 'meds': 2022, 'procedure': 2548, 'royal': 2825, 'denmark': 904, 'conflict': 711, 'specialist': 3066, 'wastage': 3554, 'municipal': 2129, 'colorado': 661, 'jerusalem': 1781, 'teacher': 3223, 'hse': 1597, 'victoria': 3503, 'strength': 3130, 'indiana': 1678, 'categories': 527, 'buck': 456, 'admissions': 59, 'cuz': 833, 'gym': 1476, 'odisha': 2244, 'surgeon': 3180, 'teens': 3232, 'choices': 591, 'harford': 1497, 'api': 180, 'vaxxed': 3483, 'elsewhere': 1079, 'mins': 2069, 'invitation': 1753, 'phd': 2410, 'trash': 3352, 'terrorism': 3247, 'location': 1920, 'male': 1970, 'lung': 1949, 'rep': 2737, 'intelligence': 1736, 'lottery': 1939, 'approx': 200, 'myth': 2141, 'thomas': 3272, 'resolve': 2762, 'breastfeed': 436, 'beer': 334, 'specifically': 3068, 'clinics': 626, 'transfer': 3343, 'crew': 800, 'percentages': 2379, 'hospitalization': 1582, 'observation': 2232, 'antivax': 167, 'mainstream': 1963, 'sleeve': 3009, 'restaurant': 2774, 'richard': 2790, 'tennessee': 3241, 'exhaust': 1182, 'yorkers': 3665, 'conspiracies': 727, 'corporation': 759, 'behaviour': 339, 'kidney': 1820, 'brag': 422, 'nazi': 2160, 'southern': 3058, 'failures': 1222, 'immigration': 1641, 'zip': 3676, 'georgia': 1401, 'mill': 2057, 'irreversible': 1761, 'dolly': 995, 'parton': 2351, 'culture': 819, 'outbreaks': 2302, 'viewers': 3509, 'vast': 3478, 'mobile': 2080, 'consignment': 726, 'assistant': 240, 'weather': 3569, 'hydrate': 1615, 'symptom': 3200, 'insult': 1733, 'cars': 519, 'contagious': 735, 'happier': 1490, 'swell': 3196, 'haryana': 1502, 'bonus': 399, 'favorite': 1253, 'doug': 1009, 'roundup': 2822, 'accident': 20, 'hospitalize': 1583, 'shipments': 2950, 'sam': 2850, 'floor': 1309, 'carers': 514, 'gyms': 1477, 'appointments': 193, 'wilson': 3608, 'miami': 2039, 'paint': 2329, 'prince': 2531, 'fatigue': 1249, 'circle': 600, 'arizona': 211, 'stickers': 3111, 'restaurants': 2775, 'wisconsin': 3616, 'text': 3252, 'dramatically': 1014, 'alberta': 102, 'ohio': 2253, 'mountain': 2115, 'cousin': 781, 'desantis': 914, 'nys': 2229, 'normally': 2207, 'valuable': 3470, 'incl': 1665, 'hon': 1565, 'tpr': 3332, 'entitle': 1115, 'fab': 1208, 'activities': 41, 'ellen': 1076, 'cbd': 536, 'lunch': 1948, 'household': 1593, 'clients': 618, 'consult': 732, 'convenient': 745, 'refugees': 2698, 'breast': 435, 'autoimmune': 275, 'violate': 3511, 'educators': 1051, 'bitch': 376, 'indoors': 1686, 'delta': 897, 'library': 1899, 'homeless': 1564, 'recognize': 2678, 'safest': 2843, 'punch': 2604, 'content': 737, 'redbubble': 2688, 'terrorists': 3248, 'fancy': 1234, 'bulletin': 461, 'severely': 2929, 'mat': 1998, 'visitors': 3524, 'infertility': 1696, 'mama': 1973, 'outreach': 2307, 'upload': 3432, 'ape': 179, 'carmel': 515, 'christ': 594, 'dallas': 838, 'anaphylaxis': 143, 'computer': 699, 'allergies': 113, 'palsy': 2331, 'austria': 266, 'soreness': 3051, 'illinois': 1633, 'foggy': 1315, 'veterans': 3496, 'berkeley': 349, 'dinner': 945, 'sms': 3026, 'hcws': 1507, 'ache': 29, 'kiddos': 1819, 'housebound': 1592, 'afterwards': 83, 'disabilities': 953, 'africans': 81, 'faq': 1236, 'poorly': 2470, 'sessions': 2924, 'jag': 1772, 'survivors': 3189, 'acute': 46, 'annoy': 155, 'hollywood': 1561, 'provinces': 2591, 'provincial': 2592, 'cumulative': 821, 'transmissible': 3345, 'champion': 557, 'variants': 3475, 'rough': 2819, 'units': 3412, 'intentionally': 1738, 'quebec': 2618, 'healthier': 1516, 'pregnancy': 2508, 'israeli': 1766, 'ema': 1080, 'coworkers': 791, 'shoutout': 2965, 'jcvi': 1779, 'mutant': 2135, 'smoothly': 3025, 'missouri': 2077, 'unused': 3426, 'beaumont': 329, 'territories': 3246, 'bedford': 333, 'nearest': 2164, 'accomplish': 22, 'faqs': 1237, 'uts': 3449, 'franklin': 1346, 'administrate': 56, 'appt': 201, 'appts': 202, 'venues': 3490, 'noon': 2201, 'cute': 832, 'selfie': 2903, 'nsw': 2221, 'dublin': 1026, 'sindh': 2987, 'thurs': 3289, 'cardiac': 507, 'rabbi': 2630, 'headaches': 1511, 'ontarians': 2265, 'notify': 2215, 'lymph': 1951, 'abduct': 3, 'guilty': 1470, 'albany': 101, 'graphic': 1447, 'nddose': 2161, 'funeral': 1374, 'catherine': 530, 'celebrity': 540, 'teenagers': 3231, 'scammers': 2864, 'chester': 578, 'harder': 1495, 'avenue': 282, 'crescent': 799, 'charlottesville': 566, 'stomach': 3114, 'transmit': 3347, 'advertise': 69, 'riverside': 2804, 'baltimore': 305, 'modification': 2087, 'mall': 1971, 'aaron': 0, 'martin': 1990, 'rosa': 2817, 'seducers': 2895, 'river': 2803, 'slot': 3013, 'lifesaving': 1903, 'pox': 2492, 'unvaccinated': 3427, 'middleton': 2046, 'dispel': 977, 'constituents': 731, 'northern': 2209, 'campus': 488, 'forge': 1331, 'atlanta': 250, 'probe': 2545, 'tylenol': 3387, 'bonita': 398, 'urban': 3437, 'ethnic': 1142, 'ocgn': 2239, 'nausea': 2157, 'stadium': 3084, 'achy': 32, 'apr': 203, 'ryan': 2835, 'connecticut': 719, 'bristol': 448, 'myanmar': 2139, 'comirnaty': 670, 'starve': 3094, 'lane': 1850, 'premium': 2512, 'youngest': 3668, 'rand': 2641, 'angels': 147, 'resistant': 2761, 'incentive': 1663, 'borough': 409, 'cowin': 790, 'columbia': 662, 'redwood': 2693, 'publix': 2601, 'texts': 3253, 'fortis': 1335, 'perry': 2390, 'languages': 1852, 'promo': 2567, 'capitol': 504, 'savannah': 2858, 'bakersfield': 301, 'valentine': 3467, 'oakland': 2230, 'locate': 1919, 'ambassadors': 131, 'columbus': 663, 'khamenei': 1815, 'desert': 916, 'hotline': 1588, 'norfolk': 2203, 'tues': 3376, 'ouchie': 2300, 'inaccurate': 1660, 'carer': 513, 'baldwin': 303, 'richmond': 2791, 'safeways': 2845, 'ferry': 1273, 'govx': 1435, 'arlington': 212, 'montgomery': 2099, 'shortest': 2960, 'forest': 1329, 'danville': 846, 'leisure': 1886, 'vista': 3525, 'portsmouth': 2477, 'jackson': 1771, 'mums': 2128, 'chatham': 570, 'cathedral': 529, 'hospitalise': 1581, 'canyon': 498, 'temecula': 3235, 'periods': 2386, 'beverly': 354, 'newport': 2185, 'inglewood': 1706, 'vaxed': 3480, 'mosque': 2110, 'downey': 1010, 'helpline': 1529, 'clot': 633, 'unborn': 3396, 'plaza': 2441, 'brentwood': 439, 'lancaster': 1846, 'roseville': 2818, 'malone': 1972, 'blvd': 391, 'rite': 2802, 'ashland': 228, 'solano': 3033, 'ave': 281, 'hampton': 1483, 'adolescents': 61, 'clifton': 619, 'chesapeake': 576, 'garde': 1383, 'coachella': 640, 'junta': 1804, 'brawley': 430, 'arcadia': 205, 'arvin': 225, 'carrollton': 517, 'illegals': 1632, 'clarksville': 612, 'abingdon': 5, 'alexandria': 106, 'blacksburg': 380, 'menstrual': 2031, 'thrombosis': 3285, 'poquoson': 2475, 'hanford': 1487, 'azusa': 293, 'chico': 581, 'clovis': 634, 'kingsburg': 1828, 'bellflower': 344, 'alhambra': 107, 'culver': 820, 'artesia': 222, 'anaheim': 141, 'buena': 459, 'segundo': 2900, 'lynwood': 1952, 'gardena': 1385, 'maddie': 1955, 'pincode': 2427, 'emeryville': 1085, 'southgate': 3059, 'arroyo': 220, 'buellton': 458, 'camino': 485, 'shattuck': 2940, 'elk': 1074, 'elkton': 1075, 'ellicott': 1077, 'shoreline': 2956, 'atwater': 258, 'branham': 427, 'blythe': 392, 'adelanto': 52, 'cartersville': 521, 'eureka': 1144, 'pablo': 2321, 'antioch': 166, 'calistoga': 481, 'midvalley': 2048, 'appomattox': 194, 'christiansburg': 596, 'collinsville': 658, 'acworth': 47, 'bowdon': 416, 'maywood': 2009, 'redondo': 2690, 'ests': 1137, 'unvaxxed': 3428, 'eircode': 1063, 'zycov': 3680, 'myocarditis': 2140, 'lanco': 1847, 'magnetic': 1958, 'avaliable': 280, 'garay': 1382, 'pleasurer': 2445, 'htarhtarlin': 1598, 'accucard': 26, 'omicron': 2260}\n"
          ]
        }
      ],
      "source": [
        "print(vec.vocabulary_)"
      ]
    },
    {
      "cell_type": "code",
      "execution_count": 26,
      "metadata": {
        "colab": {
          "base_uri": "https://localhost:8080/",
          "height": 363
        },
        "id": "AmQ68-AntLgQ",
        "outputId": "0df37a65-a43d-45b2-89f1-2b79ddef8a99"
      },
      "outputs": [
        {
          "output_type": "execute_result",
          "data": {
            "text/plain": [
              "   democrats  demonstrate  dems  deniers  denmark  dental  deny  department  \\\n",
              "0        0.0          0.0   0.0      0.0      0.0     0.0   0.0         0.0   \n",
              "1        0.0          0.0   0.0      0.0      0.0     0.0   0.0         0.0   \n",
              "2        0.0          0.0   0.0      0.0      0.0     0.0   0.0         0.0   \n",
              "3        0.0          0.0   0.0      0.0      0.0     0.0   0.0         0.0   \n",
              "4        0.0          0.0   0.0      0.0      0.0     0.0   0.0         0.0   \n",
              "5        0.0          0.0   0.0      0.0      0.0     0.0   0.0         0.0   \n",
              "6        0.0          0.0   0.0      0.0      0.0     0.0   0.0         0.0   \n",
              "7        0.0          0.0   0.0      0.0      0.0     0.0   0.0         0.0   \n",
              "8        0.0          0.0   0.0      0.0      0.0     0.0   0.0         0.0   \n",
              "9        0.0          0.0   0.0      0.0      0.0     0.0   0.0         0.0   \n",
              "\n",
              "   depend  dependent  deploy  deployment  dept  deputy  desantis  describe  \\\n",
              "0     0.0        0.0     0.0         0.0   0.0     0.0       0.0       0.0   \n",
              "1     0.0        0.0     0.0         0.0   0.0     0.0       0.0       0.0   \n",
              "2     0.0        0.0     0.0         0.0   0.0     0.0       0.0       0.0   \n",
              "3     0.0        0.0     0.0         0.0   0.0     0.0       0.0       0.0   \n",
              "4     0.0        0.0     0.0         0.0   0.0     0.0       0.0       0.0   \n",
              "5     0.0        0.0     0.0         0.0   0.0     0.0       0.0       0.0   \n",
              "6     0.0        0.0     0.0         0.0   0.0     0.0       0.0       0.0   \n",
              "7     0.0        0.0     0.0         0.0   0.0     0.0       0.0       0.0   \n",
              "8     0.0        0.0     0.0         0.0   0.0     0.0       0.0       0.0   \n",
              "9     0.0        0.0     0.0         0.0   0.0     0.0       0.0       0.0   \n",
              "\n",
              "   desert  deserve  design  desperate  \n",
              "0     0.0      0.0     0.0        0.0  \n",
              "1     0.0      0.0     0.0        0.0  \n",
              "2     0.0      0.0     0.0        0.0  \n",
              "3     0.0      0.0     0.0        0.0  \n",
              "4     0.0      0.0     0.0        0.0  \n",
              "5     0.0      0.0     0.0        0.0  \n",
              "6     0.0      0.0     0.0        0.0  \n",
              "7     0.0      0.0     0.0        0.0  \n",
              "8     0.0      0.0     0.0        0.0  \n",
              "9     0.0      0.0     0.0        0.0  "
            ],
            "text/html": [
              "\n",
              "  <div id=\"df-8556635e-8af7-40ef-96c7-21913fe8fc21\">\n",
              "    <div class=\"colab-df-container\">\n",
              "      <div>\n",
              "<style scoped>\n",
              "    .dataframe tbody tr th:only-of-type {\n",
              "        vertical-align: middle;\n",
              "    }\n",
              "\n",
              "    .dataframe tbody tr th {\n",
              "        vertical-align: top;\n",
              "    }\n",
              "\n",
              "    .dataframe thead th {\n",
              "        text-align: right;\n",
              "    }\n",
              "</style>\n",
              "<table border=\"1\" class=\"dataframe\">\n",
              "  <thead>\n",
              "    <tr style=\"text-align: right;\">\n",
              "      <th></th>\n",
              "      <th>democrats</th>\n",
              "      <th>demonstrate</th>\n",
              "      <th>dems</th>\n",
              "      <th>deniers</th>\n",
              "      <th>denmark</th>\n",
              "      <th>dental</th>\n",
              "      <th>deny</th>\n",
              "      <th>department</th>\n",
              "      <th>depend</th>\n",
              "      <th>dependent</th>\n",
              "      <th>deploy</th>\n",
              "      <th>deployment</th>\n",
              "      <th>dept</th>\n",
              "      <th>deputy</th>\n",
              "      <th>desantis</th>\n",
              "      <th>describe</th>\n",
              "      <th>desert</th>\n",
              "      <th>deserve</th>\n",
              "      <th>design</th>\n",
              "      <th>desperate</th>\n",
              "    </tr>\n",
              "  </thead>\n",
              "  <tbody>\n",
              "    <tr>\n",
              "      <th>0</th>\n",
              "      <td>0.0</td>\n",
              "      <td>0.0</td>\n",
              "      <td>0.0</td>\n",
              "      <td>0.0</td>\n",
              "      <td>0.0</td>\n",
              "      <td>0.0</td>\n",
              "      <td>0.0</td>\n",
              "      <td>0.0</td>\n",
              "      <td>0.0</td>\n",
              "      <td>0.0</td>\n",
              "      <td>0.0</td>\n",
              "      <td>0.0</td>\n",
              "      <td>0.0</td>\n",
              "      <td>0.0</td>\n",
              "      <td>0.0</td>\n",
              "      <td>0.0</td>\n",
              "      <td>0.0</td>\n",
              "      <td>0.0</td>\n",
              "      <td>0.0</td>\n",
              "      <td>0.0</td>\n",
              "    </tr>\n",
              "    <tr>\n",
              "      <th>1</th>\n",
              "      <td>0.0</td>\n",
              "      <td>0.0</td>\n",
              "      <td>0.0</td>\n",
              "      <td>0.0</td>\n",
              "      <td>0.0</td>\n",
              "      <td>0.0</td>\n",
              "      <td>0.0</td>\n",
              "      <td>0.0</td>\n",
              "      <td>0.0</td>\n",
              "      <td>0.0</td>\n",
              "      <td>0.0</td>\n",
              "      <td>0.0</td>\n",
              "      <td>0.0</td>\n",
              "      <td>0.0</td>\n",
              "      <td>0.0</td>\n",
              "      <td>0.0</td>\n",
              "      <td>0.0</td>\n",
              "      <td>0.0</td>\n",
              "      <td>0.0</td>\n",
              "      <td>0.0</td>\n",
              "    </tr>\n",
              "    <tr>\n",
              "      <th>2</th>\n",
              "      <td>0.0</td>\n",
              "      <td>0.0</td>\n",
              "      <td>0.0</td>\n",
              "      <td>0.0</td>\n",
              "      <td>0.0</td>\n",
              "      <td>0.0</td>\n",
              "      <td>0.0</td>\n",
              "      <td>0.0</td>\n",
              "      <td>0.0</td>\n",
              "      <td>0.0</td>\n",
              "      <td>0.0</td>\n",
              "      <td>0.0</td>\n",
              "      <td>0.0</td>\n",
              "      <td>0.0</td>\n",
              "      <td>0.0</td>\n",
              "      <td>0.0</td>\n",
              "      <td>0.0</td>\n",
              "      <td>0.0</td>\n",
              "      <td>0.0</td>\n",
              "      <td>0.0</td>\n",
              "    </tr>\n",
              "    <tr>\n",
              "      <th>3</th>\n",
              "      <td>0.0</td>\n",
              "      <td>0.0</td>\n",
              "      <td>0.0</td>\n",
              "      <td>0.0</td>\n",
              "      <td>0.0</td>\n",
              "      <td>0.0</td>\n",
              "      <td>0.0</td>\n",
              "      <td>0.0</td>\n",
              "      <td>0.0</td>\n",
              "      <td>0.0</td>\n",
              "      <td>0.0</td>\n",
              "      <td>0.0</td>\n",
              "      <td>0.0</td>\n",
              "      <td>0.0</td>\n",
              "      <td>0.0</td>\n",
              "      <td>0.0</td>\n",
              "      <td>0.0</td>\n",
              "      <td>0.0</td>\n",
              "      <td>0.0</td>\n",
              "      <td>0.0</td>\n",
              "    </tr>\n",
              "    <tr>\n",
              "      <th>4</th>\n",
              "      <td>0.0</td>\n",
              "      <td>0.0</td>\n",
              "      <td>0.0</td>\n",
              "      <td>0.0</td>\n",
              "      <td>0.0</td>\n",
              "      <td>0.0</td>\n",
              "      <td>0.0</td>\n",
              "      <td>0.0</td>\n",
              "      <td>0.0</td>\n",
              "      <td>0.0</td>\n",
              "      <td>0.0</td>\n",
              "      <td>0.0</td>\n",
              "      <td>0.0</td>\n",
              "      <td>0.0</td>\n",
              "      <td>0.0</td>\n",
              "      <td>0.0</td>\n",
              "      <td>0.0</td>\n",
              "      <td>0.0</td>\n",
              "      <td>0.0</td>\n",
              "      <td>0.0</td>\n",
              "    </tr>\n",
              "    <tr>\n",
              "      <th>5</th>\n",
              "      <td>0.0</td>\n",
              "      <td>0.0</td>\n",
              "      <td>0.0</td>\n",
              "      <td>0.0</td>\n",
              "      <td>0.0</td>\n",
              "      <td>0.0</td>\n",
              "      <td>0.0</td>\n",
              "      <td>0.0</td>\n",
              "      <td>0.0</td>\n",
              "      <td>0.0</td>\n",
              "      <td>0.0</td>\n",
              "      <td>0.0</td>\n",
              "      <td>0.0</td>\n",
              "      <td>0.0</td>\n",
              "      <td>0.0</td>\n",
              "      <td>0.0</td>\n",
              "      <td>0.0</td>\n",
              "      <td>0.0</td>\n",
              "      <td>0.0</td>\n",
              "      <td>0.0</td>\n",
              "    </tr>\n",
              "    <tr>\n",
              "      <th>6</th>\n",
              "      <td>0.0</td>\n",
              "      <td>0.0</td>\n",
              "      <td>0.0</td>\n",
              "      <td>0.0</td>\n",
              "      <td>0.0</td>\n",
              "      <td>0.0</td>\n",
              "      <td>0.0</td>\n",
              "      <td>0.0</td>\n",
              "      <td>0.0</td>\n",
              "      <td>0.0</td>\n",
              "      <td>0.0</td>\n",
              "      <td>0.0</td>\n",
              "      <td>0.0</td>\n",
              "      <td>0.0</td>\n",
              "      <td>0.0</td>\n",
              "      <td>0.0</td>\n",
              "      <td>0.0</td>\n",
              "      <td>0.0</td>\n",
              "      <td>0.0</td>\n",
              "      <td>0.0</td>\n",
              "    </tr>\n",
              "    <tr>\n",
              "      <th>7</th>\n",
              "      <td>0.0</td>\n",
              "      <td>0.0</td>\n",
              "      <td>0.0</td>\n",
              "      <td>0.0</td>\n",
              "      <td>0.0</td>\n",
              "      <td>0.0</td>\n",
              "      <td>0.0</td>\n",
              "      <td>0.0</td>\n",
              "      <td>0.0</td>\n",
              "      <td>0.0</td>\n",
              "      <td>0.0</td>\n",
              "      <td>0.0</td>\n",
              "      <td>0.0</td>\n",
              "      <td>0.0</td>\n",
              "      <td>0.0</td>\n",
              "      <td>0.0</td>\n",
              "      <td>0.0</td>\n",
              "      <td>0.0</td>\n",
              "      <td>0.0</td>\n",
              "      <td>0.0</td>\n",
              "    </tr>\n",
              "    <tr>\n",
              "      <th>8</th>\n",
              "      <td>0.0</td>\n",
              "      <td>0.0</td>\n",
              "      <td>0.0</td>\n",
              "      <td>0.0</td>\n",
              "      <td>0.0</td>\n",
              "      <td>0.0</td>\n",
              "      <td>0.0</td>\n",
              "      <td>0.0</td>\n",
              "      <td>0.0</td>\n",
              "      <td>0.0</td>\n",
              "      <td>0.0</td>\n",
              "      <td>0.0</td>\n",
              "      <td>0.0</td>\n",
              "      <td>0.0</td>\n",
              "      <td>0.0</td>\n",
              "      <td>0.0</td>\n",
              "      <td>0.0</td>\n",
              "      <td>0.0</td>\n",
              "      <td>0.0</td>\n",
              "      <td>0.0</td>\n",
              "    </tr>\n",
              "    <tr>\n",
              "      <th>9</th>\n",
              "      <td>0.0</td>\n",
              "      <td>0.0</td>\n",
              "      <td>0.0</td>\n",
              "      <td>0.0</td>\n",
              "      <td>0.0</td>\n",
              "      <td>0.0</td>\n",
              "      <td>0.0</td>\n",
              "      <td>0.0</td>\n",
              "      <td>0.0</td>\n",
              "      <td>0.0</td>\n",
              "      <td>0.0</td>\n",
              "      <td>0.0</td>\n",
              "      <td>0.0</td>\n",
              "      <td>0.0</td>\n",
              "      <td>0.0</td>\n",
              "      <td>0.0</td>\n",
              "      <td>0.0</td>\n",
              "      <td>0.0</td>\n",
              "      <td>0.0</td>\n",
              "      <td>0.0</td>\n",
              "    </tr>\n",
              "  </tbody>\n",
              "</table>\n",
              "</div>\n",
              "      <button class=\"colab-df-convert\" onclick=\"convertToInteractive('df-8556635e-8af7-40ef-96c7-21913fe8fc21')\"\n",
              "              title=\"Convert this dataframe to an interactive table.\"\n",
              "              style=\"display:none;\">\n",
              "        \n",
              "  <svg xmlns=\"http://www.w3.org/2000/svg\" height=\"24px\"viewBox=\"0 0 24 24\"\n",
              "       width=\"24px\">\n",
              "    <path d=\"M0 0h24v24H0V0z\" fill=\"none\"/>\n",
              "    <path d=\"M18.56 5.44l.94 2.06.94-2.06 2.06-.94-2.06-.94-.94-2.06-.94 2.06-2.06.94zm-11 1L8.5 8.5l.94-2.06 2.06-.94-2.06-.94L8.5 2.5l-.94 2.06-2.06.94zm10 10l.94 2.06.94-2.06 2.06-.94-2.06-.94-.94-2.06-.94 2.06-2.06.94z\"/><path d=\"M17.41 7.96l-1.37-1.37c-.4-.4-.92-.59-1.43-.59-.52 0-1.04.2-1.43.59L10.3 9.45l-7.72 7.72c-.78.78-.78 2.05 0 2.83L4 21.41c.39.39.9.59 1.41.59.51 0 1.02-.2 1.41-.59l7.78-7.78 2.81-2.81c.8-.78.8-2.07 0-2.86zM5.41 20L4 18.59l7.72-7.72 1.47 1.35L5.41 20z\"/>\n",
              "  </svg>\n",
              "      </button>\n",
              "      \n",
              "  <style>\n",
              "    .colab-df-container {\n",
              "      display:flex;\n",
              "      flex-wrap:wrap;\n",
              "      gap: 12px;\n",
              "    }\n",
              "\n",
              "    .colab-df-convert {\n",
              "      background-color: #E8F0FE;\n",
              "      border: none;\n",
              "      border-radius: 50%;\n",
              "      cursor: pointer;\n",
              "      display: none;\n",
              "      fill: #1967D2;\n",
              "      height: 32px;\n",
              "      padding: 0 0 0 0;\n",
              "      width: 32px;\n",
              "    }\n",
              "\n",
              "    .colab-df-convert:hover {\n",
              "      background-color: #E2EBFA;\n",
              "      box-shadow: 0px 1px 2px rgba(60, 64, 67, 0.3), 0px 1px 3px 1px rgba(60, 64, 67, 0.15);\n",
              "      fill: #174EA6;\n",
              "    }\n",
              "\n",
              "    [theme=dark] .colab-df-convert {\n",
              "      background-color: #3B4455;\n",
              "      fill: #D2E3FC;\n",
              "    }\n",
              "\n",
              "    [theme=dark] .colab-df-convert:hover {\n",
              "      background-color: #434B5C;\n",
              "      box-shadow: 0px 1px 3px 1px rgba(0, 0, 0, 0.15);\n",
              "      filter: drop-shadow(0px 1px 2px rgba(0, 0, 0, 0.3));\n",
              "      fill: #FFFFFF;\n",
              "    }\n",
              "  </style>\n",
              "\n",
              "      <script>\n",
              "        const buttonEl =\n",
              "          document.querySelector('#df-8556635e-8af7-40ef-96c7-21913fe8fc21 button.colab-df-convert');\n",
              "        buttonEl.style.display =\n",
              "          google.colab.kernel.accessAllowed ? 'block' : 'none';\n",
              "\n",
              "        async function convertToInteractive(key) {\n",
              "          const element = document.querySelector('#df-8556635e-8af7-40ef-96c7-21913fe8fc21');\n",
              "          const dataTable =\n",
              "            await google.colab.kernel.invokeFunction('convertToInteractive',\n",
              "                                                     [key], {});\n",
              "          if (!dataTable) return;\n",
              "\n",
              "          const docLinkHtml = 'Like what you see? Visit the ' +\n",
              "            '<a target=\"_blank\" href=https://colab.research.google.com/notebooks/data_table.ipynb>data table notebook</a>'\n",
              "            + ' to learn more about interactive tables.';\n",
              "          element.innerHTML = '';\n",
              "          dataTable['output_type'] = 'display_data';\n",
              "          await google.colab.output.renderOutput(dataTable, element);\n",
              "          const docLink = document.createElement('div');\n",
              "          docLink.innerHTML = docLinkHtml;\n",
              "          element.appendChild(docLink);\n",
              "        }\n",
              "      </script>\n",
              "    </div>\n",
              "  </div>\n",
              "  "
            ]
          },
          "metadata": {},
          "execution_count": 26
        }
      ],
      "source": [
        "(pd.DataFrame(tfidf_matrix[:10].todense(),\n",
        "              columns=[x for x in vec.get_feature_names()])\n",
        " # experiment by choosing any range of feature indices (alphabetical order)\n",
        " .iloc[:,900:920])"
      ]
    },
    {
      "cell_type": "markdown",
      "source": [
        "## Encode Sentences using the Sentence Transformer"
      ],
      "metadata": {
        "id": "U1XO5x_imBig"
      }
    },
    {
      "cell_type": "code",
      "source": [
        "!pip install sentence_transformers"
      ],
      "metadata": {
        "colab": {
          "base_uri": "https://localhost:8080/"
        },
        "id": "280-enNZWwRs",
        "outputId": "a275f3da-aa7f-4b37-94ff-0f04e2ce0b4e"
      },
      "execution_count": 27,
      "outputs": [
        {
          "output_type": "stream",
          "name": "stdout",
          "text": [
            "Requirement already satisfied: sentence_transformers in /usr/local/lib/python3.7/dist-packages (2.2.0)\n",
            "Requirement already satisfied: tqdm in /usr/local/lib/python3.7/dist-packages (from sentence_transformers) (4.63.0)\n",
            "Requirement already satisfied: sentencepiece in /usr/local/lib/python3.7/dist-packages (from sentence_transformers) (0.1.96)\n",
            "Requirement already satisfied: huggingface-hub in /usr/local/lib/python3.7/dist-packages (from sentence_transformers) (0.4.0)\n",
            "Requirement already satisfied: numpy in /usr/local/lib/python3.7/dist-packages (from sentence_transformers) (1.21.5)\n",
            "Requirement already satisfied: scikit-learn in /usr/local/lib/python3.7/dist-packages (from sentence_transformers) (1.0.2)\n",
            "Requirement already satisfied: torchvision in /usr/local/lib/python3.7/dist-packages (from sentence_transformers) (0.11.1+cu111)\n",
            "Requirement already satisfied: scipy in /usr/local/lib/python3.7/dist-packages (from sentence_transformers) (1.4.1)\n",
            "Requirement already satisfied: transformers<5.0.0,>=4.6.0 in /usr/local/lib/python3.7/dist-packages (from sentence_transformers) (4.17.0)\n",
            "Requirement already satisfied: torch>=1.6.0 in /usr/local/lib/python3.7/dist-packages (from sentence_transformers) (1.10.0+cu111)\n",
            "Requirement already satisfied: nltk in /usr/local/lib/python3.7/dist-packages (from sentence_transformers) (3.2.5)\n",
            "Requirement already satisfied: typing-extensions in /usr/local/lib/python3.7/dist-packages (from torch>=1.6.0->sentence_transformers) (3.10.0.2)\n",
            "Requirement already satisfied: regex!=2019.12.17 in /usr/local/lib/python3.7/dist-packages (from transformers<5.0.0,>=4.6.0->sentence_transformers) (2019.12.20)\n",
            "Requirement already satisfied: tokenizers!=0.11.3,>=0.11.1 in /usr/local/lib/python3.7/dist-packages (from transformers<5.0.0,>=4.6.0->sentence_transformers) (0.11.6)\n",
            "Requirement already satisfied: requests in /usr/local/lib/python3.7/dist-packages (from transformers<5.0.0,>=4.6.0->sentence_transformers) (2.23.0)\n",
            "Requirement already satisfied: packaging>=20.0 in /usr/local/lib/python3.7/dist-packages (from transformers<5.0.0,>=4.6.0->sentence_transformers) (21.3)\n",
            "Requirement already satisfied: importlib-metadata in /usr/local/lib/python3.7/dist-packages (from transformers<5.0.0,>=4.6.0->sentence_transformers) (4.11.2)\n",
            "Requirement already satisfied: pyyaml>=5.1 in /usr/local/lib/python3.7/dist-packages (from transformers<5.0.0,>=4.6.0->sentence_transformers) (6.0)\n",
            "Requirement already satisfied: sacremoses in /usr/local/lib/python3.7/dist-packages (from transformers<5.0.0,>=4.6.0->sentence_transformers) (0.0.47)\n",
            "Requirement already satisfied: filelock in /usr/local/lib/python3.7/dist-packages (from transformers<5.0.0,>=4.6.0->sentence_transformers) (3.6.0)\n",
            "Requirement already satisfied: pyparsing!=3.0.5,>=2.0.2 in /usr/local/lib/python3.7/dist-packages (from packaging>=20.0->transformers<5.0.0,>=4.6.0->sentence_transformers) (3.0.7)\n",
            "Requirement already satisfied: zipp>=0.5 in /usr/local/lib/python3.7/dist-packages (from importlib-metadata->transformers<5.0.0,>=4.6.0->sentence_transformers) (3.7.0)\n",
            "Requirement already satisfied: six in /usr/local/lib/python3.7/dist-packages (from nltk->sentence_transformers) (1.15.0)\n",
            "Requirement already satisfied: certifi>=2017.4.17 in /usr/local/lib/python3.7/dist-packages (from requests->transformers<5.0.0,>=4.6.0->sentence_transformers) (2021.10.8)\n",
            "Requirement already satisfied: idna<3,>=2.5 in /usr/local/lib/python3.7/dist-packages (from requests->transformers<5.0.0,>=4.6.0->sentence_transformers) (2.10)\n",
            "Requirement already satisfied: urllib3!=1.25.0,!=1.25.1,<1.26,>=1.21.1 in /usr/local/lib/python3.7/dist-packages (from requests->transformers<5.0.0,>=4.6.0->sentence_transformers) (1.24.3)\n",
            "Requirement already satisfied: chardet<4,>=3.0.2 in /usr/local/lib/python3.7/dist-packages (from requests->transformers<5.0.0,>=4.6.0->sentence_transformers) (3.0.4)\n",
            "Requirement already satisfied: click in /usr/local/lib/python3.7/dist-packages (from sacremoses->transformers<5.0.0,>=4.6.0->sentence_transformers) (7.1.2)\n",
            "Requirement already satisfied: joblib in /usr/local/lib/python3.7/dist-packages (from sacremoses->transformers<5.0.0,>=4.6.0->sentence_transformers) (1.1.0)\n",
            "Requirement already satisfied: threadpoolctl>=2.0.0 in /usr/local/lib/python3.7/dist-packages (from scikit-learn->sentence_transformers) (3.1.0)\n",
            "Requirement already satisfied: pillow!=8.3.0,>=5.3.0 in /usr/local/lib/python3.7/dist-packages (from torchvision->sentence_transformers) (7.1.2)\n"
          ]
        }
      ]
    },
    {
      "cell_type": "code",
      "source": [
        "data = df['tweet'].values.tolist()"
      ],
      "metadata": {
        "id": "n9VOswQQbNDv"
      },
      "execution_count": 28,
      "outputs": []
    },
    {
      "cell_type": "code",
      "source": [
        "import sentence_transformers\n",
        "from sentence_transformers import SentenceTransformer"
      ],
      "metadata": {
        "id": "INN8NhoNb0fz"
      },
      "execution_count": 29,
      "outputs": []
    },
    {
      "cell_type": "code",
      "metadata": {
        "colab": {
          "base_uri": "https://localhost:8080/",
          "height": 49,
          "referenced_widgets": [
            "253280c7232a47ffb448ac7f12fcfc68",
            "de5992572bcb4dd5b32515739c365306",
            "9f5facf3fb58419caab1a52b46b1b88c",
            "1873eea98a744fde9c623e48a7ece199",
            "61764800b6734e25bb48de05e16e84be",
            "4df62e810c4449b1b2c81ac51849eab3",
            "02db9edea4f040b1aca6783b1f1c37e5",
            "0b49508d9d354e70865f414d1d321389",
            "e0d819d420b84a168cc9f2ffada8260b",
            "1c9f26ad12364827a519f71be6926168",
            "44d2c210d6a44f14ada626647e145d65"
          ]
        },
        "id": "-vJivMOdohGS",
        "outputId": "64457107-a79e-4d65-ec35-c5ea62c8780a"
      },
      "source": [
        "# Load sentence transformer model\n",
        "sentence_model = SentenceTransformer(\"all-roberta-large-v1\") #roberta-base-nli-stsb-mean-tokens  bert-large-nli-mean-tokens\n",
        "\n",
        "# Create documents embeddings\n",
        "embeddings = sentence_model.encode(data, show_progress_bar=True)"
      ],
      "execution_count": 30,
      "outputs": [
        {
          "output_type": "display_data",
          "data": {
            "text/plain": [
              "Batches:   0%|          | 0/11519 [00:00<?, ?it/s]"
            ],
            "application/vnd.jupyter.widget-view+json": {
              "version_major": 2,
              "version_minor": 0,
              "model_id": "253280c7232a47ffb448ac7f12fcfc68"
            }
          },
          "metadata": {}
        }
      ]
    },
    {
      "cell_type": "code",
      "metadata": {
        "colab": {
          "base_uri": "https://localhost:8080/"
        },
        "id": "4mBSyxX-2utH",
        "outputId": "f58a9e4d-ea9a-4c68-af62-1c92e0ff46c1"
      },
      "source": [
        "embeddings.shape"
      ],
      "execution_count": 31,
      "outputs": [
        {
          "output_type": "execute_result",
          "data": {
            "text/plain": [
              "(368588, 1024)"
            ]
          },
          "metadata": {},
          "execution_count": 31
        }
      ]
    },
    {
      "cell_type": "code",
      "execution_count": 32,
      "metadata": {
        "id": "YsApns1r7Jz0"
      },
      "outputs": [],
      "source": [
        "from sklearn.model_selection import train_test_split\n",
        "X = embeddings\n",
        "X_train, X_test = train_test_split(X, test_size=0.2, random_state=42)"
      ]
    },
    {
      "cell_type": "code",
      "execution_count": 33,
      "metadata": {
        "colab": {
          "base_uri": "https://localhost:8080/"
        },
        "id": "E26-dPQflUB2",
        "outputId": "8301b61b-a2e8-4a61-9a64-1e77aa4847d9"
      },
      "outputs": [
        {
          "output_type": "stream",
          "name": "stdout",
          "text": [
            "(294870, 1024)\n",
            "(73718, 1024)\n"
          ]
        },
        {
          "output_type": "execute_result",
          "data": {
            "text/plain": [
              "(None, None)"
            ]
          },
          "metadata": {},
          "execution_count": 33
        }
      ],
      "source": [
        "print(X_train.shape), print(X_test.shape)"
      ]
    },
    {
      "cell_type": "markdown",
      "source": [
        "## Build and Train the AutoEncoder Model"
      ],
      "metadata": {
        "id": "FtBAaCJ3mYOR"
      }
    },
    {
      "cell_type": "code",
      "execution_count": 34,
      "metadata": {
        "id": "ORe2XkOZ820w"
      },
      "outputs": [],
      "source": [
        "from keras.layers import Dense, Input\n",
        "from keras.models import Model\n",
        "from keras.models import load_model\n",
        "from keras.callbacks import ModelCheckpoint\n",
        "from keras.callbacks import EarlyStopping\n",
        "from datetime import datetime"
      ]
    },
    {
      "cell_type": "code",
      "execution_count": 35,
      "metadata": {
        "id": "-qH1dP0xWAU6"
      },
      "outputs": [],
      "source": [
        "def get_autoencoder(dims, act='relu'):\n",
        "    n_stacks = len(dims) - 1\n",
        "    x = Input(shape=(dims[0],), name='input')\n",
        "\n",
        "    h = x\n",
        "    for i in range(n_stacks - 1):\n",
        "        h = Dense(dims[i + 1], activation=act, name='encoder_%d' % i)(h)\n",
        "\n",
        "    h = Dense(dims[-1], name='encoder_%d' % (n_stacks - 1))(h)\n",
        "    for i in range(n_stacks - 1, 0, -1):\n",
        "        h = Dense(dims[i], activation=act, name='decoder_%d' % i)(h)\n",
        "\n",
        "    h = Dense(dims[0], name='decoder_0')(h)\n",
        "\n",
        "    model = Model(inputs=x, outputs=h)\n",
        "    model.summary()\n",
        "    return model"
      ]
    },
    {
      "cell_type": "code",
      "execution_count": 36,
      "metadata": {
        "colab": {
          "base_uri": "https://localhost:8080/"
        },
        "id": "_1fH3kKf7nZ5",
        "outputId": "b8f3d68c-edc1-41d7-acb2-8dfbab158e71"
      },
      "outputs": [
        {
          "output_type": "stream",
          "name": "stdout",
          "text": [
            "[1024, 1536, 2024, 100]\n",
            "Model: \"model\"\n",
            "_________________________________________________________________\n",
            " Layer (type)                Output Shape              Param #   \n",
            "=================================================================\n",
            " input (InputLayer)          [(None, 1024)]            0         \n",
            "                                                                 \n",
            " encoder_0 (Dense)           (None, 1536)              1574400   \n",
            "                                                                 \n",
            " encoder_1 (Dense)           (None, 2024)              3110888   \n",
            "                                                                 \n",
            " encoder_2 (Dense)           (None, 100)               202500    \n",
            "                                                                 \n",
            " decoder_2 (Dense)           (None, 2024)              204424    \n",
            "                                                                 \n",
            " decoder_1 (Dense)           (None, 1536)              3110400   \n",
            "                                                                 \n",
            " decoder_0 (Dense)           (None, 1024)              1573888   \n",
            "                                                                 \n",
            "=================================================================\n",
            "Total params: 9,776,500\n",
            "Trainable params: 9,776,500\n",
            "Non-trainable params: 0\n",
            "_________________________________________________________________\n"
          ]
        }
      ],
      "source": [
        "batch_size = 256\n",
        "pretrain_epochs = 512\n",
        "encoded_dimensions = 100\n",
        "shape = [X.shape[-1], 1536, 2024, encoded_dimensions]\n",
        "\n",
        "print(shape)\n",
        "\n",
        "autoencoder = get_autoencoder(shape)"
      ]
    },
    {
      "cell_type": "code",
      "execution_count": 37,
      "metadata": {
        "colab": {
          "base_uri": "https://localhost:8080/"
        },
        "id": "a88ZqTfz860Q",
        "outputId": "e1edfa76-9214-4fe1-dee7-167118055f3c"
      },
      "outputs": [
        {
          "output_type": "stream",
          "name": "stdout",
          "text": [
            "taking the last encoder layer:encoder_2\n"
          ]
        }
      ],
      "source": [
        "encoded_layer = f'encoder_{(len(shape) - 2)}'\n",
        "\n",
        "print(f'taking the last encoder layer:{encoded_layer}')\n",
        "\n",
        "hidden_encoder_layer = autoencoder.get_layer(name=encoded_layer).output\n",
        "encoder = Model(inputs=autoencoder.input, outputs=hidden_encoder_layer)\n",
        "autoencoder.compile(loss='mse', optimizer='adam')"
      ]
    },
    {
      "cell_type": "code",
      "execution_count": 38,
      "metadata": {
        "colab": {
          "base_uri": "https://localhost:8080/"
        },
        "id": "WU4_Cjv_9CkV",
        "outputId": "2745c859-b3ac-44d6-a8b8-00f409d79c01"
      },
      "outputs": [
        {
          "output_type": "stream",
          "name": "stdout",
          "text": [
            "Epoch 1/512\n",
            "1152/1152 [==============================] - 10s 8ms/step - loss: 3.2101e-04 - val_loss: 2.3780e-04\n",
            "Epoch 2/512\n",
            "1152/1152 [==============================] - 9s 8ms/step - loss: 2.1823e-04 - val_loss: 2.0434e-04\n",
            "Epoch 3/512\n",
            "1152/1152 [==============================] - 9s 8ms/step - loss: 1.9244e-04 - val_loss: 1.8552e-04\n",
            "Epoch 4/512\n",
            "1152/1152 [==============================] - 9s 8ms/step - loss: 1.7774e-04 - val_loss: 1.7484e-04\n",
            "Epoch 5/512\n",
            "1152/1152 [==============================] - 9s 8ms/step - loss: 1.6826e-04 - val_loss: 1.6628e-04\n",
            "Epoch 6/512\n",
            "1152/1152 [==============================] - 9s 8ms/step - loss: 1.6126e-04 - val_loss: 1.6174e-04\n",
            "Epoch 7/512\n",
            "1152/1152 [==============================] - 9s 8ms/step - loss: 1.5592e-04 - val_loss: 1.5716e-04\n",
            "Epoch 8/512\n",
            "1152/1152 [==============================] - 9s 8ms/step - loss: 1.5177e-04 - val_loss: 1.5467e-04\n",
            "Epoch 9/512\n",
            "1152/1152 [==============================] - 9s 8ms/step - loss: 1.4815e-04 - val_loss: 1.5080e-04\n",
            "Epoch 10/512\n",
            "1152/1152 [==============================] - 9s 8ms/step - loss: 1.4520e-04 - val_loss: 1.4880e-04\n",
            "Epoch 11/512\n",
            "1152/1152 [==============================] - 9s 8ms/step - loss: 1.4268e-04 - val_loss: 1.4633e-04\n",
            "Epoch 12/512\n",
            "1152/1152 [==============================] - 9s 8ms/step - loss: 1.4056e-04 - val_loss: 1.4477e-04\n",
            "Epoch 13/512\n",
            "1152/1152 [==============================] - 9s 8ms/step - loss: 1.3859e-04 - val_loss: 1.4289e-04\n",
            "Epoch 14/512\n",
            "1152/1152 [==============================] - 9s 8ms/step - loss: 1.3686e-04 - val_loss: 1.4170e-04\n",
            "Epoch 15/512\n",
            "1152/1152 [==============================] - 9s 8ms/step - loss: 1.3535e-04 - val_loss: 1.3990e-04\n",
            "Epoch 16/512\n",
            "1152/1152 [==============================] - 9s 8ms/step - loss: 1.3391e-04 - val_loss: 1.3893e-04\n",
            "Epoch 17/512\n",
            "1152/1152 [==============================] - 9s 8ms/step - loss: 1.3272e-04 - val_loss: 1.3804e-04\n",
            "Epoch 18/512\n",
            "1152/1152 [==============================] - 9s 8ms/step - loss: 1.3150e-04 - val_loss: 1.3735e-04\n",
            "Epoch 19/512\n",
            "1152/1152 [==============================] - 9s 8ms/step - loss: 1.3047e-04 - val_loss: 1.3581e-04\n",
            "Epoch 20/512\n",
            "1152/1152 [==============================] - 9s 8ms/step - loss: 1.2939e-04 - val_loss: 1.3543e-04\n",
            "Epoch 21/512\n",
            "1152/1152 [==============================] - 9s 8ms/step - loss: 1.2846e-04 - val_loss: 1.3475e-04\n",
            "Epoch 22/512\n",
            "1152/1152 [==============================] - 9s 8ms/step - loss: 1.2757e-04 - val_loss: 1.3444e-04\n",
            "Epoch 23/512\n",
            "1152/1152 [==============================] - 9s 8ms/step - loss: 1.2681e-04 - val_loss: 1.3291e-04\n",
            "Epoch 24/512\n",
            "1152/1152 [==============================] - 9s 8ms/step - loss: 1.2600e-04 - val_loss: 1.3277e-04\n",
            "Epoch 25/512\n",
            "1152/1152 [==============================] - 9s 8ms/step - loss: 1.2532e-04 - val_loss: 1.3282e-04\n",
            "Epoch 26/512\n",
            "1152/1152 [==============================] - 9s 8ms/step - loss: 1.2463e-04 - val_loss: 1.3126e-04\n",
            "Epoch 27/512\n",
            "1152/1152 [==============================] - 9s 8ms/step - loss: 1.2393e-04 - val_loss: 1.3181e-04\n",
            "Epoch 28/512\n",
            "1152/1152 [==============================] - 9s 8ms/step - loss: 1.2327e-04 - val_loss: 1.3070e-04\n",
            "Epoch 29/512\n",
            "1152/1152 [==============================] - 9s 8ms/step - loss: 1.2273e-04 - val_loss: 1.3067e-04\n",
            "Epoch 30/512\n",
            "1152/1152 [==============================] - 9s 8ms/step - loss: 1.2216e-04 - val_loss: 1.3046e-04\n",
            "Epoch 31/512\n",
            "1152/1152 [==============================] - 9s 8ms/step - loss: 1.2160e-04 - val_loss: 1.2974e-04\n",
            "Epoch 32/512\n",
            "1152/1152 [==============================] - 9s 8ms/step - loss: 1.2114e-04 - val_loss: 1.2966e-04\n",
            "Epoch 33/512\n",
            "1152/1152 [==============================] - 9s 8ms/step - loss: 1.2063e-04 - val_loss: 1.2942e-04\n",
            "Epoch 34/512\n",
            "1152/1152 [==============================] - 9s 8ms/step - loss: 1.2014e-04 - val_loss: 1.2867e-04\n",
            "Epoch 35/512\n",
            "1152/1152 [==============================] - 9s 8ms/step - loss: 1.1974e-04 - val_loss: 1.2815e-04\n",
            "Epoch 36/512\n",
            "1152/1152 [==============================] - 9s 8ms/step - loss: 1.1926e-04 - val_loss: 1.2749e-04\n",
            "Epoch 37/512\n",
            "1152/1152 [==============================] - 9s 8ms/step - loss: 1.1887e-04 - val_loss: 1.2717e-04\n",
            "Epoch 38/512\n",
            "1152/1152 [==============================] - 9s 8ms/step - loss: 1.1844e-04 - val_loss: 1.2724e-04\n",
            "Epoch 39/512\n",
            "1152/1152 [==============================] - 9s 8ms/step - loss: 1.1807e-04 - val_loss: 1.2760e-04\n",
            "Epoch 40/512\n",
            "1152/1152 [==============================] - 9s 8ms/step - loss: 1.1769e-04 - val_loss: 1.2753e-04\n",
            "Epoch 41/512\n",
            "1152/1152 [==============================] - 9s 8ms/step - loss: 1.1736e-04 - val_loss: 1.2711e-04\n",
            "Epoch 42/512\n",
            "1152/1152 [==============================] - 9s 8ms/step - loss: 1.1699e-04 - val_loss: 1.2650e-04\n",
            "Epoch 43/512\n",
            "1152/1152 [==============================] - 9s 8ms/step - loss: 1.1668e-04 - val_loss: 1.2590e-04\n",
            "Epoch 44/512\n",
            "1152/1152 [==============================] - 9s 8ms/step - loss: 1.1634e-04 - val_loss: 1.2629e-04\n",
            "Epoch 45/512\n",
            "1152/1152 [==============================] - 9s 8ms/step - loss: 1.1603e-04 - val_loss: 1.2604e-04\n",
            "Epoch 46/512\n",
            "1152/1152 [==============================] - 9s 8ms/step - loss: 1.1579e-04 - val_loss: 1.2552e-04\n",
            "Epoch 47/512\n",
            "1152/1152 [==============================] - 9s 8ms/step - loss: 1.1544e-04 - val_loss: 1.2583e-04\n",
            "Epoch 48/512\n",
            "1152/1152 [==============================] - 9s 8ms/step - loss: 1.1517e-04 - val_loss: 1.2573e-04\n",
            "Epoch 49/512\n",
            "1152/1152 [==============================] - 9s 8ms/step - loss: 1.1490e-04 - val_loss: 1.2528e-04\n",
            "Epoch 50/512\n",
            "1152/1152 [==============================] - 9s 8ms/step - loss: 1.1463e-04 - val_loss: 1.2519e-04\n",
            "Epoch 51/512\n",
            "1152/1152 [==============================] - 9s 8ms/step - loss: 1.1435e-04 - val_loss: 1.2506e-04\n",
            "Epoch 52/512\n",
            "1152/1152 [==============================] - 9s 8ms/step - loss: 1.1409e-04 - val_loss: 1.2445e-04\n",
            "Epoch 53/512\n",
            "1152/1152 [==============================] - 9s 8ms/step - loss: 1.1389e-04 - val_loss: 1.2470e-04\n",
            "Epoch 54/512\n",
            "1152/1152 [==============================] - 9s 8ms/step - loss: 1.1361e-04 - val_loss: 1.2435e-04\n",
            "Epoch 55/512\n",
            "1152/1152 [==============================] - 9s 8ms/step - loss: 1.1334e-04 - val_loss: 1.2421e-04\n",
            "Epoch 56/512\n",
            "1152/1152 [==============================] - 9s 8ms/step - loss: 1.1315e-04 - val_loss: 1.2430e-04\n",
            "Epoch 57/512\n",
            "1152/1152 [==============================] - 9s 8ms/step - loss: 1.1294e-04 - val_loss: 1.2407e-04\n",
            "Epoch 58/512\n",
            "1152/1152 [==============================] - 9s 8ms/step - loss: 1.1269e-04 - val_loss: 1.2391e-04\n",
            "Epoch 59/512\n",
            "1152/1152 [==============================] - 9s 8ms/step - loss: 1.1250e-04 - val_loss: 1.2383e-04\n",
            "Epoch 60/512\n",
            "1152/1152 [==============================] - 9s 8ms/step - loss: 1.1222e-04 - val_loss: 1.2343e-04\n",
            "Epoch 61/512\n",
            "1152/1152 [==============================] - 9s 8ms/step - loss: 1.1203e-04 - val_loss: 1.2346e-04\n",
            "Epoch 62/512\n",
            "1152/1152 [==============================] - 9s 8ms/step - loss: 1.1181e-04 - val_loss: 1.2374e-04\n",
            "Epoch 63/512\n",
            "1152/1152 [==============================] - 9s 8ms/step - loss: 1.1169e-04 - val_loss: 1.2370e-04\n",
            "Epoch 64/512\n",
            "1152/1152 [==============================] - 9s 8ms/step - loss: 1.1145e-04 - val_loss: 1.2374e-04\n",
            "Epoch 65/512\n",
            "1152/1152 [==============================] - 9s 8ms/step - loss: 1.1126e-04 - val_loss: 1.2329e-04\n",
            "Epoch 66/512\n",
            "1152/1152 [==============================] - 9s 8ms/step - loss: 1.1111e-04 - val_loss: 1.2352e-04\n",
            "Epoch 67/512\n",
            "1152/1152 [==============================] - 9s 8ms/step - loss: 1.1086e-04 - val_loss: 1.2277e-04\n",
            "Epoch 68/512\n",
            "1152/1152 [==============================] - 9s 8ms/step - loss: 1.1073e-04 - val_loss: 1.2301e-04\n",
            "Epoch 69/512\n",
            "1152/1152 [==============================] - 9s 8ms/step - loss: 1.1052e-04 - val_loss: 1.2281e-04\n",
            "Epoch 70/512\n",
            "1152/1152 [==============================] - 9s 8ms/step - loss: 1.1035e-04 - val_loss: 1.2205e-04\n",
            "Epoch 71/512\n",
            "1152/1152 [==============================] - 9s 8ms/step - loss: 1.1016e-04 - val_loss: 1.2273e-04\n",
            "Epoch 72/512\n",
            "1152/1152 [==============================] - 9s 8ms/step - loss: 1.1007e-04 - val_loss: 1.2265e-04\n",
            "Epoch 73/512\n",
            "1152/1152 [==============================] - 9s 8ms/step - loss: 1.0984e-04 - val_loss: 1.2208e-04\n",
            "Epoch 74/512\n",
            "1152/1152 [==============================] - 9s 8ms/step - loss: 1.0966e-04 - val_loss: 1.2232e-04\n",
            "Epoch 75/512\n",
            "1152/1152 [==============================] - 9s 8ms/step - loss: 1.0949e-04 - val_loss: 1.2216e-04\n",
            "Epoch 76/512\n",
            "1152/1152 [==============================] - 9s 8ms/step - loss: 1.0935e-04 - val_loss: 1.2246e-04\n",
            "Epoch 77/512\n",
            "1152/1152 [==============================] - 9s 8ms/step - loss: 1.0919e-04 - val_loss: 1.2232e-04\n",
            "Epoch 78/512\n",
            "1152/1152 [==============================] - 9s 8ms/step - loss: 1.0904e-04 - val_loss: 1.2218e-04\n",
            "Epoch 79/512\n",
            "1152/1152 [==============================] - 9s 8ms/step - loss: 1.0893e-04 - val_loss: 1.2230e-04\n",
            "Epoch 80/512\n",
            "1146/1152 [============================>.] - ETA: 0s - loss: 1.0869e-04Restoring model weights from the end of the best epoch: 70.\n",
            "1152/1152 [==============================] - 9s 8ms/step - loss: 1.0870e-04 - val_loss: 1.2223e-04\n",
            "Epoch 80: early stopping\n"
          ]
        }
      ],
      "source": [
        "#train the autoencoder\n",
        "model_series = 'CLS_MODEL_' + datetime.now().strftime(\"%h%d%Y-%H%M\")\n",
        "\n",
        "checkpointer = ModelCheckpoint(filepath=f\"{model_series}-model.h5\", \n",
        "                               verbose=0, save_best_only=True)\n",
        "\n",
        "early_stopping = EarlyStopping(monitor='val_loss', min_delta=0.00000001, \n",
        "                               patience=10, verbose=1, mode='auto', \n",
        "                               restore_best_weights=True)\n",
        "\n",
        "model_history = autoencoder.fit(\n",
        "                                  X_train,\n",
        "                                  X_train,\n",
        "                                  batch_size=batch_size,\n",
        "                                  epochs=pretrain_epochs,\n",
        "                                  verbose=1,\n",
        "                                  validation_data=(X_test, X_test),\n",
        "                                  callbacks=[checkpointer, early_stopping]\n",
        "                              )\n",
        "\n",
        "autoencoder = load_model(f\"{model_series}-model.h5\")"
      ]
    },
    {
      "cell_type": "code",
      "execution_count": 39,
      "metadata": {
        "colab": {
          "base_uri": "https://localhost:8080/",
          "height": 295
        },
        "id": "CU_YZu_ZgqDS",
        "outputId": "3a09d361-91db-4519-e93d-9be62f44b162"
      },
      "outputs": [
        {
          "output_type": "display_data",
          "data": {
            "text/plain": [
              "<Figure size 432x288 with 1 Axes>"
            ],
            "image/png": "[encoded data removed]"
          },
          "metadata": {
            "needs_background": "light"
          }
        }
      ],
      "source": [
        "plt.plot(model_history.history['loss'])\n",
        "plt.plot(model_history.history['val_loss'])\n",
        "plt.title('Model Loss')\n",
        "plt.xlabel('Epoch')\n",
        "plt.ylabel('Loss')\n",
        "plt.legend(['train', 'test'], loc='upper right')\n",
        "plt.grid(True)"
      ]
    },
    {
      "cell_type": "code",
      "source": [
        "%load_ext tensorboard"
      ],
      "metadata": {
        "id": "nM5x--9YaiMT"
      },
      "execution_count": 65,
      "outputs": []
    },
    {
      "cell_type": "code",
      "source": [
        "%tensorboard --logdir logs"
      ],
      "metadata": {
        "id": "rjL04K-yanfs"
      },
      "execution_count": null,
      "outputs": []
    },
    {
      "cell_type": "markdown",
      "source": [
        "## Model Prediction"
      ],
      "metadata": {
        "id": "12FMCNO1mrtf"
      }
    },
    {
      "cell_type": "code",
      "execution_count": 40,
      "metadata": {
        "colab": {
          "base_uri": "https://localhost:8080/"
        },
        "id": "F1hinknrERR3",
        "outputId": "ccf69dfe-514e-4ad9-b361-807b7308fdec"
      },
      "outputs": [
        {
          "output_type": "stream",
          "name": "stdout",
          "text": [
            "/content\n",
            " CLS_MODEL_Mar142022-0718-model.h5   gdrive\n",
            " CLS_MODEL_Mar142022-0740-model.h5   sample_data\n",
            " CLS_MODEL_Mar142022-0800-model.h5  '[saved_models]'\n",
            " CLS_MODEL_Mar142022-0858-model.h5\n"
          ]
        }
      ],
      "source": [
        "from os import mkdir; \n",
        "mkdir('[saved_models]')\n",
        "!pwd\n",
        "!ls"
      ]
    },
    {
      "cell_type": "code",
      "execution_count": 41,
      "metadata": {
        "id": "sK3FydsT9m6u"
      },
      "outputs": [],
      "source": [
        "# save its weights\n",
        "weights_name = '[saved_models]/' + model_series + \"-\" + str(pretrain_epochs) + '-ae_weights.h5'\n",
        "autoencoder.save_weights(weights_name)"
      ]
    },
    {
      "cell_type": "code",
      "execution_count": 42,
      "metadata": {
        "id": "bFYzQuq89nKw"
      },
      "outputs": [],
      "source": [
        "# use the weights learned by the encoder to encode the data \n",
        " # to a representation (embedding)\n",
        "X_encoded = encoder.predict(X)"
      ]
    },
    {
      "cell_type": "markdown",
      "source": [
        "## Dimensionality Reduction"
      ],
      "metadata": {
        "id": "SD_M2NVRmzD3"
      }
    },
    {
      "cell_type": "code",
      "execution_count": 43,
      "metadata": {
        "id": "oG3rO17N3SJj"
      },
      "outputs": [],
      "source": [
        "def learn_manifold(x_data, umap_min_dist=0.00, umap_metric='cosine',\n",
        "                   umap_dim=10, umap_neighbors=30):\n",
        "    md = float(umap_min_dist)\n",
        "    return umap.UMAP(\n",
        "        random_state=42,\n",
        "        metric=umap_metric,\n",
        "        n_components=umap_dim,\n",
        "        low_memory=True,\n",
        "        n_neighbors=umap_neighbors,\n",
        "        min_dist=md).fit_transform(x_data)"
      ]
    },
    {
      "cell_type": "code",
      "execution_count": 44,
      "metadata": {
        "id": "FuJi0GAIV9a0",
        "colab": {
          "base_uri": "https://localhost:8080/"
        },
        "outputId": "8b687cd6-cb6c-45fb-c726-eab1df1c6d09"
      },
      "outputs": [
        {
          "output_type": "stream",
          "name": "stdout",
          "text": [
            "Collecting umap-learn\n",
            "  Downloading umap-learn-0.5.2.tar.gz (86 kB)\n",
            "\u001b[K     |████████████████████████████████| 86 kB 5.4 MB/s \n",
            "\u001b[?25hRequirement already satisfied: numpy>=1.17 in /usr/local/lib/python3.7/dist-packages (from umap-learn) (1.21.5)\n",
            "Requirement already satisfied: scikit-learn>=0.22 in /usr/local/lib/python3.7/dist-packages (from umap-learn) (1.0.2)\n",
            "Requirement already satisfied: scipy>=1.0 in /usr/local/lib/python3.7/dist-packages (from umap-learn) (1.4.1)\n",
            "Requirement already satisfied: numba>=0.49 in /usr/local/lib/python3.7/dist-packages (from umap-learn) (0.51.2)\n",
            "Collecting pynndescent>=0.5\n",
            "  Downloading pynndescent-0.5.6.tar.gz (1.1 MB)\n",
            "\u001b[K     |████████████████████████████████| 1.1 MB 29.2 MB/s \n",
            "\u001b[?25hRequirement already satisfied: tqdm in /usr/local/lib/python3.7/dist-packages (from umap-learn) (4.63.0)\n",
            "Requirement already satisfied: llvmlite<0.35,>=0.34.0.dev0 in /usr/local/lib/python3.7/dist-packages (from numba>=0.49->umap-learn) (0.34.0)\n",
            "Requirement already satisfied: setuptools in /usr/local/lib/python3.7/dist-packages (from numba>=0.49->umap-learn) (57.4.0)\n",
            "Requirement already satisfied: joblib>=0.11 in /usr/local/lib/python3.7/dist-packages (from pynndescent>=0.5->umap-learn) (1.1.0)\n",
            "Requirement already satisfied: threadpoolctl>=2.0.0 in /usr/local/lib/python3.7/dist-packages (from scikit-learn>=0.22->umap-learn) (3.1.0)\n",
            "Building wheels for collected packages: umap-learn, pynndescent\n",
            "  Building wheel for umap-learn (setup.py) ... \u001b[?25l\u001b[?25hdone\n",
            "  Created wheel for umap-learn: filename=umap_learn-0.5.2-py3-none-any.whl size=82708 sha256=0a96e4b982560e275e9b347bf72ee17eaf6d7525beab016e8e193d94f84b402f\n",
            "  Stored in directory: /root/.cache/pip/wheels/84/1b/c6/aaf68a748122632967cef4dffef68224eb16798b6793257d82\n",
            "  Building wheel for pynndescent (setup.py) ... \u001b[?25l\u001b[?25hdone\n",
            "  Created wheel for pynndescent: filename=pynndescent-0.5.6-py3-none-any.whl size=53943 sha256=d770fcb5b55b6881f17e5ad6ab49d7035492ee1e4fa23d47e1449415b51e166a\n",
            "  Stored in directory: /root/.cache/pip/wheels/03/f1/56/f80d72741e400345b5a5b50ec3d929aca581bf45e0225d5c50\n",
            "Successfully built umap-learn pynndescent\n",
            "Installing collected packages: pynndescent, umap-learn\n",
            "Successfully installed pynndescent-0.5.6 umap-learn-0.5.2\n",
            "Requirement already satisfied: pynndescent in /usr/local/lib/python3.7/dist-packages (0.5.6)\n",
            "Requirement already satisfied: numba>=0.51.2 in /usr/local/lib/python3.7/dist-packages (from pynndescent) (0.51.2)\n",
            "Requirement already satisfied: llvmlite>=0.30 in /usr/local/lib/python3.7/dist-packages (from pynndescent) (0.34.0)\n",
            "Requirement already satisfied: scipy>=1.0 in /usr/local/lib/python3.7/dist-packages (from pynndescent) (1.4.1)\n",
            "Requirement already satisfied: scikit-learn>=0.18 in /usr/local/lib/python3.7/dist-packages (from pynndescent) (1.0.2)\n",
            "Requirement already satisfied: joblib>=0.11 in /usr/local/lib/python3.7/dist-packages (from pynndescent) (1.1.0)\n",
            "Requirement already satisfied: setuptools in /usr/local/lib/python3.7/dist-packages (from numba>=0.51.2->pynndescent) (57.4.0)\n",
            "Requirement already satisfied: numpy>=1.15 in /usr/local/lib/python3.7/dist-packages (from numba>=0.51.2->pynndescent) (1.21.5)\n",
            "Requirement already satisfied: threadpoolctl>=2.0.0 in /usr/local/lib/python3.7/dist-packages (from scikit-learn>=0.18->pynndescent) (3.1.0)\n",
            "Collecting llvmpy==0.12.7-9-g60b512d\n",
            "  Downloading llvmpy-0.12.7-9-g60b512d.tar.gz (1.1 MB)\n",
            "\u001b[K     |████████████████████████████████| 1.1 MB 13.2 MB/s \n",
            "\u001b[33mWARNING: Discarding https://files.pythonhosted.org/packages/55/23/e523382a8ca3e076c4af59201f0eb29cfadeb194c02d8365c9f4b5b2e897/llvmpy-0.12.7-9-g60b512d.tar.gz#sha256=9b8a42c49bb104d91cef33f041497bd2dd0db99b27f5cab944faa7752d74b370 (from https://pypi.org/simple/llvmpy/). Command errored out with exit status 1: python setup.py egg_info Check the logs for full command output.\u001b[0m\n",
            "\u001b[31mERROR: Could not find a version that satisfies the requirement llvmpy==0.12.7-9-g60b512d (from versions: 0.12.7-9-g60b512d, 0.8.2, 0.9, 0.10.0, 0.10.1, 0.10.2, 0.11.0, 0.11.2, 0.12.4, 0.12.5, 0.12.6, 0.12.7)\u001b[0m\n",
            "\u001b[31mERROR: No matching distribution found for llvmpy==0.12.7-9-g60b512d\u001b[0m\n",
            "\u001b[?25hRequirement already satisfied: cython in /usr/local/lib/python3.7/dist-packages (0.29.28)\n",
            "Requirement already satisfied: numba in /usr/local/lib/python3.7/dist-packages (0.51.2)\n",
            "Requirement already satisfied: setuptools in /usr/local/lib/python3.7/dist-packages (from numba) (57.4.0)\n",
            "Requirement already satisfied: numpy>=1.15 in /usr/local/lib/python3.7/dist-packages (from numba) (1.21.5)\n",
            "Requirement already satisfied: llvmlite<0.35,>=0.34.0.dev0 in /usr/local/lib/python3.7/dist-packages (from numba) (0.34.0)\n"
          ]
        }
      ],
      "source": [
        "!pip install umap-learn\n",
        "!pip install pynndescent\n",
        "!pip install llvmpy=='0.12.7-9-g60b512d'\n",
        "!pip install cython\n",
        "!pip install numba\n",
        "import umap"
      ]
    },
    {
      "cell_type": "code",
      "execution_count": 45,
      "metadata": {
        "id": "PN5oQ3aV9wOc"
      },
      "outputs": [],
      "source": [
        "# this is the data that we need to cluster\n",
        "X_reduced = learn_manifold(X_encoded, umap_neighbors=100, \n",
        "                           umap_dim=int(encoded_dimensions/2))"
      ]
    },
    {
      "cell_type": "markdown",
      "source": [
        "## Clustering the Data using Kmeans and HDBSCAN"
      ],
      "metadata": {
        "id": "yAQcIQi5m6S0"
      }
    },
    {
      "cell_type": "code",
      "source": [
        "# Define HDBSCAN model to perform documents clustering\n",
        "\n",
        "!pip install hdbscan\n",
        "import hdbscan\n",
        "\n",
        "hdbs = hdbscan.HDBSCAN(min_cluster_size=1000,\n",
        "                                min_samples=200,\n",
        "                               prediction_data=True,\n",
        "                               core_dist_n_jobs=-1,\n",
        "                              gen_min_span_tree=True,\n",
        "                              algorithm='best'\n",
        "                               )\n",
        "\n",
        "hdbscan_labels = hdbs.fit_predict(X_reduced)\n",
        "\n",
        "hdbscan_cluster = hdbs.fit(X_reduced)"
      ],
      "metadata": {
        "colab": {
          "base_uri": "https://localhost:8080/"
        },
        "id": "pqGV9QJy7fG4",
        "outputId": "4ac204a4-a183-4963-e770-20ba072d2134"
      },
      "execution_count": 46,
      "outputs": [
        {
          "output_type": "stream",
          "name": "stdout",
          "text": [
            "Collecting hdbscan\n",
            "  Downloading hdbscan-0.8.28.tar.gz (5.2 MB)\n",
            "\u001b[K     |████████████████████████████████| 5.2 MB 12.9 MB/s \n",
            "\u001b[?25h  Installing build dependencies ... \u001b[?25l\u001b[?25hdone\n",
            "  Getting requirements to build wheel ... \u001b[?25l\u001b[?25hdone\n",
            "    Preparing wheel metadata ... \u001b[?25l\u001b[?25hdone\n",
            "Requirement already satisfied: scikit-learn>=0.20 in /usr/local/lib/python3.7/dist-packages (from hdbscan) (1.0.2)\n",
            "Requirement already satisfied: joblib>=1.0 in /usr/local/lib/python3.7/dist-packages (from hdbscan) (1.1.0)\n",
            "Requirement already satisfied: numpy>=1.20 in /usr/local/lib/python3.7/dist-packages (from hdbscan) (1.21.5)\n",
            "Requirement already satisfied: cython>=0.27 in /usr/local/lib/python3.7/dist-packages (from hdbscan) (0.29.28)\n",
            "Requirement already satisfied: scipy>=1.0 in /usr/local/lib/python3.7/dist-packages (from hdbscan) (1.4.1)\n",
            "Requirement already satisfied: threadpoolctl>=2.0.0 in /usr/local/lib/python3.7/dist-packages (from scikit-learn>=0.20->hdbscan) (3.1.0)\n",
            "Building wheels for collected packages: hdbscan\n",
            "  Building wheel for hdbscan (PEP 517) ... \u001b[?25l\u001b[?25hdone\n",
            "  Created wheel for hdbscan: filename=hdbscan-0.8.28-cp37-cp37m-linux_x86_64.whl size=2330811 sha256=c5542ac9da21b748e8577f2e335658ebf623b0004b91cea7bcb8b8cecb90b1e2\n",
            "  Stored in directory: /root/.cache/pip/wheels/6e/7a/5e/259ccc841c085fc41b99ef4a71e896b62f5161f2bc8a14c97a\n",
            "Successfully built hdbscan\n",
            "Installing collected packages: hdbscan\n",
            "Successfully installed hdbscan-0.8.28\n"
          ]
        }
      ]
    },
    {
      "cell_type": "code",
      "execution_count": 47,
      "metadata": {
        "id": "WQC0W_aT956c",
        "colab": {
          "base_uri": "https://localhost:8080/"
        },
        "outputId": "744d53f6-5529-4b53-bf28-47e4f405bbbe"
      },
      "outputs": [
        {
          "output_type": "stream",
          "name": "stdout",
          "text": [
            "[[    -1   1400]\n",
            " [     0   1237]\n",
            " [     1   2204]\n",
            " [     2 357271]\n",
            " [     3   1499]\n",
            " [     4   1533]\n",
            " [     5   2181]\n",
            " [     6   1263]]\n"
          ]
        }
      ],
      "source": [
        "unique, counts = np.unique(hdbscan_cluster.labels_, return_counts=True)\n",
        "print (np.asarray((unique, counts)).T)"
      ]
    },
    {
      "cell_type": "code",
      "execution_count": 67,
      "metadata": {
        "id": "XmUzTgsdglXs",
        "colab": {
          "base_uri": "https://localhost:8080/",
          "height": 708
        },
        "outputId": "4568da49-ef81-45b9-df55-08809f9757e4"
      },
      "outputs": [
        {
          "output_type": "stream",
          "name": "stderr",
          "text": [
            "WARNING:root:fitting model for 2 clusters\n",
            "WARNING:root:fitting model for 50 clusters\n",
            "WARNING:root:fitting model for 200 clusters\n",
            "WARNING:root:fitting model for 500 clusters\n"
          ]
        },
        {
          "output_type": "execute_result",
          "data": {
            "text/plain": [
              "Text(0.5, 1.0, 'kmeans parameter search')"
            ]
          },
          "metadata": {},
          "execution_count": 67
        },
        {
          "output_type": "display_data",
          "data": {
            "text/plain": [
              "<Figure size 720x720 with 1 Axes>"
            ],
            "image/png": "[encoded data removed]"
          },
          "metadata": {
            "needs_background": "light"
          }
        }
      ],
      "source": [
        "# compare a broad range of ks to start\n",
        "from sklearn.cluster import KMeans\n",
        "ks = [2, 50, 200, 500]\n",
        "\n",
        "\n",
        "# track a couple of metrics\n",
        "\n",
        "inertias = []\n",
        "import logging\n",
        "# fit the models, save the evaluation metrics from each run\n",
        "for k in ks:\n",
        "    logging.warning('fitting model for {} clusters'.format(k))\n",
        "    model = KMeans(n_clusters=k, random_state=42)\n",
        "    model.fit(X_reduced)\n",
        "    labels = model.labels_\n",
        "    inertias.append(model.inertia_)\n",
        "\n",
        "# plot the quality metrics for inspection\n",
        "plt.figure(figsize=(10,10))\n",
        "\n",
        "plt.plot(ks, inertias, 'o--')\n",
        "plt.xlabel('k')\n",
        "plt.ylabel('inertia')\n",
        "plt.title('kmeans parameter search')"
      ]
    },
    {
      "cell_type": "code",
      "execution_count": 48,
      "metadata": {
        "id": "8uNGVEcwP5eC",
        "colab": {
          "base_uri": "https://localhost:8080/"
        },
        "outputId": "a7eee692-02b4-4390-a76e-cc865ac08d65"
      },
      "outputs": [
        {
          "output_type": "stream",
          "name": "stdout",
          "text": [
            "[0 0 0 ... 0 0 2]\n"
          ]
        }
      ],
      "source": [
        "from sklearn.cluster import KMeans\n",
        "k_means = KMeans(init ='k-means++', n_clusters= 7, n_init = 24, \n",
        "                 max_iter=500, random_state=42)\n",
        "k_means.fit(X_reduced)\n",
        "K_labels = k_means.labels_\n",
        "print(K_labels)"
      ]
    },
    {
      "cell_type": "code",
      "execution_count": 49,
      "metadata": {
        "id": "C2KfR86Gehl4"
      },
      "outputs": [],
      "source": [
        "def strongest_features(model, vectorizer, topk=10):\n",
        "    \"\"\"\n",
        "    Helper function to display a simple text representation of the top-k most\n",
        "    important features in our fit model and vectorizer.\n",
        "\n",
        "    model: sklearn model\n",
        "    vectorizer: sklearn vectorizer\n",
        "    topk: k numbers of words to get per cluster\n",
        "\n",
        "    \"\"\"\n",
        "    # these parts are model-independent\n",
        "    m_name = model.__class__.__name__\n",
        "    features = vectorizer.get_feature_names()\n",
        "    # different calculations per model type\n",
        "    if m_name is 'KMeans':\n",
        "        relevant_labels = list(set(model.labels_))\n",
        "        centroids = model.cluster_centers_.argsort()[:,::-1]\n",
        "        for this_label in relevant_labels:\n",
        "            print('Cluster {}:'.format(this_label), end='')\n",
        "            for ind in centroids[this_label, :topk]:\n",
        "                print(' {}'.format(features[ind]), end='')\n",
        "            print()\n",
        "    elif m_name is 'HDBSCAN':\n",
        "        # ignore noise labels\n",
        "        relevant_labels = [ x for x in set(model.labels_) if x >= 0 ]\n",
        "        for this_label in relevant_labels:\n",
        "            matching_rows = np.where(hdbscan_cluster.labels_== this_label)[0]\n",
        "            coeff_sums = np.sum(tfidf_matrix[matching_rows], axis=0).A1\n",
        "            sorted_coeff_idxs = np.argsort(coeff_sums)[::-1]\n",
        "            print('Cluster {}: '.format(this_label), end='')\n",
        "            for idx in sorted_coeff_idxs[:topk]:\n",
        "                print('{} '.format(features[idx]), end='')\n",
        "            print()\n",
        "    else:\n",
        "        raise NotImplementedError('This helper method currently only supports KMeans and HDBSCAN models')"
      ]
    },
    {
      "cell_type": "code",
      "execution_count": 50,
      "metadata": {
        "id": "g8u36_EQekJx",
        "colab": {
          "base_uri": "https://localhost:8080/"
        },
        "outputId": "c748b21e-b0d2-46c3-8f0f-dadac7157e48"
      },
      "outputs": [
        {
          "output_type": "stream",
          "name": "stdout",
          "text": [
            "Cluster 0: aaron accuse abandon achieve acceptable abuse account absolutely accomplish acquire accurate activities able add abroad\n",
            "Cluster 1: account abuse accurate achievement accept accelerate achieve abroad ability abortion acquire actual absolute action actively\n",
            "Cluster 2: aaron abandon account abuse achievement actual abroad accept abortion abc accelerate absolute actively action accident\n",
            "Cluster 3: abduct activate acquire achy add abuse accelerate actually achieve account abc abandon acworth access able\n",
            "Cluster 4: abc abandon abuse account accurate achievement achieve actual accept action acquire abroad accelerate actively ability\n",
            "Cluster 5: absolutely aaron ability abortion abt abroad absolute abandon account accurate achievement accept actively acquire actual\n",
            "Cluster 6: aaron abuse account accurate achievement absolute accelerate abroad abortion accept action accident actively ability acquire\n"
          ]
        }
      ],
      "source": [
        "strongest_features(k_means, vec, topk=15)"
      ]
    },
    {
      "cell_type": "code",
      "execution_count": 51,
      "metadata": {
        "id": "-D1ymiTOUHqt",
        "colab": {
          "base_uri": "https://localhost:8080/"
        },
        "outputId": "2c59a873-d322-4b88-823c-d2688ab4ae1e"
      },
      "outputs": [
        {
          "output_type": "stream",
          "name": "stdout",
          "text": [
            "Cluster 0: dose slot availability pay free zydus fair famous family families familiar fam false fall fake \n",
            "Cluster 1: slot availability pay free failures fan famous family families familiar fam false fall fake faith \n",
            "Cluster 2: get vaccine covid dose vaccinate amp people first today vaccination take vaccines say one need \n",
            "Cluster 3: dose slot availability pay free zydus fair famous family families familiar fam false fall fake \n",
            "Cluster 4: dose slot availability pay free zydus fair famous family families familiar fam false fall fake \n",
            "Cluster 5: dose slot availability pay free zydus fair famous family families familiar fam false fall fake \n",
            "Cluster 6: dose slot availability pay free zydus fair famous family families familiar fam false fall fake \n"
          ]
        }
      ],
      "source": [
        "strongest_features(hdbscan_cluster, vec, topk=15)"
      ]
    },
    {
      "cell_type": "code",
      "execution_count": 52,
      "metadata": {
        "id": "a06UPKTVQmLu",
        "colab": {
          "base_uri": "https://localhost:8080/",
          "height": 295
        },
        "outputId": "46c7a94c-0e2b-40e9-de2d-3d966f2cdcd8"
      },
      "outputs": [
        {
          "output_type": "display_data",
          "data": {
            "text/plain": [
              "<Figure size 432x288 with 1 Axes>"
            ],
            "image/png": "[encoded data removed]"
          },
          "metadata": {
            "needs_background": "light"
          }
        }
      ],
      "source": [
        "plt.bar(range(len(set(k_means.labels_))), np.bincount(k_means.labels_))\n",
        "\n",
        "plt.ylabel('population')\n",
        "plt.xlabel('cluster label')\n",
        "plt.title('population sizes with {} clusters'.format(len(set(k_means.labels_))));\n",
        "\n",
        "# truncate y axis to see the rest better\n",
        "# (comment out to see the peak value for the largest cluster)\n",
        "plt.ylim(0,1000);"
      ]
    },
    {
      "cell_type": "code",
      "execution_count": 53,
      "metadata": {
        "id": "JilCCA0NjPAM",
        "colab": {
          "base_uri": "https://localhost:8080/",
          "height": 295
        },
        "outputId": "701a904f-865d-4624-9304-d36c92f3580c"
      },
      "outputs": [
        {
          "output_type": "display_data",
          "data": {
            "text/plain": [
              "<Figure size 432x288 with 1 Axes>"
            ],
            "image/png": "[encoded data removed]"
          },
          "metadata": {
            "needs_background": "light"
          }
        }
      ],
      "source": [
        "# get the population sizes\n",
        "label_counts = Counter(hdbscan_cluster.labels_)\n",
        "xs, ys = [], []\n",
        "for k,v in label_counts.items():\n",
        "    xs.append(k)\n",
        "    ys.append(v)\n",
        "\n",
        "# draw the chart\n",
        "plt.bar(xs, ys)\n",
        "\n",
        "plt.xticks(range(-1, len(label_counts)))\n",
        "plt.ylabel('population')\n",
        "plt.xlabel('cluster label')\n",
        "plt.title('population sizes ({} clusters found by hdbscan)'.format(len(label_counts) - 1));"
      ]
    },
    {
      "cell_type": "code",
      "execution_count": 54,
      "metadata": {
        "id": "IAOenuyP9-TJ"
      },
      "outputs": [],
      "source": [
        "#important to note that the clustering was performed on the result of UMAP\n",
        "# but the 2 dim lowering here (in order to generate the plot - was performed on the result of the encoder only)\n",
        "reducer = umap.UMAP(n_components=2)\n",
        "embedding = reducer.fit_transform(X_encoded)"
      ]
    },
    {
      "cell_type": "code",
      "execution_count": 55,
      "metadata": {
        "id": "3dgXU-EY9_SI",
        "colab": {
          "base_uri": "https://localhost:8080/",
          "height": 483
        },
        "outputId": "82efc9a3-7e8c-4bb7-d3ba-e33153840dba"
      },
      "outputs": [
        {
          "output_type": "display_data",
          "data": {
            "text/plain": [
              "<Figure size 864x576 with 1 Axes>"
            ],
            "image/png": "[encoded data removed]"
          },
          "metadata": {
            "needs_background": "light"
          }
        }
      ],
      "source": [
        "fig = plt.figure(figsize=(12,8))\n",
        "plt.scatter(reducer.embedding_[:, 0], reducer.embedding_[:, 1], c=hdbscan_cluster.labels_, cmap='tab20c')\n",
        "\n",
        "viz_clusters = pd.DataFrame(embedding)\n",
        "viz_clusters['cluster'] = hdbscan_cluster.labels_\n",
        "\n",
        "for row in viz_clusters.groupby('cluster').mean().reset_index().values:\n",
        "    label = f'CLUSTER: {row[0]}'\n",
        "    plt.annotate(label, (row[1], row[2]), textcoords=\"offset points\", fontsize=12,  xytext=(25,0), ha='center')"
      ]
    },
    {
      "cell_type": "code",
      "execution_count": 56,
      "metadata": {
        "id": "W7_O-dyxQebf",
        "colab": {
          "base_uri": "https://localhost:8080/",
          "height": 483
        },
        "outputId": "7045f6f4-db3f-46c9-fcde-17c05ceddaff"
      },
      "outputs": [
        {
          "output_type": "display_data",
          "data": {
            "text/plain": [
              "<Figure size 864x576 with 1 Axes>"
            ],
            "image/png": "[encoded data removed]"
          },
          "metadata": {
            "needs_background": "light"
          }
        }
      ],
      "source": [
        "fig = plt.figure(figsize=(12,8))\n",
        "plt.scatter(reducer.embedding_[:, 0], reducer.embedding_[:, 1], c=K_labels, cmap='tab20c')\n",
        "\n",
        "viz_clusters = pd.DataFrame(embedding)\n",
        "viz_clusters['cluster'] = K_labels\n",
        "\n",
        "for row in viz_clusters.groupby('cluster').mean().reset_index().values:\n",
        "    label = f'CLUSTER: {row[0]}'\n",
        "    plt.annotate(label, (row[1], row[2]), textcoords=\"offset points\", fontsize=12,  xytext=(25,0), ha='center')"
      ]
    },
    {
      "cell_type": "markdown",
      "source": [
        "## Model Evaluation"
      ],
      "metadata": {
        "id": "j5cLWYMlnJSN"
      }
    },
    {
      "cell_type": "code",
      "execution_count": 57,
      "metadata": {
        "id": "11RFlIBHJSTx"
      },
      "outputs": [],
      "source": [
        "from sklearn.metrics import silhouette_score"
      ]
    },
    {
      "cell_type": "code",
      "execution_count": 58,
      "metadata": {
        "id": "P0ndzvJHJYxn",
        "colab": {
          "base_uri": "https://localhost:8080/"
        },
        "outputId": "c946de92-a76e-4023-c40a-a1c950f8bfe0"
      },
      "outputs": [
        {
          "output_type": "execute_result",
          "data": {
            "text/plain": [
              "0.88510376"
            ]
          },
          "metadata": {},
          "execution_count": 58
        }
      ],
      "source": [
        "silhouette_score(X_reduced, hdbscan_cluster.labels_)"
      ]
    },
    {
      "cell_type": "code",
      "execution_count": 59,
      "metadata": {
        "id": "0IZUYZ70f0nq",
        "colab": {
          "base_uri": "https://localhost:8080/"
        },
        "outputId": "f7263f1d-15f7-46ce-984c-e099e9285bb0"
      },
      "outputs": [
        {
          "output_type": "execute_result",
          "data": {
            "text/plain": [
              "93682.22523109034"
            ]
          },
          "metadata": {},
          "execution_count": 59
        }
      ],
      "source": [
        "from sklearn.metrics import calinski_harabasz_score\n",
        "calinski_harabasz_score(X_reduced, hdbscan_cluster.labels_)"
      ]
    },
    {
      "cell_type": "code",
      "execution_count": 60,
      "metadata": {
        "id": "x9iMWLdR1bQn",
        "colab": {
          "base_uri": "https://localhost:8080/"
        },
        "outputId": "dadacda9-2470-4724-c89a-fbd008d82685"
      },
      "outputs": [
        {
          "output_type": "execute_result",
          "data": {
            "text/plain": [
              "0.944059799052439"
            ]
          },
          "metadata": {},
          "execution_count": 60
        }
      ],
      "source": [
        "from sklearn.metrics import davies_bouldin_score\n",
        "davies_bouldin_score(X_reduced, hdbscan_cluster.labels_)"
      ]
    },
    {
      "cell_type": "code",
      "execution_count": 61,
      "metadata": {
        "id": "TqlitEJjXUrL",
        "colab": {
          "base_uri": "https://localhost:8080/"
        },
        "outputId": "1c08bd2d-78c6-4a65-952f-ee4fb48f8671"
      },
      "outputs": [
        {
          "output_type": "execute_result",
          "data": {
            "text/plain": [
              "0.8793754"
            ]
          },
          "metadata": {},
          "execution_count": 61
        }
      ],
      "source": [
        "silhouette_score(X_reduced, K_labels)"
      ]
    },
    {
      "cell_type": "code",
      "execution_count": 62,
      "metadata": {
        "id": "d_C-T3Crc7H0",
        "colab": {
          "base_uri": "https://localhost:8080/"
        },
        "outputId": "abf72191-4e6b-474b-bf13-44976796dd86"
      },
      "outputs": [
        {
          "output_type": "execute_result",
          "data": {
            "text/plain": [
              "103539.09858896924"
            ]
          },
          "metadata": {},
          "execution_count": 62
        }
      ],
      "source": [
        "calinski_harabasz_score(X_reduced, K_labels)"
      ]
    },
    {
      "cell_type": "code",
      "execution_count": 63,
      "metadata": {
        "id": "I_lc4bJtdFy2",
        "colab": {
          "base_uri": "https://localhost:8080/"
        },
        "outputId": "96277d0e-8137-4fe1-e1a8-e12c70b7142b"
      },
      "outputs": [
        {
          "output_type": "execute_result",
          "data": {
            "text/plain": [
              "0.4821620879267368"
            ]
          },
          "metadata": {},
          "execution_count": 63
        }
      ],
      "source": [
        "davies_bouldin_score(X_reduced, K_labels)"
      ]
    },
    {
      "cell_type": "code",
      "execution_count": 64,
      "metadata": {
        "id": "1oTXyzr1neyF",
        "colab": {
          "base_uri": "https://localhost:8080/"
        },
        "outputId": "64af23e1-3153-40bd-d731-76a352713b04"
      },
      "outputs": [
        {
          "output_type": "execute_result",
          "data": {
            "text/plain": [
              "0.02293198275595029"
            ]
          },
          "metadata": {},
          "execution_count": 64
        }
      ],
      "source": [
        "hdbscan_cluster.relative_validity_"
      ]
    },
    {
      "cell_type": "markdown",
      "metadata": {
        "id": "dpSTy0yBXuCR"
      },
      "source": [
        "## Hyper-parameter Tuning"
      ]
    },
    {
      "cell_type": "code",
      "execution_count": 68,
      "metadata": {
        "id": "uA4W4_OJ8ZkT"
      },
      "outputs": [],
      "source": [
        "from sklearn.metrics import silhouette_score\n",
        "sil1 = []\n",
        "kmax = [2, 3, 4, 5, 6, 7, 8, 9, 10, 11, 12, 13, 14, 15]\n",
        "\n",
        "# dissimilarity would not be defined for a single cluster, thus, minimum number of clusters should be 2\n",
        "for k in kmax:\n",
        "  kmeans = KMeans(n_clusters = k, init='k-means++', max_iter=500, random_state=42).fit(X_reduced)\n",
        "  labels = kmeans.labels_\n",
        "  sil1.append(silhouette_score(X_reduced, labels, metric = 'cosine'))"
      ]
    },
    {
      "cell_type": "code",
      "execution_count": 70,
      "metadata": {
        "id": "svknah5rAAQM",
        "colab": {
          "base_uri": "https://localhost:8080/",
          "height": 286
        },
        "outputId": "a8a8effe-dff8-483a-c489-09bfa6f80d40"
      },
      "outputs": [
        {
          "output_type": "execute_result",
          "data": {
            "text/plain": [
              "[<matplotlib.lines.Line2D at 0x7f1196a18750>]"
            ]
          },
          "metadata": {},
          "execution_count": 70
        },
        {
          "output_type": "display_data",
          "data": {
            "text/plain": [
              "<Figure size 432x288 with 1 Axes>"
            ],
            "image/png": "[encoded data removed]"
          },
          "metadata": {
            "needs_background": "light"
          }
        }
      ],
      "source": [
        "k1 = np.array([2, 3, 4, 5, 6, 7, 8, 9, 10, 11, 12, 13, 14, 15]).T\n",
        "k1 = k1.reshape(14,1)\n",
        "plt.plot(k1, sil1)"
      ]
    },
    {
      "cell_type": "code",
      "source": [
        "print(sil1)"
      ],
      "metadata": {
        "colab": {
          "base_uri": "https://localhost:8080/"
        },
        "id": "uBuj3H08cks_",
        "outputId": "9f0b68a3-deb0-444d-99e3-d35338b92fa4"
      },
      "execution_count": 71,
      "outputs": [
        {
          "output_type": "stream",
          "name": "stdout",
          "text": [
            "[0.94910884, 0.9532641, 0.95767885, 0.9569354, 0.95954627, 0.9521542, 0.23397157, 0.24817966, 0.25888798, 0.10160106, 0.32815725, 0.34844232, 0.14287822, 0.27692485]\n"
          ]
        }
      ]
    },
    {
      "cell_type": "code",
      "execution_count": 72,
      "metadata": {
        "id": "EyjfZ2THL27W"
      },
      "outputs": [],
      "source": [
        "k_means2 = KMeans(n_clusters = 6, init='k-means++', max_iter=500, random_state=42).fit(X_reduced)\n",
        "klabels = k_means2.labels_"
      ]
    },
    {
      "cell_type": "code",
      "execution_count": 79,
      "metadata": {
        "id": "QR9THBhMQEHk",
        "colab": {
          "base_uri": "https://localhost:8080/",
          "height": 393
        },
        "outputId": "56a6bb22-6962-4a78-a538-870ec4355b14"
      },
      "outputs": [
        {
          "output_type": "display_data",
          "data": {
            "text/plain": [
              "<Figure size 576x396 with 1 Axes>"
            ],
            "image/png": "[encoded data removed]"
          },
          "metadata": {}
        },
        {
          "output_type": "execute_result",
          "data": {
            "text/plain": [
              "<matplotlib.axes._subplots.AxesSubplot at 0x7f11948f6710>"
            ]
          },
          "metadata": {},
          "execution_count": 79
        }
      ],
      "source": [
        "from yellowbrick.cluster import SilhouetteVisualizer\n",
        "visualizer = SilhouetteVisualizer(k_means2, colors='yellowbrick')\n",
        "visualizer.fit(X_reduced)        # Fit the data to the visualizer\n",
        "visualizer.show()        # Finalize and render the figure"
      ]
    },
    {
      "cell_type": "code",
      "execution_count": 73,
      "metadata": {
        "id": "GBRRgFbFXmW5",
        "colab": {
          "base_uri": "https://localhost:8080/"
        },
        "outputId": "01290a65-9ba6-4e9f-90d1-006edf6a1487"
      },
      "outputs": [
        {
          "output_type": "execute_result",
          "data": {
            "text/plain": [
              "0.95954627"
            ]
          },
          "metadata": {},
          "execution_count": 73
        }
      ],
      "source": [
        "silhouette_score(X_reduced, klabels, metric = 'cosine')"
      ]
    },
    {
      "cell_type": "code",
      "execution_count": 74,
      "metadata": {
        "id": "gEVf3bHOM394",
        "colab": {
          "base_uri": "https://localhost:8080/",
          "height": 483
        },
        "outputId": "6b428b9d-9b00-4a56-b251-dacd960ac825"
      },
      "outputs": [
        {
          "output_type": "display_data",
          "data": {
            "text/plain": [
              "<Figure size 864x576 with 1 Axes>"
            ],
            "image/png": "[encoded data removed]"
          },
          "metadata": {
            "needs_background": "light"
          }
        }
      ],
      "source": [
        "fig = plt.figure(figsize=(12,8))\n",
        "plt.scatter(reducer.embedding_[:, 0], reducer.embedding_[:, 1], c=klabels, cmap='tab20c')\n",
        "\n",
        "viz_clusters = pd.DataFrame(embedding)\n",
        "viz_clusters['cluster'] = klabels\n",
        "\n",
        "for row in viz_clusters.groupby('cluster').mean().reset_index().values:\n",
        "    label = f'CLUSTER: {row[0]}'\n",
        "    plt.annotate(label, (row[1], row[2]), textcoords=\"offset points\", fontsize=12,  xytext=(25,0), ha='center')"
      ]
    },
    {
      "cell_type": "code",
      "execution_count": 75,
      "metadata": {
        "id": "CfuEWxaMdFAk"
      },
      "outputs": [],
      "source": [
        "df['Cluster'] = klabels"
      ]
    },
    {
      "cell_type": "code",
      "execution_count": 76,
      "metadata": {
        "colab": {
          "base_uri": "https://localhost:8080/",
          "height": 1000
        },
        "outputId": "28c05b69-033b-4385-e703-5082462e1b4c",
        "id": "t-BLvqomdFAl"
      },
      "outputs": [
        {
          "output_type": "execute_result",
          "data": {
            "text/plain": [
              "                                      user_name                 user_location  \\\n",
              "0                                      MyNewsNE                         Assam   \n",
              "1                                 Shubham Gupta                           NaN   \n",
              "2                       Journal of Infectiology                           NaN   \n",
              "3                                          Zane                           NaN   \n",
              "4                            Ann-Maree O’Connor     Adelaide, South Australia   \n",
              "..                                          ...                           ...   \n",
              "95                    the indian national daily                         India   \n",
              "96  Kev a man with a spud gun wielding hedgehog  northampton, middle england    \n",
              "97                             Murtuza Merchant                        Mumbai   \n",
              "98                                            ً                           NaN   \n",
              "99                                NIAID Funding            Bethesda, Maryland   \n",
              "\n",
              "                                                                                                                                                    user_description  \\\n",
              "0                                                                                           MyNewsNE a dedicated multi-lingual media house from North Eastern India.   \n",
              "1                                                                    I will tell about all experiences of my life from my videos hope that you all like the videos 🙂   \n",
              "2    Journal of Infectiology (ISSN 2689-9981) is accepting submissions for an upcoming Volume 3 Issue 2. For further queries contact editor@infectiologyjournal.com.   \n",
              "3                                                                                                                                                  Fresher than you.   \n",
              "4             Retired university administrator. Melburnian by birth, now living in Adelaide. Look back fondly to the Whitlam years; one of Keating’s true believers.   \n",
              "..                                                                                                                                                               ...   \n",
              "95                                                                           India's NEWS Channel for Digital Media!\\nTo get in touch with us, send a Direct Message   \n",
              "96  Northampton born MK. bred tax exile alleged genius bipolar  maniac currently on major meds change, Twitter is planets piss take platform and I take no prisoners   \n",
              "97                                                                                                                                                        Journalist   \n",
              "98                                                                                                               #JENNIE: most hated — i’m a fan account 😒 (she/her)   \n",
              "99         For #NIH NIAID's extramural research grants and R&D contracts. Following and followers does not equal endorsement. Privacy policy https://t.co/p9EREyWVEW   \n",
              "\n",
              "        user_created  user_followers user_friends user_favourites  \\\n",
              "0   24-05-2020 10:18            64.0         11.0           110.0   \n",
              "1   14-08-2020 16:42             1.0         17.0             0.0   \n",
              "2   14-12-2017 07:07           143.0        566.0             8.0   \n",
              "3   18-09-2019 11:01            29.0         25.0           620.0   \n",
              "4   24-01-2013 14:53            83.0        497.0         10737.0   \n",
              "..               ...             ...          ...             ...   \n",
              "95  02-06-2014 07:15          1057.0        124.0           275.0   \n",
              "96  29-09-2019 12:25            53.0         64.0          1721.0   \n",
              "97  27-07-2013 09:40           439.0        123.0           948.0   \n",
              "98  22-10-2016 21:38          1011.0       1005.0         19770.0   \n",
              "99  12-12-2011 13:58          4617.0         25.0           161.0   \n",
              "\n",
              "   user_verified              date  \\\n",
              "0          False  18-08-2020 12:55   \n",
              "1          False  18-08-2020 12:55   \n",
              "2          False  18-08-2020 12:46   \n",
              "3          False  18-08-2020 12:45   \n",
              "4          False  18-08-2020 12:45   \n",
              "..           ...               ...   \n",
              "95         False  17-08-2020 15:46   \n",
              "96         False  17-08-2020 15:39   \n",
              "97         False  17-08-2020 15:37   \n",
              "98         False  17-08-2020 15:24   \n",
              "99          True  17-08-2020 15:23   \n",
              "\n",
              "                                                                                                                                            text  \\\n",
              "0               Australia to Manufacture Covid-19 Vaccine and give it to the Citizens for free of cost: AFP quotes Prime Minister\\n#CovidVaccine   \n",
              "1                                          #CoronavirusVaccine #CoronaVaccine #CovidVaccine Australia is doing very good https://t.co/kBT7l6pArY   \n",
              "2          Deaths due to COVID-19 in Affected Countries\\nRead More: https://t.co/V8Y3Stu0UW\\n@r_piryani @shitalbhandary… https://t.co/6jpMxX2KtI   \n",
              "3               @Team_Subhashree @subhashreesotwe @iamrajchoco Stay safe @subhashreesotwe di &amp; @iamrajchoco da ❤️❤️… https://t.co/ayhoaQm0Ls   \n",
              "4   @michellegrattan @ConversationEDU This is what passes for leadership in our country: a voucher for something that w… https://t.co/OUUb1PeYIj   \n",
              "..                                                                                                                                           ...   \n",
              "95            National Expert Group on Vaccine Administration meets the Domestic Vaccine Manufactures\\nPIB (@PIB_India)… https://t.co/Eoci6vseWv   \n",
              "96  @BBCNews You pay me £5,000 cash tax free and I’ll take the chance..as this my life you playing with and .you can st… https://t.co/dHiuzEDwq2   \n",
              "97   Doctors seeking @rautsanjay61 's resignation from #Maharashtra CM @uddhavthackeray \\n\\n#DoctorSecondSingle #Doctor… https://t.co/HE5G7kQtTE   \n",
              "98  #Corona #iHeartDynamite #iHeartDay1Contest #CovidVaccine #Trump2020 #BidenHarrisLandslide2020 #MAGA donald trump jo… https://t.co/D9CwLkIgBl   \n",
              "99  NIAID Funding Opportunity: NOT-AI-20-065, Notice of Special Interest (NOSI)—Emergency Awards for Limited Clinical T… https://t.co/LtCYT5RlGL   \n",
              "\n",
              "                                                                                                              hashtags  \\\n",
              "0                                                                                                     ['CovidVaccine']   \n",
              "1                                                              ['CoronavirusVaccine', 'CoronaVaccine', 'CovidVaccine']   \n",
              "2                                                                                                                  NaN   \n",
              "3                                                                                                                  NaN   \n",
              "4                                                                                                                  NaN   \n",
              "..                                                                                                                 ...   \n",
              "95                                                                                                                 NaN   \n",
              "96                                                                                                                 NaN   \n",
              "97                                                                     ['Maharashtra', 'DoctorSecondSingle', 'Doctor']   \n",
              "98  ['Corona', 'iHeartDynamite', 'iHeartDay1Contest', 'CovidVaccine', 'Trump2020', 'BidenHarrisLandslide2020', 'MAGA']   \n",
              "99                                                                                                                 NaN   \n",
              "\n",
              "                 source is_retweet  \\\n",
              "0       Twitter Web App      False   \n",
              "1   Twitter for Android      False   \n",
              "2       Twitter Web App      False   \n",
              "3   Twitter for Android      False   \n",
              "4       Twitter Web App      False   \n",
              "..                  ...        ...   \n",
              "95      Twitter Web App      False   \n",
              "96      Twitter Web App      False   \n",
              "97  Twitter for Android      False   \n",
              "98   Twitter for iPhone      False   \n",
              "99      Twitter Web App      False   \n",
              "\n",
              "                                                                                               tweet  \\\n",
              "0   australia manufacture covid vaccine and give the citizens for free cost afp quote prime minister   \n",
              "1                                                                             australia do very good   \n",
              "2                                                        deaths due covid affect countries read more   \n",
              "3                                                                                      stay safe amp   \n",
              "4                               this what pass for leadership our country voucher for something that   \n",
              "..                                                                                               ...   \n",
              "95            national expert group vaccine administration meet the domestic vaccine manufacture pib   \n",
              "96                     you pay cash tax free and take the chance this life you play with and you can   \n",
              "97                                                                      doctor seek resignation from   \n",
              "98                                                                                      donald trump   \n",
              "99        niaid fund opportunity not notice special interest nosi emergency award for limit clinical   \n",
              "\n",
              "    Cluster  \n",
              "0         0  \n",
              "1         0  \n",
              "2         0  \n",
              "3         0  \n",
              "4         0  \n",
              "..      ...  \n",
              "95        0  \n",
              "96        0  \n",
              "97        0  \n",
              "98        0  \n",
              "99        0  \n",
              "\n",
              "[100 rows x 15 columns]"
            ],
            "text/html": [
              "\n",
              "  <div id=\"df-6f3a4b6b-c244-4cad-b57d-f08f33af75f8\">\n",
              "    <div class=\"colab-df-container\">\n",
              "      <div>\n",
              "<style scoped>\n",
              "    .dataframe tbody tr th:only-of-type {\n",
              "        vertical-align: middle;\n",
              "    }\n",
              "\n",
              "    .dataframe tbody tr th {\n",
              "        vertical-align: top;\n",
              "    }\n",
              "\n",
              "    .dataframe thead th {\n",
              "        text-align: right;\n",
              "    }\n",
              "</style>\n",
              "<table border=\"1\" class=\"dataframe\">\n",
              "  <thead>\n",
              "    <tr style=\"text-align: right;\">\n",
              "      <th></th>\n",
              "      <th>user_name</th>\n",
              "      <th>user_location</th>\n",
              "      <th>user_description</th>\n",
              "      <th>user_created</th>\n",
              "      <th>user_followers</th>\n",
              "      <th>user_friends</th>\n",
              "      <th>user_favourites</th>\n",
              "      <th>user_verified</th>\n",
              "      <th>date</th>\n",
              "      <th>text</th>\n",
              "      <th>hashtags</th>\n",
              "      <th>source</th>\n",
              "      <th>is_retweet</th>\n",
              "      <th>tweet</th>\n",
              "      <th>Cluster</th>\n",
              "    </tr>\n",
              "  </thead>\n",
              "  <tbody>\n",
              "    <tr>\n",
              "      <th>0</th>\n",
              "      <td>MyNewsNE</td>\n",
              "      <td>Assam</td>\n",
              "      <td>MyNewsNE a dedicated multi-lingual media house from North Eastern India.</td>\n",
              "      <td>24-05-2020 10:18</td>\n",
              "      <td>64.0</td>\n",
              "      <td>11.0</td>\n",
              "      <td>110.0</td>\n",
              "      <td>False</td>\n",
              "      <td>18-08-2020 12:55</td>\n",
              "      <td>Australia to Manufacture Covid-19 Vaccine and give it to the Citizens for free of cost: AFP quotes Prime Minister\\n#CovidVaccine</td>\n",
              "      <td>['CovidVaccine']</td>\n",
              "      <td>Twitter Web App</td>\n",
              "      <td>False</td>\n",
              "      <td>australia manufacture covid vaccine and give the citizens for free cost afp quote prime minister</td>\n",
              "      <td>0</td>\n",
              "    </tr>\n",
              "    <tr>\n",
              "      <th>1</th>\n",
              "      <td>Shubham Gupta</td>\n",
              "      <td>NaN</td>\n",
              "      <td>I will tell about all experiences of my life from my videos hope that you all like the videos 🙂</td>\n",
              "      <td>14-08-2020 16:42</td>\n",
              "      <td>1.0</td>\n",
              "      <td>17.0</td>\n",
              "      <td>0.0</td>\n",
              "      <td>False</td>\n",
              "      <td>18-08-2020 12:55</td>\n",
              "      <td>#CoronavirusVaccine #CoronaVaccine #CovidVaccine Australia is doing very good https://t.co/kBT7l6pArY</td>\n",
              "      <td>['CoronavirusVaccine', 'CoronaVaccine', 'CovidVaccine']</td>\n",
              "      <td>Twitter for Android</td>\n",
              "      <td>False</td>\n",
              "      <td>australia do very good</td>\n",
              "      <td>0</td>\n",
              "    </tr>\n",
              "    <tr>\n",
              "      <th>2</th>\n",
              "      <td>Journal of Infectiology</td>\n",
              "      <td>NaN</td>\n",
              "      <td>Journal of Infectiology (ISSN 2689-9981) is accepting submissions for an upcoming Volume 3 Issue 2. For further queries contact editor@infectiologyjournal.com.</td>\n",
              "      <td>14-12-2017 07:07</td>\n",
              "      <td>143.0</td>\n",
              "      <td>566.0</td>\n",
              "      <td>8.0</td>\n",
              "      <td>False</td>\n",
              "      <td>18-08-2020 12:46</td>\n",
              "      <td>Deaths due to COVID-19 in Affected Countries\\nRead More: https://t.co/V8Y3Stu0UW\\n@r_piryani @shitalbhandary… https://t.co/6jpMxX2KtI</td>\n",
              "      <td>NaN</td>\n",
              "      <td>Twitter Web App</td>\n",
              "      <td>False</td>\n",
              "      <td>deaths due covid affect countries read more</td>\n",
              "      <td>0</td>\n",
              "    </tr>\n",
              "    <tr>\n",
              "      <th>3</th>\n",
              "      <td>Zane</td>\n",
              "      <td>NaN</td>\n",
              "      <td>Fresher than you.</td>\n",
              "      <td>18-09-2019 11:01</td>\n",
              "      <td>29.0</td>\n",
              "      <td>25.0</td>\n",
              "      <td>620.0</td>\n",
              "      <td>False</td>\n",
              "      <td>18-08-2020 12:45</td>\n",
              "      <td>@Team_Subhashree @subhashreesotwe @iamrajchoco Stay safe @subhashreesotwe di &amp;amp; @iamrajchoco da ❤️❤️… https://t.co/ayhoaQm0Ls</td>\n",
              "      <td>NaN</td>\n",
              "      <td>Twitter for Android</td>\n",
              "      <td>False</td>\n",
              "      <td>stay safe amp</td>\n",
              "      <td>0</td>\n",
              "    </tr>\n",
              "    <tr>\n",
              "      <th>4</th>\n",
              "      <td>Ann-Maree O’Connor</td>\n",
              "      <td>Adelaide, South Australia</td>\n",
              "      <td>Retired university administrator. Melburnian by birth, now living in Adelaide. Look back fondly to the Whitlam years; one of Keating’s true believers.</td>\n",
              "      <td>24-01-2013 14:53</td>\n",
              "      <td>83.0</td>\n",
              "      <td>497.0</td>\n",
              "      <td>10737.0</td>\n",
              "      <td>False</td>\n",
              "      <td>18-08-2020 12:45</td>\n",
              "      <td>@michellegrattan @ConversationEDU This is what passes for leadership in our country: a voucher for something that w… https://t.co/OUUb1PeYIj</td>\n",
              "      <td>NaN</td>\n",
              "      <td>Twitter Web App</td>\n",
              "      <td>False</td>\n",
              "      <td>this what pass for leadership our country voucher for something that</td>\n",
              "      <td>0</td>\n",
              "    </tr>\n",
              "    <tr>\n",
              "      <th>...</th>\n",
              "      <td>...</td>\n",
              "      <td>...</td>\n",
              "      <td>...</td>\n",
              "      <td>...</td>\n",
              "      <td>...</td>\n",
              "      <td>...</td>\n",
              "      <td>...</td>\n",
              "      <td>...</td>\n",
              "      <td>...</td>\n",
              "      <td>...</td>\n",
              "      <td>...</td>\n",
              "      <td>...</td>\n",
              "      <td>...</td>\n",
              "      <td>...</td>\n",
              "      <td>...</td>\n",
              "    </tr>\n",
              "    <tr>\n",
              "      <th>95</th>\n",
              "      <td>the indian national daily</td>\n",
              "      <td>India</td>\n",
              "      <td>India's NEWS Channel for Digital Media!\\nTo get in touch with us, send a Direct Message</td>\n",
              "      <td>02-06-2014 07:15</td>\n",
              "      <td>1057.0</td>\n",
              "      <td>124.0</td>\n",
              "      <td>275.0</td>\n",
              "      <td>False</td>\n",
              "      <td>17-08-2020 15:46</td>\n",
              "      <td>National Expert Group on Vaccine Administration meets the Domestic Vaccine Manufactures\\nPIB (@PIB_India)… https://t.co/Eoci6vseWv</td>\n",
              "      <td>NaN</td>\n",
              "      <td>Twitter Web App</td>\n",
              "      <td>False</td>\n",
              "      <td>national expert group vaccine administration meet the domestic vaccine manufacture pib</td>\n",
              "      <td>0</td>\n",
              "    </tr>\n",
              "    <tr>\n",
              "      <th>96</th>\n",
              "      <td>Kev a man with a spud gun wielding hedgehog</td>\n",
              "      <td>northampton, middle england</td>\n",
              "      <td>Northampton born MK. bred tax exile alleged genius bipolar  maniac currently on major meds change, Twitter is planets piss take platform and I take no prisoners</td>\n",
              "      <td>29-09-2019 12:25</td>\n",
              "      <td>53.0</td>\n",
              "      <td>64.0</td>\n",
              "      <td>1721.0</td>\n",
              "      <td>False</td>\n",
              "      <td>17-08-2020 15:39</td>\n",
              "      <td>@BBCNews You pay me £5,000 cash tax free and I’ll take the chance..as this my life you playing with and .you can st… https://t.co/dHiuzEDwq2</td>\n",
              "      <td>NaN</td>\n",
              "      <td>Twitter Web App</td>\n",
              "      <td>False</td>\n",
              "      <td>you pay cash tax free and take the chance this life you play with and you can</td>\n",
              "      <td>0</td>\n",
              "    </tr>\n",
              "    <tr>\n",
              "      <th>97</th>\n",
              "      <td>Murtuza Merchant</td>\n",
              "      <td>Mumbai</td>\n",
              "      <td>Journalist</td>\n",
              "      <td>27-07-2013 09:40</td>\n",
              "      <td>439.0</td>\n",
              "      <td>123.0</td>\n",
              "      <td>948.0</td>\n",
              "      <td>False</td>\n",
              "      <td>17-08-2020 15:37</td>\n",
              "      <td>Doctors seeking @rautsanjay61 's resignation from #Maharashtra CM @uddhavthackeray \\n\\n#DoctorSecondSingle #Doctor… https://t.co/HE5G7kQtTE</td>\n",
              "      <td>['Maharashtra', 'DoctorSecondSingle', 'Doctor']</td>\n",
              "      <td>Twitter for Android</td>\n",
              "      <td>False</td>\n",
              "      <td>doctor seek resignation from</td>\n",
              "      <td>0</td>\n",
              "    </tr>\n",
              "    <tr>\n",
              "      <th>98</th>\n",
              "      <td>ً</td>\n",
              "      <td>NaN</td>\n",
              "      <td>#JENNIE: most hated — i’m a fan account 😒 (she/her)</td>\n",
              "      <td>22-10-2016 21:38</td>\n",
              "      <td>1011.0</td>\n",
              "      <td>1005.0</td>\n",
              "      <td>19770.0</td>\n",
              "      <td>False</td>\n",
              "      <td>17-08-2020 15:24</td>\n",
              "      <td>#Corona #iHeartDynamite #iHeartDay1Contest #CovidVaccine #Trump2020 #BidenHarrisLandslide2020 #MAGA donald trump jo… https://t.co/D9CwLkIgBl</td>\n",
              "      <td>['Corona', 'iHeartDynamite', 'iHeartDay1Contest', 'CovidVaccine', 'Trump2020', 'BidenHarrisLandslide2020', 'MAGA']</td>\n",
              "      <td>Twitter for iPhone</td>\n",
              "      <td>False</td>\n",
              "      <td>donald trump</td>\n",
              "      <td>0</td>\n",
              "    </tr>\n",
              "    <tr>\n",
              "      <th>99</th>\n",
              "      <td>NIAID Funding</td>\n",
              "      <td>Bethesda, Maryland</td>\n",
              "      <td>For #NIH NIAID's extramural research grants and R&amp;D contracts. Following and followers does not equal endorsement. Privacy policy https://t.co/p9EREyWVEW</td>\n",
              "      <td>12-12-2011 13:58</td>\n",
              "      <td>4617.0</td>\n",
              "      <td>25.0</td>\n",
              "      <td>161.0</td>\n",
              "      <td>True</td>\n",
              "      <td>17-08-2020 15:23</td>\n",
              "      <td>NIAID Funding Opportunity: NOT-AI-20-065, Notice of Special Interest (NOSI)—Emergency Awards for Limited Clinical T… https://t.co/LtCYT5RlGL</td>\n",
              "      <td>NaN</td>\n",
              "      <td>Twitter Web App</td>\n",
              "      <td>False</td>\n",
              "      <td>niaid fund opportunity not notice special interest nosi emergency award for limit clinical</td>\n",
              "      <td>0</td>\n",
              "    </tr>\n",
              "  </tbody>\n",
              "</table>\n",
              "<p>100 rows × 15 columns</p>\n",
              "</div>\n",
              "      <button class=\"colab-df-convert\" onclick=\"convertToInteractive('df-6f3a4b6b-c244-4cad-b57d-f08f33af75f8')\"\n",
              "              title=\"Convert this dataframe to an interactive table.\"\n",
              "              style=\"display:none;\">\n",
              "        \n",
              "  <svg xmlns=\"http://www.w3.org/2000/svg\" height=\"24px\"viewBox=\"0 0 24 24\"\n",
              "       width=\"24px\">\n",
              "    <path d=\"M0 0h24v24H0V0z\" fill=\"none\"/>\n",
              "    <path d=\"M18.56 5.44l.94 2.06.94-2.06 2.06-.94-2.06-.94-.94-2.06-.94 2.06-2.06.94zm-11 1L8.5 8.5l.94-2.06 2.06-.94-2.06-.94L8.5 2.5l-.94 2.06-2.06.94zm10 10l.94 2.06.94-2.06 2.06-.94-2.06-.94-.94-2.06-.94 2.06-2.06.94z\"/><path d=\"M17.41 7.96l-1.37-1.37c-.4-.4-.92-.59-1.43-.59-.52 0-1.04.2-1.43.59L10.3 9.45l-7.72 7.72c-.78.78-.78 2.05 0 2.83L4 21.41c.39.39.9.59 1.41.59.51 0 1.02-.2 1.41-.59l7.78-7.78 2.81-2.81c.8-.78.8-2.07 0-2.86zM5.41 20L4 18.59l7.72-7.72 1.47 1.35L5.41 20z\"/>\n",
              "  </svg>\n",
              "      </button>\n",
              "      \n",
              "  <style>\n",
              "    .colab-df-container {\n",
              "      display:flex;\n",
              "      flex-wrap:wrap;\n",
              "      gap: 12px;\n",
              "    }\n",
              "\n",
              "    .colab-df-convert {\n",
              "      background-color: #E8F0FE;\n",
              "      border: none;\n",
              "      border-radius: 50%;\n",
              "      cursor: pointer;\n",
              "      display: none;\n",
              "      fill: #1967D2;\n",
              "      height: 32px;\n",
              "      padding: 0 0 0 0;\n",
              "      width: 32px;\n",
              "    }\n",
              "\n",
              "    .colab-df-convert:hover {\n",
              "      background-color: #E2EBFA;\n",
              "      box-shadow: 0px 1px 2px rgba(60, 64, 67, 0.3), 0px 1px 3px 1px rgba(60, 64, 67, 0.15);\n",
              "      fill: #174EA6;\n",
              "    }\n",
              "\n",
              "    [theme=dark] .colab-df-convert {\n",
              "      background-color: #3B4455;\n",
              "      fill: #D2E3FC;\n",
              "    }\n",
              "\n",
              "    [theme=dark] .colab-df-convert:hover {\n",
              "      background-color: #434B5C;\n",
              "      box-shadow: 0px 1px 3px 1px rgba(0, 0, 0, 0.15);\n",
              "      filter: drop-shadow(0px 1px 2px rgba(0, 0, 0, 0.3));\n",
              "      fill: #FFFFFF;\n",
              "    }\n",
              "  </style>\n",
              "\n",
              "      <script>\n",
              "        const buttonEl =\n",
              "          document.querySelector('#df-6f3a4b6b-c244-4cad-b57d-f08f33af75f8 button.colab-df-convert');\n",
              "        buttonEl.style.display =\n",
              "          google.colab.kernel.accessAllowed ? 'block' : 'none';\n",
              "\n",
              "        async function convertToInteractive(key) {\n",
              "          const element = document.querySelector('#df-6f3a4b6b-c244-4cad-b57d-f08f33af75f8');\n",
              "          const dataTable =\n",
              "            await google.colab.kernel.invokeFunction('convertToInteractive',\n",
              "                                                     [key], {});\n",
              "          if (!dataTable) return;\n",
              "\n",
              "          const docLinkHtml = 'Like what you see? Visit the ' +\n",
              "            '<a target=\"_blank\" href=https://colab.research.google.com/notebooks/data_table.ipynb>data table notebook</a>'\n",
              "            + ' to learn more about interactive tables.';\n",
              "          element.innerHTML = '';\n",
              "          dataTable['output_type'] = 'display_data';\n",
              "          await google.colab.output.renderOutput(dataTable, element);\n",
              "          const docLink = document.createElement('div');\n",
              "          docLink.innerHTML = docLinkHtml;\n",
              "          element.appendChild(docLink);\n",
              "        }\n",
              "      </script>\n",
              "    </div>\n",
              "  </div>\n",
              "  "
            ]
          },
          "metadata": {},
          "execution_count": 76
        }
      ],
      "source": [
        "df.head(100)"
      ]
    },
    {
      "cell_type": "code",
      "execution_count": 77,
      "metadata": {
        "colab": {
          "base_uri": "https://localhost:8080/"
        },
        "outputId": "27aa9155-98d9-46ab-bb2b-0a8b4e519ac0",
        "id": "zoYLOpmmgG-I"
      },
      "outputs": [
        {
          "output_type": "stream",
          "name": "stdout",
          "text": [
            "Cluster 0: aaron accuse abandon achieve acceptable abuse account absolutely accomplish acquire accurate activities able add abroad\n",
            "Cluster 1: aaron abuse account accurate achievement absolute accelerate abroad abortion accept action accident actively ability acquire\n",
            "Cluster 2: abduct activate acquire achy add abuse accelerate actually achieve account abc abandon acworth access able\n",
            "Cluster 3: aaron abandon account abuse achievement actual abroad accept abortion abc accelerate absolute actively action accident\n",
            "Cluster 4: abc abandon abuse account accurate achievement achieve actual accept action acquire abroad accelerate actively ability\n",
            "Cluster 5: account abuse accurate achievement accept accelerate achieve abroad ability abortion acquire actual absolute action actively\n"
          ]
        }
      ],
      "source": [
        "strongest_features(k_means2, vec, topk=15)"
      ]
    },
    {
      "cell_type": "code",
      "execution_count": 78,
      "metadata": {
        "colab": {
          "base_uri": "https://localhost:8080/",
          "height": 295
        },
        "outputId": "d1c20268-faa2-4e31-d563-db5c2494ad2c",
        "id": "lMArc6WtgG-K"
      },
      "outputs": [
        {
          "output_type": "display_data",
          "data": {
            "text/plain": [
              "<Figure size 432x288 with 1 Axes>"
            ],
            "image/png": "[encoded data removed]"
          },
          "metadata": {
            "needs_background": "light"
          }
        }
      ],
      "source": [
        "plt.bar(range(len(set(k_means2.labels_))), np.bincount(k_means2.labels_))\n",
        "\n",
        "plt.ylabel('population')\n",
        "plt.xlabel('cluster label')\n",
        "plt.title('population sizes with {} clusters'.format(len(set(k_means2.labels_))));\n",
        "\n",
        "# truncate y axis to see the rest better\n",
        "# (comment out to see the peak value for the largest cluster)\n",
        "plt.ylim(0,1000);"
      ]
    },
    {
      "cell_type": "code",
      "execution_count": 80,
      "metadata": {
        "id": "Uu_PRnRFZbtO"
      },
      "outputs": [],
      "source": [
        "def create_clusters_dataframe(data_text=df.text, threshold=0.1, \n",
        "                              cluster_dict=labels, lemma_text=data):\n",
        "    result = pd.DataFrame(columns=['Text', 'Cluster', 'Hashtags', 'Lemma-text'])\n",
        "    for i, text in enumerate(data_text):\n",
        "        result.at[i, 'Text'] = text\n",
        "        result.at[i, 'Hashtags'] = df.hashtags[i]\n",
        "        result.at[i, 'Lemma-text'] = lemma_text[i]\n",
        "        result.at[i, 'Cluster'] = cluster_dict[i]\n",
        "    return result"
      ]
    },
    {
      "cell_type": "code",
      "execution_count": 81,
      "metadata": {
        "id": "xT8yC7QwssDi",
        "colab": {
          "base_uri": "https://localhost:8080/",
          "height": 581
        },
        "outputId": "234c5efd-c98e-4ee3-e27f-29a3d290555c"
      },
      "outputs": [
        {
          "output_type": "execute_result",
          "data": {
            "text/plain": [
              "                                                                                                                                             Text  \\\n",
              "0                Australia to Manufacture Covid-19 Vaccine and give it to the Citizens for free of cost: AFP quotes Prime Minister\\n#CovidVaccine   \n",
              "1                                           #CoronavirusVaccine #CoronaVaccine #CovidVaccine Australia is doing very good https://t.co/kBT7l6pArY   \n",
              "2           Deaths due to COVID-19 in Affected Countries\\nRead More: https://t.co/V8Y3Stu0UW\\n@r_piryani @shitalbhandary… https://t.co/6jpMxX2KtI   \n",
              "3                @Team_Subhashree @subhashreesotwe @iamrajchoco Stay safe @subhashreesotwe di &amp; @iamrajchoco da ❤️❤️… https://t.co/ayhoaQm0Ls   \n",
              "4    @michellegrattan @ConversationEDU This is what passes for leadership in our country: a voucher for something that w… https://t.co/OUUb1PeYIj   \n",
              "5  The Multi-system Inflammatory Syndrome-Children (MIS-C) w/ #COVID19 (atypical Kawasaki disease) #COVID19India \\n\\nThe… https://t.co/98wj2CEkez   \n",
              "6           @PrivilRodrigues @yatish57 @deepkaranahuja @shristi522 @Amrita33392520 @RashmiSriniva14 @AkashRK_88 @SJanaQA… https://t.co/VPLa11fwfr   \n",
              "7      @MSNBC Well, let’s qualify that: would anyone of any party get a vaccine rushed out and minimally tested coming from Russia? #CovidVaccine   \n",
              "8    Most countries, without the ability to make #Vaccines locally, will be forced to rely on others like the US, China,… https://t.co/QUCozLB4Ru   \n",
              "9                       #DNA  zooms up charts in 1st week; hear #vaccines episode: https://t.co/oDrayhi7zN . #pandemic , #COVID19 , #CovidVaccine   \n",
              "\n",
              "  Cluster                                                    Hashtags  \\\n",
              "0       0                                            ['CovidVaccine']   \n",
              "1       0     ['CoronavirusVaccine', 'CoronaVaccine', 'CovidVaccine']   \n",
              "2       0                                                         NaN   \n",
              "3       0                                                         NaN   \n",
              "4       0                                                         NaN   \n",
              "5       0                                 ['COVID19', 'COVID19India']   \n",
              "6       2                                                         NaN   \n",
              "7       0                                            ['CovidVaccine']   \n",
              "8       0                                                ['Vaccines']   \n",
              "9       0  ['DNA', 'vaccines', 'pandemic', 'COVID19', 'CovidVaccine']   \n",
              "\n",
              "                                                                                              Lemma-text  \n",
              "0       australia manufacture covid vaccine and give the citizens for free cost afp quote prime minister  \n",
              "1                                                                                 australia do very good  \n",
              "2                                                            deaths due covid affect countries read more  \n",
              "3                                                                                          stay safe amp  \n",
              "4                                   this what pass for leadership our country voucher for something that  \n",
              "5                      the multi system inflammatory syndrome children mis atypical kawasaki disease the  \n",
              "6                                                                                                         \n",
              "7  well let qualify that would anyone any party get vaccine rush out and minimally test come from russia  \n",
              "8                  most countries without the ability make locally will force rely others like the china  \n",
              "9                                                                           zoom chart week hear episode  "
            ],
            "text/html": [
              "\n",
              "  <div id=\"df-a7c6720f-0533-4721-b981-653ca72a24c1\">\n",
              "    <div class=\"colab-df-container\">\n",
              "      <div>\n",
              "<style scoped>\n",
              "    .dataframe tbody tr th:only-of-type {\n",
              "        vertical-align: middle;\n",
              "    }\n",
              "\n",
              "    .dataframe tbody tr th {\n",
              "        vertical-align: top;\n",
              "    }\n",
              "\n",
              "    .dataframe thead th {\n",
              "        text-align: right;\n",
              "    }\n",
              "</style>\n",
              "<table border=\"1\" class=\"dataframe\">\n",
              "  <thead>\n",
              "    <tr style=\"text-align: right;\">\n",
              "      <th></th>\n",
              "      <th>Text</th>\n",
              "      <th>Cluster</th>\n",
              "      <th>Hashtags</th>\n",
              "      <th>Lemma-text</th>\n",
              "    </tr>\n",
              "  </thead>\n",
              "  <tbody>\n",
              "    <tr>\n",
              "      <th>0</th>\n",
              "      <td>Australia to Manufacture Covid-19 Vaccine and give it to the Citizens for free of cost: AFP quotes Prime Minister\\n#CovidVaccine</td>\n",
              "      <td>0</td>\n",
              "      <td>['CovidVaccine']</td>\n",
              "      <td>australia manufacture covid vaccine and give the citizens for free cost afp quote prime minister</td>\n",
              "    </tr>\n",
              "    <tr>\n",
              "      <th>1</th>\n",
              "      <td>#CoronavirusVaccine #CoronaVaccine #CovidVaccine Australia is doing very good https://t.co/kBT7l6pArY</td>\n",
              "      <td>0</td>\n",
              "      <td>['CoronavirusVaccine', 'CoronaVaccine', 'CovidVaccine']</td>\n",
              "      <td>australia do very good</td>\n",
              "    </tr>\n",
              "    <tr>\n",
              "      <th>2</th>\n",
              "      <td>Deaths due to COVID-19 in Affected Countries\\nRead More: https://t.co/V8Y3Stu0UW\\n@r_piryani @shitalbhandary… https://t.co/6jpMxX2KtI</td>\n",
              "      <td>0</td>\n",
              "      <td>NaN</td>\n",
              "      <td>deaths due covid affect countries read more</td>\n",
              "    </tr>\n",
              "    <tr>\n",
              "      <th>3</th>\n",
              "      <td>@Team_Subhashree @subhashreesotwe @iamrajchoco Stay safe @subhashreesotwe di &amp;amp; @iamrajchoco da ❤️❤️… https://t.co/ayhoaQm0Ls</td>\n",
              "      <td>0</td>\n",
              "      <td>NaN</td>\n",
              "      <td>stay safe amp</td>\n",
              "    </tr>\n",
              "    <tr>\n",
              "      <th>4</th>\n",
              "      <td>@michellegrattan @ConversationEDU This is what passes for leadership in our country: a voucher for something that w… https://t.co/OUUb1PeYIj</td>\n",
              "      <td>0</td>\n",
              "      <td>NaN</td>\n",
              "      <td>this what pass for leadership our country voucher for something that</td>\n",
              "    </tr>\n",
              "    <tr>\n",
              "      <th>5</th>\n",
              "      <td>The Multi-system Inflammatory Syndrome-Children (MIS-C) w/ #COVID19 (atypical Kawasaki disease) #COVID19India \\n\\nThe… https://t.co/98wj2CEkez</td>\n",
              "      <td>0</td>\n",
              "      <td>['COVID19', 'COVID19India']</td>\n",
              "      <td>the multi system inflammatory syndrome children mis atypical kawasaki disease the</td>\n",
              "    </tr>\n",
              "    <tr>\n",
              "      <th>6</th>\n",
              "      <td>@PrivilRodrigues @yatish57 @deepkaranahuja @shristi522 @Amrita33392520 @RashmiSriniva14 @AkashRK_88 @SJanaQA… https://t.co/VPLa11fwfr</td>\n",
              "      <td>2</td>\n",
              "      <td>NaN</td>\n",
              "      <td></td>\n",
              "    </tr>\n",
              "    <tr>\n",
              "      <th>7</th>\n",
              "      <td>@MSNBC Well, let’s qualify that: would anyone of any party get a vaccine rushed out and minimally tested coming from Russia? #CovidVaccine</td>\n",
              "      <td>0</td>\n",
              "      <td>['CovidVaccine']</td>\n",
              "      <td>well let qualify that would anyone any party get vaccine rush out and minimally test come from russia</td>\n",
              "    </tr>\n",
              "    <tr>\n",
              "      <th>8</th>\n",
              "      <td>Most countries, without the ability to make #Vaccines locally, will be forced to rely on others like the US, China,… https://t.co/QUCozLB4Ru</td>\n",
              "      <td>0</td>\n",
              "      <td>['Vaccines']</td>\n",
              "      <td>most countries without the ability make locally will force rely others like the china</td>\n",
              "    </tr>\n",
              "    <tr>\n",
              "      <th>9</th>\n",
              "      <td>#DNA  zooms up charts in 1st week; hear #vaccines episode: https://t.co/oDrayhi7zN . #pandemic , #COVID19 , #CovidVaccine</td>\n",
              "      <td>0</td>\n",
              "      <td>['DNA', 'vaccines', 'pandemic', 'COVID19', 'CovidVaccine']</td>\n",
              "      <td>zoom chart week hear episode</td>\n",
              "    </tr>\n",
              "  </tbody>\n",
              "</table>\n",
              "</div>\n",
              "      <button class=\"colab-df-convert\" onclick=\"convertToInteractive('df-a7c6720f-0533-4721-b981-653ca72a24c1')\"\n",
              "              title=\"Convert this dataframe to an interactive table.\"\n",
              "              style=\"display:none;\">\n",
              "        \n",
              "  <svg xmlns=\"http://www.w3.org/2000/svg\" height=\"24px\"viewBox=\"0 0 24 24\"\n",
              "       width=\"24px\">\n",
              "    <path d=\"M0 0h24v24H0V0z\" fill=\"none\"/>\n",
              "    <path d=\"M18.56 5.44l.94 2.06.94-2.06 2.06-.94-2.06-.94-.94-2.06-.94 2.06-2.06.94zm-11 1L8.5 8.5l.94-2.06 2.06-.94-2.06-.94L8.5 2.5l-.94 2.06-2.06.94zm10 10l.94 2.06.94-2.06 2.06-.94-2.06-.94-.94-2.06-.94 2.06-2.06.94z\"/><path d=\"M17.41 7.96l-1.37-1.37c-.4-.4-.92-.59-1.43-.59-.52 0-1.04.2-1.43.59L10.3 9.45l-7.72 7.72c-.78.78-.78 2.05 0 2.83L4 21.41c.39.39.9.59 1.41.59.51 0 1.02-.2 1.41-.59l7.78-7.78 2.81-2.81c.8-.78.8-2.07 0-2.86zM5.41 20L4 18.59l7.72-7.72 1.47 1.35L5.41 20z\"/>\n",
              "  </svg>\n",
              "      </button>\n",
              "      \n",
              "  <style>\n",
              "    .colab-df-container {\n",
              "      display:flex;\n",
              "      flex-wrap:wrap;\n",
              "      gap: 12px;\n",
              "    }\n",
              "\n",
              "    .colab-df-convert {\n",
              "      background-color: #E8F0FE;\n",
              "      border: none;\n",
              "      border-radius: 50%;\n",
              "      cursor: pointer;\n",
              "      display: none;\n",
              "      fill: #1967D2;\n",
              "      height: 32px;\n",
              "      padding: 0 0 0 0;\n",
              "      width: 32px;\n",
              "    }\n",
              "\n",
              "    .colab-df-convert:hover {\n",
              "      background-color: #E2EBFA;\n",
              "      box-shadow: 0px 1px 2px rgba(60, 64, 67, 0.3), 0px 1px 3px 1px rgba(60, 64, 67, 0.15);\n",
              "      fill: #174EA6;\n",
              "    }\n",
              "\n",
              "    [theme=dark] .colab-df-convert {\n",
              "      background-color: #3B4455;\n",
              "      fill: #D2E3FC;\n",
              "    }\n",
              "\n",
              "    [theme=dark] .colab-df-convert:hover {\n",
              "      background-color: #434B5C;\n",
              "      box-shadow: 0px 1px 3px 1px rgba(0, 0, 0, 0.15);\n",
              "      filter: drop-shadow(0px 1px 2px rgba(0, 0, 0, 0.3));\n",
              "      fill: #FFFFFF;\n",
              "    }\n",
              "  </style>\n",
              "\n",
              "      <script>\n",
              "        const buttonEl =\n",
              "          document.querySelector('#df-a7c6720f-0533-4721-b981-653ca72a24c1 button.colab-df-convert');\n",
              "        buttonEl.style.display =\n",
              "          google.colab.kernel.accessAllowed ? 'block' : 'none';\n",
              "\n",
              "        async function convertToInteractive(key) {\n",
              "          const element = document.querySelector('#df-a7c6720f-0533-4721-b981-653ca72a24c1');\n",
              "          const dataTable =\n",
              "            await google.colab.kernel.invokeFunction('convertToInteractive',\n",
              "                                                     [key], {});\n",
              "          if (!dataTable) return;\n",
              "\n",
              "          const docLinkHtml = 'Like what you see? Visit the ' +\n",
              "            '<a target=\"_blank\" href=https://colab.research.google.com/notebooks/data_table.ipynb>data table notebook</a>'\n",
              "            + ' to learn more about interactive tables.';\n",
              "          element.innerHTML = '';\n",
              "          dataTable['output_type'] = 'display_data';\n",
              "          await google.colab.output.renderOutput(dataTable, element);\n",
              "          const docLink = document.createElement('div');\n",
              "          docLink.innerHTML = docLinkHtml;\n",
              "          element.appendChild(docLink);\n",
              "        }\n",
              "      </script>\n",
              "    </div>\n",
              "  </div>\n",
              "  "
            ]
          },
          "metadata": {},
          "execution_count": 81
        }
      ],
      "source": [
        "result = create_clusters_dataframe(data_text=df.text, threshold=0.1, \n",
        "                                   cluster_dict=klabels, lemma_text=data)\n",
        "result.head(10)"
      ]
    },
    {
      "cell_type": "code",
      "execution_count": 82,
      "metadata": {
        "id": "ylHUJrqu552w"
      },
      "outputs": [],
      "source": [
        "result['Lemma_text'] = result['Lemma-text'].apply(lambda row: ' '.join(row))\n"
      ]
    },
    {
      "cell_type": "code",
      "execution_count": 83,
      "metadata": {
        "id": "q1VfK3I457nT"
      },
      "outputs": [],
      "source": [
        "result = result.drop('Lemma-text', axis=1)"
      ]
    },
    {
      "cell_type": "code",
      "execution_count": 84,
      "metadata": {
        "id": "1WH2mKUWh8KG"
      },
      "outputs": [],
      "source": [
        "from wordcloud import WordCloud "
      ]
    },
    {
      "cell_type": "code",
      "execution_count": 165,
      "metadata": {
        "id": "-UYzTtr7gq_n"
      },
      "outputs": [],
      "source": [
        "def create_WordCloud(data, title=None):\n",
        "    wordcloud = WordCloud(width = 500, height = 500,\n",
        "                          background_color ='white',\n",
        "                          min_font_size = 15\n",
        "                         ).generate(\" \".join(data))\n",
        "                      \n",
        "    plt.figure(figsize = (5, 5), facecolor = None) \n",
        "    plt.imshow(wordcloud, interpolation='bilinear') \n",
        "    plt.axis(\"off\") \n",
        "    plt.tight_layout(pad = 0) \n",
        "    plt.title(title,fontsize=20)\n",
        "    plt.show() "
      ]
    },
    {
      "cell_type": "code",
      "source": [
        "result['Lemma_text']"
      ],
      "metadata": {
        "colab": {
          "base_uri": "https://localhost:8080/"
        },
        "id": "aCacjeaucmiN",
        "outputId": "e298b9ba-d100-4b3e-d04f-514601e8a7ed"
      },
      "execution_count": 167,
      "outputs": [
        {
          "output_type": "execute_result",
          "data": {
            "text/plain": [
              "0                                                                   a u s t r a l i a   m a n u f a c t u r e   c o v i d   v a c c i n e   a n d   g i v e   t h e   c i t i z e n s   f o r   f r e e   c o s t   a f p   q u o t e   p r i m e   m i n i s t e r\n",
              "1                                                                                                                                                                                                                       a u s t r a l i a   d o   v e r y   g o o d\n",
              "2                                                                                                                                                                             d e a t h s   d u e   c o v i d   a f f e c t   c o u n t r i e s   r e a d   m o r e\n",
              "3                                                                                                                                                                                                                                         s t a y   s a f e   a m p\n",
              "4                                                                                                                           t h i s   w h a t   p a s s   f o r   l e a d e r s h i p   o u r   c o u n t r y   v o u c h e r   f o r   s o m e t h i n g   t h a t\n",
              "                                                                                                                                    ...                                                                                                                            \n",
              "368583    l a d y   h e a l t h   w o r k e r   c a r r y   a g e   l a d y   h e r   b a c k   t h a t   t h e   l a d y   c a n   r e c e i v e   h e r   c o v i d   v a c c i n e   g u l m i   n e p a l   p h o t o   h u m a k a n t   p o k h r e l   r s s\n",
              "368584                                                                                                                                                              t h e r e   m i l l i o n   s u i c i d e s   t h i s   l a s t   w e e k s   h o p e   a i n t\n",
              "368585                                                                                                                                                          s t a t e   c a n   c o n s e n t   s e x   w i t h   b u t   c a n   c o n s e n t   v a c c i n e\n",
              "368586                                                                                                                                                                                    f o x   n e w s   s i l e n t   a f t e r   g u e s t   d i e   c o v i d\n",
              "368587                                                                                                                                                                                        a v a i l a b i l i t y   f o r   f r e e   s l o t   p a y   s l o t\n",
              "Name: Lemma_text, Length: 368588, dtype: object"
            ]
          },
          "metadata": {},
          "execution_count": 167
        }
      ]
    },
    {
      "cell_type": "code",
      "source": [
        "result['Lemma_text'].loc[result.Cluster == '0']"
      ],
      "metadata": {
        "colab": {
          "base_uri": "https://localhost:8080/"
        },
        "id": "yVhfIzPIdIB9",
        "outputId": "a7bb5844-5f10-4a9a-9c50-4938a7aa49d6"
      },
      "execution_count": 168,
      "outputs": [
        {
          "output_type": "execute_result",
          "data": {
            "text/plain": [
              "0                                                                   a u s t r a l i a   m a n u f a c t u r e   c o v i d   v a c c i n e   a n d   g i v e   t h e   c i t i z e n s   f o r   f r e e   c o s t   a f p   q u o t e   p r i m e   m i n i s t e r\n",
              "1                                                                                                                                                                                                                       a u s t r a l i a   d o   v e r y   g o o d\n",
              "2                                                                                                                                                                             d e a t h s   d u e   c o v i d   a f f e c t   c o u n t r i e s   r e a d   m o r e\n",
              "3                                                                                                                                                                                                                                         s t a y   s a f e   a m p\n",
              "4                                                                                                                           t h i s   w h a t   p a s s   f o r   l e a d e r s h i p   o u r   c o u n t r y   v o u c h e r   f o r   s o m e t h i n g   t h a t\n",
              "                                                                                                                                    ...                                                                                                                            \n",
              "368582                                                                                                                                  s u p p l y   f i r s t   b a t c h   i t s   a l s o   p l a n   m a k e   a v a i l a b l e   p r i v a t e   m a r k e t\n",
              "368583    l a d y   h e a l t h   w o r k e r   c a r r y   a g e   l a d y   h e r   b a c k   t h a t   t h e   l a d y   c a n   r e c e i v e   h e r   c o v i d   v a c c i n e   g u l m i   n e p a l   p h o t o   h u m a k a n t   p o k h r e l   r s s\n",
              "368584                                                                                                                                                              t h e r e   m i l l i o n   s u i c i d e s   t h i s   l a s t   w e e k s   h o p e   a i n t\n",
              "368585                                                                                                                                                          s t a t e   c a n   c o n s e n t   s e x   w i t h   b u t   c a n   c o n s e n t   v a c c i n e\n",
              "368586                                                                                                                                                                                    f o x   n e w s   s i l e n t   a f t e r   g u e s t   d i e   c o v i d\n",
              "Name: Lemma_text, Length: 358241, dtype: object"
            ]
          },
          "metadata": {},
          "execution_count": 168
        }
      ]
    },
    {
      "cell_type": "code",
      "source": [
        "result['Lemma_text'].loc[result.Cluster == '1']"
      ],
      "metadata": {
        "colab": {
          "base_uri": "https://localhost:8080/"
        },
        "id": "qiQRGNUIjafe",
        "outputId": "a6baefc4-b92e-4fad-eaab-5e5393080fb0"
      },
      "execution_count": 175,
      "outputs": [
        {
          "output_type": "execute_result",
          "data": {
            "text/plain": [
              "234946    a v a i l a b i l i t y   f o r   f r e e   s l o t   d o s e   d o s e   d o s e   d o s e   p a y   s l o t   d o s e   d o s e   d o s e   d o s e   d o s e   d o s e\n",
              "235041    a v a i l a b i l i t y   f o r   f r e e   s l o t   d o s e   d o s e   d o s e   d o s e   p a y   s l o t   d o s e   d o s e   d o s e   d o s e   d o s e   d o s e\n",
              "235112    a v a i l a b i l i t y   f o r   f r e e   s l o t   d o s e   d o s e   d o s e   d o s e   p a y   s l o t   d o s e   d o s e   d o s e   d o s e   d o s e   d o s e\n",
              "235209    a v a i l a b i l i t y   f o r   f r e e   s l o t   d o s e   d o s e   d o s e   d o s e   p a y   s l o t   d o s e   d o s e   d o s e   d o s e   d o s e   d o s e\n",
              "235312    a v a i l a b i l i t y   f o r   f r e e   s l o t   d o s e   d o s e   d o s e   d o s e   p a y   s l o t   d o s e   d o s e   d o s e   d o s e   d o s e   d o s e\n",
              "                                                                                            ...                                                                                    \n",
              "368516    a v a i l a b i l i t y   f o r   f r e e   s l o t   d o s e   d o s e   d o s e   d o s e   p a y   s l o t   d o s e   d o s e   d o s e   d o s e   d o s e   d o s e\n",
              "368534    a v a i l a b i l i t y   f o r   f r e e   s l o t   d o s e   d o s e   d o s e   d o s e   p a y   s l o t   d o s e   d o s e   d o s e   d o s e   d o s e   d o s e\n",
              "368549    a v a i l a b i l i t y   f o r   f r e e   s l o t   d o s e   d o s e   d o s e   d o s e   p a y   s l o t   d o s e   d o s e   d o s e   d o s e   d o s e   d o s e\n",
              "368564    a v a i l a b i l i t y   f o r   f r e e   s l o t   d o s e   d o s e   d o s e   d o s e   p a y   s l o t   d o s e   d o s e   d o s e   d o s e   d o s e   d o s e\n",
              "368578    a v a i l a b i l i t y   f o r   f r e e   s l o t   d o s e   d o s e   d o s e   d o s e   p a y   s l o t   d o s e   d o s e   d o s e   d o s e   d o s e   d o s e\n",
              "Name: Lemma_text, Length: 1237, dtype: object"
            ]
          },
          "metadata": {},
          "execution_count": 175
        }
      ]
    },
    {
      "cell_type": "code",
      "source": [
        "result['Lemma_text'].loc[result.Cluster == '2']"
      ],
      "metadata": {
        "colab": {
          "base_uri": "https://localhost:8080/"
        },
        "id": "Il3RFdhzjhMY",
        "outputId": "625687bf-c387-4f9c-b295-298680ab8217"
      },
      "execution_count": 176,
      "outputs": [
        {
          "output_type": "execute_result",
          "data": {
            "text/plain": [
              "6                                                                                                                      \n",
              "321                                                                                                                    \n",
              "581                                                                                                                    \n",
              "681                                                                                                                    \n",
              "799                                                                                                                    \n",
              "                                                              ...                                                      \n",
              "368518    a v a i l a b i l i t y   f o r   f r e e   s l o t   d o s e   d o s e   d o s e   d o s e   p a y   s l o t\n",
              "368536    a v a i l a b i l i t y   f o r   f r e e   s l o t   d o s e   d o s e   d o s e   d o s e   p a y   s l o t\n",
              "368551    a v a i l a b i l i t y   f o r   f r e e   s l o t   d o s e   d o s e   d o s e   d o s e   p a y   s l o t\n",
              "368566    a v a i l a b i l i t y   f o r   f r e e   s l o t   d o s e   d o s e   d o s e   d o s e   p a y   s l o t\n",
              "368580    a v a i l a b i l i t y   f o r   f r e e   s l o t   d o s e   d o s e   d o s e   d o s e   p a y   s l o t\n",
              "Name: Lemma_text, Length: 1499, dtype: object"
            ]
          },
          "metadata": {},
          "execution_count": 176
        }
      ]
    },
    {
      "cell_type": "code",
      "source": [
        "result['Lemma_text'].loc[result.Cluster == '3']"
      ],
      "metadata": {
        "colab": {
          "base_uri": "https://localhost:8080/"
        },
        "id": "XQGEn64SjnWP",
        "outputId": "71096c6c-9834-40dc-fa7f-2ff27aded901"
      },
      "execution_count": 177,
      "outputs": [
        {
          "output_type": "execute_result",
          "data": {
            "text/plain": [
              "228165    a v a i l a b i l i t y   f o r   f r e e   s l o t   p a y   s l o t\n",
              "228260    a v a i l a b i l i t y   f o r   f r e e   s l o t   p a y   s l o t\n",
              "228333    a v a i l a b i l i t y   f o r   f r e e   s l o t   p a y   s l o t\n",
              "228616    a v a i l a b i l i t y   f o r   f r e e   s l o t   p a y   s l o t\n",
              "228656    a v a i l a b i l i t y   f o r   f r e e   s l o t   p a y   s l o t\n",
              "                                          ...                                  \n",
              "368556    a v a i l a b i l i t y   f o r   f r e e   s l o t   p a y   s l o t\n",
              "368568    a v a i l a b i l i t y   f o r   f r e e   s l o t   p a y   s l o t\n",
              "368569    a v a i l a b i l i t y   f o r   f r e e   s l o t   p a y   s l o t\n",
              "368570    a v a i l a b i l i t y   f o r   f r e e   s l o t   p a y   s l o t\n",
              "368587    a v a i l a b i l i t y   f o r   f r e e   s l o t   p a y   s l o t\n",
              "Name: Lemma_text, Length: 2204, dtype: object"
            ]
          },
          "metadata": {},
          "execution_count": 177
        }
      ]
    },
    {
      "cell_type": "code",
      "source": [
        "result['Lemma_text'].loc[result.Cluster == '4']"
      ],
      "metadata": {
        "colab": {
          "base_uri": "https://localhost:8080/"
        },
        "id": "IPDQXzRkjtsd",
        "outputId": "0db412ef-e1de-4fd8-8fa4-874ae87194d2"
      },
      "execution_count": 178,
      "outputs": [
        {
          "output_type": "execute_result",
          "data": {
            "text/plain": [
              "228123    a v a i l a b i l i t y   f o r   f r e e   s l o t   d o s e   d o s e   d o s e   d o s e   p a y   s l o t   d o s e   d o s e   d o s e   d o s e\n",
              "228124                                            a v a i l a b i l i t y   f o r   f r e e   s l o t   p a y   s l o t   d o s e   d o s e   d o s e   d o s e\n",
              "228162                                            a v a i l a b i l i t y   f o r   f r e e   s l o t   p a y   s l o t   d o s e   d o s e   d o s e   d o s e\n",
              "228163                                            a v a i l a b i l i t y   f o r   f r e e   s l o t   p a y   s l o t   d o s e   d o s e   d o s e   d o s e\n",
              "228214    a v a i l a b i l i t y   f o r   f r e e   s l o t   d o s e   d o s e   d o s e   d o s e   p a y   s l o t   d o s e   d o s e   d o s e   d o s e\n",
              "                                                                                  ...                                                                          \n",
              "368498                                            a v a i l a b i l i t y   f o r   f r e e   s l o t   p a y   s l o t   d o s e   d o s e   d o s e   d o s e\n",
              "368517                                            a v a i l a b i l i t y   f o r   f r e e   s l o t   p a y   s l o t   d o s e   d o s e   d o s e   d o s e\n",
              "368535                                            a v a i l a b i l i t y   f o r   f r e e   s l o t   p a y   s l o t   d o s e   d o s e   d o s e   d o s e\n",
              "368565                                            a v a i l a b i l i t y   f o r   f r e e   s l o t   p a y   s l o t   d o s e   d o s e   d o s e   d o s e\n",
              "368579                                            a v a i l a b i l i t y   f o r   f r e e   s l o t   p a y   s l o t   d o s e   d o s e   d o s e   d o s e\n",
              "Name: Lemma_text, Length: 1886, dtype: object"
            ]
          },
          "metadata": {},
          "execution_count": 178
        }
      ]
    },
    {
      "cell_type": "code",
      "source": [
        "result['Lemma_text'].loc[result.Cluster == '5']"
      ],
      "metadata": {
        "colab": {
          "base_uri": "https://localhost:8080/"
        },
        "id": "0iLGeExljzoN",
        "outputId": "2590aa79-c8e5-4674-bb7a-0de948c6a192"
      },
      "execution_count": 179,
      "outputs": [
        {
          "output_type": "execute_result",
          "data": {
            "text/plain": [
              "228574    a v a i l a b i l i t y   f o r   f r e e   s l o t   d o s e   d o s e   p a y   s l o t   d o s e   d o s e   d o s e   d o s e\n",
              "229359    a v a i l a b i l i t y   f o r   f r e e   s l o t   d o s e   d o s e   p a y   s l o t   d o s e   d o s e   d o s e   d o s e\n",
              "229691    a v a i l a b i l i t y   f o r   f r e e   s l o t   d o s e   d o s e   p a y   s l o t   d o s e   d o s e   d o s e   d o s e\n",
              "230427    a v a i l a b i l i t y   f o r   f r e e   s l o t   d o s e   d o s e   d o s e   d o s e   p a y   s l o t   d o s e   d o s e\n",
              "230457    a v a i l a b i l i t y   f o r   f r e e   s l o t   d o s e   d o s e   p a y   s l o t   d o s e   d o s e   d o s e   d o s e\n",
              "                                                                        ...                                                                \n",
              "368155    a v a i l a b i l i t y   f o r   f r e e   s l o t   d o s e   d o s e   p a y   s l o t   d o s e   d o s e   d o s e   d o s e\n",
              "368168    a v a i l a b i l i t y   f o r   f r e e   s l o t   d o s e   d o s e   p a y   s l o t   d o s e   d o s e   d o s e   d o s e\n",
              "368181    a v a i l a b i l i t y   f o r   f r e e   s l o t   d o s e   d o s e   p a y   s l o t   d o s e   d o s e   d o s e   d o s e\n",
              "368192    a v a i l a b i l i t y   f o r   f r e e   s l o t   d o s e   d o s e   p a y   s l o t   d o s e   d o s e   d o s e   d o s e\n",
              "368550    a v a i l a b i l i t y   f o r   f r e e   s l o t   d o s e   d o s e   p a y   s l o t   d o s e   d o s e   d o s e   d o s e\n",
              "Name: Lemma_text, Length: 3521, dtype: object"
            ]
          },
          "metadata": {},
          "execution_count": 179
        }
      ]
    }
  ],
  "metadata": {
    "accelerator": "GPU",
    "colab": {
      "collapsed_sections": [],
      "machine_shape": "hm",
      "name": "AE clustering_sentence_transformer.ipynb",
      "provenance": []
    },
    "kernelspec": {
      "display_name": "Python 3",
      "name": "python3"
    },
    "language_info": {
      "name": "python"
    },
    "widgets": {
      "application/vnd.jupyter.widget-state+json": {
        "253280c7232a47ffb448ac7f12fcfc68": {
          "model_module": "@jupyter-widgets/controls",
          "model_name": "HBoxModel",
          "model_module_version": "1.5.0",
          "state": {
            "_dom_classes": [],
            "_model_module": "@jupyter-widgets/controls",
            "_model_module_version": "1.5.0",
            "_model_name": "HBoxModel",
            "_view_count": null,
            "_view_module": "@jupyter-widgets/controls",
            "_view_module_version": "1.5.0",
            "_view_name": "HBoxView",
            "box_style": "",
            "children": [
              "IPY_MODEL_de5992572bcb4dd5b32515739c365306",
              "IPY_MODEL_9f5facf3fb58419caab1a52b46b1b88c",
              "IPY_MODEL_1873eea98a744fde9c623e48a7ece199"
            ],
            "layout": "IPY_MODEL_61764800b6734e25bb48de05e16e84be"
          }
        },
        "de5992572bcb4dd5b32515739c365306": {
          "model_module": "@jupyter-widgets/controls",
          "model_name": "HTMLModel",
          "model_module_version": "1.5.0",
          "state": {
            "_dom_classes": [],
            "_model_module": "@jupyter-widgets/controls",
            "_model_module_version": "1.5.0",
            "_model_name": "HTMLModel",
            "_view_count": null,
            "_view_module": "@jupyter-widgets/controls",
            "_view_module_version": "1.5.0",
            "_view_name": "HTMLView",
            "description": "",
            "description_tooltip": null,
            "layout": "IPY_MODEL_4df62e810c4449b1b2c81ac51849eab3",
            "placeholder": "​",
            "style": "IPY_MODEL_02db9edea4f040b1aca6783b1f1c37e5",
            "value": "Batches: 100%"
          }
        },
        "9f5facf3fb58419caab1a52b46b1b88c": {
          "model_module": "@jupyter-widgets/controls",
          "model_name": "FloatProgressModel",
          "model_module_version": "1.5.0",
          "state": {
            "_dom_classes": [],
            "_model_module": "@jupyter-widgets/controls",
            "_model_module_version": "1.5.0",
            "_model_name": "FloatProgressModel",
            "_view_count": null,
            "_view_module": "@jupyter-widgets/controls",
            "_view_module_version": "1.5.0",
            "_view_name": "ProgressView",
            "bar_style": "success",
            "description": "",
            "description_tooltip": null,
            "layout": "IPY_MODEL_0b49508d9d354e70865f414d1d321389",
            "max": 11519,
            "min": 0,
            "orientation": "horizontal",
            "style": "IPY_MODEL_e0d819d420b84a168cc9f2ffada8260b",
            "value": 11519
          }
        },
        "1873eea98a744fde9c623e48a7ece199": {
          "model_module": "@jupyter-widgets/controls",
          "model_name": "HTMLModel",
          "model_module_version": "1.5.0",
          "state": {
            "_dom_classes": [],
            "_model_module": "@jupyter-widgets/controls",
            "_model_module_version": "1.5.0",
            "_model_name": "HTMLModel",
            "_view_count": null,
            "_view_module": "@jupyter-widgets/controls",
            "_view_module_version": "1.5.0",
            "_view_name": "HTMLView",
            "description": "",
            "description_tooltip": null,
            "layout": "IPY_MODEL_1c9f26ad12364827a519f71be6926168",
            "placeholder": "​",
            "style": "IPY_MODEL_44d2c210d6a44f14ada626647e145d65",
            "value": " 11519/11519 [32:58&lt;00:00, 40.88it/s]"
          }
        },
        "61764800b6734e25bb48de05e16e84be": {
          "model_module": "@jupyter-widgets/base",
          "model_name": "LayoutModel",
          "model_module_version": "1.2.0",
          "state": {
            "_model_module": "@jupyter-widgets/base",
            "_model_module_version": "1.2.0",
            "_model_name": "LayoutModel",
            "_view_count": null,
            "_view_module": "@jupyter-widgets/base",
            "_view_module_version": "1.2.0",
            "_view_name": "LayoutView",
            "align_content": null,
            "align_items": null,
            "align_self": null,
            "border": null,
            "bottom": null,
            "display": null,
            "flex": null,
            "flex_flow": null,
            "grid_area": null,
            "grid_auto_columns": null,
            "grid_auto_flow": null,
            "grid_auto_rows": null,
            "grid_column": null,
            "grid_gap": null,
            "grid_row": null,
            "grid_template_areas": null,
            "grid_template_columns": null,
            "grid_template_rows": null,
            "height": null,
            "justify_content": null,
            "justify_items": null,
            "left": null,
            "margin": null,
            "max_height": null,
            "max_width": null,
            "min_height": null,
            "min_width": null,
            "object_fit": null,
            "object_position": null,
            "order": null,
            "overflow": null,
            "overflow_x": null,
            "overflow_y": null,
            "padding": null,
            "right": null,
            "top": null,
            "visibility": null,
            "width": null
          }
        },
        "4df62e810c4449b1b2c81ac51849eab3": {
          "model_module": "@jupyter-widgets/base",
          "model_name": "LayoutModel",
          "model_module_version": "1.2.0",
          "state": {
            "_model_module": "@jupyter-widgets/base",
            "_model_module_version": "1.2.0",
            "_model_name": "LayoutModel",
            "_view_count": null,
            "_view_module": "@jupyter-widgets/base",
            "_view_module_version": "1.2.0",
            "_view_name": "LayoutView",
            "align_content": null,
            "align_items": null,
            "align_self": null,
            "border": null,
            "bottom": null,
            "display": null,
            "flex": null,
            "flex_flow": null,
            "grid_area": null,
            "grid_auto_columns": null,
            "grid_auto_flow": null,
            "grid_auto_rows": null,
            "grid_column": null,
            "grid_gap": null,
            "grid_row": null,
            "grid_template_areas": null,
            "grid_template_columns": null,
            "grid_template_rows": null,
            "height": null,
            "justify_content": null,
            "justify_items": null,
            "left": null,
            "margin": null,
            "max_height": null,
            "max_width": null,
            "min_height": null,
            "min_width": null,
            "object_fit": null,
            "object_position": null,
            "order": null,
            "overflow": null,
            "overflow_x": null,
            "overflow_y": null,
            "padding": null,
            "right": null,
            "top": null,
            "visibility": null,
            "width": null
          }
        },
        "02db9edea4f040b1aca6783b1f1c37e5": {
          "model_module": "@jupyter-widgets/controls",
          "model_name": "DescriptionStyleModel",
          "model_module_version": "1.5.0",
          "state": {
            "_model_module": "@jupyter-widgets/controls",
            "_model_module_version": "1.5.0",
            "_model_name": "DescriptionStyleModel",
            "_view_count": null,
            "_view_module": "@jupyter-widgets/base",
            "_view_module_version": "1.2.0",
            "_view_name": "StyleView",
            "description_width": ""
          }
        },
        "0b49508d9d354e70865f414d1d321389": {
          "model_module": "@jupyter-widgets/base",
          "model_name": "LayoutModel",
          "model_module_version": "1.2.0",
          "state": {
            "_model_module": "@jupyter-widgets/base",
            "_model_module_version": "1.2.0",
            "_model_name": "LayoutModel",
            "_view_count": null,
            "_view_module": "@jupyter-widgets/base",
            "_view_module_version": "1.2.0",
            "_view_name": "LayoutView",
            "align_content": null,
            "align_items": null,
            "align_self": null,
            "border": null,
            "bottom": null,
            "display": null,
            "flex": null,
            "flex_flow": null,
            "grid_area": null,
            "grid_auto_columns": null,
            "grid_auto_flow": null,
            "grid_auto_rows": null,
            "grid_column": null,
            "grid_gap": null,
            "grid_row": null,
            "grid_template_areas": null,
            "grid_template_columns": null,
            "grid_template_rows": null,
            "height": null,
            "justify_content": null,
            "justify_items": null,
            "left": null,
            "margin": null,
            "max_height": null,
            "max_width": null,
            "min_height": null,
            "min_width": null,
            "object_fit": null,
            "object_position": null,
            "order": null,
            "overflow": null,
            "overflow_x": null,
            "overflow_y": null,
            "padding": null,
            "right": null,
            "top": null,
            "visibility": null,
            "width": null
          }
        },
        "e0d819d420b84a168cc9f2ffada8260b": {
          "model_module": "@jupyter-widgets/controls",
          "model_name": "ProgressStyleModel",
          "model_module_version": "1.5.0",
          "state": {
            "_model_module": "@jupyter-widgets/controls",
            "_model_module_version": "1.5.0",
            "_model_name": "ProgressStyleModel",
            "_view_count": null,
            "_view_module": "@jupyter-widgets/base",
            "_view_module_version": "1.2.0",
            "_view_name": "StyleView",
            "bar_color": null,
            "description_width": ""
          }
        },
        "1c9f26ad12364827a519f71be6926168": {
          "model_module": "@jupyter-widgets/base",
          "model_name": "LayoutModel",
          "model_module_version": "1.2.0",
          "state": {
            "_model_module": "@jupyter-widgets/base",
            "_model_module_version": "1.2.0",
            "_model_name": "LayoutModel",
            "_view_count": null,
            "_view_module": "@jupyter-widgets/base",
            "_view_module_version": "1.2.0",
            "_view_name": "LayoutView",
            "align_content": null,
            "align_items": null,
            "align_self": null,
            "border": null,
            "bottom": null,
            "display": null,
            "flex": null,
            "flex_flow": null,
            "grid_area": null,
            "grid_auto_columns": null,
            "grid_auto_flow": null,
            "grid_auto_rows": null,
            "grid_column": null,
            "grid_gap": null,
            "grid_row": null,
            "grid_template_areas": null,
            "grid_template_columns": null,
            "grid_template_rows": null,
            "height": null,
            "justify_content": null,
            "justify_items": null,
            "left": null,
            "margin": null,
            "max_height": null,
            "max_width": null,
            "min_height": null,
            "min_width": null,
            "object_fit": null,
            "object_position": null,
            "order": null,
            "overflow": null,
            "overflow_x": null,
            "overflow_y": null,
            "padding": null,
            "right": null,
            "top": null,
            "visibility": null,
            "width": null
          }
        },
        "44d2c210d6a44f14ada626647e145d65": {
          "model_module": "@jupyter-widgets/controls",
          "model_name": "DescriptionStyleModel",
          "model_module_version": "1.5.0",
          "state": {
            "_model_module": "@jupyter-widgets/controls",
            "_model_module_version": "1.5.0",
            "_model_name": "DescriptionStyleModel",
            "_view_count": null,
            "_view_module": "@jupyter-widgets/base",
            "_view_module_version": "1.2.0",
            "_view_name": "StyleView",
            "description_width": ""
          }
        }
      }
    }
  },
  "nbformat": 4,
  "nbformat_minor": 0
}