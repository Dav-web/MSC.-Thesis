{
  "cells": [
    {
      "cell_type": "markdown",
      "metadata": {
        "id": "view-in-github",
        "colab_type": "text"
      },
      "source": [
        "<a href=\"https://colab.research.google.com/github/Dav-web/MSC.-Thesis/blob/main/AE_clustering_TFIDF.ipynb\" target=\"_parent\"><img src=\"https://colab.research.google.com/assets/colab-badge.svg\" alt=\"Open In Colab\"/></a>"
      ]
    },
    {
      "cell_type": "markdown",
      "source": [
        "## Text Clustering Using AutoEncoder and TF-IDF vectors"
      ],
      "metadata": {
        "id": "lHKHKPeWnCjG"
      }
    },
    {
      "cell_type": "code",
      "execution_count": null,
      "metadata": {
        "colab": {
          "base_uri": "https://localhost:8080/"
        },
        "id": "P33Qke_75ID2",
        "outputId": "85766e0a-3ef8-4a20-9ca1-866c46e7ba08"
      },
      "outputs": [
        {
          "output_type": "stream",
          "name": "stdout",
          "text": [
            "Drive already mounted at /content/gdrive; to attempt to forcibly remount, call drive.mount(\"/content/gdrive\", force_remount=True).\n"
          ]
        }
      ],
      "source": [
        "# mount the google drive to read in data\n",
        "from google.colab import drive\n",
        "drive.mount('/content/gdrive')"
      ]
    },
    {
      "cell_type": "code",
      "execution_count": null,
      "metadata": {
        "id": "gy0-CWT45LmV"
      },
      "outputs": [],
      "source": [
        "# define file path on google drive\n",
        "root_path = '/content/gdrive/My Drive/covidvaccine.csv'"
      ]
    },
    {
      "cell_type": "markdown",
      "source": [
        "## Import LIbraries and Helper Functions"
      ],
      "metadata": {
        "id": "LO70A7Q7nQte"
      }
    },
    {
      "cell_type": "code",
      "execution_count": null,
      "metadata": {
        "colab": {
          "base_uri": "https://localhost:8080/"
        },
        "id": "CHciUtbZ5Sys",
        "outputId": "90cad4f4-e1dc-436c-814b-8b982d197119"
      },
      "outputs": [
        {
          "output_type": "stream",
          "name": "stdout",
          "text": [
            "[nltk_data] Downloading package punkt to /root/nltk_data...\n",
            "[nltk_data]   Package punkt is already up-to-date!\n",
            "[nltk_data] Downloading package stopwords to /root/nltk_data...\n",
            "[nltk_data]   Package stopwords is already up-to-date!\n",
            "Requirement already satisfied: emoji in /usr/local/lib/python3.7/dist-packages (1.7.0)\n",
            "[nltk_data] Downloading package words to /root/nltk_data...\n",
            "[nltk_data]   Package words is already up-to-date!\n"
          ]
        }
      ],
      "source": [
        "from sklearn.feature_extraction.text import TfidfVectorizer, CountVectorizer, TfidfTransformer\n",
        "from sklearn.cluster import k_means\n",
        "import re\n",
        "import numpy as np \n",
        "import pandas as pd\n",
        "import pandas as pd\n",
        "import numpy as np\n",
        "import sys\n",
        "import json\n",
        "import re\n",
        "import copy\n",
        "import math\n",
        "\n",
        "#for text cleaning\n",
        "import string\n",
        "import re\n",
        "import nltk\n",
        "import itertools as it\n",
        "import logging\n",
        "import os\n",
        "import sys\n",
        "nltk.download('punkt')\n",
        "nltk.download('stopwords')\n",
        "from nltk.tokenize import word_tokenize\n",
        "from nltk.stem import PorterStemmer\n",
        "from nltk.corpus import stopwords\n",
        "from nltk.util import everygrams\n",
        "from nltk.tokenize.casual import TweetTokenizer\n",
        "from collections import Counter\n",
        "!pip install emoji\n",
        "import emoji\n",
        "nltk.download('words')\n",
        "words = set(nltk.corpus.words.words())\n",
        "from gensim.utils import simple_preprocess\n",
        "\n",
        "import matplotlib\n",
        "import seaborn as sns\n",
        "import matplotlib.pyplot as plt\n",
        "from textblob import TextBlob \n",
        "from wordcloud import WordCloud, STOPWORDS\n",
        "import warnings\n",
        "warnings.simplefilter(\"ignore\")\n",
        "%matplotlib inline\n",
        "pd.set_option('display.max_colwidth', 400)"
      ]
    },
    {
      "cell_type": "markdown",
      "source": [
        "## Read in data from the data source (Google drive)"
      ],
      "metadata": {
        "id": "t-6D6GSooIHN"
      }
    },
    {
      "cell_type": "code",
      "execution_count": null,
      "metadata": {
        "colab": {
          "base_uri": "https://localhost:8080/",
          "height": 617
        },
        "id": "fHrf3shf5f-p",
        "outputId": "0ce1549b-e69f-4fae-e86d-7d599de617c2"
      },
      "outputs": [
        {
          "output_type": "execute_result",
          "data": {
            "text/plain": [
              "                 user_name              user_location  \\\n",
              "0                 MyNewsNE                      Assam   \n",
              "1            Shubham Gupta                        NaN   \n",
              "2  Journal of Infectiology                        NaN   \n",
              "3                     Zane                        NaN   \n",
              "4       Ann-Maree O’Connor  Adelaide, South Australia   \n",
              "\n",
              "                                                                                                                                                  user_description  \\\n",
              "0                                                                                         MyNewsNE a dedicated multi-lingual media house from North Eastern India.   \n",
              "1                                                                  I will tell about all experiences of my life from my videos hope that you all like the videos 🙂   \n",
              "2  Journal of Infectiology (ISSN 2689-9981) is accepting submissions for an upcoming Volume 3 Issue 2. For further queries contact editor@infectiologyjournal.com.   \n",
              "3                                                                                                                                                Fresher than you.   \n",
              "4           Retired university administrator. Melburnian by birth, now living in Adelaide. Look back fondly to the Whitlam years; one of Keating’s true believers.   \n",
              "\n",
              "       user_created  user_followers user_friends user_favourites  \\\n",
              "0  24-05-2020 10:18            64.0         11.0           110.0   \n",
              "1  14-08-2020 16:42             1.0         17.0             0.0   \n",
              "2  14-12-2017 07:07           143.0        566.0             8.0   \n",
              "3  18-09-2019 11:01            29.0         25.0           620.0   \n",
              "4  24-01-2013 14:53            83.0        497.0         10737.0   \n",
              "\n",
              "  user_verified              date  \\\n",
              "0         False  18-08-2020 12:55   \n",
              "1         False  18-08-2020 12:55   \n",
              "2         False  18-08-2020 12:46   \n",
              "3         False  18-08-2020 12:45   \n",
              "4         False  18-08-2020 12:45   \n",
              "\n",
              "                                                                                                                                           text  \\\n",
              "0              Australia to Manufacture Covid-19 Vaccine and give it to the Citizens for free of cost: AFP quotes Prime Minister\\n#CovidVaccine   \n",
              "1                                         #CoronavirusVaccine #CoronaVaccine #CovidVaccine Australia is doing very good https://t.co/kBT7l6pArY   \n",
              "2         Deaths due to COVID-19 in Affected Countries\\nRead More: https://t.co/V8Y3Stu0UW\\n@r_piryani @shitalbhandary… https://t.co/6jpMxX2KtI   \n",
              "3              @Team_Subhashree @subhashreesotwe @iamrajchoco Stay safe @subhashreesotwe di &amp; @iamrajchoco da ❤️❤️… https://t.co/ayhoaQm0Ls   \n",
              "4  @michellegrattan @ConversationEDU This is what passes for leadership in our country: a voucher for something that w… https://t.co/OUUb1PeYIj   \n",
              "\n",
              "                                                  hashtags  \\\n",
              "0                                         ['CovidVaccine']   \n",
              "1  ['CoronavirusVaccine', 'CoronaVaccine', 'CovidVaccine']   \n",
              "2                                                      NaN   \n",
              "3                                                      NaN   \n",
              "4                                                      NaN   \n",
              "\n",
              "                source is_retweet  \n",
              "0      Twitter Web App      False  \n",
              "1  Twitter for Android      False  \n",
              "2      Twitter Web App      False  \n",
              "3  Twitter for Android      False  \n",
              "4      Twitter Web App      False  "
            ],
            "text/html": [
              "\n",
              "  <div id=\"df-0581120f-5ea7-4cb5-9dad-60a253abc2da\">\n",
              "    <div class=\"colab-df-container\">\n",
              "      <div>\n",
              "<style scoped>\n",
              "    .dataframe tbody tr th:only-of-type {\n",
              "        vertical-align: middle;\n",
              "    }\n",
              "\n",
              "    .dataframe tbody tr th {\n",
              "        vertical-align: top;\n",
              "    }\n",
              "\n",
              "    .dataframe thead th {\n",
              "        text-align: right;\n",
              "    }\n",
              "</style>\n",
              "<table border=\"1\" class=\"dataframe\">\n",
              "  <thead>\n",
              "    <tr style=\"text-align: right;\">\n",
              "      <th></th>\n",
              "      <th>user_name</th>\n",
              "      <th>user_location</th>\n",
              "      <th>user_description</th>\n",
              "      <th>user_created</th>\n",
              "      <th>user_followers</th>\n",
              "      <th>user_friends</th>\n",
              "      <th>user_favourites</th>\n",
              "      <th>user_verified</th>\n",
              "      <th>date</th>\n",
              "      <th>text</th>\n",
              "      <th>hashtags</th>\n",
              "      <th>source</th>\n",
              "      <th>is_retweet</th>\n",
              "    </tr>\n",
              "  </thead>\n",
              "  <tbody>\n",
              "    <tr>\n",
              "      <th>0</th>\n",
              "      <td>MyNewsNE</td>\n",
              "      <td>Assam</td>\n",
              "      <td>MyNewsNE a dedicated multi-lingual media house from North Eastern India.</td>\n",
              "      <td>24-05-2020 10:18</td>\n",
              "      <td>64.0</td>\n",
              "      <td>11.0</td>\n",
              "      <td>110.0</td>\n",
              "      <td>False</td>\n",
              "      <td>18-08-2020 12:55</td>\n",
              "      <td>Australia to Manufacture Covid-19 Vaccine and give it to the Citizens for free of cost: AFP quotes Prime Minister\\n#CovidVaccine</td>\n",
              "      <td>['CovidVaccine']</td>\n",
              "      <td>Twitter Web App</td>\n",
              "      <td>False</td>\n",
              "    </tr>\n",
              "    <tr>\n",
              "      <th>1</th>\n",
              "      <td>Shubham Gupta</td>\n",
              "      <td>NaN</td>\n",
              "      <td>I will tell about all experiences of my life from my videos hope that you all like the videos 🙂</td>\n",
              "      <td>14-08-2020 16:42</td>\n",
              "      <td>1.0</td>\n",
              "      <td>17.0</td>\n",
              "      <td>0.0</td>\n",
              "      <td>False</td>\n",
              "      <td>18-08-2020 12:55</td>\n",
              "      <td>#CoronavirusVaccine #CoronaVaccine #CovidVaccine Australia is doing very good https://t.co/kBT7l6pArY</td>\n",
              "      <td>['CoronavirusVaccine', 'CoronaVaccine', 'CovidVaccine']</td>\n",
              "      <td>Twitter for Android</td>\n",
              "      <td>False</td>\n",
              "    </tr>\n",
              "    <tr>\n",
              "      <th>2</th>\n",
              "      <td>Journal of Infectiology</td>\n",
              "      <td>NaN</td>\n",
              "      <td>Journal of Infectiology (ISSN 2689-9981) is accepting submissions for an upcoming Volume 3 Issue 2. For further queries contact editor@infectiologyjournal.com.</td>\n",
              "      <td>14-12-2017 07:07</td>\n",
              "      <td>143.0</td>\n",
              "      <td>566.0</td>\n",
              "      <td>8.0</td>\n",
              "      <td>False</td>\n",
              "      <td>18-08-2020 12:46</td>\n",
              "      <td>Deaths due to COVID-19 in Affected Countries\\nRead More: https://t.co/V8Y3Stu0UW\\n@r_piryani @shitalbhandary… https://t.co/6jpMxX2KtI</td>\n",
              "      <td>NaN</td>\n",
              "      <td>Twitter Web App</td>\n",
              "      <td>False</td>\n",
              "    </tr>\n",
              "    <tr>\n",
              "      <th>3</th>\n",
              "      <td>Zane</td>\n",
              "      <td>NaN</td>\n",
              "      <td>Fresher than you.</td>\n",
              "      <td>18-09-2019 11:01</td>\n",
              "      <td>29.0</td>\n",
              "      <td>25.0</td>\n",
              "      <td>620.0</td>\n",
              "      <td>False</td>\n",
              "      <td>18-08-2020 12:45</td>\n",
              "      <td>@Team_Subhashree @subhashreesotwe @iamrajchoco Stay safe @subhashreesotwe di &amp;amp; @iamrajchoco da ❤️❤️… https://t.co/ayhoaQm0Ls</td>\n",
              "      <td>NaN</td>\n",
              "      <td>Twitter for Android</td>\n",
              "      <td>False</td>\n",
              "    </tr>\n",
              "    <tr>\n",
              "      <th>4</th>\n",
              "      <td>Ann-Maree O’Connor</td>\n",
              "      <td>Adelaide, South Australia</td>\n",
              "      <td>Retired university administrator. Melburnian by birth, now living in Adelaide. Look back fondly to the Whitlam years; one of Keating’s true believers.</td>\n",
              "      <td>24-01-2013 14:53</td>\n",
              "      <td>83.0</td>\n",
              "      <td>497.0</td>\n",
              "      <td>10737.0</td>\n",
              "      <td>False</td>\n",
              "      <td>18-08-2020 12:45</td>\n",
              "      <td>@michellegrattan @ConversationEDU This is what passes for leadership in our country: a voucher for something that w… https://t.co/OUUb1PeYIj</td>\n",
              "      <td>NaN</td>\n",
              "      <td>Twitter Web App</td>\n",
              "      <td>False</td>\n",
              "    </tr>\n",
              "  </tbody>\n",
              "</table>\n",
              "</div>\n",
              "      <button class=\"colab-df-convert\" onclick=\"convertToInteractive('df-0581120f-5ea7-4cb5-9dad-60a253abc2da')\"\n",
              "              title=\"Convert this dataframe to an interactive table.\"\n",
              "              style=\"display:none;\">\n",
              "        \n",
              "  <svg xmlns=\"http://www.w3.org/2000/svg\" height=\"24px\"viewBox=\"0 0 24 24\"\n",
              "       width=\"24px\">\n",
              "    <path d=\"M0 0h24v24H0V0z\" fill=\"none\"/>\n",
              "    <path d=\"M18.56 5.44l.94 2.06.94-2.06 2.06-.94-2.06-.94-.94-2.06-.94 2.06-2.06.94zm-11 1L8.5 8.5l.94-2.06 2.06-.94-2.06-.94L8.5 2.5l-.94 2.06-2.06.94zm10 10l.94 2.06.94-2.06 2.06-.94-2.06-.94-.94-2.06-.94 2.06-2.06.94z\"/><path d=\"M17.41 7.96l-1.37-1.37c-.4-.4-.92-.59-1.43-.59-.52 0-1.04.2-1.43.59L10.3 9.45l-7.72 7.72c-.78.78-.78 2.05 0 2.83L4 21.41c.39.39.9.59 1.41.59.51 0 1.02-.2 1.41-.59l7.78-7.78 2.81-2.81c.8-.78.8-2.07 0-2.86zM5.41 20L4 18.59l7.72-7.72 1.47 1.35L5.41 20z\"/>\n",
              "  </svg>\n",
              "      </button>\n",
              "      \n",
              "  <style>\n",
              "    .colab-df-container {\n",
              "      display:flex;\n",
              "      flex-wrap:wrap;\n",
              "      gap: 12px;\n",
              "    }\n",
              "\n",
              "    .colab-df-convert {\n",
              "      background-color: #E8F0FE;\n",
              "      border: none;\n",
              "      border-radius: 50%;\n",
              "      cursor: pointer;\n",
              "      display: none;\n",
              "      fill: #1967D2;\n",
              "      height: 32px;\n",
              "      padding: 0 0 0 0;\n",
              "      width: 32px;\n",
              "    }\n",
              "\n",
              "    .colab-df-convert:hover {\n",
              "      background-color: #E2EBFA;\n",
              "      box-shadow: 0px 1px 2px rgba(60, 64, 67, 0.3), 0px 1px 3px 1px rgba(60, 64, 67, 0.15);\n",
              "      fill: #174EA6;\n",
              "    }\n",
              "\n",
              "    [theme=dark] .colab-df-convert {\n",
              "      background-color: #3B4455;\n",
              "      fill: #D2E3FC;\n",
              "    }\n",
              "\n",
              "    [theme=dark] .colab-df-convert:hover {\n",
              "      background-color: #434B5C;\n",
              "      box-shadow: 0px 1px 3px 1px rgba(0, 0, 0, 0.15);\n",
              "      filter: drop-shadow(0px 1px 2px rgba(0, 0, 0, 0.3));\n",
              "      fill: #FFFFFF;\n",
              "    }\n",
              "  </style>\n",
              "\n",
              "      <script>\n",
              "        const buttonEl =\n",
              "          document.querySelector('#df-0581120f-5ea7-4cb5-9dad-60a253abc2da button.colab-df-convert');\n",
              "        buttonEl.style.display =\n",
              "          google.colab.kernel.accessAllowed ? 'block' : 'none';\n",
              "\n",
              "        async function convertToInteractive(key) {\n",
              "          const element = document.querySelector('#df-0581120f-5ea7-4cb5-9dad-60a253abc2da');\n",
              "          const dataTable =\n",
              "            await google.colab.kernel.invokeFunction('convertToInteractive',\n",
              "                                                     [key], {});\n",
              "          if (!dataTable) return;\n",
              "\n",
              "          const docLinkHtml = 'Like what you see? Visit the ' +\n",
              "            '<a target=\"_blank\" href=https://colab.research.google.com/notebooks/data_table.ipynb>data table notebook</a>'\n",
              "            + ' to learn more about interactive tables.';\n",
              "          element.innerHTML = '';\n",
              "          dataTable['output_type'] = 'display_data';\n",
              "          await google.colab.output.renderOutput(dataTable, element);\n",
              "          const docLink = document.createElement('div');\n",
              "          docLink.innerHTML = docLinkHtml;\n",
              "          element.appendChild(docLink);\n",
              "        }\n",
              "      </script>\n",
              "    </div>\n",
              "  </div>\n",
              "  "
            ]
          },
          "metadata": {},
          "execution_count": 4
        }
      ],
      "source": [
        "df = pd.read_csv(root_path)\n",
        "df.head()"
      ]
    },
    {
      "cell_type": "markdown",
      "source": [
        "## Exploratory data analysis"
      ],
      "metadata": {
        "id": "1YRBjTItoO1i"
      }
    },
    {
      "cell_type": "code",
      "execution_count": null,
      "metadata": {
        "colab": {
          "base_uri": "https://localhost:8080/"
        },
        "id": "E_rTS0Iq5lvS",
        "outputId": "14c473a8-7b79-4dbe-ed01-a35e6ac33f51"
      },
      "outputs": [
        {
          "output_type": "execute_result",
          "data": {
            "text/plain": [
              "(368588, 13)"
            ]
          },
          "metadata": {},
          "execution_count": 5
        }
      ],
      "source": [
        "df.shape"
      ]
    },
    {
      "cell_type": "code",
      "execution_count": null,
      "metadata": {
        "colab": {
          "base_uri": "https://localhost:8080/"
        },
        "id": "-CTVsHPH5mVC",
        "outputId": "53e44661-b6df-498d-9344-b0a52cced03a"
      },
      "outputs": [
        {
          "output_type": "stream",
          "name": "stdout",
          "text": [
            "<class 'pandas.core.frame.DataFrame'>\n",
            "RangeIndex: 368588 entries, 0 to 368587\n",
            "Data columns (total 13 columns):\n",
            " #   Column            Non-Null Count   Dtype  \n",
            "---  ------            --------------   -----  \n",
            " 0   user_name         368574 non-null  object \n",
            " 1   user_location     289065 non-null  object \n",
            " 2   user_description  348130 non-null  object \n",
            " 3   user_created      368563 non-null  object \n",
            " 4   user_followers    368549 non-null  float64\n",
            " 5   user_friends      368549 non-null  object \n",
            " 6   user_favourites   368549 non-null  object \n",
            " 7   user_verified     368549 non-null  object \n",
            " 8   date              368547 non-null  object \n",
            " 9   text              368549 non-null  object \n",
            " 10  hashtags          306913 non-null  object \n",
            " 11  source            366135 non-null  object \n",
            " 12  is_retweet        368526 non-null  object \n",
            "dtypes: float64(1), object(12)\n",
            "memory usage: 36.6+ MB\n"
          ]
        }
      ],
      "source": [
        "df.info()"
      ]
    },
    {
      "cell_type": "code",
      "execution_count": null,
      "metadata": {
        "colab": {
          "base_uri": "https://localhost:8080/",
          "height": 300
        },
        "id": "2TWTuYok5tLZ",
        "outputId": "43121823-a65b-492b-9f69-96d2ba8fb2fe"
      },
      "outputs": [
        {
          "output_type": "execute_result",
          "data": {
            "text/plain": [
              "       user_followers\n",
              "count    3.685490e+05\n",
              "mean     6.001895e+04\n",
              "std      7.028443e+05\n",
              "min      0.000000e+00\n",
              "25%      1.270000e+02\n",
              "50%      6.080000e+02\n",
              "75%      2.796000e+03\n",
              "max      1.658379e+07"
            ],
            "text/html": [
              "\n",
              "  <div id=\"df-925a2b56-abb2-43e1-a5ae-1ef20fdf6999\">\n",
              "    <div class=\"colab-df-container\">\n",
              "      <div>\n",
              "<style scoped>\n",
              "    .dataframe tbody tr th:only-of-type {\n",
              "        vertical-align: middle;\n",
              "    }\n",
              "\n",
              "    .dataframe tbody tr th {\n",
              "        vertical-align: top;\n",
              "    }\n",
              "\n",
              "    .dataframe thead th {\n",
              "        text-align: right;\n",
              "    }\n",
              "</style>\n",
              "<table border=\"1\" class=\"dataframe\">\n",
              "  <thead>\n",
              "    <tr style=\"text-align: right;\">\n",
              "      <th></th>\n",
              "      <th>user_followers</th>\n",
              "    </tr>\n",
              "  </thead>\n",
              "  <tbody>\n",
              "    <tr>\n",
              "      <th>count</th>\n",
              "      <td>3.685490e+05</td>\n",
              "    </tr>\n",
              "    <tr>\n",
              "      <th>mean</th>\n",
              "      <td>6.001895e+04</td>\n",
              "    </tr>\n",
              "    <tr>\n",
              "      <th>std</th>\n",
              "      <td>7.028443e+05</td>\n",
              "    </tr>\n",
              "    <tr>\n",
              "      <th>min</th>\n",
              "      <td>0.000000e+00</td>\n",
              "    </tr>\n",
              "    <tr>\n",
              "      <th>25%</th>\n",
              "      <td>1.270000e+02</td>\n",
              "    </tr>\n",
              "    <tr>\n",
              "      <th>50%</th>\n",
              "      <td>6.080000e+02</td>\n",
              "    </tr>\n",
              "    <tr>\n",
              "      <th>75%</th>\n",
              "      <td>2.796000e+03</td>\n",
              "    </tr>\n",
              "    <tr>\n",
              "      <th>max</th>\n",
              "      <td>1.658379e+07</td>\n",
              "    </tr>\n",
              "  </tbody>\n",
              "</table>\n",
              "</div>\n",
              "      <button class=\"colab-df-convert\" onclick=\"convertToInteractive('df-925a2b56-abb2-43e1-a5ae-1ef20fdf6999')\"\n",
              "              title=\"Convert this dataframe to an interactive table.\"\n",
              "              style=\"display:none;\">\n",
              "        \n",
              "  <svg xmlns=\"http://www.w3.org/2000/svg\" height=\"24px\"viewBox=\"0 0 24 24\"\n",
              "       width=\"24px\">\n",
              "    <path d=\"M0 0h24v24H0V0z\" fill=\"none\"/>\n",
              "    <path d=\"M18.56 5.44l.94 2.06.94-2.06 2.06-.94-2.06-.94-.94-2.06-.94 2.06-2.06.94zm-11 1L8.5 8.5l.94-2.06 2.06-.94-2.06-.94L8.5 2.5l-.94 2.06-2.06.94zm10 10l.94 2.06.94-2.06 2.06-.94-2.06-.94-.94-2.06-.94 2.06-2.06.94z\"/><path d=\"M17.41 7.96l-1.37-1.37c-.4-.4-.92-.59-1.43-.59-.52 0-1.04.2-1.43.59L10.3 9.45l-7.72 7.72c-.78.78-.78 2.05 0 2.83L4 21.41c.39.39.9.59 1.41.59.51 0 1.02-.2 1.41-.59l7.78-7.78 2.81-2.81c.8-.78.8-2.07 0-2.86zM5.41 20L4 18.59l7.72-7.72 1.47 1.35L5.41 20z\"/>\n",
              "  </svg>\n",
              "      </button>\n",
              "      \n",
              "  <style>\n",
              "    .colab-df-container {\n",
              "      display:flex;\n",
              "      flex-wrap:wrap;\n",
              "      gap: 12px;\n",
              "    }\n",
              "\n",
              "    .colab-df-convert {\n",
              "      background-color: #E8F0FE;\n",
              "      border: none;\n",
              "      border-radius: 50%;\n",
              "      cursor: pointer;\n",
              "      display: none;\n",
              "      fill: #1967D2;\n",
              "      height: 32px;\n",
              "      padding: 0 0 0 0;\n",
              "      width: 32px;\n",
              "    }\n",
              "\n",
              "    .colab-df-convert:hover {\n",
              "      background-color: #E2EBFA;\n",
              "      box-shadow: 0px 1px 2px rgba(60, 64, 67, 0.3), 0px 1px 3px 1px rgba(60, 64, 67, 0.15);\n",
              "      fill: #174EA6;\n",
              "    }\n",
              "\n",
              "    [theme=dark] .colab-df-convert {\n",
              "      background-color: #3B4455;\n",
              "      fill: #D2E3FC;\n",
              "    }\n",
              "\n",
              "    [theme=dark] .colab-df-convert:hover {\n",
              "      background-color: #434B5C;\n",
              "      box-shadow: 0px 1px 3px 1px rgba(0, 0, 0, 0.15);\n",
              "      filter: drop-shadow(0px 1px 2px rgba(0, 0, 0, 0.3));\n",
              "      fill: #FFFFFF;\n",
              "    }\n",
              "  </style>\n",
              "\n",
              "      <script>\n",
              "        const buttonEl =\n",
              "          document.querySelector('#df-925a2b56-abb2-43e1-a5ae-1ef20fdf6999 button.colab-df-convert');\n",
              "        buttonEl.style.display =\n",
              "          google.colab.kernel.accessAllowed ? 'block' : 'none';\n",
              "\n",
              "        async function convertToInteractive(key) {\n",
              "          const element = document.querySelector('#df-925a2b56-abb2-43e1-a5ae-1ef20fdf6999');\n",
              "          const dataTable =\n",
              "            await google.colab.kernel.invokeFunction('convertToInteractive',\n",
              "                                                     [key], {});\n",
              "          if (!dataTable) return;\n",
              "\n",
              "          const docLinkHtml = 'Like what you see? Visit the ' +\n",
              "            '<a target=\"_blank\" href=https://colab.research.google.com/notebooks/data_table.ipynb>data table notebook</a>'\n",
              "            + ' to learn more about interactive tables.';\n",
              "          element.innerHTML = '';\n",
              "          dataTable['output_type'] = 'display_data';\n",
              "          await google.colab.output.renderOutput(dataTable, element);\n",
              "          const docLink = document.createElement('div');\n",
              "          docLink.innerHTML = docLinkHtml;\n",
              "          element.appendChild(docLink);\n",
              "        }\n",
              "      </script>\n",
              "    </div>\n",
              "  </div>\n",
              "  "
            ]
          },
          "metadata": {},
          "execution_count": 7
        }
      ],
      "source": [
        "df.describe()"
      ]
    },
    {
      "cell_type": "markdown",
      "source": [
        "## Data Cleaning and Preprocessing"
      ],
      "metadata": {
        "id": "c9ppkFDhoXp6"
      }
    },
    {
      "cell_type": "code",
      "execution_count": null,
      "metadata": {
        "colab": {
          "base_uri": "https://localhost:8080/"
        },
        "id": "R-_3fUeu51J4",
        "outputId": "1ed9f2fe-f425-4f83-e078-d993b41c0929"
      },
      "outputs": [
        {
          "output_type": "stream",
          "name": "stdout",
          "text": [
            "Requirement already satisfied: emoji in /usr/local/lib/python3.7/dist-packages (1.7.0)\n",
            "[nltk_data] Downloading package words to /root/nltk_data...\n",
            "[nltk_data]   Package words is already up-to-date!\n"
          ]
        }
      ],
      "source": [
        "import pandas as pd\n",
        "import re\n",
        "!pip install emoji\n",
        "import emoji\n",
        "import nltk\n",
        "nltk.download('words')\n",
        "words = set(nltk.corpus.words.words())"
      ]
    },
    {
      "cell_type": "code",
      "execution_count": null,
      "metadata": {
        "id": "Q4z5Zao9gScw"
      },
      "outputs": [],
      "source": [
        "def replace_urls(in_string, replacement=None):\n",
        "    \"\"\"Replace URLs in strings. See also: ``bit.ly/PyURLre``\n",
        "\n",
        "    Args:\n",
        "        in_string (str): string to filter\n",
        "        replacement (str or None): replacment text. defaults to '<-URL->'\n",
        "\n",
        "    Returns:\n",
        "        str\n",
        "    \"\"\"\n",
        "    replacement = '<-URL->' if replacement is None else replacement\n",
        "    pattern = re.compile('(https?://)?(\\w*[.]\\w+)+([/?=&]+\\w+)*')\n",
        "    return re.sub(pattern, replacement, in_string)"
      ]
    },
    {
      "cell_type": "code",
      "execution_count": null,
      "metadata": {
        "colab": {
          "base_uri": "https://localhost:8080/",
          "height": 35
        },
        "id": "WscyQx6bkt5T",
        "outputId": "949b8363-ab01-4393-b425-12db51b05d9b"
      },
      "outputs": [
        {
          "output_type": "execute_result",
          "data": {
            "text/plain": [
              "'So glad it works \\n\\n#Covid_19 #covidph #RussianVaccine #CovidVaccine #PhilHealthcorruption <-URL->'"
            ],
            "application/vnd.google.colaboratory.intrinsic+json": {
              "type": "string"
            }
          },
          "metadata": {},
          "execution_count": 11
        }
      ],
      "source": [
        "replace_urls(df.text[51])"
      ]
    },
    {
      "cell_type": "code",
      "execution_count": null,
      "metadata": {
        "id": "knwn54q_gb2o"
      },
      "outputs": [],
      "source": [
        "def my_tokenizer(in_string):\n",
        "    \"\"\"\n",
        "    Convert `in_string` of text to a list of tokens using NLTK's TweetTokenizer\n",
        "    \"\"\"\n",
        "    # reasonable, but adjustable tokenizer settings\n",
        "    tokenizer = TweetTokenizer(preserve_case=False,\n",
        "                               reduce_len=True,\n",
        "                               strip_handles=False)\n",
        "    tokens = tokenizer.tokenize(in_string)\n",
        "    return tokens"
      ]
    },
    {
      "cell_type": "code",
      "execution_count": null,
      "metadata": {
        "colab": {
          "base_uri": "https://localhost:8080/"
        },
        "id": "bM8Mq6Apgyxu",
        "outputId": "0b8a2bef-fa6d-458c-fb4c-635f9b9463a6"
      },
      "outputs": [
        {
          "output_type": "execute_result",
          "data": {
            "text/plain": [
              "['so',\n",
              " 'glad',\n",
              " 'it',\n",
              " 'works',\n",
              " '#covid_19',\n",
              " '#covidph',\n",
              " '#russianvaccine',\n",
              " '#covidvaccine',\n",
              " '#philhealthcorruption',\n",
              " 'https://t.co/kpHnWweJ0i']"
            ]
          },
          "metadata": {},
          "execution_count": 13
        }
      ],
      "source": [
        "my_tokenizer(df.text[51])"
      ]
    },
    {
      "cell_type": "code",
      "execution_count": null,
      "metadata": {
        "id": "oM_XnBcYbYa0"
      },
      "outputs": [],
      "source": [
        "def make_punc_stopwords(max_length=4):\n",
        "    \"\"\"Generates punctuation 'words' up to\n",
        "    ``max_length`` characters.\n",
        "    \"\"\"\n",
        "    def punct_maker(length):\n",
        "        return ((''.join(x) for x in it.product(string.punctuation,\n",
        "                                                repeat=length)))\n",
        "    words = it.chain.from_iterable((punct_maker(length)\n",
        "                                    for length in range(max_length+1)))\n",
        "    return list(words)"
      ]
    },
    {
      "cell_type": "code",
      "execution_count": null,
      "metadata": {
        "colab": {
          "base_uri": "https://localhost:8080/"
        },
        "id": "utWtmYU0b_1-",
        "outputId": "a97e38af-8314-4915-9408-98f4028e5675"
      },
      "outputs": [
        {
          "output_type": "stream",
          "name": "stdout",
          "text": [
            "Requirement already satisfied: nltk in /usr/local/lib/python3.7/dist-packages (3.2.5)\n",
            "Requirement already satisfied: six in /usr/local/lib/python3.7/dist-packages (from nltk) (1.15.0)\n"
          ]
        }
      ],
      "source": [
        "!pip install nltk\n",
        "from nltk.corpus import stopwords\n",
        "my_stopwords = set(stopwords.words('english'))"
      ]
    },
    {
      "cell_type": "code",
      "execution_count": null,
      "metadata": {
        "colab": {
          "base_uri": "https://localhost:8080/"
        },
        "id": "V-KitW3gb3hd",
        "outputId": "5d3f2b6a-ddef-4495-9747-095a92545a13"
      },
      "outputs": [
        {
          "output_type": "stream",
          "name": "stdout",
          "text": [
            "current count of stopwords: 1082580\n",
            "example punctuation words:\n",
            " ['~~~[', '~~~\\\\', '~~~]', '~~~^', '~~~_', '~~~`', '~~~{', '~~~|', '~~~}', '~~~~']\n"
          ]
        }
      ],
      "source": [
        "my_stopwords = list(it.chain(my_stopwords, make_punc_stopwords(max_length=4)))\n",
        "\n",
        "print('current count of stopwords: {}'.format(len(my_stopwords)))\n",
        "print('example punctuation words:\\n {}'.format(my_stopwords[-10:]))"
      ]
    },
    {
      "cell_type": "code",
      "execution_count": null,
      "metadata": {
        "colab": {
          "base_uri": "https://localhost:8080/"
        },
        "id": "D74A43CiqOTU",
        "outputId": "b4528ec3-db4f-417c-efe0-1e16ed97d2ec"
      },
      "outputs": [
        {
          "output_type": "stream",
          "name": "stdout",
          "text": [
            "[nltk_data] Downloading package wordnet to /root/nltk_data...\n",
            "[nltk_data]   Package wordnet is already up-to-date!\n"
          ]
        }
      ],
      "source": [
        "import pandas as pd\n",
        "import re\n",
        "import gensim\n",
        "import nltk\n",
        "nltk.download('wordnet')\n",
        "from nltk.stem import WordNetLemmatizer\n",
        "# NLTK Stop words\n",
        "from nltk.corpus import stopwords\n",
        "stop_words = stopwords.words('english')\n",
        "stop_words.extend(['from', 'RT', 'amp', 'afp'])\n",
        "\n",
        "punctuation = '!\"$%&\\'()*+,-./:;<=>?[\\\\]^_`{|}~•@'         # define a string of punctuation symbols\n",
        "\n",
        "# Functions to clean tweets\n",
        "def remove_links(tweet):\n",
        "    \"\"\"Takes a string and removes web links from it\"\"\"\n",
        "    tweet = re.sub(r'http\\S+', '', tweet)   # remove http links\n",
        "    tweet = re.sub(r'bit.ly/\\S+', '', tweet)  # remove bitly links\n",
        "    tweet = tweet.strip('[link]')   # remove [links]\n",
        "    tweet = re.sub(r'pic.twitter\\S+','', tweet)\n",
        "    return tweet\n",
        "\n",
        "def remove_users(tweet):\n",
        "    \"\"\"Takes a string and removes retweet and @user information\"\"\"\n",
        "    tweet = re.sub('(RT\\s@[A-Za-z]+[A-Za-z0-9-_]+)', '', str(tweet))  # remove re-tweet\n",
        "    tweet = re.sub('(@[A-Za-z]+[A-Za-z0-9-_]+)', '', str(tweet))  # remove tweeted at\n",
        "    return tweet\n",
        "\n",
        "def remove_hashtags(tweet):\n",
        "    \"\"\"Takes a string and removes any hash tags\"\"\"\n",
        "    #Remove hashtag sign but keep the text\n",
        "    #tweet = tweet.replace(\"#\", \"\").replace(\"_\", \" \") \n",
        "    tweet = re.sub('(#[A-Za-z]+[A-Za-z0-9-_]+)', '', tweet)  # remove hash tags\n",
        "    return tweet\n",
        "\n",
        "def remove_av(tweet):\n",
        "    \"\"\"Takes a string and removes AUDIO/VIDEO tags or labels\"\"\"\n",
        "    tweet = re.sub('VIDEO:', '', tweet)  # remove 'VIDEO:' from start of tweet\n",
        "    tweet = re.sub('AUDIO:', '', tweet)  # remove 'AUDIO:' from start of tweet\n",
        "    return tweet\n",
        "\n",
        "def tokenize(tweet):\n",
        "    \"\"\"Returns tokenized representation of words in lemma form excluding stopwords\"\"\"\n",
        "    result = []\n",
        "    for token in gensim.utils.simple_preprocess(tweet, deacc=True, min_len=2):  # drops words with less than 3 characters\n",
        "            result.append(lemmatize(token))\n",
        "    return result\n",
        "\n",
        "def lemmatize(token):\n",
        "    \"\"\"Returns lemmatization of a token\"\"\"\n",
        "    return WordNetLemmatizer().lemmatize(token, pos='v')\n",
        "\n",
        "def preprocess_tweet(tweet):\n",
        "    \"\"\"Main master function to clean tweets, stripping noisy characters, and tokenizing use lemmatization\"\"\"\n",
        "    tweet = remove_users(tweet)\n",
        "    tweet = remove_links(tweet)\n",
        "    tweet = remove_hashtags(tweet)\n",
        "    tweet = remove_av(tweet)\n",
        "    tweet = tweet.lower()  # lower case\n",
        "    tweet = re.sub('[' + punctuation + ']+', ' ', tweet)  # strip punctuation\n",
        "    tweet = re.sub('\\s+', ' ', tweet)  # remove double spacing\n",
        "    tweet = re.sub('([0-9]+)', '', tweet)  # remove numbers\n",
        "    tweet_token_list = tokenize(tweet)  # apply lemmatization and tokenization\n",
        "    tweet = ' '.join(tweet_token_list)\n",
        "    return tweet"
      ]
    },
    {
      "cell_type": "code",
      "execution_count": null,
      "metadata": {
        "id": "2eavXYwKqhmK"
      },
      "outputs": [],
      "source": [
        "df['tweet'] = df['text'].map(lambda x: preprocess_tweet(x))"
      ]
    },
    {
      "cell_type": "code",
      "execution_count": null,
      "metadata": {
        "colab": {
          "base_uri": "https://localhost:8080/",
          "height": 320
        },
        "id": "bRYVUtlrsLrz",
        "outputId": "7b0b9cf1-f713-4147-dac4-ad3f0382b20a"
      },
      "outputs": [
        {
          "output_type": "execute_result",
          "data": {
            "text/plain": [
              "                                                                                                          tweet  \\\n",
              "0  australia to manufacture covid vaccine and give it to the citizens for free of cost afp quote prime minister   \n",
              "1                                                                                     australia be do very good   \n",
              "2                                                             deaths due to covid in affect countries read more   \n",
              "3                                                                                           stay safe di amp da   \n",
              "4                                    this be what pass for leadership in our country voucher for something that   \n",
              "\n",
              "                                                                                                                                           text  \n",
              "0              Australia to Manufacture Covid-19 Vaccine and give it to the Citizens for free of cost: AFP quotes Prime Minister\\n#CovidVaccine  \n",
              "1                                         #CoronavirusVaccine #CoronaVaccine #CovidVaccine Australia is doing very good https://t.co/kBT7l6pArY  \n",
              "2         Deaths due to COVID-19 in Affected Countries\\nRead More: https://t.co/V8Y3Stu0UW\\n@r_piryani @shitalbhandary… https://t.co/6jpMxX2KtI  \n",
              "3              @Team_Subhashree @subhashreesotwe @iamrajchoco Stay safe @subhashreesotwe di &amp; @iamrajchoco da ❤️❤️… https://t.co/ayhoaQm0Ls  \n",
              "4  @michellegrattan @ConversationEDU This is what passes for leadership in our country: a voucher for something that w… https://t.co/OUUb1PeYIj  "
            ],
            "text/html": [
              "\n",
              "  <div id=\"df-86a404ca-eb84-4175-9fde-bc0410dd71a3\">\n",
              "    <div class=\"colab-df-container\">\n",
              "      <div>\n",
              "<style scoped>\n",
              "    .dataframe tbody tr th:only-of-type {\n",
              "        vertical-align: middle;\n",
              "    }\n",
              "\n",
              "    .dataframe tbody tr th {\n",
              "        vertical-align: top;\n",
              "    }\n",
              "\n",
              "    .dataframe thead th {\n",
              "        text-align: right;\n",
              "    }\n",
              "</style>\n",
              "<table border=\"1\" class=\"dataframe\">\n",
              "  <thead>\n",
              "    <tr style=\"text-align: right;\">\n",
              "      <th></th>\n",
              "      <th>tweet</th>\n",
              "      <th>text</th>\n",
              "    </tr>\n",
              "  </thead>\n",
              "  <tbody>\n",
              "    <tr>\n",
              "      <th>0</th>\n",
              "      <td>australia to manufacture covid vaccine and give it to the citizens for free of cost afp quote prime minister</td>\n",
              "      <td>Australia to Manufacture Covid-19 Vaccine and give it to the Citizens for free of cost: AFP quotes Prime Minister\\n#CovidVaccine</td>\n",
              "    </tr>\n",
              "    <tr>\n",
              "      <th>1</th>\n",
              "      <td>australia be do very good</td>\n",
              "      <td>#CoronavirusVaccine #CoronaVaccine #CovidVaccine Australia is doing very good https://t.co/kBT7l6pArY</td>\n",
              "    </tr>\n",
              "    <tr>\n",
              "      <th>2</th>\n",
              "      <td>deaths due to covid in affect countries read more</td>\n",
              "      <td>Deaths due to COVID-19 in Affected Countries\\nRead More: https://t.co/V8Y3Stu0UW\\n@r_piryani @shitalbhandary… https://t.co/6jpMxX2KtI</td>\n",
              "    </tr>\n",
              "    <tr>\n",
              "      <th>3</th>\n",
              "      <td>stay safe di amp da</td>\n",
              "      <td>@Team_Subhashree @subhashreesotwe @iamrajchoco Stay safe @subhashreesotwe di &amp;amp; @iamrajchoco da ❤️❤️… https://t.co/ayhoaQm0Ls</td>\n",
              "    </tr>\n",
              "    <tr>\n",
              "      <th>4</th>\n",
              "      <td>this be what pass for leadership in our country voucher for something that</td>\n",
              "      <td>@michellegrattan @ConversationEDU This is what passes for leadership in our country: a voucher for something that w… https://t.co/OUUb1PeYIj</td>\n",
              "    </tr>\n",
              "  </tbody>\n",
              "</table>\n",
              "</div>\n",
              "      <button class=\"colab-df-convert\" onclick=\"convertToInteractive('df-86a404ca-eb84-4175-9fde-bc0410dd71a3')\"\n",
              "              title=\"Convert this dataframe to an interactive table.\"\n",
              "              style=\"display:none;\">\n",
              "        \n",
              "  <svg xmlns=\"http://www.w3.org/2000/svg\" height=\"24px\"viewBox=\"0 0 24 24\"\n",
              "       width=\"24px\">\n",
              "    <path d=\"M0 0h24v24H0V0z\" fill=\"none\"/>\n",
              "    <path d=\"M18.56 5.44l.94 2.06.94-2.06 2.06-.94-2.06-.94-.94-2.06-.94 2.06-2.06.94zm-11 1L8.5 8.5l.94-2.06 2.06-.94-2.06-.94L8.5 2.5l-.94 2.06-2.06.94zm10 10l.94 2.06.94-2.06 2.06-.94-2.06-.94-.94-2.06-.94 2.06-2.06.94z\"/><path d=\"M17.41 7.96l-1.37-1.37c-.4-.4-.92-.59-1.43-.59-.52 0-1.04.2-1.43.59L10.3 9.45l-7.72 7.72c-.78.78-.78 2.05 0 2.83L4 21.41c.39.39.9.59 1.41.59.51 0 1.02-.2 1.41-.59l7.78-7.78 2.81-2.81c.8-.78.8-2.07 0-2.86zM5.41 20L4 18.59l7.72-7.72 1.47 1.35L5.41 20z\"/>\n",
              "  </svg>\n",
              "      </button>\n",
              "      \n",
              "  <style>\n",
              "    .colab-df-container {\n",
              "      display:flex;\n",
              "      flex-wrap:wrap;\n",
              "      gap: 12px;\n",
              "    }\n",
              "\n",
              "    .colab-df-convert {\n",
              "      background-color: #E8F0FE;\n",
              "      border: none;\n",
              "      border-radius: 50%;\n",
              "      cursor: pointer;\n",
              "      display: none;\n",
              "      fill: #1967D2;\n",
              "      height: 32px;\n",
              "      padding: 0 0 0 0;\n",
              "      width: 32px;\n",
              "    }\n",
              "\n",
              "    .colab-df-convert:hover {\n",
              "      background-color: #E2EBFA;\n",
              "      box-shadow: 0px 1px 2px rgba(60, 64, 67, 0.3), 0px 1px 3px 1px rgba(60, 64, 67, 0.15);\n",
              "      fill: #174EA6;\n",
              "    }\n",
              "\n",
              "    [theme=dark] .colab-df-convert {\n",
              "      background-color: #3B4455;\n",
              "      fill: #D2E3FC;\n",
              "    }\n",
              "\n",
              "    [theme=dark] .colab-df-convert:hover {\n",
              "      background-color: #434B5C;\n",
              "      box-shadow: 0px 1px 3px 1px rgba(0, 0, 0, 0.15);\n",
              "      filter: drop-shadow(0px 1px 2px rgba(0, 0, 0, 0.3));\n",
              "      fill: #FFFFFF;\n",
              "    }\n",
              "  </style>\n",
              "\n",
              "      <script>\n",
              "        const buttonEl =\n",
              "          document.querySelector('#df-86a404ca-eb84-4175-9fde-bc0410dd71a3 button.colab-df-convert');\n",
              "        buttonEl.style.display =\n",
              "          google.colab.kernel.accessAllowed ? 'block' : 'none';\n",
              "\n",
              "        async function convertToInteractive(key) {\n",
              "          const element = document.querySelector('#df-86a404ca-eb84-4175-9fde-bc0410dd71a3');\n",
              "          const dataTable =\n",
              "            await google.colab.kernel.invokeFunction('convertToInteractive',\n",
              "                                                     [key], {});\n",
              "          if (!dataTable) return;\n",
              "\n",
              "          const docLinkHtml = 'Like what you see? Visit the ' +\n",
              "            '<a target=\"_blank\" href=https://colab.research.google.com/notebooks/data_table.ipynb>data table notebook</a>'\n",
              "            + ' to learn more about interactive tables.';\n",
              "          element.innerHTML = '';\n",
              "          dataTable['output_type'] = 'display_data';\n",
              "          await google.colab.output.renderOutput(dataTable, element);\n",
              "          const docLink = document.createElement('div');\n",
              "          docLink.innerHTML = docLinkHtml;\n",
              "          element.appendChild(docLink);\n",
              "        }\n",
              "      </script>\n",
              "    </div>\n",
              "  </div>\n",
              "  "
            ]
          },
          "metadata": {},
          "execution_count": 19
        }
      ],
      "source": [
        "pd.set_option('display.max_colwidth', 400)\n",
        "df[['tweet', 'text']].head()"
      ]
    },
    {
      "cell_type": "markdown",
      "source": [
        "## Build the TF-IDF Vectors for the Data Clustering Task"
      ],
      "metadata": {
        "id": "c90jpu8eobUV"
      }
    },
    {
      "cell_type": "code",
      "execution_count": null,
      "metadata": {
        "id": "5BhbSkTdDZcj"
      },
      "outputs": [],
      "source": [
        "unique_tweet_cnt = len(set(df.text))"
      ]
    },
    {
      "cell_type": "code",
      "execution_count": null,
      "metadata": {
        "id": "dpgoB62IoBVP"
      },
      "outputs": [],
      "source": [
        "vec = TfidfVectorizer(min_df=2,\n",
        "                      stop_words=my_stopwords,\n",
        "                      max_features=unique_tweet_cnt//100,\n",
        "                     )"
      ]
    },
    {
      "cell_type": "code",
      "execution_count": null,
      "metadata": {
        "id": "C1bikI8xoRwA"
      },
      "outputs": [],
      "source": [
        "tfidf_matrix = vec.fit_transform(df['tweet'].values.astype(str))"
      ]
    },
    {
      "cell_type": "code",
      "execution_count": null,
      "metadata": {
        "colab": {
          "base_uri": "https://localhost:8080/"
        },
        "id": "witU9nvurQwb",
        "outputId": "e9968d3c-7942-4183-a8c8-ac166a9b8dc6"
      },
      "outputs": [
        {
          "output_type": "stream",
          "name": "stdout",
          "text": [
            "(368588, 3682)\n",
            "<class 'scipy.sparse.csr.csr_matrix'>\n"
          ]
        },
        {
          "output_type": "execute_result",
          "data": {
            "text/plain": [
              "(None, None)"
            ]
          },
          "metadata": {},
          "execution_count": 23
        }
      ],
      "source": [
        "print(tfidf_matrix.shape), print(type(tfidf_matrix))"
      ]
    },
    {
      "cell_type": "code",
      "execution_count": null,
      "metadata": {
        "colab": {
          "base_uri": "https://localhost:8080/"
        },
        "id": "p5AsMWzzoqPy",
        "outputId": "987fd62b-140b-4b0f-c4d1-46a446d7adf8"
      },
      "outputs": [
        {
          "output_type": "execute_result",
          "data": {
            "text/plain": [
              "<368588x3682 sparse matrix of type '<class 'numpy.float64'>'\n",
              "\twith 2976917 stored elements in Compressed Sparse Row format>"
            ]
          },
          "metadata": {},
          "execution_count": 24
        }
      ],
      "source": [
        "tfidf_matrix"
      ]
    },
    {
      "cell_type": "code",
      "execution_count": null,
      "metadata": {
        "colab": {
          "base_uri": "https://localhost:8080/"
        },
        "id": "PVexpWmChGPy",
        "outputId": "8bbfd2f8-c043-4b30-dd32-44bd70c96b34"
      },
      "outputs": [
        {
          "output_type": "stream",
          "name": "stdout",
          "text": [
            "{'australia': 260, 'manufacture': 1975, 'covid': 778, 'vaccine': 3463, 'give': 1406, 'citizens': 594, 'free': 1343, 'cost': 756, 'quote': 2632, 'prime': 2534, 'minister': 2059, 'good': 1419, 'deaths': 857, 'due': 1017, 'affect': 75, 'countries': 763, 'read': 2661, 'stay': 3103, 'safe': 2843, 'di': 924, 'amp': 142, 'da': 826, 'pass': 2354, 'leadership': 1868, 'country': 764, 'something': 3043, 'multi': 2122, 'system': 3202, 'syndrome': 3200, 'children': 574, 'disease': 957, 'well': 3584, 'let': 1885, 'qualify': 2617, 'would': 3644, 'anyone': 173, 'party': 2353, 'get': 1400, 'rush': 2835, 'test': 3247, 'come': 658, 'russia': 2836, 'without': 3619, 'ability': 4, 'make': 1962, 'locally': 1915, 'force': 1318, 'rely': 2732, 'others': 2299, 'like': 1902, 'us': 3438, 'china': 576, 'zoom': 3679, 'chart': 556, 'st': 3083, 'week': 3575, 'hear': 1513, 'episode': 1110, 'executive': 1171, 'contract': 731, 'coronavirus': 748, 'inform': 1697, 'twitter': 3382, 'great': 1448, 'news': 2185, 'enter': 1102, 'phase': 2410, 'trial': 3357, 'dangerous': 835, 'yet': 3661, 'whole': 3596, 'narrative': 2145, 'go': 1412, 'silent': 2983, 'look': 1930, 'raise': 2641, 'billion': 361, 'around': 215, 'rs': 2828, 'crore': 800, 'development': 921, 'global': 1409, 'tracker': 3335, 'update': 3427, 'american': 136, 'root': 2818, 'lead': 1865, 'attend': 253, 'also': 128, 'world': 3638, 'first': 1291, 'thank': 3255, 'god': 1415, 'ineffective': 1687, 'thing': 3266, 'adopt': 61, 'search': 2889, 'chennai': 564, 'corona': 747, 'street': 3126, 'area': 207, 'wise': 3615, 'vaccinate': 3458, 'source': 3056, 'design': 910, 'mark': 1982, 'hall': 1477, 'nearly': 2165, 'second': 2893, 'wave': 3557, 'appear': 186, 'india': 1674, 'active': 37, 'confirm': 700, 'case': 511, 'see': 2901, 'state': 3096, 'list': 1907, 'study': 3140, 'show': 2968, 'antibodies': 163, 'sample': 2854, 'feature': 1249, 'today': 3308, 'award': 282, 'book': 394, 'record': 2686, 'pandemic': 2334, 'wor': 3631, 'pakistan': 2331, 'begin': 332, 'iii': 1626, 'clinical': 612, 'candidate': 485, 'english': 1096, 'period': 2387, 'click': 606, 'via': 3495, 'type': 3387, 'white': 3595, 'blood': 382, 'cell': 529, 'two': 3383, 'cells': 530, 'pro': 2546, 'omg': 2261, 'expose': 1191, 'ingredients': 1702, 'surprise': 3182, 'informative': 1699, 'kill': 1816, 'baby': 291, 'please': 2445, 'watch': 3555, 'candidates': 486, 'trials': 3358, 'infectious': 1691, 'next': 2187, 'days': 847, 'mean': 2005, 'already': 126, 'launch': 1857, 'single': 2991, 'vaccination': 3459, 'induce': 1685, 'immune': 1640, 'response': 2773, 'leak': 1869, 'russian': 2837, 'lab': 1830, 'serum': 2924, 'institute': 1725, 'start': 3094, 'trail': 3339, 'oxford': 2320, 'astrazeneca': 245, 'centre': 535, 'short': 2960, 'relate': 2720, 'special': 3065, 'session': 2927, 'outbreak': 2304, 'must': 2131, 'tell': 3232, 'matter': 1997, 'hard': 1490, 'decline': 869, 'daily': 828, 'rd': 2656, 'day': 846, 'row': 2826, 'human': 1600, 'video': 3504, 'link': 1906, 'grant': 1443, 'patent': 2358, 'underway': 3402, 'produce': 2555, 'batch': 317, 'vax': 3478, 'set': 2929, 'roll': 2813, 'august': 258, 'end': 1087, 'gonna': 1418, 'worst': 3642, 'president': 2520, 'time': 3300, 'years': 3656, 'clear': 604, 'feel': 1257, 'hop': 1566, 'scare': 2871, 'careful': 500, 'approve': 199, 'novel': 2218, 'similar': 2985, 'turkey': 3377, 'discuss': 954, 'national': 2148, 'expert': 1183, 'group': 1456, 'administration': 56, 'meet': 2017, 'domestic': 985, 'glad': 1407, 'work': 3633, 'usa': 3439, 'doctor': 979, 'wake': 3535, 'recovery': 2689, 'better': 349, 'sport': 3076, 'likely': 1903, 'hold': 1553, 'virtually': 3515, 'virus': 3516, 'adequate': 52, 'ready': 2662, 'long': 1928, 'wait': 3534, 'even': 1142, 'australian': 261, 'government': 1425, 'sign': 2977, 'advance': 65, 'purchase': 2611, 'agreement': 91, 'secure': 2898, 'never': 2181, 'greatest': 1450, 'fault': 1240, 'speak': 3064, 'peter': 2399, 'bay': 319, 'mandatory': 1973, 'school': 2876, 'avail': 272, 'nyc': 2228, 'report': 2745, 'beautiful': 327, 'heat': 1516, 'los': 1932, 'angeles': 148, 'pfizer': 2402, 'people': 2377, 'drug': 1013, 'placebo': 2432, 'ye': 3653, 'much': 2121, 'election': 1057, 'urge': 3435, 'everyone': 1150, 'wonder': 3625, 'mutation': 2134, 'might': 2043, 'impact': 1645, 'efficacy': 1046, 'latest': 1855, 'fly': 1305, 'grow': 1457, 'back': 292, 'brazil': 423, 'run': 2833, 'foundation': 1332, 'commence': 662, 'production': 2557, 'december': 864, 'initial': 1703, 'lockdowns': 1921, 'april': 204, 'either': 1052, 'vaxx': 3481, 'early': 1024, 'measure': 2008, 'saw': 2863, 'think': 3268, 'funny': 1369, 'add': 47, 'volunteer': 3527, 'need': 2168, 'uk': 3391, 'flu': 1304, 'currently': 818, 'months': 2098, 'protect': 2577, 'cannot': 487, 'however': 1589, 'provide': 2588, 'immunity': 1642, 'multiple': 2123, 'person': 2392, 'important': 1651, 'regard': 2705, 'federal': 1252, 'officials': 2250, 'california': 471, 'florida': 1302, 'north': 2208, 'develop': 920, 'plan': 2435, 'trust': 3370, 'receive': 2674, 'track': 3334, 'experimental': 1182, 'immediate': 1636, 'side': 2974, 'awareness': 284, 'tune': 3375, 'ten': 3238, 'vladimir': 3524, 'putin': 2616, 'recently': 2676, 'vaccines': 3464, 'wonderful': 3626, 'viruses': 3517, 'exist': 1177, 'soldier': 3034, 'say': 2864, 'nd': 2159, 'monday': 2090, 'mid': 2040, 'stage': 3088, 'question': 2624, 'successfully': 3152, 'parent': 2339, 'promise': 2569, 'email': 1071, 'arrive': 219, 'enrol': 1100, 'weekly': 3577, 'cure': 815, 'infect': 1688, 'postpone': 2490, 'large': 1848, 'number': 2221, 'life': 1898, 'risk': 2804, 'often': 2251, 'else': 1067, 'buy': 466, 'share': 2942, 'dip': 937, 'win': 3607, 'pt': 2597, 'could': 758, 'obviously': 2236, 'lack': 1833, 'fund': 1368, 'best': 347, 'data': 841, 'target': 3215, 'programme': 2566, 'among': 139, 'makers': 1964, 'reach': 2657, 'lakh': 1838, 'profit': 2564, 'want': 3544, 'live': 1911, 'job': 1780, 'progress': 2567, 'va': 3450, 'pay': 2366, 'cash': 512, 'tax': 3218, 'take': 3209, 'chance': 547, 'play': 2440, 'seek': 2902, 'cm': 627, 'donald': 986, 'trump': 3369, 'opportunity': 2277, 'ai': 94, 'notice': 2214, 'interest': 1734, 'emergency': 1074, 'limit': 1904, 'die': 929, 'every': 1147, 'month': 2096, 'slow': 3015, 'recruit': 2690, 'black': 374, 'delay': 882, 'huge': 1598, 'jab': 1764, 'film': 1278, 'freeze': 1346, 'pharmaceutical': 2405, 'platform': 2439, 'potential': 2491, 'attention': 254, 'hundreds': 1604, 'fear': 1247, 'solidarity': 3036, 'determine': 918, 'success': 3150, 'dont': 990, 'know': 1826, 'mask': 1987, 'hai': 1474, 'story': 3119, 'another': 159, 'biotech': 367, 'deal': 854, 'lot': 1935, 'eager': 1021, 'many': 1978, 'hesitant': 1529, 'war': 3545, 'find': 1285, 'strain': 3121, 'europe': 1138, 'star': 3093, 'market': 1983, 'company': 676, 'jump': 1798, 'hand': 1481, 'machine': 1949, 'budget': 448, 'prevent': 2525, 'register': 2710, 'regulatory': 2718, 'approval': 198, 'foreign': 1321, 'choose': 581, 'learn': 1870, 'oregon': 2289, 'step': 3105, 'humanity': 1601, 'pledge': 2448, 'flag': 1296, 'unite': 3409, 'america': 135, 'stand': 3090, 'one': 2263, 'nation': 2147, 'check': 561, 'unique': 3407, 'minimal': 2057, 'modern': 2081, 'business': 460, 'card': 496, 'constant': 720, 'developments': 922, 'freedom': 1344, 'rather': 2653, 'warriors': 3550, 'ones': 2264, 'heavy': 1517, 'warn': 3548, 'maharashtra': 1955, 'hope': 1567, 'th': 3252, 'major': 1960, 'safety': 2847, 'issue': 1761, 'science': 2877, 'technology': 3227, 'lecture': 1873, 'bbc': 320, 'race': 2634, 'unless': 3415, 'enough': 1099, 'final': 1281, 'predict': 2510, 'south': 3057, 'africa': 79, 'part': 2343, 'gate': 1382, 'novavax': 2217, 'invent': 1742, 'optimistic': 2283, 'genuinely': 1395, 'curious': 816, 'understand': 3401, 'still': 3110, 'counter': 761, 'min': 2054, 'kind': 1818, 'co': 629, 'inc': 1660, 'recover': 2687, 'patients': 2363, 'massive': 1990, 'anti': 162, 'body': 391, 'last': 1852, 'covi': 777, 'change': 548, 'course': 768, 'expand': 1178, 'partnership': 2351, 'man': 1968, 'original': 2298, 'genetic': 1392, 'code': 633, 'create': 788, 'chinese': 577, 'serious': 2922, 'new': 2182, 'club': 625, 'pick': 2420, 'wife': 3603, 'booster': 397, 'morning': 2101, 'shall': 2938, 'cake': 470, 'coffee': 636, 'thx': 3291, 'shout': 2966, 'release': 2724, 'four': 1334, 'athletes': 247, 'use': 3440, 'skills': 3004, 'year': 3655, 'accord': 22, 'health': 1510, 'stock': 3111, 'grind': 1453, 'zero': 3675, 'sunday': 3167, 'fresh': 1350, 'deadly': 853, 'discover': 952, 'literally': 1909, 'german': 1398, 'trade': 3336, 'worth': 3643, 'bntx': 389, 'mrna': 2118, 'nvax': 2225, 'ways': 3560, 'accept': 15, 'dna': 976, 'alter': 129, 'reliable': 2726, 'available': 274, 'scale': 2866, 'vaccinations': 3460, 'hkt': 1548, 'local': 1914, 'express': 1193, 'may': 2000, 'saturday': 2860, 'tamil': 3213, 'nadu': 2141, 'chief': 571, 'recognition': 2681, 'ban': 304, 'call': 473, 'republicans': 2750, 'probably': 2547, 'idea': 1617, 'sputnik': 3080, 'join': 1784, 'online': 2266, 'prize': 2545, 'winner': 3611, 'professor': 2562, 'decision': 866, 'recent': 2675, 'protein': 2580, 'base': 312, 'combat': 656, 'access': 18, 'vital': 3522, 'key': 1808, 'focus': 1307, 'goals': 1414, 'keep': 1805, 'indoor': 1683, 'situation': 2999, 'shit': 2955, 'anyway': 176, 'stick': 3108, 'sun': 3166, 'earlier': 1022, 'least': 1871, 'three': 3281, 'detect': 917, 'mutate': 2133, 'distribute': 968, 'vote': 3528, 'sure': 3176, 'tha': 3253, 'eligible': 1060, 'treat': 3353, 'diseases': 958, 'include': 1664, 'disorder': 963, 'loss': 1934, 'mexico': 2031, 'expect': 1179, 'break': 424, 'headline': 1508, 'inactivate': 1659, 'seem': 2903, 'generate': 1390, 'article': 223, 'oh': 2252, 'really': 2667, 'help': 1522, 'queue': 2625, 'anything': 174, 'right': 2799, 'men': 2024, 'alive': 112, 'en': 1084, 'bigger': 357, 'problems': 2550, 'late': 1853, 'follow': 1312, 'tweet': 3380, 'mild': 2046, 'moderate': 2080, 'beg': 331, 'towards': 3328, 'houston': 1588, 'center': 533, 'scientist': 2879, 'term': 3241, 'love': 1938, 'guy': 1471, 'peace': 2371, 'light': 1901, 'fresno': 1351, 'mother': 2107, 'nature': 2154, 'encourage': 1086, 'place': 2431, 'spring': 3079, 'leader': 1866, 'officially': 2249, 'million': 2052, 'dose': 994, 'highly': 1538, 'indian': 1675, 'nut': 2224, 'talk': 3210, 'shoot': 2957, 'mouth': 2111, 'somebody': 3040, 'population': 2477, 'admit': 59, 'wrong': 3648, 'especially': 1122, 'epidemiologist': 1109, 'sense': 2916, 'little': 1910, 'bite': 372, 'critical': 796, 'age': 85, 'dr': 1002, 'reddy': 2693, 'cov': 772, 'killer': 1817, 'cause': 519, 'damage': 830, 'wi': 3599, 'past': 2357, 'pretty': 2524, 'comparison': 678, 'sir': 2995, 'threat': 3278, 'fall': 1218, 'line': 1905, 'become': 328, 'social': 3030, 'word': 3632, 'greg': 1452, 'hunt': 1605, 'face': 1203, 'com': 655, 'hours': 1584, 'rate': 2652, 'reference': 2699, 'care': 498, 'ass': 231, 'rat': 2651, 'top': 3316, 'sars': 2858, 'distribution': 969, 'welcome': 3582, 'tourists': 3326, 'version': 3490, 'bore': 401, 'cross': 802, 'cover': 775, 'complete': 680, 'review': 2790, 'icymi': 1615, 'catch': 514, 'collect': 644, 'infection': 1689, 'spread': 3078, 'across': 34, 'tech': 3225, 'silver': 2984, 'action': 36, 'author': 263, 'reaction': 2659, 'someone': 3042, 'ask': 230, 'ivermectin': 1763, 'pharmacy': 2409, 'way': 3559, 'involve': 1749, 'various': 3475, 'stag': 3087, 'vaccin': 3455, 'persons': 2396, 'city': 595, 'district': 970, 'till': 3298, 'pm': 2453, 'true': 3367, 'put': 2615, 'students': 3139, 'govt': 1429, 'post': 2489, 'girls': 1405, 'wax': 3558, 'covaxin': 774, 'convince': 740, 'result': 2782, 'healthcare': 1511, 'partner': 2350, 'firm': 1290, 'whoop': 3597, 'ahead': 93, 'bring': 438, 'ev': 1140, 'director': 941, 'mass': 1988, 'offer': 2244, 'although': 131, 'manage': 1969, 'entry': 1106, 'name': 2143, 'third': 3269, 'price': 2530, 'rise': 2803, 'moment': 2087, 'announce': 155, 'oil': 2254, 'demand': 891, 'normal': 2204, 'within': 3618, 'discharge': 950, 'infrastructure': 1700, 'await': 280, 'agency': 87, 'several': 2931, 'tens': 3240, 'thousands': 3276, 'research': 2756, 'public': 2600, 'guest': 1463, 'bad': 294, 'current': 817, 'full': 1364, 'tiktok': 3296, 'precautions': 2508, 'reveal': 2788, 'happen': 1485, 'dec': 861, 'january': 1771, 'schedule': 2874, 'economy': 1034, 'address': 50, 'kindly': 1820, 'real': 2663, 'al': 102, 'minute': 2064, 'silence': 2982, 'modi': 2083, 'ago': 89, 'legal': 1876, 'screen': 2886, 'clue': 626, 'reopen': 2740, 'layer': 1863, 'sa': 2839, 'bharat': 353, 'vac': 3451, 'death': 856, 'toll': 3310, 'near': 2163, 'poll': 2471, 'strategies': 3123, 'management': 1970, 'digital': 935, 'medicine': 2015, 'challenge': 545, 'tr': 3332, 'powerful': 2495, 'civil': 597, 'engineer': 1094, 'mind': 2055, 'always': 132, 'believe': 338, 'everything': 1151, 'fee': 1254, 'faith': 1216, 'truth': 3371, 'move': 2112, 'panic': 2336, 'wow': 3645, 'project': 2568, 'bill': 360, 'microchip': 2038, 'respect': 2769, 'regulator': 2716, 'products': 2558, 'behind': 336, 'polio': 2465, 'bat': 316, 'policy': 2464, 'antibody': 164, 'bridge': 434, 'benefit': 343, 'old': 2258, 'kid': 1813, 'easy': 1031, 'quiet': 2629, 'write': 3647, 'whether': 3593, 'college': 647, 'explain': 1187, 'ap': 178, 'permanent': 2389, 'press': 2521, 'conference': 697, 'worldwide': 3639, 'crap': 784, 'wont': 3627, 'forget': 1325, 'underlie': 3399, 'imagine': 1635, 'claim': 598, 'aim': 97, 'scientists': 2880, 'bio': 364, 'remember': 2735, 'thread': 3277, 'narendra': 2144, 'nod': 2197, 'ok': 2255, 'sorry': 3052, 'crisis': 794, 'self': 2906, 'patience': 2361, 'away': 285, 'protocol': 2584, 'apply': 190, 'point': 2459, 'fail': 1213, 'deliver': 887, 'anger': 150, 'message': 2029, 'stats': 3101, 'hot': 1580, 'spot': 3077, 'decrease': 870, 'positive': 2484, 'summary': 3164, 'control': 734, 'staff': 3086, 'deputy': 905, 'resign': 2762, 'yes': 3659, 'cdc': 525, 'game': 1374, 'power': 2494, 'extremely': 1198, 'prepare': 2517, 'condition': 695, 'sound': 3055, 'announcement': 156, 'san': 2855, 'gain': 1373, 'fight': 1274, 'weeks': 3578, 'canada': 480, 'robust': 2810, 'information': 1698, 'fake': 1217, 'contribute': 732, 'successful': 3151, 'ministry': 2060, 'btw': 446, 'blue': 385, 'big': 356, 'red': 2691, 'maker': 1963, 'june': 1799, 'problem': 2549, 'cancer': 484, 'per': 2378, 'combine': 657, 'possible': 2487, 'simple': 2986, 'fo': 1306, 'na': 2140, 'indonesia': 1682, 'philippines': 2412, 'shield': 2949, 'media': 2010, 'sinopharm': 2993, 'trigger': 3360, 'fence': 1263, 'wall': 3540, 'far': 1228, 'different': 932, 'database': 842, 'member': 2020, 'mission': 2070, 'suppose': 3173, 'ever': 1146, 'herd': 1525, 'id': 1616, 'ensure': 1101, 'le': 1864, 'scam': 2867, 'governments': 1426, 'speech': 3069, 'range': 2646, 'eu': 1135, 'fauci': 1239, 'concern': 692, 'disparities': 964, 'pocket': 2456, 'conspiracy': 719, 'theory': 3262, 'mostly': 2106, 'asymptomatic': 246, 'soon': 3048, 'danger': 834, 'tip': 3304, 'style': 3144, 'guide': 1465, 'medical': 2011, 'practice': 2500, 'petition': 2400, 'restrictions': 2781, 'heroes': 1527, 'independent': 1673, 'sacrifice': 2840, 'rest': 2777, 'politician': 2467, 'happy': 1489, 'celebrate': 526, 'lockdown': 1920, 'heart': 1514, 'detail': 916, 'less': 1882, 'evidence': 1153, 'transmission': 3344, 'jan': 1769, 'appointment': 192, 'support': 3171, 'whatever': 3589, 'utter': 3449, 'friends': 1356, 'since': 2988, 'deadline': 852, 'fertility': 1265, 'soul': 3054, 'arrival': 218, 'almost': 122, 'sept': 2919, 'ruin': 2829, 'zombie': 3677, 'prove': 2587, 'fact': 1208, 'humans': 1602, 'edition': 1036, 'series': 2921, 'spike': 3072, 'tally': 3211, 'wish': 3616, 'citizen': 593, 'happiness': 1488, 'pray': 2503, 'asap': 225, 'optimism': 2282, 'ease': 1027, 'quarantine': 2619, 'capital': 493, 'region': 2708, 'scheme': 2875, 'straight': 3120, 'figure': 1275, 'november': 2219, 'green': 1451, 'level': 1888, 'signal': 2978, 'absolutely': 11, 'earth': 1026, 'bullshit': 453, 'wil': 3604, 'thoughts': 3274, 'excite': 1166, 'tv': 3379, 'survive': 3186, 'enemy': 1089, 'possibly': 2488, 'retire': 2785, 'try': 3372, 'sheeple': 2947, 'singh': 2990, 'rahul': 2639, 'gandhi': 1375, 'hell': 1520, 'king': 1821, 'vehicle': 3486, 'fda': 1245, 'ongoing': 2265, 'workers': 3635, 'require': 2752, 'employer': 1080, 'tire': 3305, 'hurry': 1606, 'safely': 2844, 'open': 2271, 'amid': 138, 'infections': 1690, 'double': 996, 'triple': 3362, 'options': 2285, 'cold': 639, 'chain': 542, 'shoulder': 2965, 'british': 441, 'feet': 1258, 'apart': 179, 'facebook': 1204, 'page': 2327, 'nobody': 2196, 'childhood': 573, 'injury': 1711, 'act': 35, 'sue': 3156, 'manufacturers': 1977, 'knowledge': 1827, 'expertise': 1184, 'decades': 862, 'round': 2823, 'absolute': 10, 'inside': 1718, 'founder': 1333, 'amaze': 133, 'channel': 550, 'youtube': 3669, 'moderna': 2082, 'johnson': 1783, 'lie': 1897, 'shots': 2964, 'front': 1358, 'percentage': 2380, 'actually': 43, 'listen': 1908, 'friend': 1354, 'americans': 137, 'distrust': 971, 'gov': 1424, 'island': 1756, 'along': 124, 'era': 1116, 'gas': 1381, 'continue': 730, 'tom': 3311, 'mike': 2044, 'mandate': 1972, 'instead': 1724, 'speed': 3070, 'participant': 2345, 'blow': 384, 'origin': 2297, 'team': 3223, 'identify': 1619, 'aug': 257, 'cnn': 628, 'reject': 2719, 'european': 1139, 'dear': 855, 'skip': 3006, 'ads': 62, 'unsafe': 3420, 'survey': 3184, 'suggest': 3160, 'committee': 669, 'de': 850, 'toxic': 3330, 'effective': 1043, 'close': 618, 'present': 2518, 'perspective': 2397, 'discussions': 956, 'ag': 84, 'pharma': 2404, 'vials': 3497, 'package': 2326, 'common': 670, 'confusion': 704, 'community': 674, 'con': 691, 'mom': 2086, 'maybe': 2001, 'wear': 3566, 'order': 2288, 'poison': 2460, 'drs': 1012, 'definitely': 878, 'forward': 1331, 'rapidly': 2649, 'divide': 973, 'taiwan': 3208, 'visit': 3519, 'immunization': 1643, 'consider': 716, 'treatment': 3354, 'hug': 1597, 'high': 1534, 'japan': 1772, 'proud': 2586, 'despite': 913, 'accuse': 27, 'small': 3017, 'jesus': 1776, 'nice': 2189, 'match': 1993, 'cant': 488, 'travel': 3350, 'dead': 851, 'tuesday': 3374, 'driver': 1009, 'return': 2786, 'negative': 2170, 'temporary': 3237, 'save': 2862, 'money': 2091, 'lessons': 1884, 'daughter': 844, 'coverage': 776, 'apparently': 184, 'priority': 2541, 'university': 3413, 'reverse': 2789, 'trend': 3356, 'equal': 1111, 'rich': 2793, 'poor': 2472, 'importance': 1650, 'occur': 2237, 'weird': 3581, 'total': 3320, 'september': 2920, 'vs': 3531, 'britain': 440, 'eight': 1051, 'goal': 1413, 'beat': 325, 'feb': 1250, 'credit': 789, 'western': 3587, 'sales': 2851, 'lady': 1835, 'opportunities': 2276, 'rare': 2650, 'effect': 1042, 'ii': 1625, 'reserve': 2759, 'fuck': 1362, 'season': 2890, 'administer': 54, 'positivity': 2485, 'friday': 1353, 'nationwide': 2151, 'commitment': 668, 'arm': 213, 'washington': 3552, 'invest': 1743, 'six': 3000, 'statement': 3097, 'facilitate': 1205, 'millions': 2053, 'refusal': 2703, 'example': 1160, 'journey': 1792, 'conclude': 694, 'janssen': 1770, 'supply': 3170, 'icmr': 1613, 'preliminary': 2514, 'camera': 475, 'display': 966, 'anthony': 161, 'effectiveness': 1045, 'visa': 3518, 'smart': 3020, 'relative': 2721, 'whatsapp': 3591, 'flight': 1298, 'cancel': 483, 'together': 3309, 'separate': 2918, 'biological': 365, 'deployment': 903, 'middle': 2041, 'low': 1940, 'nations': 2150, 'teachers': 3222, 'tomorrow': 3312, 'interview': 1740, 'strategy': 3124, 'beyond': 352, 'stupid': 3142, 'experts': 1185, 'worry': 3640, 'pre': 2505, 'mil': 2045, 'luck': 1944, 'goi': 1416, 'shri': 2969, 'stop': 3114, 'hate': 1501, 'politics': 2470, 'moon': 2099, 'senior': 2914, 'organization': 2294, 'conversation': 738, 'seriously': 2923, 'hit': 1546, 'reply': 2744, 'nov': 2216, 'shameful': 2941, 'answer': 160, 'england': 1095, 'wales': 3537, 'insist': 1721, 'everywhere': 1152, 'panel': 2335, 'logistics': 1924, 'ethical': 1132, 'joke': 1786, 'circulate': 590, 'etc': 1130, 'im': 1633, 'labor': 1832, 'earliest': 1023, 'doc': 977, 'rapid': 2648, 'demonstrate': 894, 'scientific': 2878, 'proper': 2574, 'pressure': 2522, 'reasonable': 2670, 'request': 2751, 'pls': 2450, 'house': 1585, 'outside': 2310, 'privilege': 2544, 'donate': 987, 'fortunate': 1329, 'worse': 3641, 'payment': 2367, 'march': 1981, 'concert': 693, 'participants': 2346, 'treatments': 3355, 'modify': 2085, 'eat': 1032, 'kinda': 1819, 'faster': 1232, 'boost': 396, 'elderly': 1054, 'vulnerable': 3532, 'populations': 2478, 'remain': 2733, 'assume': 241, 'essential': 1123, 'service': 2926, 'category': 515, 'followers': 1313, 'highest': 1536, 'things': 3267, 'eye': 1199, 'odd': 2241, 'politicians': 2468, 'leave': 1872, 'brainwash': 416, 'youth': 3668, 'behavior': 334, 'website': 3570, 'beware': 351, 'grand': 1438, 'usually': 3445, 'distance': 967, 'suddenly': 3155, 'doubt': 997, 'brand': 418, 'wo': 3622, 'finally': 1282, 'congrats': 705, 'vaxxers': 3484, 'allow': 121, 'misinformation': 2067, 'breakthrough': 426, 'meanwhile': 2006, 'non': 2198, 'emerge': 1073, 'agencies': 86, 'theories': 3260, 'pain': 2328, 'future': 1370, 'outstanding': 2311, 'family': 1222, 'select': 2905, 'astra': 244, 'spin': 3073, 'push': 2614, 'biontech': 366, 'crush': 806, 'paper': 2337, 'ba': 290, 'super': 3168, 'steal': 3104, 'opinions': 2275, 'view': 3506, 'nurse': 2223, 'police': 2462, 'west': 3586, 'overwhelm': 2318, 'gratitude': 1447, 'ppl': 2498, 'huh': 1599, 'neither': 2174, 'helpful': 1523, 'discussion': 955, 'refuse': 2704, 'indians': 1677, 'recommend': 2683, 'awesome': 286, 'print': 2536, 'contact': 725, 'estimate': 1127, 'abt': 12, 'regime': 2707, 'supporters': 3172, 'pe': 2370, 'couple': 767, 'july': 1797, 'court': 769, 'decide': 865, 'mr': 2117, 'form': 1326, 'pure': 2612, 'investment': 1746, 'enable': 1085, 'event': 1143, 'improve': 1657, 'outcomes': 2307, 'higher': 1535, 'phone': 2413, 'certain': 538, 'bengal': 344, 'registration': 2711, 'okay': 2256, 'germany': 1399, 'license': 1896, 'affordable': 77, 'suffer': 3157, 'insight': 1719, 'efforts': 1050, 'ki': 1811, 'hi': 1532, 'appreciate': 195, 'stance': 3089, 'affairs': 74, 'quality': 2618, 'pull': 2605, 'po': 2455, 'adverse': 67, 'pfe': 2401, 'dismiss': 962, 'mount': 2109, 'though': 3273, 'vacc': 3453, 'space': 3060, 'birthday': 370, 'researchers': 2758, 'pound': 2493, 'fell': 1259, 'declare': 868, 'guarantee': 1460, 'nationalism': 2149, 'cool': 742, 'procure': 2553, 'comprehensive': 687, 'congratulations': 707, 'gun': 1469, 'globe': 1411, 'yesterday': 3660, 'lay': 1862, 'timeline': 3301, 'zydus': 3681, 'vial': 3496, 'availability': 273, 'draw': 1004, 'procurement': 2554, 'process': 2552, 'totally': 3321, 'agree': 90, 'milestone': 2049, 'difference': 930, 'obtain': 2234, 'water': 3556, 'clean': 603, 'courtesy': 770, 'wa': 3533, 'analysis': 144, 'largest': 1851, 'manufacturer': 1976, 'excellent': 1162, 'profile': 2563, 'urgently': 3437, 'hospital': 1573, 'coordinate': 743, 'note': 2212, 'threats': 3280, 'hashtag': 1499, 'uptake': 3432, 'measles': 2007, 'young': 3665, 'necessary': 2166, 'ventilator': 3487, 'usual': 3444, 'experience': 1180, 'fill': 1277, 'professionals': 2561, 'tho': 3270, 'la': 1829, 'sinovac': 2994, 'strange': 3122, 'coincidence': 638, 'whenever': 3592, 'ray': 2655, 'international': 1737, 'sc': 2865, 'curve': 819, 'supreme': 3175, 'severe': 2932, 'fro': 1357, 'park': 2341, 'bs': 445, 'choice': 579, 'mistake': 2072, 'language': 1845, 'aid': 95, 'regardless': 2706, 'ca': 467, 'genuine': 1394, 'ethealthworld': 1131, 'delivery': 889, 'remove': 2739, 'planet': 2437, 'reason': 2669, 'damn': 831, 'disappoint': 948, 'fifth': 1273, 'propose': 2576, 'remind': 2736, 'strong': 3134, 'explanation': 1188, 'yrs': 3671, 'bless': 378, 'symptoms': 3199, 'desperate': 911, 'exemption': 1173, 'religious': 2730, 'advocate': 72, 'trip': 3361, 'whose': 3598, 'majority': 1961, 'nepal': 2175, 'hesitancy': 1528, 'racist': 2637, 'wanna': 3543, 'ps': 2595, 'tonight': 3313, 'guess': 1462, 'none': 2199, 'par': 2338, 'injections': 1708, 'reminder': 2737, 'send': 2913, 'solve': 3039, 'turn': 3378, 'stephen': 3106, 'disaster': 949, 'hurt': 1607, 'obesity': 2231, 'epidemic': 1108, 'undermine': 3400, 'evolve': 1155, 'defeat': 874, 'education': 1039, 'crucial': 804, 'role': 2812, 'equally': 1112, 'idiot': 1620, 'train': 3340, 'pediatrician': 2374, 'allege': 114, 'pl': 2430, 'subscribe': 3149, 'compromise': 688, 'fast': 1231, 'outrage': 2308, 'ph': 2403, 'participate': 2347, 'dance': 833, 'transparency': 3346, 'prior': 2537, 'ethics': 1133, 'society': 3032, 'rally': 2642, 'weigh': 3579, 'nasal': 2146, 'corner': 746, 'cartoon': 510, 'except': 1163, 'clinically': 613, 'certificate': 540, 'widely': 3601, 'achieve': 29, 'ha': 1473, 'suck': 3153, 'pilot': 2426, 'diagnosis': 927, 'fever': 1268, 'dream': 1005, 'elect': 1056, 'alarm': 104, 'hopeful': 1568, 'throw': 3286, 'air': 98, 'cap': 490, 'ignore': 1624, 'dm': 975, 'bottom': 407, 'entire': 1103, 'chase': 557, 'pride': 2532, 'image': 1634, 'unlikely': 3417, 'dare': 838, 'urgent': 3436, 'liberals': 1893, 'app': 182, 'applaud': 187, 'leaders': 1867, 'patient': 2362, 'hence': 1524, 'completely': 681, 'eradicate': 1117, 'fold': 1309, 'home': 1558, 'husband': 1608, 'biden': 355, 'harris': 1496, 'ticket': 3293, 'nightmare': 2192, 'october': 2240, 'salute': 2852, 'welfare': 3583, 'file': 1276, 'wednesday': 3573, 'isolation': 1758, 'af': 73, 'plz': 2452, 'advice': 69, 'ceo': 537, 'mix': 2073, 'industry': 1686, 'shut': 2970, 'engage': 1092, 'kudos': 1828, 'opt': 2281, 'lock': 1919, 'facilities': 1206, 'rna': 2807, 'undergo': 3398, 'mutations': 2135, 'younger': 3666, 'finish': 1288, 'et': 1129, 'rigorous': 2800, 'lol': 1925, 'chair': 543, 'paul': 2364, 'secretary': 2895, 'fb': 1244, 'sh': 2936, 'pump': 2606, 'prefer': 2511, 'political': 2466, 'laugh': 1856, 'cry': 807, 'fun': 1366, 'sit': 2997, 'annual': 158, 'value': 3470, 'podcast': 2458, 'conduct': 696, 'random': 2645, 'healthy': 1512, 'grade': 1437, 'frame': 1338, 'propaganda': 2573, 'pretend': 2523, 'sister': 2996, 'food': 1314, 'taste': 3217, 'log': 1922, 'injection': 1707, 'se': 2888, 'approach': 196, 'ad': 46, 'behalf': 333, 'inoculate': 1713, 'military': 2050, 'basic': 313, 'senator': 2912, 'scott': 2883, 'board': 390, 'ou': 2302, 'pace': 2324, 'environment': 1107, 'gold': 1417, 'lose': 1933, 'contribution': 733, 'finger': 1287, 'picture': 2422, 'irresponsible': 1754, 'field': 1272, 'coach': 630, 'century': 536, 'task': 3216, 'criticism': 798, 'adults': 64, 'immunisation': 1641, 'secret': 2894, 'boss': 404, 'protection': 2578, 'din': 936, 'clearly': 605, 'head': 1505, 'dumb': 1018, 'publish': 2603, 'filter': 1279, 'pack': 2325, 'amazon': 134, 'thrill': 3282, 'download': 1001, 'opinion': 2274, 'msm': 2120, 'guinea': 1467, 'pig': 2424, 'overnight': 2315, 'sleep': 3009, 'five': 1293, 'color': 651, 'ab': 1, 'touch': 3322, 'sale': 2850, 'quarter': 2620, 'aiims': 96, 'recoveries': 2688, 'hrs': 1591, 'later': 1854, 'score': 2881, 'station': 3099, 'standards': 3092, 'syringe': 3201, 'anxious': 170, 'resist': 2763, 'joy': 1793, 'bird': 368, 'rock': 2811, 'stronger': 3135, 'eligibility': 1059, 'piss': 2429, 'commission': 665, 'pune': 2608, 'solution': 3037, 'sum': 3163, 'sii': 2981, 'equitable': 1113, 'room': 2817, 'bet': 348, 'mn': 2075, 'bn': 388, 'vacation': 3452, 'delhi': 884, 'guard': 1461, 'stories': 3117, 'able': 6, 'inspire': 1722, 'comment': 663, 'hilarious': 1540, 'hello': 1521, 'wit': 3617, 'voluntary': 3526, 'outcome': 2306, 'hour': 1583, 'congress': 708, 'ottawa': 2301, 'unfortunately': 3405, 'hey': 1531, 'caution': 520, 'wind': 3608, 'legit': 1879, 'tunnel': 3376, 'surely': 3177, 'corruption': 754, 'union': 3406, 'movie': 2114, 'efficiency': 1047, 'fully': 1365, 'canadian': 481, 'eve': 1141, 'smell': 3021, 'rumour': 2832, 'journalists': 1791, 'shock': 2956, 'workplace': 3637, 'fatalities': 1235, 'capacity': 492, 'correct': 751, 'quickly': 2628, 'md': 2004, 'honestly': 1562, 'law': 1858, 'boys': 413, 'allocation': 120, 'guidelines': 1466, 'tag': 3207, 'bag': 296, 'fantastic': 1225, 'inject': 1706, 'mention': 2027, 'fabulous': 1202, 'eventually': 1145, 'easier': 1028, 'cough': 757, 'alright': 127, 'barriers': 311, 'half': 1476, 'amongst': 140, 'sell': 2909, 'legend': 1878, 'joint': 1785, 'colleagues': 643, 'hospitals': 1578, 'destroy': 914, 'beach': 322, 'louisiana': 1937, 'corporate': 749, 'dog': 981, 'timely': 3302, 'acknowledge': 32, 'yeah': 3654, 'smallpox': 3019, 'ron': 2816, 'former': 1327, 'legitimate': 1880, 'peak': 2372, 'busy': 463, 'bother': 406, 'commercial': 664, 'master': 1991, 'rank': 2647, 'players': 2442, 'reactions': 2660, 'realise': 2664, 'contain': 727, 'load': 1913, 'thats': 3259, 'gr': 1434, 'forecast': 1320, 'sudden': 3154, 'fyi': 1371, 'truly': 3368, 'pic': 2419, 'enjoy': 1098, 'dedicate': 871, 'effectively': 1044, 'horrible': 1571, 'vacci': 3454, 'account': 23, 'bias': 354, 'allergy': 118, 'slowly': 3016, 'untested': 3422, 'atleast': 249, 'plus': 2451, 'boosters': 398, 'allegedly': 115, 'boom': 395, 'indeed': 1671, 'skeptical': 3002, 'cc': 524, 'history': 1545, 'authorities': 265, 'hype': 1611, 'comfortable': 660, 'ah': 92, 'flow': 1303, 'jim': 1778, 'yo': 3662, 'desperately': 912, 'horse': 1572, 'hopefully': 1569, 'land': 1842, 'storm': 3118, 'sink': 2992, 'boy': 412, 'ride': 2797, 'collaboration': 640, 'defence': 875, 'fine': 1286, 'waste': 3554, 'responsible': 2776, 'deny': 898, 'surge': 3178, 'protocols': 2585, 'model': 2079, 'organisation': 2292, 'perhaps': 2386, 'biggest': 358, 'sad': 2841, 'amount': 141, 'drive': 1008, 'addition': 48, 'shop': 2958, 'wh': 3588, 'drop': 1011, 'cut': 821, 'fatality': 1236, 'asian': 228, 'avoid': 279, 'vector': 3485, 'import': 1649, 'vaccinator': 3461, 'teach': 3220, 'quick': 2626, 'zealand': 3673, 'attack': 251, 'consequences': 714, 'guru': 1470, 'skepticism': 3003, 'women': 3624, 'class': 602, 'status': 3102, 'newly': 2183, 'basically': 314, 'degree': 880, 'severity': 2934, 'office': 2245, 'holy': 1557, 'safer': 2845, 'virtual': 3514, 'presentation': 2519, 'est': 1125, 'gt': 1459, 'therapy': 3263, 'deploy': 902, 'miss': 2069, 'brain': 415, 'reality': 2665, 'bu': 447, 'internet': 1738, 'institutions': 1726, 'ridiculous': 2798, 'useless': 3442, 'travellers': 3352, 'scar': 2870, 'threaten': 3279, 'politicize': 2469, 'upon': 3429, 'reduce': 2695, 'thankfully': 3257, 'introduce': 1741, 'false': 1219, 'night': 2191, 'exactly': 1158, 'intend': 1731, 'dems': 895, 'cop': 744, 'folks': 1311, 'switch': 3195, 'mon': 2089, 'confidence': 698, 'belong': 341, 'increase': 1668, 'math': 1995, 'girl': 1404, 'viral': 3511, 'info': 1696, 'ideas': 1618, 'medication': 2013, 'yellow': 3657, 'snow': 3028, 'chill': 575, 'hav': 1502, 'mo': 2076, 'carry': 508, 'fan': 1223, 'repeat': 2742, 'greater': 1449, 'useful': 3441, 'react': 2658, 'fastest': 1233, 'effort': 1049, 'magic': 1953, 'moments': 2088, 'permission': 2390, 'central': 534, 'wash': 3551, 'nothing': 2213, 'ge': 1384, 'mate': 1994, 'percent': 2379, 'reportedly': 2746, 'grateful': 1446, 'rn': 2806, 'lord': 1931, 'official': 2248, 'gene': 1387, 'sri': 3082, 'gift': 1402, 'zeneca': 3674, 'victory': 3502, 'mi': 2034, 'changer': 549, 'quite': 2631, 'somewhere': 3045, 'maryland': 1986, 'authority': 266, 'jail': 1767, 'reward': 2792, 'lanka': 1847, 'mumbai': 2125, 'possibility': 2486, 'witness': 3620, 'chaos': 551, 'connect': 709, 'individuals': 1681, 'letter': 1887, 'vaccina': 3456, 'submit': 3148, 'peer': 2376, 'ne': 2162, 'tie': 3294, 'favour': 1243, 'upcoming': 3426, 'generation': 1391, 'label': 1831, 'un': 3392, 'closely': 619, 'bank': 308, 'reassure': 2671, 'struggle': 3137, 'maintain': 1959, 'premier': 2515, 'abroad': 9, 'sooner': 3049, 'sigh': 2975, 'relief': 2727, 'inoculation': 1714, 'impress': 1655, 'describe': 907, 'technical': 3226, 'mess': 2028, 'thankful': 3256, 'achievement': 30, 'difficult': 934, 'main': 1957, 'proof': 2572, 'product': 2556, 'security': 2899, 'rescue': 2755, 'verify': 3489, 'mad': 1950, 'eff': 1041, 'thorough': 3272, 'criminal': 793, 'sector': 2897, 'toward': 3327, 'liberty': 1894, 'spend': 3071, 'honour': 1564, 'count': 760, 'protest': 2582, 'realize': 2666, 'york': 3663, 'blind': 379, 'breath': 429, 'stress': 3130, 'everybody': 1148, 'certainly': 539, 'army': 214, 'troop': 3363, 'google': 1421, 'query': 2623, 'build': 451, 'complain': 679, 'frustrate': 1360, 'heck': 1518, 'scan': 2869, 'microchips': 2039, 'variant': 3473, 'crazy': 786, 'minor': 2061, 'blame': 376, 'protective': 2579, 'exclusive': 1169, 'thursday': 3289, 'clip': 616, 'org': 2290, 'uae': 3390, 'topic': 3317, 'preventable': 2526, 'webinar': 3569, 'position': 2483, 'fellow': 1260, 'cadila': 469, 'pr': 2499, 'ex': 1156, 'extreme': 1197, 'partially': 2344, 'campaign': 478, 'compulsory': 689, 'invite': 1748, 'facility': 1207, 'pradesh': 2501, 'icu': 1614, 'bed': 329, 'heal': 1509, 'breathe': 430, 'screw': 2887, 'discrimination': 953, 'sponsor': 3075, 'private': 2543, 'frontline': 1359, 'minutes': 2065, 'replace': 2743, 'oct': 2239, 'cheap': 560, 'normalcy': 2205, 'influenza': 1695, 'antivaxxers': 168, 'instagram': 1723, 'kerala': 1807, 'cat': 513, 'yep': 3658, 'kingdom': 1822, 'acceptable': 16, 'newsletter': 2186, 'internal': 1736, 'voice': 3525, 'student': 3138, 'forever': 1323, 'crores': 801, 'fewer': 1269, 'scary': 2872, 'abc': 2, 'mine': 2056, 'fascinate': 1230, 'employees': 1079, 'sadly': 2842, 'butt': 464, 'moral': 2100, 'opposition': 2280, 'socially': 3031, 'promote': 2571, 'particularly': 2349, 'canadians': 482, 'warp': 3549, 'dad': 827, 'wide': 3600, 'ho': 1550, 'wuhan': 3650, 'crowd': 803, 'comfort': 659, 'chest': 566, 'dry': 1014, 'stuff': 3141, 'particular': 2348, 'highlight': 1537, 'hole': 1554, 'injuries': 1710, 'program': 2565, 'plague': 2433, 'onto': 2269, 'leg': 1875, 'devastate': 919, 'researcher': 2757, 'connection': 711, 'additional': 49, 'web': 3568, 'harsh': 1497, 'vardhan': 3472, 'obvious': 2235, 'grandparents': 1442, 'mock': 2078, 'discount': 951, 'su': 3145, 'cos': 755, 'direct': 938, 'fire': 1289, 'families': 1221, 'facts': 1210, 'kick': 1812, 'battle': 318, 'sometimes': 3044, 'australians': 262, 'pregnant': 2513, 'actual': 42, 'transport': 3348, 'texans': 3248, 'sort': 3053, 'felt': 1261, 'border': 400, 'cabinet': 468, 'agenda': 88, 'exempt': 1172, 'liability': 1890, 'freak': 1342, 'texas': 3249, 'regulators': 2717, 'neutralize': 2180, 'mortality': 2104, 'otherwise': 2300, 'nope': 2202, 'confuse': 703, 'controversy': 735, 'mar': 1980, 'immediately': 1637, 'employment': 1082, 'cr': 782, 'incredibly': 1670, 'incredible': 1669, 'uttar': 3448, 'beast': 324, 'thousand': 3275, 'miles': 2048, 'appeal': 185, 'debate': 858, 'fox': 1336, 'translate': 3342, 'option': 2284, 'exercise': 1175, 'hide': 1533, 'father': 1237, 'angry': 151, 'bloody': 383, 'melbourne': 2019, 'consent': 713, 'valid': 3467, 'mum': 2124, 'vaxxer': 3483, 'lower': 1941, 'fix': 1294, 'responsibility': 2775, 'plant': 2438, 'ji': 1777, 'garden': 1379, 'ramp': 2643, 'clarify': 599, 'initiative': 1705, 'african': 80, 'defend': 876, 'esp': 1121, 'whats': 3590, 'personal': 2393, 'camp': 477, 'globally': 1410, 'liberal': 1892, 'charge': 552, 'autism': 269, 'bangladesh': 307, 'recipient': 2678, 'sky': 3007, 'fr': 1337, 'generally': 1389, 'glass': 1408, 'authorisation': 264, 'strongly': 3136, 'grab': 1435, 'ur': 3433, 'nose': 2211, 'assess': 234, 'tough': 3323, 'disgust': 960, 'serve': 2925, 'observe': 2233, 'apple': 188, 'hat': 1500, 'tea': 3219, 'halt': 1478, 'quit': 2630, 'familiar': 1220, 'sex': 2935, 'weapon': 3564, 'eliminate': 1061, 'pharmacists': 2408, 'farm': 1229, 'chip': 578, 'basis': 315, 'relevant': 2725, 'routine': 2825, 'afford': 76, 'disappear': 947, 'subject': 3147, 'previously': 2529, 'band': 306, 'logic': 1923, 'personally': 2394, 'dollar': 982, 'lucky': 1945, 'aka': 101, 'woman': 3623, 'assist': 236, 'general': 1388, 'worker': 3634, 'argument': 210, 'prof': 2559, 'remote': 2738, 'victims': 3500, 'abuse': 13, 'morrison': 2103, 'santa': 2856, 'christmas': 586, 'dashboard': 840, 'older': 2259, 'hang': 1484, 'educate': 1038, 'retail': 2784, 'association': 240, 'fool': 1315, 'initially': 1704, 'rule': 2830, 'donation': 988, 'properly': 2575, 'simply': 2987, 'proteins': 2581, 'employee': 1078, 'unnecessary': 3418, 'upset': 3431, 'failure': 1214, 'overcome': 2314, 'terrible': 3242, 'drink': 1007, 'photos': 2415, 'gujarat': 1468, 'incentives': 1662, 'liar': 1891, 'max': 1998, 'survival': 3185, 'events': 1144, 'twice': 3381, 'dollars': 983, 'genocide': 1393, 'bleed': 377, 'cautious': 521, 'arrest': 217, 'site': 2998, 'afternoon': 82, 'unexpected': 3403, 'brown': 444, 'church': 588, 'members': 2021, 'application': 189, 'date': 843, 'unpaid': 3419, 'violation': 3510, 'impose': 1653, 'refresh': 2701, 'pause': 2365, 'requirements': 2754, 'art': 221, 'thus': 3290, 'dust': 1019, 'flip': 1299, 'cod': 632, 'map': 1979, 'animal': 152, 'gen': 1386, 'selfish': 2908, 'idiots': 1621, 'pan': 2333, 'indicate': 1678, 'anymore': 172, 'refer': 2698, 'ffs': 1270, 'isolate': 1757, 'alternative': 130, 'provider': 2589, 'hr': 1590, 'function': 1367, 'conservative': 715, 'terrify': 3243, 'parliament': 2342, 'cook': 741, 'sugar': 3159, 'wtf': 3649, 'authorize': 268, 'tn': 3307, 'oppose': 2278, 'dept': 904, 'communication': 672, 'pin': 2427, 'sticker': 3109, 'financial': 1284, 'explore': 1189, 'eua': 1136, 'sydney': 3196, 'catholic': 518, 'medically': 2012, 'abortion': 8, 'insurance': 1729, 'ashamed': 226, 'ship': 2951, 'purpose': 2613, 'vaxers': 3480, 'authorization': 267, 'dick': 928, 'hmmm': 1549, 'judge': 1795, 'council': 759, 'gop': 1422, 'sen': 2910, 'specific': 3067, 'represent': 2748, 'warm': 3547, 'ft': 1361, 'resident': 2760, 'religion': 2729, 'nonsense': 2200, 'immunize': 1644, 'perfect': 2382, 'cohort': 637, 'regularly': 2714, 'chicago': 568, 'muslim': 2130, 'assam': 232, 'covax': 773, 'prayers': 2504, 'brief': 435, 'lesson': 1883, 'favor': 1241, 'organ': 2291, 'transplant': 3347, 'differences': 931, 'deep': 872, 'previous': 2528, 'murder': 2127, 'indemnity': 1672, 'somehow': 3041, 'universal': 3411, 'hero': 1526, 'accelerate': 14, 'stream': 3125, 'experiment': 1181, 'rollout': 2814, 'shortage': 2961, 'longer': 1929, 'piece': 2423, 'david': 845, 'requirement': 2753, 'implement': 1646, 'priorities': 2538, 'madness': 1952, 'smile': 3023, 'tool': 3315, 'box': 411, 'activity': 40, 'climate': 609, 'cbc': 522, 'li': 1889, 'vary': 3476, 'exposure': 1192, 'woo': 3628, 'voters': 3529, 'dude': 1016, 'attempt': 252, 'covishield': 779, 'clown': 624, 'strengthen': 3129, 'upper': 3430, 'respiratory': 2770, 'sheep': 2946, 'nhs': 2188, 'impressive': 1656, 'corrupt': 753, 'natural': 2152, 'unbelievable': 3395, 'career': 499, 'miracle': 2066, 'orange': 2287, 'physical': 2416, 'deliberately': 885, 'thru': 3287, 'billions': 362, 'incompetent': 1667, 'appoint': 191, 'brilliant': 437, 'excuse': 1170, 'virginia': 3512, 'commissioner': 666, 'evil': 1154, 'residents': 2761, 'theorists': 3261, 'trouble': 3364, 'pc': 2368, 'enforce': 1091, 'wealthy': 3563, 'lowest': 1942, 'az': 288, 'ch': 541, 'skin': 3005, 'muscle': 2128, 'ignorant': 1623, 'comply': 686, 'illegal': 1628, 'unacceptable': 3394, 'reflect': 2700, 'telangana': 3231, 'neurological': 2179, 'closer': 620, 'exemptions': 1174, 'exact': 1157, 'dan': 832, 'lawyer': 1861, 'door': 991, 'crime': 792, 'dot': 995, 'keen': 1804, 'anytime': 175, 'pop': 2475, 'performance': 2385, 'sec': 2892, 'indigenous': 1679, 'anywhere': 177, 'shirt': 2954, 'admission': 57, 'operation': 2273, 'ar': 205, 'afraid': 78, 'brother': 443, 'perfectly': 2383, 'advisory': 71, 'neighbour': 2173, 'hardly': 1492, 'copy': 745, 'unit': 3408, 'advise': 70, 'feed': 1255, 'actively': 38, 'hoax': 1552, 'bunch': 456, 'democracy': 892, 'summer': 3165, 'illness': 1631, 'insights': 1720, 'bind': 363, 'engagement': 1093, 'recall': 2673, 'confident': 699, 'correlation': 752, 'popular': 2476, 'excitement': 1167, 'surpass': 3181, 'prevention': 2527, 'potentially': 2492, 'gather': 1383, 'vp': 3530, 'swab': 3190, 'recipients': 2679, 'harm': 1494, 'nih': 2193, 'jnj': 1779, 'scenario': 2873, 'shift': 2950, 'responses': 2774, 'employers': 1081, 'baker': 297, 'outweigh': 2312, 'hire': 1543, 'hill': 1541, 'unknown': 3414, 'lethal': 1886, 'editor': 1037, 'cvs': 824, 'tyranny': 3389, 'anybody': 171, 'pa': 2322, 'pharmacist': 2407, 'providers': 2590, 'alone': 123, 'disturb': 972, 'gotta': 1423, 'deniers': 896, 'suit': 3161, 'compare': 677, 'christian': 584, 'carolina': 506, 'french': 1348, 'diabetes': 925, 'definition': 879, 'document': 980, 'scramble': 2884, 'painless': 2330, 'bear': 323, 'queen': 2622, 'ignorance': 1622, 'surround': 3183, 'jr': 1794, 'storage': 3115, 'ya': 3651, 'acquire': 33, 'directly': 940, 'london': 1926, 'conversations': 739, 'trudeau': 3366, 'dangers': 836, 'revise': 2791, 'laws': 1859, 'sweet': 3192, 'operate': 2272, 'department': 899, 'associate': 239, 'mps': 2116, 'debt': 859, 'complicate': 684, 'regulations': 2715, 'fit': 1292, 'colleges': 648, 'individual': 1680, 'allocate': 119, 'seven': 2930, 'larger': 1850, 'unlike': 3416, 'kit': 1824, 'car': 495, 'overseas': 2316, 'abort': 7, 'adult': 63, 'journalist': 1790, 'sentence': 2917, 'defense': 877, 'embarrass': 1072, 'animals': 153, 'naturally': 2153, 'virologist': 3513, 'primary': 2533, 'clinicians': 614, 'swear': 3191, 'alert': 108, 'truck': 3365, 'temp': 3234, 'physician': 2417, 'systems': 3203, 'capable': 491, 'handle': 1482, 'climb': 610, 'confirmation': 701, 'implications': 1648, 'del': 881, 'size': 3001, 'shipment': 2952, 'burden': 457, 'strike': 3132, 'ino': 1712, 'op': 2270, 'consultant': 724, 'flat': 1297, 'users': 3443, 'song': 3047, 'ta': 3204, 'plenty': 2449, 'plea': 2444, 'hc': 1503, 'mayor': 2002, 'photo': 2414, 'fair': 1215, 'extra': 1195, 'nine': 2194, 'faculty': 1212, 'gear': 1385, 'extend': 1194, 'interim': 1735, 'permit': 2391, 'elections': 1058, 'dark': 839, 'dependent': 901, 'ed': 1035, 'son': 3046, 'block': 380, 'thi': 3265, 'lo': 1912, 'andrew': 147, 'suspect': 3187, 'videos': 3505, 'pics': 2421, 'autumn': 271, 'solid': 3035, 'owe': 2319, 'charlie': 554, 'resources': 2768, 'growth': 1458, 'soar': 3029, 'bright': 436, 'sing': 2989, 'destruction': 915, 'actor': 41, 'resume': 2783, 'suspend': 3188, 'inflammation': 1693, 'ill': 1627, 'aside': 229, 'sight': 2976, 'aware': 283, 'background': 293, 'publicity': 2601, 'female': 1262, 'rumor': 2831, 'lawsuit': 1860, 'rome': 2815, 'sick': 2972, 'temporarily': 3236, 'collapse': 641, 'economic': 1033, 'ndtv': 2161, 'average': 278, 'monitor': 2093, 'unexplained': 3404, 'endorse': 1088, 'deeply': 873, 'spirit': 3074, 'accurate': 26, 'anticipate': 165, 'everyday': 1149, 'cheer': 562, 'asia': 227, 'tony': 3314, 'giant': 1401, 'calm': 474, 'investigation': 1745, 'michael': 2036, 'businesses': 461, 'vet': 3491, 'fa': 1200, 'retweet': 2787, 'investigate': 1744, 'physicians': 2418, 'pod': 2457, 'yr': 3670, 'significant': 2979, 'movement': 2113, 'instructions': 1727, 'attach': 250, 'psa': 2596, 'dcgi': 849, 'bus': 459, 'lift': 1900, 'expire': 1186, 'commit': 667, 'easily': 1029, 'offices': 2247, 'goodness': 1420, 'badly': 295, 'pleasure': 2446, 'em': 1069, 'joe': 1781, 'vice': 3498, 'pill': 2425, 'prioritize': 2540, 'error': 1119, 'reduction': 2696, 'store': 3116, 'fuel': 1363, 'upgrade': 3428, 'depend': 900, 'irony': 1753, 'sufficient': 3158, 'hoard': 1551, 'scream': 2885, 'gap': 1376, 'vi': 3494, 'complex': 682, 'assure': 242, 'cite': 591, 'universities': 3412, 'disagree': 946, 'whilst': 3594, 'weak': 3561, 'cent': 532, 'statistics': 3100, 'iran': 1750, 'oral': 2286, 'honor': 1563, 'network': 2178, 'insanity': 1717, 'sleeves': 3011, 'widespread': 3602, 'breakdown': 425, 'influence': 1694, 'dis': 942, 'journal': 1789, 'nigeria': 2190, 'bravo': 421, 'decisions': 867, 'robert': 2809, 'mhra': 2033, 'israel': 1759, 'blog': 381, 'hyderabad': 1609, 'horizon': 1570, 'shortages': 2962, 'yup': 3672, 'regional': 2709, 'insane': 1716, 'wild': 3605, 'allergic': 116, 'ford': 1319, 'nc': 2158, 'ladies': 1834, 'balance': 299, 'democrats': 893, 'bully': 454, 'incompetence': 1666, 'path': 2359, 'alex': 109, 'navigate': 2156, 'bout': 408, 'superior': 3169, 'prioritise': 2539, 'sheet': 2948, 'donations': 989, 'rec': 2672, 'admin': 53, 'seniors': 2915, 'argue': 209, 'throat': 3283, 'el': 1053, 'eric': 1118, 'justify': 1802, 'tam': 3212, 'weaponize': 3565, 'acceptance': 17, 'motivate': 2108, 'comorbidities': 675, 'pneumonia': 2454, 'smoke': 3024, 'legally': 1877, 'symptomatic': 3198, 'lake': 1837, 'caregivers': 502, 'relatives': 2722, 'recommendations': 2685, 'fat': 1234, 'hair': 1475, 'norway': 2210, 'export': 1190, 'unable': 3393, 'ppe': 2497, 'weekend': 3576, 'passport': 2355, 'ireland': 1751, 'road': 2808, 'relieve': 2728, 'manipulate': 1974, 'reporter': 2747, 'criteria': 795, 'throughout': 3285, 'standard': 3091, 'exclude': 1168, 'si': 2971, 'chairman': 544, 'racial': 2635, 'regular': 2713, 'fraud': 1341, 'mental': 2026, 'clinic': 611, 'bjp': 373, 'accessible': 19, 'respond': 2771, 'section': 2896, 'context': 729, 'fin': 1280, 'emotional': 1076, 'graph': 1444, 'sarah': 2857, 'gilbert': 1403, 'mary': 1985, 'maximum': 1999, 'sub': 3146, 'bump': 455, 'organizations': 2295, 'memory': 2023, 'charles': 553, 'locations': 1918, 'fi': 1271, 'host': 1579, 'efficient': 1048, 'spare': 3063, 'energy': 1090, 'republican': 2749, 'kenya': 1806, 'chronic': 587, 'overall': 2313, 'february': 1251, 'italy': 1762, 'matt': 1996, 'hancock': 1480, 'fl': 1295, 'justice': 1801, 'elders': 1055, 'governor': 1427, 'khan': 1810, 'typical': 3388, 'mp': 2115, 'interact': 1733, 'pcr': 2369, 'coercion': 635, 'grace': 1436, 'freedoms': 1345, 'steve': 3107, 'rid': 2796, 'lag': 1836, 'sake': 2849, 'portal': 2480, 'med': 2009, 'stupidity': 3143, 'significantly': 2980, 'alongside': 125, 'neighbor': 2171, 'feat': 1248, 'impossible': 1654, 'escape': 1120, 'michigan': 2037, 'minimum': 2058, 'complications': 685, 'criticize': 799, 'grande': 1439, 'valley': 3468, 'ball': 301, 'lee': 1874, 'freezers': 1347, 'nuremberg': 2222, 'establish': 1126, 'constantly': 721, 'vaccinat': 3457, 'bar': 309, 'boris': 402, 'monger': 2092, 'feedback': 1256, 'til': 3297, 'fri': 1352, 'ins': 1715, 'precautionary': 2507, 'fourth': 1335, 'airlines': 99, 'village': 3508, 'harmful': 1495, 'awful': 287, 'poke': 2461, 'senate': 2911, 'diagnose': 926, 'wan': 3542, 'nervous': 2177, 'satan': 2859, 'downingstreet': 1000, 'crack': 783, 'medications': 2014, 'ms': 2119, 'tour': 3324, 'france': 1339, 'deliveries': 888, 'forum': 1330, 'music': 2129, 'bribe': 433, 'mg': 2032, 'needle': 2169, 'guidance': 1464, 'child': 572, 'friendly': 1355, 'communities': 673, 'painful': 2329, 'duty': 1020, 'landmark': 1843, 'device': 923, 'civic': 596, 'memorial': 2022, 'implementation': 1647, 'punjab': 2610, 'punish': 2609, 'beneficiaries': 342, 'walk': 3539, 'ice': 1612, 'cream': 787, 'radio': 2638, 'pose': 2482, 'opposite': 2279, 'gps': 1433, 'anniversary': 154, 'auburn': 256, 'precaution': 2506, 'rip': 2802, 'burn': 458, 'alcohol': 107, 'coup': 766, 'vitamin': 3523, 'monoclonal': 2094, 'illnesses': 1632, 'peep': 2375, 'airport': 100, 'spanish': 3062, 'wipe': 3613, 'branch': 417, 'brave': 420, 'sore': 3050, 'hiv': 1547, 'tiny': 3303, 'boston': 405, 'bell': 339, 'debunk': 860, 'vaers': 3465, 'chris': 582, 'differently': 933, 'doors': 992, 'slightly': 3013, 'shame': 2940, 'minority': 2062, 'folk': 1310, 'professional': 2560, 'resistance': 2764, 'wee': 3574, 'spain': 3061, 'winter': 3612, 'elite': 1062, 'mail': 1956, 'manager': 1971, 'happily': 1487, 'reluctant': 2731, 'bc': 321, 'statements': 3098, 'teen': 3228, 'critically': 797, 'closest': 621, 'wks': 3621, 'regret': 2712, 'finance': 1283, 'praise': 2502, 'football': 1317, 'colleague': 642, 'hubs': 1596, 'town': 3329, 'assessment': 235, 'income': 1665, 'parental': 2340, 'organise': 2293, 'therefore': 3264, 'county': 765, 'uncle': 3397, 'hooray': 1565, 'ty': 3385, 'awake': 281, 'weaken': 3562, 'tackle': 3206, 'factor': 1209, 'normality': 2206, 'beliefs': 337, 'coerce': 634, 'precious': 2509, 'tx': 3384, 'excess': 1164, 'er': 1115, 'window': 3609, 'overview': 2317, 'provisional': 2594, 'dosage': 993, 'customers': 820, 'entirely': 1104, 'swing': 3194, 'slam': 3008, 'interval': 1739, 'hubby': 1595, 'toronto': 3318, 'ontario': 2268, 'mislead': 2068, 'birth': 369, 'banana': 305, 'assistance': 237, 'empty': 1083, 'ring': 2801, 'oxygen': 2321, 'carefully': 501, 'lakhs': 1839, 'injure': 1709, 'woods': 3629, 'conscience': 712, 'square': 3081, 'walgreens': 3538, 'websites': 3571, 'accountable': 24, 'barely': 310, 'province': 2591, 'responders': 2772, 'player': 2441, 'restrict': 2780, 'compliance': 683, 'equity': 1114, 'transportation': 3349, 'organize': 2296, 'hub': 1594, 'historic': 1544, 'massachusetts': 1989, 'bame': 303, 'strict': 3131, 'examine': 1159, 'racism': 2636, 'rain': 2640, 'temperature': 3235, 'pathetic': 2360, 'shed': 2945, 'ny': 2227, 'remarkable': 2734, 'collection': 645, 'smh': 3022, 'disinformation': 961, 'wing': 3610, 'trace': 3333, 'thailand': 3254, 'john': 1782, 'clock': 617, 'wrap': 3646, 'olds': 2260, 'resource': 2767, 'raw': 2654, 'sickness': 2973, 'jones': 1787, 'delete': 883, 'odds': 2242, 'seat': 2891, 'jersey': 1774, 'honest': 1561, 'workforce': 3636, 'myths': 2139, 'bust': 462, 'grocery': 1454, 'advantage': 66, 'holiday': 1555, 'poorer': 2473, 'victim': 3499, 'areas': 208, 'heights': 1519, 'bihar': 359, 'govts': 1430, 'lt': 1943, 'disgrace': 959, 'feds': 1253, 'exchange': 1165, 'jul': 1796, 'tim': 3299, 'clarity': 600, 'tory': 3319, 'chat': 558, 'chemist': 563, 'anxiety': 169, 'assembly': 233, 'pharmacies': 2406, 'roughly': 2822, 'stroke': 3133, 'foot': 1316, 'chicken': 569, 'stone': 3113, 'officer': 2246, 'suppress': 3174, 'persuade': 2398, 'tragic': 3338, 'communicate': 671, 'recommendation': 2684, 'governors': 1428, 'policies': 2463, 'docs': 978, 'anderson': 146, 'table': 3205, 'morons': 2102, 'neighborhood': 2172, 'festive': 1267, 'wellness': 3585, 'highway': 1539, 'disability': 944, 'cuomo': 813, 'alabama': 103, 'frequently': 1349, 'metro': 2030, 'flood': 1300, 'karnataka': 1803, 'suite': 3162, 'perform': 2384, 'employ': 1077, 'cities': 592, 'veteran': 3492, 'hospitalisation': 1574, 'londoners': 1927, 'prick': 2531, 'grandmother': 1441, 'heartbreaking': 1515, 'gross': 1455, 'factual': 1211, 'nail': 2142, 'immigrants': 1638, 'congratulate': 706, 'wakefield': 3536, 'plane': 2436, 'cycle': 825, 'gp': 1432, 'recognise': 2680, 'delight': 886, 'besides': 346, 'carson': 509, 'monthly': 2097, 'mile': 2047, 'van': 3471, 'travelers': 3351, 'curb': 814, 'utah': 3446, 'deceive': 863, 'passports': 2356, 'streets': 3127, 'protesters': 2583, 'appropriate': 197, 'grandma': 1440, 'tick': 3292, 'recieved': 2677, 'division': 974, 'colonial': 650, 'tourism': 3325, 'quicker': 2627, 'tier': 3295, 'enhance': 1097, 'zone': 3678, 'ward': 3546, 'aunt': 259, 'disable': 945, 'largely': 1849, 'prison': 2542, 'realm': 2668, 'fe': 1246, 'wed': 3572, 'vid': 3503, 'apparent': 183, 'arrange': 216, 'extraordinary': 1196, 'allah': 113, 'neck': 2167, 'scotland': 2882, 'traffic': 3337, 'knock': 1825, 'stab': 3084, 'shortly': 2963, 'tiredness': 3306, 'jose': 1788, 'tear': 3224, 'weight': 3580, 'brits': 442, 'solutions': 3038, 'cruise': 805, 'convention': 737, 'drivers': 1010, 'publicly': 2602, 'lovely': 1939, 'cult': 809, 'deserve': 909, 'importantly': 1652, 'east': 1030, 'pub': 2599, 'yay': 3652, 'irish': 1752, 'unsure': 3421, 'george': 1396, 'personnel': 2395, 'humble': 1603, 'woohoo': 3630, 'plain': 2434, 'hesitate': 1530, 'festival': 1266, 'walmart': 3541, 'essex': 1124, 'earn': 1025, 'hint': 1542, 'relax': 2723, 'thankyou': 3258, 'pediatric': 2373, 'asthma': 243, 'dress': 1006, 'smooth': 3025, 'sham': 2939, 'crash': 785, 'sharp': 2943, 'nerve': 2176, 'tap': 3214, 'button': 465, 'hotel': 1581, 'jam': 1768, 'shake': 2937, 'headache': 1506, 'ol': 2257, 'rural': 2834, 'counties': 762, 'collective': 646, 'direction': 939, 'censor': 531, 'slight': 3012, 'bowie': 410, 'boot': 399, 'smaller': 3018, 'trick': 3359, 'celebrities': 527, 'surgery': 3180, 'brexit': 432, 'pts': 2598, 'exceed': 1161, 'mega': 2018, 'vaccinators': 3462, 'meds': 2016, 'procedure': 2551, 'royal': 2827, 'denmark': 897, 'conflict': 702, 'specialist': 3066, 'wastage': 3553, 'municipal': 2126, 'colorado': 652, 'jerusalem': 1775, 'teacher': 3221, 'hse': 1592, 'victoria': 3501, 'strength': 3128, 'indiana': 1676, 'admissions': 58, 'cuz': 823, 'gym': 1472, 'odisha': 2243, 'surgeon': 3179, 'teens': 3230, 'choices': 580, 'harford': 1493, 'api': 181, 'vaxxed': 3482, 'elsewhere': 1068, 'mins': 2063, 'invitation': 1747, 'phd': 2411, 'terrorism': 3245, 'location': 1917, 'male': 1965, 'lung': 1947, 'rep': 2741, 'dc': 848, 'intelligence': 1730, 'lottery': 1936, 'approx': 200, 'myth': 2138, 'thomas': 3271, 'resolve': 2766, 'breastfeed': 428, 'specifically': 3068, 'clinics': 615, 'transfer': 3341, 'crew': 791, 'percentages': 2381, 'hospitalization': 1576, 'observation': 2232, 'antivax': 167, 'mainstream': 1958, 'sleeve': 3010, 'restaurant': 2778, 'richard': 2794, 'tennessee': 3239, 'exhaust': 1176, 'yorkers': 3664, 'conspiracies': 718, 'corporation': 750, 'behaviour': 335, 'kidney': 1815, 'brag': 414, 'nazi': 2157, 'southern': 3058, 'immigration': 1639, 'zip': 3676, 'georgia': 1397, 'mill': 2051, 'ct': 808, 'irreversible': 1755, 'nj': 2195, 'dolly': 984, 'parton': 2352, 'culture': 810, 'outbreaks': 2305, 'viewers': 3507, 'vast': 3477, 'mobile': 2077, 'consignment': 717, 'assistant': 238, 'weather': 3567, 'hydrate': 1610, 'symptom': 3197, 'insult': 1728, 'contagious': 726, 'happier': 1486, 'swell': 3193, 'haryana': 1498, 'bonus': 393, 'favorite': 1242, 'doug': 998, 'roundup': 2824, 'accident': 20, 'hospitalize': 1577, 'shipments': 2953, 'sam': 2853, 'floor': 1301, 'carers': 504, 'appointments': 193, 'wilson': 3606, 'miami': 2035, 'prince': 2535, 'fatigue': 1238, 'circle': 589, 'arizona': 211, 'restaurants': 2779, 'wisconsin': 3614, 'text': 3250, 'dramatically': 1003, 'alberta': 106, 'ohio': 2253, 'mountain': 2110, 'cousin': 771, 'desantis': 906, 'nys': 2229, 'normally': 2207, 'valuable': 3469, 'incl': 1663, 'hon': 1560, 'tpr': 3331, 'entitle': 1105, 'fab': 1201, 'activities': 39, 'ellen': 1065, 'cbd': 523, 'lunch': 1946, 'household': 1587, 'clients': 607, 'consult': 723, 'convenient': 736, 'refugees': 2702, 'breast': 427, 'autoimmune': 270, 'violate': 3509, 'educators': 1040, 'bitch': 371, 'indoors': 1684, 'delta': 890, 'library': 1895, 'homeless': 1559, 'recognize': 2682, 'safest': 2846, 'punch': 2607, 'content': 728, 'redbubble': 2692, 'terrorists': 3246, 'fancy': 1224, 'bulletin': 452, 'severely': 2933, 'mat': 1992, 'visitors': 3520, 'infertility': 1692, 'outreach': 2309, 'ape': 180, 'carmel': 505, 'christ': 583, 'dallas': 829, 'anaphylaxis': 145, 'computer': 690, 'allergies': 117, 'palsy': 2332, 'soreness': 3051, 'illinois': 1630, 'foggy': 1308, 'veterans': 3493, 'berkeley': 345, 'sms': 3027, 'hcws': 1504, 'ache': 28, 'kiddos': 1814, 'housebound': 1586, 'afterwards': 83, 'disabilities': 943, 'africans': 81, 'faq': 1226, 'poorly': 2474, 'sessions': 2928, 'jag': 1766, 'acute': 44, 'annoy': 157, 'hollywood': 1556, 'provinces': 2592, 'provincial': 2593, 'cumulative': 812, 'transmissible': 3343, 'champion': 546, 'variants': 3474, 'rough': 2821, 'units': 3410, 'intentionally': 1732, 'quebec': 2621, 'pregnancy': 2512, 'israeli': 1760, 'ga': 1372, 'ema': 1070, 'coworkers': 781, 'shoutout': 2967, 'jcvi': 1773, 'mutant': 2132, 'smoothly': 3026, 'missouri': 2071, 'unused': 3423, 'beaumont': 326, 'territories': 3244, 'bedford': 330, 'nearest': 2164, 'accomplish': 21, 'faqs': 1227, 'uts': 3447, 'franklin': 1340, 'administrate': 55, 'appt': 201, 'appts': 202, 'venues': 3488, 'noon': 2201, 'cute': 822, 'selfie': 2907, 'nsw': 2220, 'dublin': 1015, 'thurs': 3288, 'cardiac': 497, 'rabbi': 2633, 'headaches': 1507, 'ontarians': 2267, 'notify': 2215, 'abduct': 3, 'albany': 105, 'graphic': 1445, 'nddose': 2160, 'catherine': 517, 'celebrity': 528, 'teenagers': 3229, 'scammers': 2868, 'chester': 567, 'harder': 1491, 'avenue': 277, 'crescent': 790, 'charlottesville': 555, 'stomach': 3112, 'transmit': 3345, 'advertise': 68, 'baltimore': 302, 'modification': 2084, 'mall': 1966, 'aaron': 0, 'martin': 1984, 'sw': 3189, 'rosa': 2819, 'seducers': 2900, 'slot': 3014, 'lifesaving': 1899, 'pox': 2496, 'unvaccinated': 3424, 'dispel': 965, 'constituents': 722, 'northern': 2209, 'campus': 479, 'forge': 1324, 'atlanta': 248, 'ml': 2074, 'probe': 2548, 'tylenol': 3386, 'bonita': 392, 'urban': 3434, 'ethnic': 1134, 'ocgn': 2238, 'nausea': 2155, 'stadium': 3085, 'achy': 31, 'apr': 203, 'ryan': 2838, 'connecticut': 710, 'bristol': 439, 'myanmar': 2136, 'comirnaty': 661, 'starve': 3095, 'lane': 1844, 'premium': 2516, 'youngest': 3667, 'rand': 2644, 'angels': 149, 'resistant': 2765, 'incentive': 1661, 'borough': 403, 'cowin': 780, 'columbia': 653, 'redwood': 2697, 'publix': 2604, 'texts': 3251, 'fortis': 1328, 'languages': 1846, 'promo': 2570, 'capitol': 494, 'savannah': 2861, 'bakersfield': 298, 'valentine': 3466, 'oakland': 2230, 'locate': 1916, 'columbus': 654, 'khamenei': 1809, 'desert': 908, 'hotline': 1582, 'norfolk': 2203, 'tues': 3373, 'ouchie': 2303, 'inaccurate': 1658, 'carer': 503, 'baldwin': 300, 'richmond': 2795, 'nw': 2226, 'safeways': 2848, 'ferry': 1264, 'govx': 1431, 'arlington': 212, 'montgomery': 2095, 'forest': 1322, 'danville': 837, 'leisure': 1881, 'vista': 3521, 'portsmouth': 2481, 'jackson': 1765, 'chatham': 559, 'cathedral': 516, 'hospitalise': 1575, 'canyon': 489, 'temecula': 3233, 'periods': 2388, 'beverly': 350, 'newport': 2184, 'inglewood': 1701, 'vaxed': 3479, 'mosque': 2105, 'downey': 999, 'clot': 622, 'unborn': 3396, 'plaza': 2443, 'brentwood': 431, 'lancaster': 1840, 'roseville': 2820, 'malone': 1967, 'blvd': 386, 'rite': 2805, 'solano': 3033, 'ave': 276, 'hampton': 1479, 'adolescents': 60, 'clifton': 608, 'chesapeake': 565, 'garde': 1378, 'coachella': 631, 'junta': 1800, 'brawley': 422, 'arcadia': 206, 'arvin': 224, 'carrollton': 507, 'illegals': 1629, 'clarksville': 601, 'abingdon': 5, 'alexandria': 110, 'blacksburg': 375, 'menstrual': 2025, 'thrombosis': 3284, 'poquoson': 2479, 'hanford': 1483, 'azusa': 289, 'chico': 570, 'clovis': 623, 'kingsburg': 1823, 'bellflower': 340, 'alhambra': 111, 'culver': 811, 'artesia': 222, 'anaheim': 143, 'buena': 450, 'segundo': 2904, 'lynwood': 1948, 'gardena': 1380, 'maddie': 1951, 'pincode': 2428, 'emeryville': 1075, 'southgate': 3059, 'arroyo': 220, 'buellton': 449, 'camino': 476, 'shattuck': 2944, 'elk': 1063, 'elkton': 1064, 'ellicott': 1066, 'shoreline': 2959, 'atwater': 255, 'branham': 419, 'blythe': 387, 'adelanto': 51, 'eureka': 1137, 'pablo': 2323, 'antioch': 166, 'calistoga': 472, 'midvalley': 2042, 'appomattox': 194, 'christiansburg': 585, 'collinsville': 649, 'acworth': 45, 'bowdon': 409, 'maywood': 2003, 'redondo': 2694, 'ests': 1128, 'unvaxxed': 3425, 'zycov': 3680, 'myocarditis': 2137, 'lanco': 1841, 'magnetic': 1954, 'avaliable': 275, 'garay': 1377, 'pleasurer': 2447, 'htarhtarlin': 1593, 'accucard': 25, 'omicron': 2262}\n"
          ]
        }
      ],
      "source": [
        "print(vec.vocabulary_)"
      ]
    },
    {
      "cell_type": "code",
      "execution_count": null,
      "metadata": {
        "colab": {
          "base_uri": "https://localhost:8080/",
          "height": 407
        },
        "id": "AmQ68-AntLgQ",
        "outputId": "c7c46012-ed39-4982-8e86-386fe5f5dee0"
      },
      "outputs": [
        {
          "output_type": "execute_result",
          "data": {
            "text/plain": [
              "   depend  dependent  deploy  deployment  dept  deputy  desantis  describe  \\\n",
              "0     0.0        0.0     0.0         0.0   0.0     0.0       0.0       0.0   \n",
              "1     0.0        0.0     0.0         0.0   0.0     0.0       0.0       0.0   \n",
              "2     0.0        0.0     0.0         0.0   0.0     0.0       0.0       0.0   \n",
              "3     0.0        0.0     0.0         0.0   0.0     0.0       0.0       0.0   \n",
              "4     0.0        0.0     0.0         0.0   0.0     0.0       0.0       0.0   \n",
              "5     0.0        0.0     0.0         0.0   0.0     0.0       0.0       0.0   \n",
              "6     0.0        0.0     0.0         0.0   0.0     0.0       0.0       0.0   \n",
              "7     0.0        0.0     0.0         0.0   0.0     0.0       0.0       0.0   \n",
              "8     0.0        0.0     0.0         0.0   0.0     0.0       0.0       0.0   \n",
              "9     0.0        0.0     0.0         0.0   0.0     0.0       0.0       0.0   \n",
              "\n",
              "   desert  deserve  design  desperate  desperately  despite  destroy  \\\n",
              "0     0.0      0.0     0.0        0.0          0.0      0.0      0.0   \n",
              "1     0.0      0.0     0.0        0.0          0.0      0.0      0.0   \n",
              "2     0.0      0.0     0.0        0.0          0.0      0.0      0.0   \n",
              "3     0.0      0.0     0.0        0.0          0.0      0.0      0.0   \n",
              "4     0.0      0.0     0.0        0.0          0.0      0.0      0.0   \n",
              "5     0.0      0.0     0.0        0.0          0.0      0.0      0.0   \n",
              "6     0.0      0.0     0.0        0.0          0.0      0.0      0.0   \n",
              "7     0.0      0.0     0.0        0.0          0.0      0.0      0.0   \n",
              "8     0.0      0.0     0.0        0.0          0.0      0.0      0.0   \n",
              "9     0.0      0.0     0.0        0.0          0.0      0.0      0.0   \n",
              "\n",
              "   destruction  detail  detect  determine  devastate  \n",
              "0          0.0     0.0     0.0        0.0        0.0  \n",
              "1          0.0     0.0     0.0        0.0        0.0  \n",
              "2          0.0     0.0     0.0        0.0        0.0  \n",
              "3          0.0     0.0     0.0        0.0        0.0  \n",
              "4          0.0     0.0     0.0        0.0        0.0  \n",
              "5          0.0     0.0     0.0        0.0        0.0  \n",
              "6          0.0     0.0     0.0        0.0        0.0  \n",
              "7          0.0     0.0     0.0        0.0        0.0  \n",
              "8          0.0     0.0     0.0        0.0        0.0  \n",
              "9          0.0     0.0     0.0        0.0        0.0  "
            ],
            "text/html": [
              "\n",
              "  <div id=\"df-10ab91b1-d39e-424d-b4e2-e13c15de0fc4\">\n",
              "    <div class=\"colab-df-container\">\n",
              "      <div>\n",
              "<style scoped>\n",
              "    .dataframe tbody tr th:only-of-type {\n",
              "        vertical-align: middle;\n",
              "    }\n",
              "\n",
              "    .dataframe tbody tr th {\n",
              "        vertical-align: top;\n",
              "    }\n",
              "\n",
              "    .dataframe thead th {\n",
              "        text-align: right;\n",
              "    }\n",
              "</style>\n",
              "<table border=\"1\" class=\"dataframe\">\n",
              "  <thead>\n",
              "    <tr style=\"text-align: right;\">\n",
              "      <th></th>\n",
              "      <th>depend</th>\n",
              "      <th>dependent</th>\n",
              "      <th>deploy</th>\n",
              "      <th>deployment</th>\n",
              "      <th>dept</th>\n",
              "      <th>deputy</th>\n",
              "      <th>desantis</th>\n",
              "      <th>describe</th>\n",
              "      <th>desert</th>\n",
              "      <th>deserve</th>\n",
              "      <th>design</th>\n",
              "      <th>desperate</th>\n",
              "      <th>desperately</th>\n",
              "      <th>despite</th>\n",
              "      <th>destroy</th>\n",
              "      <th>destruction</th>\n",
              "      <th>detail</th>\n",
              "      <th>detect</th>\n",
              "      <th>determine</th>\n",
              "      <th>devastate</th>\n",
              "    </tr>\n",
              "  </thead>\n",
              "  <tbody>\n",
              "    <tr>\n",
              "      <th>0</th>\n",
              "      <td>0.0</td>\n",
              "      <td>0.0</td>\n",
              "      <td>0.0</td>\n",
              "      <td>0.0</td>\n",
              "      <td>0.0</td>\n",
              "      <td>0.0</td>\n",
              "      <td>0.0</td>\n",
              "      <td>0.0</td>\n",
              "      <td>0.0</td>\n",
              "      <td>0.0</td>\n",
              "      <td>0.0</td>\n",
              "      <td>0.0</td>\n",
              "      <td>0.0</td>\n",
              "      <td>0.0</td>\n",
              "      <td>0.0</td>\n",
              "      <td>0.0</td>\n",
              "      <td>0.0</td>\n",
              "      <td>0.0</td>\n",
              "      <td>0.0</td>\n",
              "      <td>0.0</td>\n",
              "    </tr>\n",
              "    <tr>\n",
              "      <th>1</th>\n",
              "      <td>0.0</td>\n",
              "      <td>0.0</td>\n",
              "      <td>0.0</td>\n",
              "      <td>0.0</td>\n",
              "      <td>0.0</td>\n",
              "      <td>0.0</td>\n",
              "      <td>0.0</td>\n",
              "      <td>0.0</td>\n",
              "      <td>0.0</td>\n",
              "      <td>0.0</td>\n",
              "      <td>0.0</td>\n",
              "      <td>0.0</td>\n",
              "      <td>0.0</td>\n",
              "      <td>0.0</td>\n",
              "      <td>0.0</td>\n",
              "      <td>0.0</td>\n",
              "      <td>0.0</td>\n",
              "      <td>0.0</td>\n",
              "      <td>0.0</td>\n",
              "      <td>0.0</td>\n",
              "    </tr>\n",
              "    <tr>\n",
              "      <th>2</th>\n",
              "      <td>0.0</td>\n",
              "      <td>0.0</td>\n",
              "      <td>0.0</td>\n",
              "      <td>0.0</td>\n",
              "      <td>0.0</td>\n",
              "      <td>0.0</td>\n",
              "      <td>0.0</td>\n",
              "      <td>0.0</td>\n",
              "      <td>0.0</td>\n",
              "      <td>0.0</td>\n",
              "      <td>0.0</td>\n",
              "      <td>0.0</td>\n",
              "      <td>0.0</td>\n",
              "      <td>0.0</td>\n",
              "      <td>0.0</td>\n",
              "      <td>0.0</td>\n",
              "      <td>0.0</td>\n",
              "      <td>0.0</td>\n",
              "      <td>0.0</td>\n",
              "      <td>0.0</td>\n",
              "    </tr>\n",
              "    <tr>\n",
              "      <th>3</th>\n",
              "      <td>0.0</td>\n",
              "      <td>0.0</td>\n",
              "      <td>0.0</td>\n",
              "      <td>0.0</td>\n",
              "      <td>0.0</td>\n",
              "      <td>0.0</td>\n",
              "      <td>0.0</td>\n",
              "      <td>0.0</td>\n",
              "      <td>0.0</td>\n",
              "      <td>0.0</td>\n",
              "      <td>0.0</td>\n",
              "      <td>0.0</td>\n",
              "      <td>0.0</td>\n",
              "      <td>0.0</td>\n",
              "      <td>0.0</td>\n",
              "      <td>0.0</td>\n",
              "      <td>0.0</td>\n",
              "      <td>0.0</td>\n",
              "      <td>0.0</td>\n",
              "      <td>0.0</td>\n",
              "    </tr>\n",
              "    <tr>\n",
              "      <th>4</th>\n",
              "      <td>0.0</td>\n",
              "      <td>0.0</td>\n",
              "      <td>0.0</td>\n",
              "      <td>0.0</td>\n",
              "      <td>0.0</td>\n",
              "      <td>0.0</td>\n",
              "      <td>0.0</td>\n",
              "      <td>0.0</td>\n",
              "      <td>0.0</td>\n",
              "      <td>0.0</td>\n",
              "      <td>0.0</td>\n",
              "      <td>0.0</td>\n",
              "      <td>0.0</td>\n",
              "      <td>0.0</td>\n",
              "      <td>0.0</td>\n",
              "      <td>0.0</td>\n",
              "      <td>0.0</td>\n",
              "      <td>0.0</td>\n",
              "      <td>0.0</td>\n",
              "      <td>0.0</td>\n",
              "    </tr>\n",
              "    <tr>\n",
              "      <th>5</th>\n",
              "      <td>0.0</td>\n",
              "      <td>0.0</td>\n",
              "      <td>0.0</td>\n",
              "      <td>0.0</td>\n",
              "      <td>0.0</td>\n",
              "      <td>0.0</td>\n",
              "      <td>0.0</td>\n",
              "      <td>0.0</td>\n",
              "      <td>0.0</td>\n",
              "      <td>0.0</td>\n",
              "      <td>0.0</td>\n",
              "      <td>0.0</td>\n",
              "      <td>0.0</td>\n",
              "      <td>0.0</td>\n",
              "      <td>0.0</td>\n",
              "      <td>0.0</td>\n",
              "      <td>0.0</td>\n",
              "      <td>0.0</td>\n",
              "      <td>0.0</td>\n",
              "      <td>0.0</td>\n",
              "    </tr>\n",
              "    <tr>\n",
              "      <th>6</th>\n",
              "      <td>0.0</td>\n",
              "      <td>0.0</td>\n",
              "      <td>0.0</td>\n",
              "      <td>0.0</td>\n",
              "      <td>0.0</td>\n",
              "      <td>0.0</td>\n",
              "      <td>0.0</td>\n",
              "      <td>0.0</td>\n",
              "      <td>0.0</td>\n",
              "      <td>0.0</td>\n",
              "      <td>0.0</td>\n",
              "      <td>0.0</td>\n",
              "      <td>0.0</td>\n",
              "      <td>0.0</td>\n",
              "      <td>0.0</td>\n",
              "      <td>0.0</td>\n",
              "      <td>0.0</td>\n",
              "      <td>0.0</td>\n",
              "      <td>0.0</td>\n",
              "      <td>0.0</td>\n",
              "    </tr>\n",
              "    <tr>\n",
              "      <th>7</th>\n",
              "      <td>0.0</td>\n",
              "      <td>0.0</td>\n",
              "      <td>0.0</td>\n",
              "      <td>0.0</td>\n",
              "      <td>0.0</td>\n",
              "      <td>0.0</td>\n",
              "      <td>0.0</td>\n",
              "      <td>0.0</td>\n",
              "      <td>0.0</td>\n",
              "      <td>0.0</td>\n",
              "      <td>0.0</td>\n",
              "      <td>0.0</td>\n",
              "      <td>0.0</td>\n",
              "      <td>0.0</td>\n",
              "      <td>0.0</td>\n",
              "      <td>0.0</td>\n",
              "      <td>0.0</td>\n",
              "      <td>0.0</td>\n",
              "      <td>0.0</td>\n",
              "      <td>0.0</td>\n",
              "    </tr>\n",
              "    <tr>\n",
              "      <th>8</th>\n",
              "      <td>0.0</td>\n",
              "      <td>0.0</td>\n",
              "      <td>0.0</td>\n",
              "      <td>0.0</td>\n",
              "      <td>0.0</td>\n",
              "      <td>0.0</td>\n",
              "      <td>0.0</td>\n",
              "      <td>0.0</td>\n",
              "      <td>0.0</td>\n",
              "      <td>0.0</td>\n",
              "      <td>0.0</td>\n",
              "      <td>0.0</td>\n",
              "      <td>0.0</td>\n",
              "      <td>0.0</td>\n",
              "      <td>0.0</td>\n",
              "      <td>0.0</td>\n",
              "      <td>0.0</td>\n",
              "      <td>0.0</td>\n",
              "      <td>0.0</td>\n",
              "      <td>0.0</td>\n",
              "    </tr>\n",
              "    <tr>\n",
              "      <th>9</th>\n",
              "      <td>0.0</td>\n",
              "      <td>0.0</td>\n",
              "      <td>0.0</td>\n",
              "      <td>0.0</td>\n",
              "      <td>0.0</td>\n",
              "      <td>0.0</td>\n",
              "      <td>0.0</td>\n",
              "      <td>0.0</td>\n",
              "      <td>0.0</td>\n",
              "      <td>0.0</td>\n",
              "      <td>0.0</td>\n",
              "      <td>0.0</td>\n",
              "      <td>0.0</td>\n",
              "      <td>0.0</td>\n",
              "      <td>0.0</td>\n",
              "      <td>0.0</td>\n",
              "      <td>0.0</td>\n",
              "      <td>0.0</td>\n",
              "      <td>0.0</td>\n",
              "      <td>0.0</td>\n",
              "    </tr>\n",
              "  </tbody>\n",
              "</table>\n",
              "</div>\n",
              "      <button class=\"colab-df-convert\" onclick=\"convertToInteractive('df-10ab91b1-d39e-424d-b4e2-e13c15de0fc4')\"\n",
              "              title=\"Convert this dataframe to an interactive table.\"\n",
              "              style=\"display:none;\">\n",
              "        \n",
              "  <svg xmlns=\"http://www.w3.org/2000/svg\" height=\"24px\"viewBox=\"0 0 24 24\"\n",
              "       width=\"24px\">\n",
              "    <path d=\"M0 0h24v24H0V0z\" fill=\"none\"/>\n",
              "    <path d=\"M18.56 5.44l.94 2.06.94-2.06 2.06-.94-2.06-.94-.94-2.06-.94 2.06-2.06.94zm-11 1L8.5 8.5l.94-2.06 2.06-.94-2.06-.94L8.5 2.5l-.94 2.06-2.06.94zm10 10l.94 2.06.94-2.06 2.06-.94-2.06-.94-.94-2.06-.94 2.06-2.06.94z\"/><path d=\"M17.41 7.96l-1.37-1.37c-.4-.4-.92-.59-1.43-.59-.52 0-1.04.2-1.43.59L10.3 9.45l-7.72 7.72c-.78.78-.78 2.05 0 2.83L4 21.41c.39.39.9.59 1.41.59.51 0 1.02-.2 1.41-.59l7.78-7.78 2.81-2.81c.8-.78.8-2.07 0-2.86zM5.41 20L4 18.59l7.72-7.72 1.47 1.35L5.41 20z\"/>\n",
              "  </svg>\n",
              "      </button>\n",
              "      \n",
              "  <style>\n",
              "    .colab-df-container {\n",
              "      display:flex;\n",
              "      flex-wrap:wrap;\n",
              "      gap: 12px;\n",
              "    }\n",
              "\n",
              "    .colab-df-convert {\n",
              "      background-color: #E8F0FE;\n",
              "      border: none;\n",
              "      border-radius: 50%;\n",
              "      cursor: pointer;\n",
              "      display: none;\n",
              "      fill: #1967D2;\n",
              "      height: 32px;\n",
              "      padding: 0 0 0 0;\n",
              "      width: 32px;\n",
              "    }\n",
              "\n",
              "    .colab-df-convert:hover {\n",
              "      background-color: #E2EBFA;\n",
              "      box-shadow: 0px 1px 2px rgba(60, 64, 67, 0.3), 0px 1px 3px 1px rgba(60, 64, 67, 0.15);\n",
              "      fill: #174EA6;\n",
              "    }\n",
              "\n",
              "    [theme=dark] .colab-df-convert {\n",
              "      background-color: #3B4455;\n",
              "      fill: #D2E3FC;\n",
              "    }\n",
              "\n",
              "    [theme=dark] .colab-df-convert:hover {\n",
              "      background-color: #434B5C;\n",
              "      box-shadow: 0px 1px 3px 1px rgba(0, 0, 0, 0.15);\n",
              "      filter: drop-shadow(0px 1px 2px rgba(0, 0, 0, 0.3));\n",
              "      fill: #FFFFFF;\n",
              "    }\n",
              "  </style>\n",
              "\n",
              "      <script>\n",
              "        const buttonEl =\n",
              "          document.querySelector('#df-10ab91b1-d39e-424d-b4e2-e13c15de0fc4 button.colab-df-convert');\n",
              "        buttonEl.style.display =\n",
              "          google.colab.kernel.accessAllowed ? 'block' : 'none';\n",
              "\n",
              "        async function convertToInteractive(key) {\n",
              "          const element = document.querySelector('#df-10ab91b1-d39e-424d-b4e2-e13c15de0fc4');\n",
              "          const dataTable =\n",
              "            await google.colab.kernel.invokeFunction('convertToInteractive',\n",
              "                                                     [key], {});\n",
              "          if (!dataTable) return;\n",
              "\n",
              "          const docLinkHtml = 'Like what you see? Visit the ' +\n",
              "            '<a target=\"_blank\" href=https://colab.research.google.com/notebooks/data_table.ipynb>data table notebook</a>'\n",
              "            + ' to learn more about interactive tables.';\n",
              "          element.innerHTML = '';\n",
              "          dataTable['output_type'] = 'display_data';\n",
              "          await google.colab.output.renderOutput(dataTable, element);\n",
              "          const docLink = document.createElement('div');\n",
              "          docLink.innerHTML = docLinkHtml;\n",
              "          element.appendChild(docLink);\n",
              "        }\n",
              "      </script>\n",
              "    </div>\n",
              "  </div>\n",
              "  "
            ]
          },
          "metadata": {},
          "execution_count": 26
        }
      ],
      "source": [
        "(pd.DataFrame(tfidf_matrix[:10].todense(),\n",
        "              columns=[x for x in vec.get_feature_names()])\n",
        " # experiment by choosing any range of feature indices (alphabetical order)\n",
        " .iloc[:,900:920])"
      ]
    },
    {
      "cell_type": "markdown",
      "source": [
        "## Dimensionality Reduction"
      ],
      "metadata": {
        "id": "QLlOwuLYowyb"
      }
    },
    {
      "cell_type": "code",
      "execution_count": null,
      "metadata": {
        "colab": {
          "base_uri": "https://localhost:8080/"
        },
        "id": "qFAMnO-d6NWz",
        "outputId": "44c102e6-99ba-40e9-e83b-d360ee9c35de"
      },
      "outputs": [
        {
          "output_type": "execute_result",
          "data": {
            "text/plain": [
              "(368588, 3682)"
            ]
          },
          "metadata": {},
          "execution_count": 27
        }
      ],
      "source": [
        "from sklearn.preprocessing import normalize\n",
        "vector_normalized = normalize(tfidf_matrix, norm='l1', axis=1, copy=False)\n",
        "vector_normalized.shape"
      ]
    },
    {
      "cell_type": "code",
      "execution_count": null,
      "metadata": {
        "id": "sGMzAEi76SZS"
      },
      "outputs": [],
      "source": [
        "from sklearn.preprocessing import StandardScaler\n",
        "from sklearn.decomposition import TruncatedSVD\n",
        "from scipy.sparse import csr_matrix\n",
        "from sklearn import datasets\n",
        "import numpy as np"
      ]
    },
    {
      "cell_type": "code",
      "execution_count": null,
      "metadata": {
        "id": "yI4g4CNh6WDS"
      },
      "outputs": [],
      "source": [
        "tsvd = TruncatedSVD(n_components=2000)"
      ]
    },
    {
      "cell_type": "code",
      "execution_count": null,
      "metadata": {
        "colab": {
          "base_uri": "https://localhost:8080/"
        },
        "id": "07TdJx2D6WXm",
        "outputId": "fab84788-6fac-467c-8107-5811d4a90279"
      },
      "outputs": [
        {
          "output_type": "execute_result",
          "data": {
            "text/plain": [
              "(368588, 2000)"
            ]
          },
          "metadata": {},
          "execution_count": 30
        }
      ],
      "source": [
        "sparse_tsvd = tsvd.fit(vector_normalized).transform(vector_normalized)\n",
        "sparse_tsvd.shape"
      ]
    },
    {
      "cell_type": "code",
      "execution_count": null,
      "metadata": {
        "colab": {
          "base_uri": "https://localhost:8080/"
        },
        "id": "AibLkdud6ddJ",
        "outputId": "fc21c86a-87eb-4583-a7a4-c091a309688b"
      },
      "outputs": [
        {
          "output_type": "execute_result",
          "data": {
            "text/plain": [
              "0.899736844807205"
            ]
          },
          "metadata": {},
          "execution_count": 31
        }
      ],
      "source": [
        "tsvd.explained_variance_ratio_[0:2000].sum()"
      ]
    },
    {
      "cell_type": "code",
      "execution_count": null,
      "metadata": {
        "id": "YsApns1r7Jz0"
      },
      "outputs": [],
      "source": [
        "from sklearn.model_selection import train_test_split\n",
        "X = sparse_tsvd\n",
        "X_train, X_test = train_test_split(X, test_size=0.2, random_state=42)"
      ]
    },
    {
      "cell_type": "code",
      "execution_count": null,
      "metadata": {
        "colab": {
          "base_uri": "https://localhost:8080/"
        },
        "id": "E26-dPQflUB2",
        "outputId": "7ccb5b21-8c5b-46d5-b010-a1bfd7a149c5"
      },
      "outputs": [
        {
          "output_type": "stream",
          "name": "stdout",
          "text": [
            "(294870, 2000)\n",
            "(73718, 2000)\n"
          ]
        },
        {
          "output_type": "execute_result",
          "data": {
            "text/plain": [
              "(None, None)"
            ]
          },
          "metadata": {},
          "execution_count": 33
        }
      ],
      "source": [
        "print(X_train.shape), print(X_test.shape)"
      ]
    },
    {
      "cell_type": "markdown",
      "source": [
        "## Build and Train the AutoEncoder Model"
      ],
      "metadata": {
        "id": "3LywYmF4o34b"
      }
    },
    {
      "cell_type": "code",
      "execution_count": null,
      "metadata": {
        "id": "ORe2XkOZ820w"
      },
      "outputs": [],
      "source": [
        "from keras.layers import Dense, Input\n",
        "from keras.models import Model\n",
        "from keras.models import load_model\n",
        "from keras.callbacks import ModelCheckpoint\n",
        "from keras.callbacks import EarlyStopping\n",
        "from datetime import datetime"
      ]
    },
    {
      "cell_type": "code",
      "execution_count": null,
      "metadata": {
        "id": "-qH1dP0xWAU6"
      },
      "outputs": [],
      "source": [
        "def get_autoencoder(dims, act='relu'):\n",
        "    n_stacks = len(dims) - 1\n",
        "    x = Input(shape=(dims[0],), name='input')\n",
        "\n",
        "    h = x\n",
        "    for i in range(n_stacks - 1):\n",
        "        h = Dense(dims[i + 1], activation=act, name='encoder_%d' % i)(h)\n",
        "\n",
        "    h = Dense(dims[-1], name='encoder_%d' % (n_stacks - 1))(h)\n",
        "    for i in range(n_stacks - 1, 0, -1):\n",
        "        h = Dense(dims[i], activation=act, name='decoder_%d' % i)(h)\n",
        "\n",
        "    h = Dense(dims[0], name='decoder_0')(h)\n",
        "\n",
        "    model = Model(inputs=x, outputs=h)\n",
        "    model.summary()\n",
        "    return model"
      ]
    },
    {
      "cell_type": "code",
      "execution_count": null,
      "metadata": {
        "colab": {
          "base_uri": "https://localhost:8080/"
        },
        "id": "_1fH3kKf7nZ5",
        "outputId": "ec70672f-381a-4377-ef0e-d72fab0b02b1"
      },
      "outputs": [
        {
          "output_type": "stream",
          "name": "stdout",
          "text": [
            "[2000, 2048, 3072, 4096, 100]\n",
            "Model: \"model_3\"\n",
            "_________________________________________________________________\n",
            " Layer (type)                Output Shape              Param #   \n",
            "=================================================================\n",
            " input (InputLayer)          [(None, 2000)]            0         \n",
            "                                                                 \n",
            " encoder_0 (Dense)           (None, 2048)              4098048   \n",
            "                                                                 \n",
            " encoder_1 (Dense)           (None, 3072)              6294528   \n",
            "                                                                 \n",
            " encoder_2 (Dense)           (None, 4096)              12587008  \n",
            "                                                                 \n",
            " encoder_3 (Dense)           (None, 100)               409700    \n",
            "                                                                 \n",
            " decoder_3 (Dense)           (None, 4096)              413696    \n",
            "                                                                 \n",
            " decoder_2 (Dense)           (None, 3072)              12585984  \n",
            "                                                                 \n",
            " decoder_1 (Dense)           (None, 2048)              6293504   \n",
            "                                                                 \n",
            " decoder_0 (Dense)           (None, 2000)              4098000   \n",
            "                                                                 \n",
            "=================================================================\n",
            "Total params: 46,780,468\n",
            "Trainable params: 46,780,468\n",
            "Non-trainable params: 0\n",
            "_________________________________________________________________\n"
          ]
        }
      ],
      "source": [
        "batch_size = 256\n",
        "pretrain_epochs = 256\n",
        "encoded_dimensions = 100\n",
        "shape = [X.shape[-1], 2048, 3072, 4096, 8192, encoded_dimensions]\n",
        "\n",
        "print(shape)\n",
        "\n",
        "autoencoder = get_autoencoder(shape)"
      ]
    },
    {
      "cell_type": "code",
      "execution_count": null,
      "metadata": {
        "colab": {
          "base_uri": "https://localhost:8080/"
        },
        "id": "a88ZqTfz860Q",
        "outputId": "cb941769-b572-40c2-b42d-16ce151e06cf"
      },
      "outputs": [
        {
          "output_type": "stream",
          "name": "stdout",
          "text": [
            "taking the last encoder layer:encoder_3\n"
          ]
        }
      ],
      "source": [
        "encoded_layer = f'encoder_{(len(shape) - 2)}'\n",
        "\n",
        "print(f'taking the last encoder layer:{encoded_layer}')\n",
        "\n",
        "hidden_encoder_layer = autoencoder.get_layer(name=encoded_layer).output\n",
        "encoder = Model(inputs=autoencoder.input, outputs=hidden_encoder_layer)\n",
        "autoencoder.compile(loss='mse', optimizer='adam')"
      ]
    },
    {
      "cell_type": "code",
      "execution_count": null,
      "metadata": {
        "colab": {
          "base_uri": "https://localhost:8080/"
        },
        "id": "WU4_Cjv_9CkV",
        "outputId": "84ba6bd8-ebff-4ec1-a81c-8a2c8f91f805"
      },
      "outputs": [
        {
          "output_type": "stream",
          "name": "stdout",
          "text": [
            "Epoch 1/512\n",
            "1152/1152 [==============================] - 26s 21ms/step - loss: 7.7488e-05 - val_loss: 6.8646e-05\n",
            "Epoch 2/512\n",
            "1152/1152 [==============================] - 22s 19ms/step - loss: 6.2529e-05 - val_loss: 5.9502e-05\n",
            "Epoch 3/512\n",
            "1152/1152 [==============================] - 22s 19ms/step - loss: 5.6600e-05 - val_loss: 5.4830e-05\n",
            "Epoch 4/512\n",
            "1152/1152 [==============================] - 22s 19ms/step - loss: 5.2074e-05 - val_loss: 5.0663e-05\n",
            "Epoch 5/512\n",
            "1152/1152 [==============================] - 23s 20ms/step - loss: 4.8615e-05 - val_loss: 4.7842e-05\n",
            "Epoch 6/512\n",
            "1152/1152 [==============================] - 22s 19ms/step - loss: 4.6129e-05 - val_loss: 4.5659e-05\n",
            "Epoch 7/512\n",
            "1152/1152 [==============================] - 22s 19ms/step - loss: 4.4167e-05 - val_loss: 4.3912e-05\n",
            "Epoch 8/512\n",
            "1152/1152 [==============================] - 22s 19ms/step - loss: 4.2482e-05 - val_loss: 4.2306e-05\n",
            "Epoch 9/512\n",
            "1152/1152 [==============================] - 22s 19ms/step - loss: 4.1003e-05 - val_loss: 4.1052e-05\n",
            "Epoch 10/512\n",
            "1152/1152 [==============================] - 22s 19ms/step - loss: 3.9714e-05 - val_loss: 3.9807e-05\n",
            "Epoch 11/512\n",
            "1152/1152 [==============================] - 22s 19ms/step - loss: 3.8579e-05 - val_loss: 3.8730e-05\n",
            "Epoch 12/512\n",
            "1152/1152 [==============================] - 22s 19ms/step - loss: 3.7562e-05 - val_loss: 3.7736e-05\n",
            "Epoch 13/512\n",
            "1152/1152 [==============================] - 22s 19ms/step - loss: 3.6617e-05 - val_loss: 3.6904e-05\n",
            "Epoch 14/512\n",
            "1152/1152 [==============================] - 23s 20ms/step - loss: 3.5749e-05 - val_loss: 3.6154e-05\n",
            "Epoch 15/512\n",
            "1152/1152 [==============================] - 22s 19ms/step - loss: 3.4928e-05 - val_loss: 3.5281e-05\n",
            "Epoch 16/512\n",
            "1152/1152 [==============================] - 22s 19ms/step - loss: 3.4148e-05 - val_loss: 3.4567e-05\n",
            "Epoch 17/512\n",
            "1152/1152 [==============================] - 22s 19ms/step - loss: 3.3401e-05 - val_loss: 3.3828e-05\n",
            "Epoch 18/512\n",
            "1152/1152 [==============================] - 22s 19ms/step - loss: 3.2692e-05 - val_loss: 3.3202e-05\n",
            "Epoch 19/512\n",
            "1152/1152 [==============================] - 22s 19ms/step - loss: 3.2023e-05 - val_loss: 3.2534e-05\n",
            "Epoch 20/512\n",
            "1152/1152 [==============================] - 22s 19ms/step - loss: 3.1388e-05 - val_loss: 3.2006e-05\n",
            "Epoch 21/512\n",
            "1152/1152 [==============================] - 22s 19ms/step - loss: 3.0792e-05 - val_loss: 3.1459e-05\n",
            "Epoch 22/512\n",
            "1152/1152 [==============================] - 22s 19ms/step - loss: 3.0228e-05 - val_loss: 3.0914e-05\n",
            "Epoch 23/512\n",
            "1152/1152 [==============================] - 22s 19ms/step - loss: 2.9704e-05 - val_loss: 3.0376e-05\n",
            "Epoch 24/512\n",
            "1152/1152 [==============================] - 22s 19ms/step - loss: 2.9201e-05 - val_loss: 2.9897e-05\n",
            "Epoch 25/512\n",
            "1152/1152 [==============================] - 22s 19ms/step - loss: 2.8722e-05 - val_loss: 2.9475e-05\n",
            "Epoch 26/512\n",
            "1152/1152 [==============================] - 22s 19ms/step - loss: 2.8263e-05 - val_loss: 2.8968e-05\n",
            "Epoch 27/512\n",
            "1152/1152 [==============================] - 22s 19ms/step - loss: 2.7826e-05 - val_loss: 2.8602e-05\n",
            "Epoch 28/512\n",
            "1152/1152 [==============================] - 22s 19ms/step - loss: 2.7409e-05 - val_loss: 2.8130e-05\n",
            "Epoch 29/512\n",
            "1152/1152 [==============================] - 22s 19ms/step - loss: 2.6995e-05 - val_loss: 2.7787e-05\n",
            "Epoch 30/512\n",
            "1152/1152 [==============================] - 22s 19ms/step - loss: 2.6604e-05 - val_loss: 2.7365e-05\n",
            "Epoch 31/512\n",
            "1152/1152 [==============================] - 22s 19ms/step - loss: 2.6221e-05 - val_loss: 2.7047e-05\n",
            "Epoch 32/512\n",
            "1152/1152 [==============================] - 22s 19ms/step - loss: 2.5846e-05 - val_loss: 2.6685e-05\n",
            "Epoch 33/512\n",
            "1152/1152 [==============================] - 23s 20ms/step - loss: 2.5481e-05 - val_loss: 2.6332e-05\n",
            "Epoch 34/512\n",
            "1152/1152 [==============================] - 22s 19ms/step - loss: 2.5130e-05 - val_loss: 2.5978e-05\n",
            "Epoch 35/512\n",
            "1152/1152 [==============================] - 22s 19ms/step - loss: 2.4779e-05 - val_loss: 2.5621e-05\n",
            "Epoch 36/512\n",
            "1152/1152 [==============================] - 22s 19ms/step - loss: 2.4443e-05 - val_loss: 2.5323e-05\n",
            "Epoch 37/512\n",
            "1152/1152 [==============================] - 22s 19ms/step - loss: 2.4119e-05 - val_loss: 2.5008e-05\n",
            "Epoch 38/512\n",
            "1152/1152 [==============================] - 23s 20ms/step - loss: 2.3810e-05 - val_loss: 2.4736e-05\n",
            "Epoch 39/512\n",
            "1152/1152 [==============================] - 22s 19ms/step - loss: 2.3506e-05 - val_loss: 2.4467e-05\n",
            "Epoch 40/512\n",
            "1152/1152 [==============================] - 22s 19ms/step - loss: 2.3218e-05 - val_loss: 2.4167e-05\n",
            "Epoch 41/512\n",
            "1152/1152 [==============================] - 22s 19ms/step - loss: 2.2938e-05 - val_loss: 2.3906e-05\n",
            "Epoch 42/512\n",
            "1152/1152 [==============================] - 22s 19ms/step - loss: 2.2661e-05 - val_loss: 2.3618e-05\n",
            "Epoch 43/512\n",
            "1152/1152 [==============================] - 22s 19ms/step - loss: 2.2396e-05 - val_loss: 2.3366e-05\n",
            "Epoch 44/512\n",
            "1152/1152 [==============================] - 22s 19ms/step - loss: 2.2137e-05 - val_loss: 2.3153e-05\n",
            "Epoch 45/512\n",
            "1152/1152 [==============================] - 23s 20ms/step - loss: 2.1888e-05 - val_loss: 2.2933e-05\n",
            "Epoch 46/512\n",
            "1152/1152 [==============================] - 23s 20ms/step - loss: 2.1649e-05 - val_loss: 2.2644e-05\n",
            "Epoch 47/512\n",
            "1152/1152 [==============================] - 22s 19ms/step - loss: 2.1412e-05 - val_loss: 2.2468e-05\n",
            "Epoch 48/512\n",
            "1152/1152 [==============================] - 22s 19ms/step - loss: 2.1186e-05 - val_loss: 2.2232e-05\n",
            "Epoch 49/512\n",
            "1152/1152 [==============================] - 22s 20ms/step - loss: 2.0962e-05 - val_loss: 2.2055e-05\n",
            "Epoch 50/512\n",
            "1152/1152 [==============================] - 23s 20ms/step - loss: 2.0743e-05 - val_loss: 2.1828e-05\n",
            "Epoch 51/512\n",
            "1152/1152 [==============================] - 22s 19ms/step - loss: 2.0533e-05 - val_loss: 2.1643e-05\n",
            "Epoch 52/512\n",
            "1152/1152 [==============================] - 22s 19ms/step - loss: 2.0326e-05 - val_loss: 2.1483e-05\n",
            "Epoch 53/512\n",
            "1152/1152 [==============================] - 22s 19ms/step - loss: 2.0129e-05 - val_loss: 2.1236e-05\n",
            "Epoch 54/512\n",
            "1152/1152 [==============================] - 22s 19ms/step - loss: 1.9935e-05 - val_loss: 2.1074e-05\n",
            "Epoch 55/512\n",
            "1152/1152 [==============================] - 22s 19ms/step - loss: 1.9741e-05 - val_loss: 2.0913e-05\n",
            "Epoch 56/512\n",
            "1152/1152 [==============================] - 22s 19ms/step - loss: 1.9556e-05 - val_loss: 2.0705e-05\n",
            "Epoch 57/512\n",
            "1152/1152 [==============================] - 22s 19ms/step - loss: 1.9373e-05 - val_loss: 2.0553e-05\n",
            "Epoch 58/512\n",
            "1152/1152 [==============================] - 22s 19ms/step - loss: 1.9192e-05 - val_loss: 2.0324e-05\n",
            "Epoch 59/512\n",
            "1152/1152 [==============================] - 22s 19ms/step - loss: 1.9015e-05 - val_loss: 2.0211e-05\n",
            "Epoch 60/512\n",
            "1152/1152 [==============================] - 22s 19ms/step - loss: 1.8843e-05 - val_loss: 2.0072e-05\n",
            "Epoch 61/512\n",
            "1152/1152 [==============================] - 22s 19ms/step - loss: 1.8670e-05 - val_loss: 1.9887e-05\n",
            "Epoch 62/512\n",
            "1152/1152 [==============================] - 23s 20ms/step - loss: 1.8501e-05 - val_loss: 1.9725e-05\n",
            "Epoch 63/512\n",
            "1152/1152 [==============================] - 22s 19ms/step - loss: 1.8339e-05 - val_loss: 1.9580e-05\n",
            "Epoch 64/512\n",
            "1152/1152 [==============================] - 22s 19ms/step - loss: 1.8173e-05 - val_loss: 1.9332e-05\n",
            "Epoch 65/512\n",
            "1152/1152 [==============================] - 23s 20ms/step - loss: 1.8012e-05 - val_loss: 1.9214e-05\n",
            "Epoch 66/512\n",
            "1152/1152 [==============================] - 22s 19ms/step - loss: 1.7851e-05 - val_loss: 1.9053e-05\n",
            "Epoch 67/512\n",
            "1152/1152 [==============================] - 22s 19ms/step - loss: 1.7699e-05 - val_loss: 1.8874e-05\n",
            "Epoch 68/512\n",
            "1152/1152 [==============================] - 22s 19ms/step - loss: 1.7551e-05 - val_loss: 1.8792e-05\n",
            "Epoch 69/512\n",
            "1152/1152 [==============================] - 22s 19ms/step - loss: 1.7404e-05 - val_loss: 1.8598e-05\n",
            "Epoch 70/512\n",
            "1152/1152 [==============================] - 22s 19ms/step - loss: 1.7260e-05 - val_loss: 1.8474e-05\n",
            "Epoch 71/512\n",
            "1152/1152 [==============================] - 22s 19ms/step - loss: 1.7123e-05 - val_loss: 1.8328e-05\n",
            "Epoch 72/512\n",
            "1152/1152 [==============================] - 22s 19ms/step - loss: 1.6981e-05 - val_loss: 1.8278e-05\n",
            "Epoch 73/512\n",
            "1152/1152 [==============================] - 22s 19ms/step - loss: 1.6848e-05 - val_loss: 1.8081e-05\n",
            "Epoch 74/512\n",
            "1152/1152 [==============================] - 22s 19ms/step - loss: 1.6712e-05 - val_loss: 1.8007e-05\n",
            "Epoch 75/512\n",
            "1152/1152 [==============================] - 22s 19ms/step - loss: 1.6591e-05 - val_loss: 1.7841e-05\n",
            "Epoch 76/512\n",
            "1152/1152 [==============================] - 22s 19ms/step - loss: 1.6461e-05 - val_loss: 1.7739e-05\n",
            "Epoch 77/512\n",
            "1152/1152 [==============================] - 22s 19ms/step - loss: 1.6341e-05 - val_loss: 1.7630e-05\n",
            "Epoch 78/512\n",
            "1152/1152 [==============================] - 22s 19ms/step - loss: 1.6219e-05 - val_loss: 1.7496e-05\n",
            "Epoch 79/512\n",
            "1152/1152 [==============================] - 23s 20ms/step - loss: 1.6103e-05 - val_loss: 1.7418e-05\n",
            "Epoch 80/512\n",
            "1152/1152 [==============================] - 22s 19ms/step - loss: 1.5984e-05 - val_loss: 1.7308e-05\n",
            "Epoch 81/512\n",
            "1152/1152 [==============================] - 22s 19ms/step - loss: 1.5868e-05 - val_loss: 1.7187e-05\n",
            "Epoch 82/512\n",
            "1152/1152 [==============================] - 22s 19ms/step - loss: 1.5757e-05 - val_loss: 1.7049e-05\n",
            "Epoch 83/512\n",
            "1152/1152 [==============================] - 22s 19ms/step - loss: 1.5646e-05 - val_loss: 1.7037e-05\n",
            "Epoch 84/512\n",
            "1152/1152 [==============================] - 22s 19ms/step - loss: 1.5533e-05 - val_loss: 1.6876e-05\n",
            "Epoch 85/512\n",
            "1152/1152 [==============================] - 22s 19ms/step - loss: 1.5431e-05 - val_loss: 1.6826e-05\n",
            "Epoch 86/512\n",
            "1152/1152 [==============================] - 22s 19ms/step - loss: 1.5326e-05 - val_loss: 1.6682e-05\n",
            "Epoch 87/512\n",
            "1152/1152 [==============================] - 22s 19ms/step - loss: 1.5219e-05 - val_loss: 1.6539e-05\n",
            "Epoch 88/512\n",
            "1152/1152 [==============================] - 20s 18ms/step - loss: 1.5118e-05 - val_loss: 1.6557e-05\n",
            "Epoch 89/512\n",
            "1152/1152 [==============================] - 22s 19ms/step - loss: 1.5012e-05 - val_loss: 1.6488e-05\n",
            "Epoch 90/512\n",
            "1152/1152 [==============================] - 22s 19ms/step - loss: 1.4916e-05 - val_loss: 1.6335e-05\n",
            "Epoch 91/512\n",
            "1152/1152 [==============================] - 22s 19ms/step - loss: 1.4815e-05 - val_loss: 1.6221e-05\n",
            "Epoch 92/512\n",
            "1152/1152 [==============================] - 22s 19ms/step - loss: 1.4720e-05 - val_loss: 1.6167e-05\n",
            "Epoch 93/512\n",
            "1152/1152 [==============================] - 23s 20ms/step - loss: 1.4626e-05 - val_loss: 1.6068e-05\n",
            "Epoch 94/512\n",
            "1152/1152 [==============================] - 22s 19ms/step - loss: 1.4536e-05 - val_loss: 1.5985e-05\n",
            "Epoch 95/512\n",
            "1152/1152 [==============================] - 22s 19ms/step - loss: 1.4441e-05 - val_loss: 1.5967e-05\n",
            "Epoch 96/512\n",
            "1152/1152 [==============================] - 22s 19ms/step - loss: 1.4355e-05 - val_loss: 1.5831e-05\n",
            "Epoch 97/512\n",
            "1152/1152 [==============================] - 23s 20ms/step - loss: 1.4275e-05 - val_loss: 1.5799e-05\n",
            "Epoch 98/512\n",
            "1152/1152 [==============================] - 22s 19ms/step - loss: 1.4180e-05 - val_loss: 1.5683e-05\n",
            "Epoch 99/512\n",
            "1152/1152 [==============================] - 22s 19ms/step - loss: 1.4103e-05 - val_loss: 1.5604e-05\n",
            "Epoch 100/512\n",
            "1152/1152 [==============================] - 22s 19ms/step - loss: 1.4019e-05 - val_loss: 1.5534e-05\n",
            "Epoch 101/512\n",
            "1152/1152 [==============================] - 22s 19ms/step - loss: 1.3941e-05 - val_loss: 1.5487e-05\n",
            "Epoch 102/512\n",
            "1152/1152 [==============================] - 22s 19ms/step - loss: 1.3853e-05 - val_loss: 1.5418e-05\n",
            "Epoch 103/512\n",
            "1152/1152 [==============================] - 23s 20ms/step - loss: 1.3777e-05 - val_loss: 1.5323e-05\n",
            "Epoch 104/512\n",
            "1152/1152 [==============================] - 22s 19ms/step - loss: 1.3697e-05 - val_loss: 1.5265e-05\n",
            "Epoch 105/512\n",
            "1152/1152 [==============================] - 22s 19ms/step - loss: 1.3618e-05 - val_loss: 1.5190e-05\n",
            "Epoch 106/512\n",
            "1152/1152 [==============================] - 22s 19ms/step - loss: 1.3542e-05 - val_loss: 1.5104e-05\n",
            "Epoch 107/512\n",
            "1152/1152 [==============================] - 22s 19ms/step - loss: 1.3457e-05 - val_loss: 1.5076e-05\n",
            "Epoch 108/512\n",
            "1152/1152 [==============================] - 22s 19ms/step - loss: 1.3381e-05 - val_loss: 1.4972e-05\n",
            "Epoch 109/512\n",
            "1152/1152 [==============================] - 24s 20ms/step - loss: 1.3306e-05 - val_loss: 1.4907e-05\n",
            "Epoch 110/512\n",
            "1152/1152 [==============================] - 22s 19ms/step - loss: 1.3232e-05 - val_loss: 1.4863e-05\n",
            "Epoch 111/512\n",
            "1152/1152 [==============================] - 22s 19ms/step - loss: 1.3155e-05 - val_loss: 1.4786e-05\n",
            "Epoch 112/512\n",
            "1152/1152 [==============================] - 22s 19ms/step - loss: 1.3085e-05 - val_loss: 1.4641e-05\n",
            "Epoch 113/512\n",
            "1152/1152 [==============================] - 20s 18ms/step - loss: 1.3008e-05 - val_loss: 1.4657e-05\n",
            "Epoch 114/512\n",
            "1152/1152 [==============================] - 22s 19ms/step - loss: 1.2941e-05 - val_loss: 1.4606e-05\n",
            "Epoch 115/512\n",
            "1152/1152 [==============================] - 22s 19ms/step - loss: 1.2871e-05 - val_loss: 1.4547e-05\n",
            "Epoch 116/512\n",
            "1152/1152 [==============================] - 21s 18ms/step - loss: 1.2803e-05 - val_loss: 1.4555e-05\n",
            "Epoch 117/512\n",
            "1152/1152 [==============================] - 23s 20ms/step - loss: 1.2739e-05 - val_loss: 1.4380e-05\n",
            "Epoch 118/512\n",
            "1152/1152 [==============================] - 20s 18ms/step - loss: 1.2671e-05 - val_loss: 1.4393e-05\n",
            "Epoch 119/512\n",
            "1152/1152 [==============================] - 22s 20ms/step - loss: 1.2603e-05 - val_loss: 1.4335e-05\n",
            "Epoch 120/512\n",
            "1152/1152 [==============================] - 22s 19ms/step - loss: 1.2540e-05 - val_loss: 1.4269e-05\n",
            "Epoch 121/512\n",
            "1152/1152 [==============================] - 22s 19ms/step - loss: 1.2481e-05 - val_loss: 1.4229e-05\n",
            "Epoch 122/512\n",
            "1152/1152 [==============================] - 22s 19ms/step - loss: 1.2417e-05 - val_loss: 1.4149e-05\n",
            "Epoch 123/512\n",
            "1152/1152 [==============================] - 22s 19ms/step - loss: 1.2354e-05 - val_loss: 1.4085e-05\n",
            "Epoch 124/512\n",
            "1152/1152 [==============================] - 22s 19ms/step - loss: 1.2299e-05 - val_loss: 1.4062e-05\n",
            "Epoch 125/512\n",
            "1152/1152 [==============================] - 22s 19ms/step - loss: 1.2237e-05 - val_loss: 1.3939e-05\n",
            "Epoch 126/512\n",
            "1152/1152 [==============================] - 22s 19ms/step - loss: 1.2186e-05 - val_loss: 1.3929e-05\n",
            "Epoch 127/512\n",
            "1152/1152 [==============================] - 22s 19ms/step - loss: 1.2127e-05 - val_loss: 1.3859e-05\n",
            "Epoch 128/512\n",
            "1152/1152 [==============================] - 20s 18ms/step - loss: 1.2073e-05 - val_loss: 1.3884e-05\n",
            "Epoch 129/512\n",
            "1152/1152 [==============================] - 20s 18ms/step - loss: 1.2022e-05 - val_loss: 1.3874e-05\n",
            "Epoch 130/512\n",
            "1152/1152 [==============================] - 22s 19ms/step - loss: 1.1968e-05 - val_loss: 1.3716e-05\n",
            "Epoch 131/512\n",
            "1152/1152 [==============================] - 22s 19ms/step - loss: 1.1915e-05 - val_loss: 1.3713e-05\n",
            "Epoch 132/512\n",
            "1152/1152 [==============================] - 22s 19ms/step - loss: 1.1866e-05 - val_loss: 1.3684e-05\n",
            "Epoch 133/512\n",
            "1152/1152 [==============================] - 22s 19ms/step - loss: 1.1819e-05 - val_loss: 1.3653e-05\n",
            "Epoch 134/512\n",
            "1152/1152 [==============================] - 23s 20ms/step - loss: 1.1766e-05 - val_loss: 1.3627e-05\n",
            "Epoch 135/512\n",
            "1152/1152 [==============================] - 22s 19ms/step - loss: 1.1723e-05 - val_loss: 1.3610e-05\n",
            "Epoch 136/512\n",
            "1152/1152 [==============================] - 23s 20ms/step - loss: 1.1678e-05 - val_loss: 1.3586e-05\n",
            "Epoch 137/512\n",
            "1152/1152 [==============================] - 23s 20ms/step - loss: 1.1625e-05 - val_loss: 1.3492e-05\n",
            "Epoch 138/512\n",
            "1152/1152 [==============================] - 20s 18ms/step - loss: 1.1585e-05 - val_loss: 1.3519e-05\n",
            "Epoch 139/512\n",
            "1152/1152 [==============================] - 22s 20ms/step - loss: 1.1535e-05 - val_loss: 1.3414e-05\n",
            "Epoch 140/512\n",
            "1152/1152 [==============================] - 22s 19ms/step - loss: 1.1492e-05 - val_loss: 1.3381e-05\n",
            "Epoch 141/512\n",
            "1152/1152 [==============================] - 22s 19ms/step - loss: 1.1453e-05 - val_loss: 1.3337e-05\n",
            "Epoch 142/512\n",
            "1152/1152 [==============================] - 23s 20ms/step - loss: 1.1404e-05 - val_loss: 1.3312e-05\n",
            "Epoch 143/512\n",
            "1152/1152 [==============================] - 22s 19ms/step - loss: 1.1354e-05 - val_loss: 1.3256e-05\n",
            "Epoch 144/512\n",
            "1152/1152 [==============================] - 20s 18ms/step - loss: 1.1315e-05 - val_loss: 1.3299e-05\n",
            "Epoch 145/512\n",
            "1152/1152 [==============================] - 23s 20ms/step - loss: 1.1270e-05 - val_loss: 1.3223e-05\n",
            "Epoch 146/512\n",
            "1152/1152 [==============================] - 22s 19ms/step - loss: 1.1226e-05 - val_loss: 1.3174e-05\n",
            "Epoch 147/512\n",
            "1152/1152 [==============================] - 23s 20ms/step - loss: 1.1180e-05 - val_loss: 1.3137e-05\n",
            "Epoch 148/512\n",
            "1152/1152 [==============================] - 22s 20ms/step - loss: 1.1147e-05 - val_loss: 1.3080e-05\n",
            "Epoch 149/512\n",
            "1152/1152 [==============================] - 21s 18ms/step - loss: 1.1100e-05 - val_loss: 1.3084e-05\n",
            "Epoch 150/512\n",
            "1152/1152 [==============================] - 22s 20ms/step - loss: 1.1055e-05 - val_loss: 1.2986e-05\n",
            "Epoch 151/512\n",
            "1152/1152 [==============================] - 23s 20ms/step - loss: 1.1019e-05 - val_loss: 1.2964e-05\n",
            "Epoch 152/512\n",
            "1152/1152 [==============================] - 22s 19ms/step - loss: 1.0980e-05 - val_loss: 1.2958e-05\n",
            "Epoch 153/512\n",
            "1152/1152 [==============================] - 23s 20ms/step - loss: 1.0942e-05 - val_loss: 1.2921e-05\n",
            "Epoch 154/512\n",
            "1152/1152 [==============================] - 23s 20ms/step - loss: 1.0897e-05 - val_loss: 1.2889e-05\n",
            "Epoch 155/512\n",
            "1152/1152 [==============================] - 23s 20ms/step - loss: 1.0860e-05 - val_loss: 1.2842e-05\n",
            "Epoch 156/512\n",
            "1152/1152 [==============================] - 21s 18ms/step - loss: 1.0821e-05 - val_loss: 1.2855e-05\n",
            "Epoch 157/512\n",
            "1152/1152 [==============================] - 22s 19ms/step - loss: 1.0782e-05 - val_loss: 1.2823e-05\n",
            "Epoch 158/512\n",
            "1152/1152 [==============================] - 22s 19ms/step - loss: 1.0751e-05 - val_loss: 1.2769e-05\n",
            "Epoch 159/512\n",
            "1152/1152 [==============================] - 23s 20ms/step - loss: 1.0704e-05 - val_loss: 1.2712e-05\n",
            "Epoch 160/512\n",
            "1152/1152 [==============================] - 22s 20ms/step - loss: 1.0671e-05 - val_loss: 1.2681e-05\n",
            "Epoch 161/512\n",
            "1152/1152 [==============================] - 22s 20ms/step - loss: 1.0636e-05 - val_loss: 1.2661e-05\n",
            "Epoch 162/512\n",
            "1152/1152 [==============================] - 22s 20ms/step - loss: 1.0598e-05 - val_loss: 1.2644e-05\n",
            "Epoch 163/512\n",
            "1152/1152 [==============================] - 22s 19ms/step - loss: 1.0566e-05 - val_loss: 1.2636e-05\n",
            "Epoch 164/512\n",
            "1152/1152 [==============================] - 22s 20ms/step - loss: 1.0530e-05 - val_loss: 1.2612e-05\n",
            "Epoch 165/512\n",
            "1152/1152 [==============================] - 22s 20ms/step - loss: 1.0493e-05 - val_loss: 1.2609e-05\n",
            "Epoch 166/512\n",
            "1152/1152 [==============================] - 23s 20ms/step - loss: 1.0462e-05 - val_loss: 1.2520e-05\n",
            "Epoch 167/512\n",
            "1152/1152 [==============================] - 22s 19ms/step - loss: 1.0429e-05 - val_loss: 1.2484e-05\n",
            "Epoch 168/512\n",
            "1152/1152 [==============================] - 22s 19ms/step - loss: 1.0394e-05 - val_loss: 1.2460e-05\n",
            "Epoch 169/512\n",
            "1152/1152 [==============================] - 20s 18ms/step - loss: 1.0355e-05 - val_loss: 1.2500e-05\n",
            "Epoch 170/512\n",
            "1152/1152 [==============================] - 23s 20ms/step - loss: 1.0329e-05 - val_loss: 1.2418e-05\n",
            "Epoch 171/512\n",
            "1152/1152 [==============================] - 23s 20ms/step - loss: 1.0291e-05 - val_loss: 1.2387e-05\n",
            "Epoch 172/512\n",
            "1152/1152 [==============================] - 23s 20ms/step - loss: 1.0259e-05 - val_loss: 1.2360e-05\n",
            "Epoch 173/512\n",
            "1152/1152 [==============================] - 23s 20ms/step - loss: 1.0224e-05 - val_loss: 1.2333e-05\n",
            "Epoch 174/512\n",
            "1152/1152 [==============================] - 20s 18ms/step - loss: 1.0194e-05 - val_loss: 1.2352e-05\n",
            "Epoch 175/512\n",
            "1152/1152 [==============================] - 22s 20ms/step - loss: 1.0162e-05 - val_loss: 1.2248e-05\n",
            "Epoch 176/512\n",
            "1152/1152 [==============================] - 20s 18ms/step - loss: 1.0129e-05 - val_loss: 1.2289e-05\n",
            "Epoch 177/512\n",
            "1152/1152 [==============================] - 21s 18ms/step - loss: 1.0097e-05 - val_loss: 1.2275e-05\n",
            "Epoch 178/512\n",
            "1152/1152 [==============================] - 22s 19ms/step - loss: 1.0068e-05 - val_loss: 1.2209e-05\n",
            "Epoch 179/512\n",
            "1152/1152 [==============================] - 21s 18ms/step - loss: 1.0031e-05 - val_loss: 1.2269e-05\n",
            "Epoch 180/512\n",
            "1152/1152 [==============================] - 21s 18ms/step - loss: 1.0003e-05 - val_loss: 1.2234e-05\n",
            "Epoch 181/512\n",
            "1152/1152 [==============================] - 23s 20ms/step - loss: 9.9754e-06 - val_loss: 1.2155e-05\n",
            "Epoch 182/512\n",
            "1152/1152 [==============================] - 23s 20ms/step - loss: 9.9461e-06 - val_loss: 1.2092e-05\n",
            "Epoch 183/512\n",
            "1152/1152 [==============================] - 21s 18ms/step - loss: 9.9171e-06 - val_loss: 1.2170e-05\n",
            "Epoch 184/512\n",
            "1152/1152 [==============================] - 21s 18ms/step - loss: 9.8907e-06 - val_loss: 1.2104e-05\n",
            "Epoch 185/512\n",
            "1152/1152 [==============================] - 23s 20ms/step - loss: 9.8637e-06 - val_loss: 1.2065e-05\n",
            "Epoch 186/512\n",
            "1152/1152 [==============================] - 23s 20ms/step - loss: 9.8345e-06 - val_loss: 1.2048e-05\n",
            "Epoch 187/512\n",
            "1152/1152 [==============================] - 23s 20ms/step - loss: 9.8107e-06 - val_loss: 1.2045e-05\n",
            "Epoch 188/512\n",
            "1152/1152 [==============================] - 23s 20ms/step - loss: 9.7821e-06 - val_loss: 1.2029e-05\n",
            "Epoch 189/512\n",
            "1152/1152 [==============================] - 23s 20ms/step - loss: 9.7565e-06 - val_loss: 1.1977e-05\n",
            "Epoch 190/512\n",
            "1152/1152 [==============================] - 21s 18ms/step - loss: 9.7293e-06 - val_loss: 1.1993e-05\n",
            "Epoch 191/512\n",
            "1152/1152 [==============================] - 22s 19ms/step - loss: 9.7049e-06 - val_loss: 1.1967e-05\n",
            "Epoch 192/512\n",
            "1152/1152 [==============================] - 23s 20ms/step - loss: 9.6796e-06 - val_loss: 1.1943e-05\n",
            "Epoch 193/512\n",
            "1152/1152 [==============================] - 20s 18ms/step - loss: 9.6507e-06 - val_loss: 1.1947e-05\n",
            "Epoch 194/512\n",
            "1152/1152 [==============================] - 22s 19ms/step - loss: 9.6270e-06 - val_loss: 1.1908e-05\n",
            "Epoch 195/512\n",
            "1152/1152 [==============================] - 22s 20ms/step - loss: 9.6044e-06 - val_loss: 1.1885e-05\n",
            "Epoch 196/512\n",
            "1152/1152 [==============================] - 22s 20ms/step - loss: 9.5787e-06 - val_loss: 1.1837e-05\n",
            "Epoch 197/512\n",
            "1152/1152 [==============================] - 21s 18ms/step - loss: 9.5544e-06 - val_loss: 1.1883e-05\n",
            "Epoch 198/512\n",
            "1152/1152 [==============================] - 23s 20ms/step - loss: 9.5322e-06 - val_loss: 1.1792e-05\n",
            "Epoch 199/512\n",
            "1152/1152 [==============================] - 21s 18ms/step - loss: 9.5114e-06 - val_loss: 1.1846e-05\n",
            "Epoch 200/512\n",
            "1152/1152 [==============================] - 22s 19ms/step - loss: 9.4871e-06 - val_loss: 1.1774e-05\n",
            "Epoch 201/512\n",
            "1152/1152 [==============================] - 23s 20ms/step - loss: 9.4646e-06 - val_loss: 1.1759e-05\n",
            "Epoch 202/512\n",
            "1152/1152 [==============================] - 23s 20ms/step - loss: 9.4474e-06 - val_loss: 1.1736e-05\n",
            "Epoch 203/512\n",
            "1152/1152 [==============================] - 21s 18ms/step - loss: 9.4271e-06 - val_loss: 1.1807e-05\n",
            "Epoch 204/512\n",
            "1152/1152 [==============================] - 21s 18ms/step - loss: 9.4050e-06 - val_loss: 1.1749e-05\n",
            "Epoch 205/512\n",
            "1152/1152 [==============================] - 22s 19ms/step - loss: 9.3895e-06 - val_loss: 1.1698e-05\n",
            "Epoch 206/512\n",
            "1152/1152 [==============================] - 21s 18ms/step - loss: 9.3672e-06 - val_loss: 1.1731e-05\n",
            "Epoch 207/512\n",
            "1152/1152 [==============================] - 22s 19ms/step - loss: 9.3519e-06 - val_loss: 1.1696e-05\n",
            "Epoch 208/512\n",
            "1152/1152 [==============================] - 21s 18ms/step - loss: 9.3319e-06 - val_loss: 1.1709e-05\n",
            "Epoch 209/512\n",
            "1152/1152 [==============================] - 21s 18ms/step - loss: 9.3135e-06 - val_loss: 1.1725e-05\n",
            "Epoch 210/512\n",
            "1152/1152 [==============================] - 23s 20ms/step - loss: 9.2969e-06 - val_loss: 1.1675e-05\n",
            "Epoch 211/512\n",
            "1152/1152 [==============================] - 21s 18ms/step - loss: 9.2788e-06 - val_loss: 1.1684e-05\n",
            "Epoch 212/512\n",
            "1152/1152 [==============================] - 20s 18ms/step - loss: 9.2633e-06 - val_loss: 1.1721e-05\n",
            "Epoch 213/512\n",
            "1152/1152 [==============================] - 23s 20ms/step - loss: 9.2463e-06 - val_loss: 1.1659e-05\n",
            "Epoch 214/512\n",
            "1152/1152 [==============================] - 23s 20ms/step - loss: 9.2319e-06 - val_loss: 1.1601e-05\n",
            "Epoch 215/512\n",
            "1152/1152 [==============================] - 21s 18ms/step - loss: 9.2097e-06 - val_loss: 1.1609e-05\n",
            "Epoch 216/512\n",
            "1152/1152 [==============================] - 22s 20ms/step - loss: 9.1984e-06 - val_loss: 1.1598e-05\n",
            "Epoch 217/512\n",
            "1152/1152 [==============================] - 21s 18ms/step - loss: 9.1776e-06 - val_loss: 1.1602e-05\n",
            "Epoch 218/512\n",
            "1152/1152 [==============================] - 23s 20ms/step - loss: 9.1622e-06 - val_loss: 1.1558e-05\n",
            "Epoch 219/512\n",
            "1152/1152 [==============================] - 23s 20ms/step - loss: 9.1478e-06 - val_loss: 1.1539e-05\n",
            "Epoch 220/512\n",
            "1152/1152 [==============================] - 21s 18ms/step - loss: 9.1306e-06 - val_loss: 1.1543e-05\n",
            "Epoch 221/512\n",
            "1152/1152 [==============================] - 21s 18ms/step - loss: 9.1182e-06 - val_loss: 1.1562e-05\n",
            "Epoch 222/512\n",
            "1152/1152 [==============================] - 23s 20ms/step - loss: 9.1008e-06 - val_loss: 1.1510e-05\n",
            "Epoch 223/512\n",
            "1152/1152 [==============================] - 21s 18ms/step - loss: 9.0884e-06 - val_loss: 1.1513e-05\n",
            "Epoch 224/512\n",
            "1152/1152 [==============================] - 21s 18ms/step - loss: 9.0740e-06 - val_loss: 1.1511e-05\n",
            "Epoch 225/512\n",
            "1152/1152 [==============================] - 21s 18ms/step - loss: 9.0596e-06 - val_loss: 1.1526e-05\n",
            "Epoch 226/512\n",
            "1152/1152 [==============================] - 22s 20ms/step - loss: 9.0437e-06 - val_loss: 1.1500e-05\n",
            "Epoch 227/512\n",
            "1152/1152 [==============================] - 23s 20ms/step - loss: 9.0303e-06 - val_loss: 1.1483e-05\n",
            "Epoch 228/512\n",
            "1152/1152 [==============================] - 23s 20ms/step - loss: 9.0184e-06 - val_loss: 1.1409e-05\n",
            "Epoch 229/512\n",
            "1152/1152 [==============================] - 21s 18ms/step - loss: 8.9991e-06 - val_loss: 1.1431e-05\n",
            "Epoch 230/512\n",
            "1152/1152 [==============================] - 21s 18ms/step - loss: 8.9875e-06 - val_loss: 1.1429e-05\n",
            "Epoch 231/512\n",
            "1152/1152 [==============================] - 21s 18ms/step - loss: 8.9738e-06 - val_loss: 1.1454e-05\n",
            "Epoch 232/512\n",
            "1152/1152 [==============================] - 23s 20ms/step - loss: 8.9603e-06 - val_loss: 1.1394e-05\n",
            "Epoch 233/512\n",
            "1152/1152 [==============================] - 21s 18ms/step - loss: 8.9467e-06 - val_loss: 1.1451e-05\n",
            "Epoch 234/512\n",
            "1152/1152 [==============================] - 21s 18ms/step - loss: 8.9335e-06 - val_loss: 1.1419e-05\n",
            "Epoch 235/512\n",
            "1152/1152 [==============================] - 21s 18ms/step - loss: 8.9188e-06 - val_loss: 1.1395e-05\n",
            "Epoch 236/512\n",
            "1152/1152 [==============================] - 22s 20ms/step - loss: 8.9057e-06 - val_loss: 1.1390e-05\n",
            "Epoch 237/512\n",
            "1152/1152 [==============================] - 23s 20ms/step - loss: 8.8933e-06 - val_loss: 1.1368e-05\n",
            "Epoch 238/512\n",
            "1152/1152 [==============================] - 21s 18ms/step - loss: 8.8806e-06 - val_loss: 1.1390e-05\n",
            "Epoch 239/512\n",
            "1152/1152 [==============================] - 21s 18ms/step - loss: 8.8707e-06 - val_loss: 1.1380e-05\n",
            "Epoch 240/512\n",
            "1152/1152 [==============================] - 23s 20ms/step - loss: 8.8580e-06 - val_loss: 1.1356e-05\n",
            "Epoch 241/512\n",
            "1152/1152 [==============================] - 23s 20ms/step - loss: 8.8469e-06 - val_loss: 1.1354e-05\n",
            "Epoch 242/512\n",
            "1152/1152 [==============================] - 23s 20ms/step - loss: 8.8376e-06 - val_loss: 1.1339e-05\n",
            "Epoch 243/512\n",
            "1152/1152 [==============================] - 21s 18ms/step - loss: 8.8268e-06 - val_loss: 1.1341e-05\n",
            "Epoch 244/512\n",
            "1152/1152 [==============================] - 23s 20ms/step - loss: 8.8180e-06 - val_loss: 1.1339e-05\n",
            "Epoch 245/512\n",
            "1152/1152 [==============================] - 23s 20ms/step - loss: 8.8039e-06 - val_loss: 1.1336e-05\n",
            "Epoch 246/512\n",
            "1152/1152 [==============================] - 23s 20ms/step - loss: 8.7935e-06 - val_loss: 1.1320e-05\n",
            "Epoch 247/512\n",
            "1152/1152 [==============================] - 23s 20ms/step - loss: 8.7840e-06 - val_loss: 1.1299e-05\n",
            "Epoch 248/512\n",
            "1152/1152 [==============================] - 21s 18ms/step - loss: 8.7733e-06 - val_loss: 1.1348e-05\n",
            "Epoch 249/512\n",
            "1152/1152 [==============================] - 22s 20ms/step - loss: 8.7656e-06 - val_loss: 1.1295e-05\n",
            "Epoch 250/512\n",
            "1152/1152 [==============================] - 21s 18ms/step - loss: 8.7549e-06 - val_loss: 1.1305e-05\n",
            "Epoch 251/512\n",
            "1152/1152 [==============================] - 23s 20ms/step - loss: 8.7476e-06 - val_loss: 1.1261e-05\n",
            "Epoch 252/512\n",
            "1152/1152 [==============================] - 23s 20ms/step - loss: 8.7322e-06 - val_loss: 1.1258e-05\n",
            "Epoch 253/512\n",
            "1152/1152 [==============================] - 21s 18ms/step - loss: 8.7278e-06 - val_loss: 1.1266e-05\n",
            "Epoch 254/512\n",
            "1152/1152 [==============================] - 21s 18ms/step - loss: 8.7182e-06 - val_loss: 1.1275e-05\n",
            "Epoch 255/512\n",
            "1152/1152 [==============================] - 21s 18ms/step - loss: 8.7057e-06 - val_loss: 1.1276e-05\n",
            "Epoch 256/512\n",
            "1152/1152 [==============================] - 23s 20ms/step - loss: 8.6999e-06 - val_loss: 1.1225e-05\n",
            "Epoch 257/512\n",
            "1152/1152 [==============================] - 20s 18ms/step - loss: 8.6929e-06 - val_loss: 1.1256e-05\n",
            "Epoch 258/512\n",
            "1152/1152 [==============================] - 21s 18ms/step - loss: 8.6820e-06 - val_loss: 1.1247e-05\n",
            "Epoch 259/512\n",
            "1152/1152 [==============================] - 21s 18ms/step - loss: 8.6778e-06 - val_loss: 1.1257e-05\n",
            "Epoch 260/512\n",
            "1152/1152 [==============================] - 21s 18ms/step - loss: 8.6658e-06 - val_loss: 1.1279e-05\n",
            "Epoch 261/512\n",
            "1152/1152 [==============================] - 21s 18ms/step - loss: 8.6575e-06 - val_loss: 1.1244e-05\n",
            "Epoch 262/512\n",
            "1152/1152 [==============================] - 21s 18ms/step - loss: 8.6533e-06 - val_loss: 1.1234e-05\n",
            "Epoch 263/512\n",
            "1152/1152 [==============================] - 21s 18ms/step - loss: 8.6422e-06 - val_loss: 1.1228e-05\n",
            "Epoch 264/512\n",
            "1152/1152 [==============================] - 20s 18ms/step - loss: 8.6347e-06 - val_loss: 1.1238e-05\n",
            "Epoch 265/512\n",
            "1152/1152 [==============================] - 22s 19ms/step - loss: 8.6281e-06 - val_loss: 1.1224e-05\n",
            "Epoch 266/512\n",
            "1150/1152 [============================>.] - ETA: 0s - loss: 8.6226e-06Restoring model weights from the end of the best epoch: 256.\n",
            "1152/1152 [==============================] - 21s 18ms/step - loss: 8.6218e-06 - val_loss: 1.1229e-05\n",
            "Epoch 266: early stopping\n"
          ]
        }
      ],
      "source": [
        "#train the autoencoder\n",
        "model_series = 'CLS_MODEL_' + datetime.now().strftime(\"%h%d%Y-%H%M\")\n",
        "\n",
        "checkpointer = ModelCheckpoint(filepath=f\"{model_series}-model.h5\", \n",
        "                               verbose=0, save_best_only=True)\n",
        "\n",
        "early_stopping = EarlyStopping(monitor='val_loss', min_delta=0.000000001, \n",
        "                               patience=10, verbose=1, mode='auto', \n",
        "                               restore_best_weights=True)\n",
        "\n",
        "model_history = autoencoder.fit(\n",
        "                                  X_train,\n",
        "                                  X_train,\n",
        "                                  batch_size=batch_size,\n",
        "                                  epochs=pretrain_epochs,\n",
        "                                  verbose=1,\n",
        "                                  validation_data=(X_test, X_test),\n",
        "                                  callbacks=[checkpointer, early_stopping]\n",
        "                              )\n",
        "\n",
        "autoencoder = load_model(f\"{model_series}-model.h5\")"
      ]
    },
    {
      "cell_type": "code",
      "execution_count": null,
      "metadata": {
        "colab": {
          "base_uri": "https://localhost:8080/",
          "height": 295
        },
        "id": "CU_YZu_ZgqDS",
        "outputId": "2169b65a-d2cb-4d20-bd16-033ccdf952da"
      },
      "outputs": [
        {
          "output_type": "display_data",
          "data": {
            "text/plain": [
              "<Figure size 432x288 with 1 Axes>"
            ],
            "image/png": "[encoded data removed]"
          },
          "metadata": {
            "needs_background": "light"
          }
        }
      ],
      "source": [
        "plt.plot(model_history.history['loss'])\n",
        "plt.plot(model_history.history['val_loss'])\n",
        "plt.title('Model Loss')\n",
        "plt.xlabel('Epoch')\n",
        "plt.ylabel('Loss')\n",
        "plt.legend(['train', 'test'], loc='upper right')\n",
        "plt.grid(True)"
      ]
    },
    {
      "cell_type": "markdown",
      "source": [
        "## Model Prediction"
      ],
      "metadata": {
        "id": "HUs6ubGtpHk-"
      }
    },
    {
      "cell_type": "code",
      "execution_count": null,
      "metadata": {
        "colab": {
          "base_uri": "https://localhost:8080/"
        },
        "id": "F1hinknrERR3",
        "outputId": "ee389acd-33b8-4931-d28a-b94587cb8fc2"
      },
      "outputs": [
        {
          "output_type": "stream",
          "name": "stdout",
          "text": [
            "/content\n",
            " CLS_MODEL_Mar122022-0155-model.h5   gdrive\t  '[saved_models]'\n",
            " CLS_MODEL_Mar122022-0322-model.h5   sample_data\n"
          ]
        }
      ],
      "source": [
        "from os import mkdir; \n",
        "#mkdir('[saved_models]')\n",
        "!pwd\n",
        "!ls"
      ]
    },
    {
      "cell_type": "code",
      "execution_count": null,
      "metadata": {
        "id": "sK3FydsT9m6u"
      },
      "outputs": [],
      "source": [
        "# save its weights\n",
        "weights_name = '[saved_models]/' + model_series + \"-\" + str(pretrain_epochs) + '-ae_weights.h5'\n",
        "#autoencoder.save_weights(weights_name)"
      ]
    },
    {
      "cell_type": "code",
      "execution_count": null,
      "metadata": {
        "id": "bFYzQuq89nKw"
      },
      "outputs": [],
      "source": [
        "# use the weights learned by the encoder to encode the data \n",
        " # to a representation (embedding)\n",
        "X_encoded = encoder.predict(X)"
      ]
    },
    {
      "cell_type": "code",
      "execution_count": null,
      "metadata": {
        "id": "oG3rO17N3SJj"
      },
      "outputs": [],
      "source": [
        "def learn_manifold(x_data, umap_min_dist=0.00, umap_metric='cosine',\n",
        "                   umap_dim=10, umap_neighbors=30):\n",
        "    md = float(umap_min_dist)\n",
        "    return umap.UMAP(\n",
        "        random_state=42,\n",
        "        metric=umap_metric,\n",
        "        n_components=umap_dim,\n",
        "        low_memory=True,\n",
        "        n_neighbors=umap_neighbors,\n",
        "        min_dist=md).fit_transform(x_data)"
      ]
    },
    {
      "cell_type": "code",
      "execution_count": null,
      "metadata": {
        "id": "FuJi0GAIV9a0",
        "colab": {
          "base_uri": "https://localhost:8080/"
        },
        "outputId": "b1eb1ab7-182b-4a08-8673-1d71ae045146"
      },
      "outputs": [
        {
          "output_type": "stream",
          "name": "stdout",
          "text": [
            "Collecting umap-learn\n",
            "  Downloading umap-learn-0.5.2.tar.gz (86 kB)\n",
            "\u001b[K     |████████████████████████████████| 86 kB 4.3 MB/s \n",
            "\u001b[?25hRequirement already satisfied: numpy>=1.17 in /usr/local/lib/python3.7/dist-packages (from umap-learn) (1.21.5)\n",
            "Requirement already satisfied: scikit-learn>=0.22 in /usr/local/lib/python3.7/dist-packages (from umap-learn) (1.0.2)\n",
            "Requirement already satisfied: scipy>=1.0 in /usr/local/lib/python3.7/dist-packages (from umap-learn) (1.4.1)\n",
            "Requirement already satisfied: numba>=0.49 in /usr/local/lib/python3.7/dist-packages (from umap-learn) (0.51.2)\n",
            "Collecting pynndescent>=0.5\n",
            "  Downloading pynndescent-0.5.6.tar.gz (1.1 MB)\n",
            "\u001b[K     |████████████████████████████████| 1.1 MB 19.2 MB/s \n",
            "\u001b[?25hRequirement already satisfied: tqdm in /usr/local/lib/python3.7/dist-packages (from umap-learn) (4.63.0)\n",
            "Requirement already satisfied: setuptools in /usr/local/lib/python3.7/dist-packages (from numba>=0.49->umap-learn) (57.4.0)\n",
            "Requirement already satisfied: llvmlite<0.35,>=0.34.0.dev0 in /usr/local/lib/python3.7/dist-packages (from numba>=0.49->umap-learn) (0.34.0)\n",
            "Requirement already satisfied: joblib>=0.11 in /usr/local/lib/python3.7/dist-packages (from pynndescent>=0.5->umap-learn) (1.1.0)\n",
            "Requirement already satisfied: threadpoolctl>=2.0.0 in /usr/local/lib/python3.7/dist-packages (from scikit-learn>=0.22->umap-learn) (3.1.0)\n",
            "Building wheels for collected packages: umap-learn, pynndescent\n",
            "  Building wheel for umap-learn (setup.py) ... \u001b[?25l\u001b[?25hdone\n",
            "  Created wheel for umap-learn: filename=umap_learn-0.5.2-py3-none-any.whl size=82708 sha256=7d661180a37e22c33116a04d4090ebaa482193624d8ea3ff4a1ddccc306b6bfc\n",
            "  Stored in directory: /root/.cache/pip/wheels/84/1b/c6/aaf68a748122632967cef4dffef68224eb16798b6793257d82\n",
            "  Building wheel for pynndescent (setup.py) ... \u001b[?25l\u001b[?25hdone\n",
            "  Created wheel for pynndescent: filename=pynndescent-0.5.6-py3-none-any.whl size=53943 sha256=bdd7556f1d456ffb10e711e68c9b8e9d73bf7f484331ca5e55c6ac99946ff626\n",
            "  Stored in directory: /root/.cache/pip/wheels/03/f1/56/f80d72741e400345b5a5b50ec3d929aca581bf45e0225d5c50\n",
            "Successfully built umap-learn pynndescent\n",
            "Installing collected packages: pynndescent, umap-learn\n",
            "Successfully installed pynndescent-0.5.6 umap-learn-0.5.2\n",
            "Requirement already satisfied: pynndescent in /usr/local/lib/python3.7/dist-packages (0.5.6)\n",
            "Requirement already satisfied: scikit-learn>=0.18 in /usr/local/lib/python3.7/dist-packages (from pynndescent) (1.0.2)\n",
            "Requirement already satisfied: scipy>=1.0 in /usr/local/lib/python3.7/dist-packages (from pynndescent) (1.4.1)\n",
            "Requirement already satisfied: llvmlite>=0.30 in /usr/local/lib/python3.7/dist-packages (from pynndescent) (0.34.0)\n",
            "Requirement already satisfied: joblib>=0.11 in /usr/local/lib/python3.7/dist-packages (from pynndescent) (1.1.0)\n",
            "Requirement already satisfied: numba>=0.51.2 in /usr/local/lib/python3.7/dist-packages (from pynndescent) (0.51.2)\n",
            "Requirement already satisfied: numpy>=1.15 in /usr/local/lib/python3.7/dist-packages (from numba>=0.51.2->pynndescent) (1.21.5)\n",
            "Requirement already satisfied: setuptools in /usr/local/lib/python3.7/dist-packages (from numba>=0.51.2->pynndescent) (57.4.0)\n",
            "Requirement already satisfied: threadpoolctl>=2.0.0 in /usr/local/lib/python3.7/dist-packages (from scikit-learn>=0.18->pynndescent) (3.1.0)\n",
            "Collecting llvmpy==0.12.7-9-g60b512d\n",
            "  Downloading llvmpy-0.12.7-9-g60b512d.tar.gz (1.1 MB)\n",
            "\u001b[K     |████████████████████████████████| 1.1 MB 7.8 MB/s \n",
            "\u001b[33mWARNING: Discarding https://files.pythonhosted.org/packages/55/23/e523382a8ca3e076c4af59201f0eb29cfadeb194c02d8365c9f4b5b2e897/llvmpy-0.12.7-9-g60b512d.tar.gz#sha256=9b8a42c49bb104d91cef33f041497bd2dd0db99b27f5cab944faa7752d74b370 (from https://pypi.org/simple/llvmpy/). Command errored out with exit status 1: python setup.py egg_info Check the logs for full command output.\u001b[0m\n",
            "\u001b[31mERROR: Could not find a version that satisfies the requirement llvmpy==0.12.7-9-g60b512d (from versions: 0.12.7-9-g60b512d, 0.8.2, 0.9, 0.10.0, 0.10.1, 0.10.2, 0.11.0, 0.11.2, 0.12.4, 0.12.5, 0.12.6, 0.12.7)\u001b[0m\n",
            "\u001b[31mERROR: No matching distribution found for llvmpy==0.12.7-9-g60b512d\u001b[0m\n",
            "\u001b[?25hRequirement already satisfied: cython in /usr/local/lib/python3.7/dist-packages (0.29.28)\n",
            "Requirement already satisfied: numba in /usr/local/lib/python3.7/dist-packages (0.51.2)\n",
            "Requirement already satisfied: llvmlite<0.35,>=0.34.0.dev0 in /usr/local/lib/python3.7/dist-packages (from numba) (0.34.0)\n",
            "Requirement already satisfied: setuptools in /usr/local/lib/python3.7/dist-packages (from numba) (57.4.0)\n",
            "Requirement already satisfied: numpy>=1.15 in /usr/local/lib/python3.7/dist-packages (from numba) (1.21.5)\n"
          ]
        }
      ],
      "source": [
        "!pip install umap-learn\n",
        "!pip install pynndescent\n",
        "!pip install llvmpy=='0.12.7-9-g60b512d'\n",
        "!pip install cython\n",
        "!pip install numba\n",
        "import umap"
      ]
    },
    {
      "cell_type": "code",
      "execution_count": null,
      "metadata": {
        "id": "PN5oQ3aV9wOc"
      },
      "outputs": [],
      "source": [
        "X_reduced = learn_manifold(X_encoded, umap_neighbors=100, \n",
        "                           umap_dim=int(encoded_dimensions/2))"
      ]
    },
    {
      "cell_type": "markdown",
      "source": [
        "## Clustering the Data using Kmeans and HDBSCAN"
      ],
      "metadata": {
        "id": "fB-IlekBpSFk"
      }
    },
    {
      "cell_type": "code",
      "source": [
        "# this is the data that we need to cluster\n",
        "!pip install hdbscan\n",
        "import hdbscan\n",
        "\n",
        "hdbs = hdbscan.HDBSCAN(min_cluster_size=1000,\n",
        "                                min_samples=200,\n",
        "                               prediction_data=True,\n",
        "                               core_dist_n_jobs=-1,\n",
        "                              gen_min_span_tree=True,\n",
        "                              algorithm='best'\n",
        "                               )\n",
        "\n",
        "hdbscan_labels = hdbs.fit_predict(X_reduced)\n",
        "\n",
        "hdbscan_cluster = hdbs.fit(X_reduced)"
      ],
      "metadata": {
        "colab": {
          "base_uri": "https://localhost:8080/"
        },
        "id": "pqGV9QJy7fG4",
        "outputId": "8139a359-cbd2-427b-ff86-4aaf7bc0abf1"
      },
      "execution_count": null,
      "outputs": [
        {
          "metadata": {
            "tags": null
          },
          "name": "stdout",
          "output_type": "stream",
          "text": [
            "Collecting hdbscan\n",
            "  Downloading hdbscan-0.8.28.tar.gz (5.2 MB)\n",
            "\u001b[K     |████████████████████████████████| 5.2 MB 7.4 MB/s \n",
            "\u001b[?25h  Installing build dependencies ... \u001b[?25l\u001b[?25hdone\n",
            "  Getting requirements to build wheel ... \u001b[?25l\u001b[?25hdone\n",
            "    Preparing wheel metadata ... \u001b[?25l\u001b[?25hdone\n",
            "Requirement already satisfied: joblib>=1.0 in /usr/local/lib/python3.7/dist-packages (from hdbscan) (1.1.0)\n",
            "Requirement already satisfied: scipy>=1.0 in /usr/local/lib/python3.7/dist-packages (from hdbscan) (1.4.1)\n",
            "Requirement already satisfied: scikit-learn>=0.20 in /usr/local/lib/python3.7/dist-packages (from hdbscan) (1.0.2)\n",
            "Requirement already satisfied: cython>=0.27 in /usr/local/lib/python3.7/dist-packages (from hdbscan) (0.29.28)\n",
            "Requirement already satisfied: numpy>=1.20 in /usr/local/lib/python3.7/dist-packages (from hdbscan) (1.21.5)\n",
            "Requirement already satisfied: threadpoolctl>=2.0.0 in /usr/local/lib/python3.7/dist-packages (from scikit-learn>=0.20->hdbscan) (3.1.0)\n",
            "Building wheels for collected packages: hdbscan\n",
            "  Building wheel for hdbscan (PEP 517) ... \u001b[?25l\u001b[?25hdone\n",
            "  Created wheel for hdbscan: filename=hdbscan-0.8.28-cp37-cp37m-linux_x86_64.whl size=2330850 sha256=b14d5922bba3b0aca2132ba4a0772c34b7a356b1b63f53727026f33656fa6c6a\n",
            "  Stored in directory: /root/.cache/pip/wheels/6e/7a/5e/259ccc841c085fc41b99ef4a71e896b62f5161f2bc8a14c97a\n",
            "Successfully built hdbscan\n",
            "Installing collected packages: hdbscan\n",
            "Successfully installed hdbscan-0.8.28\n"
          ]
        }
      ]
    },
    {
      "cell_type": "code",
      "execution_count": null,
      "metadata": {
        "id": "Hq9u6aqNUxay"
      },
      "outputs": [],
      "source": [
        "\n",
        "!pip install hdbscan\n",
        "import hdbscan\n",
        "hdbscan_cluster = hdbscan.HDBSCAN(algorithm='best', \n",
        "                                  min_samples=200, \n",
        "                                  min_cluster_size=1000, core_dist_n_jobs=-1,\n",
        "                                  gen_min_span_tree=True).fit(X_reduced)"
      ]
    },
    {
      "cell_type": "code",
      "execution_count": null,
      "metadata": {
        "id": "WQC0W_aT956c",
        "colab": {
          "base_uri": "https://localhost:8080/"
        },
        "outputId": "7bc5aac3-51b0-4075-8a06-599352604003"
      },
      "outputs": [
        {
          "output_type": "stream",
          "name": "stdout",
          "text": [
            "[[    -1   3967]\n",
            " [     0   1185]\n",
            " [     1   1676]\n",
            " [     2   1025]\n",
            " [     3   1074]\n",
            " [     4   1416]\n",
            " [     5 358245]]\n"
          ]
        }
      ],
      "source": [
        "unique, counts = np.unique(hdbscan_cluster.labels_, return_counts=True)\n",
        "print (np.asarray((unique, counts)).T)"
      ]
    },
    {
      "cell_type": "code",
      "execution_count": null,
      "metadata": {
        "id": "XmUzTgsdglXs",
        "colab": {
          "base_uri": "https://localhost:8080/",
          "height": 708
        },
        "outputId": "ccfe0244-8e05-4083-a6cd-8f8ec516facb"
      },
      "outputs": [
        {
          "output_type": "stream",
          "name": "stderr",
          "text": [
            "WARNING:root:fitting model for 2 clusters\n",
            "WARNING:root:fitting model for 50 clusters\n",
            "WARNING:root:fitting model for 200 clusters\n",
            "WARNING:root:fitting model for 500 clusters\n"
          ]
        },
        {
          "output_type": "execute_result",
          "data": {
            "text/plain": [
              "Text(0.5, 1.0, 'kmeans parameter search')"
            ]
          },
          "metadata": {},
          "execution_count": 56
        },
        {
          "output_type": "display_data",
          "data": {
            "image/png": "[encoded data removed]",
            "text/plain": [
              "<Figure size 720x720 with 1 Axes>"
            ]
          },
          "metadata": {
            "needs_background": "light"
          }
        }
      ],
      "source": [
        "# compare a broad range of ks to start\n",
        "from sklearn.cluster import KMeans\n",
        "ks = [2, 50, 200, 500]\n",
        "\n",
        "\n",
        "# track a couple of metrics\n",
        "\n",
        "inertias = []\n",
        "import logging\n",
        "# fit the models, save the evaluation metrics from each run\n",
        "for k in ks:\n",
        "    logging.warning('fitting model for {} clusters'.format(k))\n",
        "    model = KMeans(n_clusters=k, random_state=42)\n",
        "    model.fit(X_reduced)\n",
        "    labels = model.labels_\n",
        "    inertias.append(model.inertia_)\n",
        "\n",
        "# plot the quality metrics for inspection\n",
        "plt.figure(figsize=(10,10))\n",
        "\n",
        "plt.plot(ks, inertias, 'o--')\n",
        "plt.xlabel('k')\n",
        "plt.ylabel('inertia')\n",
        "plt.title('kmeans parameter search')"
      ]
    },
    {
      "cell_type": "code",
      "execution_count": null,
      "metadata": {
        "id": "8uNGVEcwP5eC",
        "colab": {
          "base_uri": "https://localhost:8080/"
        },
        "outputId": "4c4127c4-f36e-4605-c201-2495210145af"
      },
      "outputs": [
        {
          "output_type": "stream",
          "name": "stdout",
          "text": [
            "[0 3 3 ... 0 3 5]\n"
          ]
        }
      ],
      "source": [
        "from sklearn.cluster import KMeans\n",
        "k_means = KMeans(init ='k-means++', n_clusters= 7, n_init = 24, \n",
        "                 max_iter=500, random_state=42)\n",
        "k_means.fit(X_reduced)\n",
        "K_labels = k_means.labels_\n",
        "print(K_labels)"
      ]
    },
    {
      "cell_type": "code",
      "execution_count": null,
      "metadata": {
        "id": "C2KfR86Gehl4"
      },
      "outputs": [],
      "source": [
        "def strongest_features(model, vectorizer, topk=10):\n",
        "    \"\"\"\n",
        "    Helper function to display a simple text representation of the top-k most\n",
        "    important features in our fit model and vectorizer.\n",
        "\n",
        "    model: sklearn model\n",
        "    vectorizer: sklearn vectorizer\n",
        "    topk: k numbers of words to get per cluster\n",
        "\n",
        "    \"\"\"\n",
        "    # these parts are model-independent\n",
        "    m_name = model.__class__.__name__\n",
        "    features = vectorizer.get_feature_names()\n",
        "    # different calculations per model type\n",
        "    if m_name is 'KMeans':\n",
        "        relevant_labels = list(set(model.labels_))\n",
        "        centroids = model.cluster_centers_.argsort()[:,::-1]\n",
        "        for this_label in relevant_labels:\n",
        "            print('Cluster {}:'.format(this_label), end='')\n",
        "            for ind in centroids[this_label, :topk]:\n",
        "                print(' {}'.format(features[ind]), end='')\n",
        "            print()\n",
        "    elif m_name is 'HDBSCAN':\n",
        "        # ignore noise labels\n",
        "        relevant_labels = [ x for x in set(model.labels_) if x >= 0 ]\n",
        "        for this_label in relevant_labels:\n",
        "            matching_rows = np.where(hdbscan_cluster.labels_== this_label)[0]\n",
        "            coeff_sums = np.sum(tfidf_matrix[matching_rows], axis=0).A1\n",
        "            sorted_coeff_idxs = np.argsort(coeff_sums)[::-1]\n",
        "            print('Cluster {}: '.format(this_label), end='')\n",
        "            for idx in sorted_coeff_idxs[:topk]:\n",
        "                print('{} '.format(features[idx]), end='')\n",
        "            print()\n",
        "    else:\n",
        "        raise NotImplementedError('This helper method currently only supports KMeans and HDBSCAN models')"
      ]
    },
    {
      "cell_type": "code",
      "execution_count": null,
      "metadata": {
        "id": "g8u36_EQekJx",
        "colab": {
          "base_uri": "https://localhost:8080/"
        },
        "outputId": "842f03f6-223d-421c-e0aa-e39216f91458"
      },
      "outputs": [
        {
          "output_type": "stream",
          "name": "stdout",
          "text": [
            "Cluster 0: absolutely activity achieve abt absolute abingdon add abroad aaron abc ache across act account ability\n",
            "Cluster 1: abduct abc aaron absolute absolutely abt achieve abroad activity add across act ache activities account\n",
            "Cluster 2: absolutely absolute achieve abingdon abroad activity abt add abc act ache across activities ability account\n",
            "Cluster 3: abingdon absolutely aaron activity abt absolute abroad achieve ache account abc act ability across ad\n",
            "Cluster 4: absolutely aaron abc achieve absolute activity abt add abroad act ache across activities account ad\n",
            "Cluster 5: abingdon absolutely aaron abt activity achieve abc add absolute ability ache across act activities account\n",
            "Cluster 6: able abingdon absolutely aaron achieve abt absolute activity abc add act abroad ache ability across\n"
          ]
        }
      ],
      "source": [
        "strongest_features(k_means, vec, topk=15)"
      ]
    },
    {
      "cell_type": "code",
      "execution_count": null,
      "metadata": {
        "id": "-D1ymiTOUHqt",
        "colab": {
          "base_uri": "https://localhost:8080/"
        },
        "outputId": "afe99832-3eed-44e5-f934-f65f23feea0e"
      },
      "outputs": [
        {
          "output_type": "stream",
          "name": "stdout",
          "text": [
            "Cluster 0: slot availability pm pay free family fast fascinate farm far faqs faq fantastic fancy fan \n",
            "Cluster 1: dose slot availability pm pay free covaxin nd ji meanwhile currently due may th wait \n",
            "Cluster 2: slot availability pay free reserve citizen allocate available follow doctor may mean book indicate centre \n",
            "Cluster 3: dose slot availability pm pay free campus tomorrow moderna open appointment first faqs zydus far \n",
            "Cluster 4: dose slot availability pay free zydus fast fascinate farm far faqs faq fantastic fancy fan \n",
            "Cluster 5: get vaccine covid dose vaccinate first people today amp vaccination take thank go say one \n"
          ]
        }
      ],
      "source": [
        "strongest_features(hdbscan_cluster, vec, topk=15)"
      ]
    },
    {
      "cell_type": "code",
      "execution_count": null,
      "metadata": {
        "id": "a06UPKTVQmLu",
        "colab": {
          "base_uri": "https://localhost:8080/",
          "height": 295
        },
        "outputId": "80eb2dd9-8d8c-465a-e025-b1c8276bab97"
      },
      "outputs": [
        {
          "output_type": "display_data",
          "data": {
            "text/plain": [
              "<Figure size 432x288 with 1 Axes>"
            ],
            "image/png": "[encoded data removed]"
          },
          "metadata": {
            "needs_background": "light"
          }
        }
      ],
      "source": [
        "plt.bar(range(len(set(k_means.labels_))), np.bincount(k_means.labels_))\n",
        "\n",
        "plt.ylabel('population')\n",
        "plt.xlabel('cluster label')\n",
        "plt.title('population sizes with {} clusters'.format(len(set(k_means.labels_))));\n",
        "\n",
        "# truncate y axis to see the rest better\n",
        "# (comment out to see the peak value for the largest cluster)\n",
        "plt.ylim(0,1000);"
      ]
    },
    {
      "cell_type": "code",
      "execution_count": null,
      "metadata": {
        "id": "JilCCA0NjPAM",
        "colab": {
          "base_uri": "https://localhost:8080/",
          "height": 295
        },
        "outputId": "8a0afc0b-74ec-428d-ec7d-e9da5f12590a"
      },
      "outputs": [
        {
          "output_type": "display_data",
          "data": {
            "text/plain": [
              "<Figure size 432x288 with 1 Axes>"
            ],
            "image/png": "[encoded data removed]"
          },
          "metadata": {
            "needs_background": "light"
          }
        }
      ],
      "source": [
        "# get the population sizes\n",
        "label_counts = Counter(hdbscan_cluster.labels_)\n",
        "xs, ys = [], []\n",
        "for k,v in label_counts.items():\n",
        "    xs.append(k)\n",
        "    ys.append(v)\n",
        "\n",
        "# draw the chart\n",
        "plt.bar(xs, ys)\n",
        "\n",
        "plt.xticks(range(-1, len(label_counts)))\n",
        "plt.ylabel('population')\n",
        "plt.xlabel('cluster label')\n",
        "plt.title('population sizes ({} clusters found by hdbscan)'.format(len(label_counts) - 1));"
      ]
    },
    {
      "cell_type": "code",
      "execution_count": null,
      "metadata": {
        "id": "IAOenuyP9-TJ"
      },
      "outputs": [],
      "source": [
        "#important to note that the clustering was performed on the result of UMAP\n",
        "# but the 2 dim lowering here (in order to generate the plot - was performed on the result of the encoder only)\n",
        "reducer = umap.UMAP(n_components=2)\n",
        "embedding = reducer.fit_transform(X_encoded)"
      ]
    },
    {
      "cell_type": "code",
      "execution_count": null,
      "metadata": {
        "id": "3dgXU-EY9_SI",
        "colab": {
          "base_uri": "https://localhost:8080/",
          "height": 483
        },
        "outputId": "9d4fad3c-4ae6-45a9-f211-aedca5d05fa5"
      },
      "outputs": [
        {
          "output_type": "display_data",
          "data": {
            "text/plain": [
              "<Figure size 864x576 with 1 Axes>"
            ],
            "image/png": "[encoded data removed]"
          },
          "metadata": {
            "needs_background": "light"
          }
        }
      ],
      "source": [
        "fig = plt.figure(figsize=(12,8))\n",
        "plt.scatter(reducer.embedding_[:, 0], reducer.embedding_[:, 1], c=hdbscan_cluster.labels_, cmap='tab20c')\n",
        "\n",
        "viz_clusters = pd.DataFrame(embedding)\n",
        "viz_clusters['cluster'] = hdbscan_cluster.labels_\n",
        "\n",
        "for row in viz_clusters.groupby('cluster').mean().reset_index().values:\n",
        "    label = f'CLUSTER: {row[0]}'\n",
        "    plt.annotate(label, (row[1], row[2]), textcoords=\"offset points\", fontsize=12,  xytext=(25,0), ha='center')"
      ]
    },
    {
      "cell_type": "code",
      "execution_count": null,
      "metadata": {
        "id": "W7_O-dyxQebf",
        "colab": {
          "base_uri": "https://localhost:8080/",
          "height": 483
        },
        "outputId": "4f29c201-ff29-4fba-a1b6-8f4acd2d387a"
      },
      "outputs": [
        {
          "output_type": "display_data",
          "data": {
            "text/plain": [
              "<Figure size 864x576 with 1 Axes>"
            ],
            "image/png": "[encoded data removed]"
          },
          "metadata": {
            "needs_background": "light"
          }
        }
      ],
      "source": [
        "fig = plt.figure(figsize=(12,8))\n",
        "plt.scatter(reducer.embedding_[:, 0], reducer.embedding_[:, 1], c=K_labels, cmap='tab20c')\n",
        "\n",
        "viz_clusters = pd.DataFrame(embedding)\n",
        "viz_clusters['cluster'] = K_labels\n",
        "\n",
        "for row in viz_clusters.groupby('cluster').mean().reset_index().values:\n",
        "    label = f'CLUSTER: {row[0]}'\n",
        "    plt.annotate(label, (row[1], row[2]), textcoords=\"offset points\", fontsize=12,  xytext=(25,0), ha='center')"
      ]
    },
    {
      "cell_type": "code",
      "execution_count": null,
      "metadata": {
        "id": "11RFlIBHJSTx"
      },
      "outputs": [],
      "source": [
        "from sklearn.metrics import silhouette_score"
      ]
    },
    {
      "cell_type": "code",
      "execution_count": null,
      "metadata": {
        "id": "P0ndzvJHJYxn",
        "colab": {
          "base_uri": "https://localhost:8080/"
        },
        "outputId": "2d15b6e0-cfb6-449c-b5c8-83989dac0ee3"
      },
      "outputs": [
        {
          "output_type": "execute_result",
          "data": {
            "text/plain": [
              "0.8333066"
            ]
          },
          "metadata": {},
          "execution_count": 69
        }
      ],
      "source": [
        "silhouette_score(X_reduced, hdbscan_cluster.labels_)"
      ]
    },
    {
      "cell_type": "code",
      "execution_count": null,
      "metadata": {
        "id": "0IZUYZ70f0nq",
        "colab": {
          "base_uri": "https://localhost:8080/"
        },
        "outputId": "4c05d61e-d4ee-4f85-b99e-c79877beabf1"
      },
      "outputs": [
        {
          "output_type": "execute_result",
          "data": {
            "text/plain": [
              "38590.405597439065"
            ]
          },
          "metadata": {},
          "execution_count": 70
        }
      ],
      "source": [
        "from sklearn.metrics import calinski_harabasz_score\n",
        "calinski_harabasz_score(X_reduced, hdbscan_cluster.labels_)"
      ]
    },
    {
      "cell_type": "code",
      "execution_count": null,
      "metadata": {
        "id": "x9iMWLdR1bQn",
        "colab": {
          "base_uri": "https://localhost:8080/"
        },
        "outputId": "d780192d-518f-4630-fd0a-200f71dc5a10"
      },
      "outputs": [
        {
          "output_type": "execute_result",
          "data": {
            "text/plain": [
              "1.3484483662412166"
            ]
          },
          "metadata": {},
          "execution_count": 71
        }
      ],
      "source": [
        "from sklearn.metrics import davies_bouldin_score\n",
        "davies_bouldin_score(X_reduced, hdbscan_cluster.labels_)"
      ]
    },
    {
      "cell_type": "code",
      "execution_count": null,
      "metadata": {
        "id": "TqlitEJjXUrL",
        "colab": {
          "base_uri": "https://localhost:8080/"
        },
        "outputId": "561b1799-b94f-412f-8852-0c164be1cda5"
      },
      "outputs": [
        {
          "output_type": "execute_result",
          "data": {
            "text/plain": [
              "0.28065386"
            ]
          },
          "metadata": {},
          "execution_count": 72
        }
      ],
      "source": [
        "silhouette_score(X_reduced, K_labels)"
      ]
    },
    {
      "cell_type": "code",
      "execution_count": null,
      "metadata": {
        "id": "d_C-T3Crc7H0",
        "colab": {
          "base_uri": "https://localhost:8080/"
        },
        "outputId": "bd062048-e192-4692-b676-fc4421b540cf"
      },
      "outputs": [
        {
          "output_type": "execute_result",
          "data": {
            "text/plain": [
              "43175.86181584051"
            ]
          },
          "metadata": {},
          "execution_count": 73
        }
      ],
      "source": [
        "calinski_harabasz_score(X_reduced, K_labels)"
      ]
    },
    {
      "cell_type": "code",
      "execution_count": null,
      "metadata": {
        "id": "I_lc4bJtdFy2",
        "colab": {
          "base_uri": "https://localhost:8080/"
        },
        "outputId": "c6f0fafb-de99-4f0b-8b5d-640924f71f45"
      },
      "outputs": [
        {
          "output_type": "execute_result",
          "data": {
            "text/plain": [
              "0.6554948276725909"
            ]
          },
          "metadata": {},
          "execution_count": 74
        }
      ],
      "source": [
        "davies_bouldin_score(X_reduced, K_labels)"
      ]
    },
    {
      "cell_type": "code",
      "execution_count": null,
      "metadata": {
        "id": "1oTXyzr1neyF",
        "colab": {
          "base_uri": "https://localhost:8080/"
        },
        "outputId": "d7b4d654-4443-4499-810c-ac30815613c3"
      },
      "outputs": [
        {
          "output_type": "execute_result",
          "data": {
            "text/plain": [
              "0.05504926721526436"
            ]
          },
          "metadata": {},
          "execution_count": 75
        }
      ],
      "source": [
        "hdbscan_cluster.relative_validity_"
      ]
    },
    {
      "cell_type": "markdown",
      "metadata": {
        "id": "dpSTy0yBXuCR"
      },
      "source": [
        "## Hyper-parameter Tuning"
      ]
    },
    {
      "cell_type": "code",
      "execution_count": null,
      "metadata": {
        "id": "uA4W4_OJ8ZkT"
      },
      "outputs": [],
      "source": [
        "from sklearn.metrics import silhouette_score\n",
        "sil1 = []\n",
        "kmax = [2, 3, 4, 5, 6, 7, 8, 9, 10, 11, 12, 13, 14, 15]\n",
        "\n",
        "# dissimilarity would not be defined for a single cluster, thus, minimum number of clusters should be 2\n",
        "for k in kmax:\n",
        "  kmeans = KMeans(n_clusters = k, init='k-means++', max_iter=500, random_state=42).fit(X_reduced)\n",
        "  labels = kmeans.labels_\n",
        "  sil1.append(silhouette_score(X_reduced, labels, metric = 'cosine'))"
      ]
    },
    {
      "cell_type": "code",
      "execution_count": null,
      "metadata": {
        "id": "svknah5rAAQM",
        "colab": {
          "base_uri": "https://localhost:8080/",
          "height": 282
        },
        "outputId": "652bd3e4-f258-4414-d0b4-8e77ff1f2b47"
      },
      "outputs": [
        {
          "output_type": "execute_result",
          "data": {
            "text/plain": [
              "[<matplotlib.lines.Line2D at 0x7f6a1f866f50>]"
            ]
          },
          "metadata": {},
          "execution_count": 79
        },
        {
          "output_type": "display_data",
          "data": {
            "text/plain": [
              "<Figure size 432x288 with 1 Axes>"
            ],
            "image/png": "[encoded data removed]"
          },
          "metadata": {
            "needs_background": "light"
          }
        }
      ],
      "source": [
        "k1 = np.array([2, 3, 4, 5, 6, 7, 8, 9, 10, 11, 12, 13, 14, 15]).T\n",
        "k1 = k1.reshape(14,1)\n",
        "plt.plot(k1, sil1)"
      ]
    },
    {
      "cell_type": "code",
      "execution_count": null,
      "metadata": {
        "id": "EyjfZ2THL27W"
      },
      "outputs": [],
      "source": [
        "k_means2 = KMeans(n_clusters = 3, init='k-means++', max_iter=500, random_state=42).fit(X_reduced)\n",
        "klabels = k_means2.labels_"
      ]
    },
    {
      "cell_type": "code",
      "execution_count": null,
      "metadata": {
        "id": "QR9THBhMQEHk",
        "colab": {
          "base_uri": "https://localhost:8080/",
          "height": 393
        },
        "outputId": "b64bf8e8-b5c9-4e6e-b250-25e6c5e9d2b0"
      },
      "outputs": [
        {
          "output_type": "display_data",
          "data": {
            "text/plain": [
              "<Figure size 576x396 with 1 Axes>"
            ],
            "image/png": "[encoded data removed]"
          },
          "metadata": {}
        },
        {
          "output_type": "execute_result",
          "data": {
            "text/plain": [
              "<matplotlib.axes._subplots.AxesSubplot at 0x7f688e2f4a10>"
            ]
          },
          "metadata": {},
          "execution_count": 82
        }
      ],
      "source": [
        "from yellowbrick.cluster import SilhouetteVisualizer\n",
        "visualizer = SilhouetteVisualizer(k_means2, colors='yellowbrick')\n",
        "visualizer.fit(X_reduced)        # Fit the data to the visualizer\n",
        "visualizer.show()        # Finalize and render the figure"
      ]
    },
    {
      "cell_type": "code",
      "execution_count": null,
      "metadata": {
        "id": "GBRRgFbFXmW5",
        "colab": {
          "base_uri": "https://localhost:8080/"
        },
        "outputId": "674a19a2-0028-4915-d389-6c90a2e89ab1"
      },
      "outputs": [
        {
          "output_type": "execute_result",
          "data": {
            "text/plain": [
              "0.9231058"
            ]
          },
          "metadata": {},
          "execution_count": 81
        }
      ],
      "source": [
        "silhouette_score(X_reduced, klabels, metric = 'cosine')"
      ]
    },
    {
      "cell_type": "code",
      "execution_count": null,
      "metadata": {
        "id": "gEVf3bHOM394",
        "colab": {
          "base_uri": "https://localhost:8080/",
          "height": 483
        },
        "outputId": "cd998dd0-59cc-407e-ae88-8e68b96ef8a5"
      },
      "outputs": [
        {
          "output_type": "display_data",
          "data": {
            "text/plain": [
              "<Figure size 864x576 with 1 Axes>"
            ],
            "image/png": "[encoded data removed]"
          },
          "metadata": {}
        }
      ],
      "source": [
        "fig = plt.figure(figsize=(12,8))\n",
        "plt.scatter(reducer.embedding_[:, 0], reducer.embedding_[:, 1], c=klabels, cmap='tab20c')\n",
        "\n",
        "viz_clusters = pd.DataFrame(embedding)\n",
        "viz_clusters['cluster'] = klabels\n",
        "\n",
        "for row in viz_clusters.groupby('cluster').mean().reset_index().values:\n",
        "    label = f'CLUSTER: {row[0]}'\n",
        "    plt.annotate(label, (row[1], row[2]), textcoords=\"offset points\", fontsize=12,  xytext=(25,0), ha='center')"
      ]
    },
    {
      "cell_type": "code",
      "execution_count": null,
      "metadata": {
        "id": "62FN5D_WeVBC"
      },
      "outputs": [],
      "source": [
        "df['Cluster'] = klabels"
      ]
    },
    {
      "cell_type": "code",
      "execution_count": null,
      "metadata": {
        "id": "_bCBuMGRKiLq",
        "colab": {
          "base_uri": "https://localhost:8080/",
          "height": 1000
        },
        "outputId": "84d13eb2-4ab5-4562-efc3-4abe5129aef6"
      },
      "outputs": [
        {
          "output_type": "execute_result",
          "data": {
            "text/plain": [
              "                                      user_name                 user_location  \\\n",
              "0                                      MyNewsNE                         Assam   \n",
              "1                                 Shubham Gupta                           NaN   \n",
              "2                       Journal of Infectiology                           NaN   \n",
              "3                                          Zane                           NaN   \n",
              "4                            Ann-Maree O’Connor     Adelaide, South Australia   \n",
              "..                                          ...                           ...   \n",
              "95                    the indian national daily                         India   \n",
              "96  Kev a man with a spud gun wielding hedgehog  northampton, middle england    \n",
              "97                             Murtuza Merchant                        Mumbai   \n",
              "98                                            ً                           NaN   \n",
              "99                                NIAID Funding            Bethesda, Maryland   \n",
              "\n",
              "                                                                                                                                                    user_description  \\\n",
              "0                                                                                           MyNewsNE a dedicated multi-lingual media house from North Eastern India.   \n",
              "1                                                                    I will tell about all experiences of my life from my videos hope that you all like the videos 🙂   \n",
              "2    Journal of Infectiology (ISSN 2689-9981) is accepting submissions for an upcoming Volume 3 Issue 2. For further queries contact editor@infectiologyjournal.com.   \n",
              "3                                                                                                                                                  Fresher than you.   \n",
              "4             Retired university administrator. Melburnian by birth, now living in Adelaide. Look back fondly to the Whitlam years; one of Keating’s true believers.   \n",
              "..                                                                                                                                                               ...   \n",
              "95                                                                           India's NEWS Channel for Digital Media!\\nTo get in touch with us, send a Direct Message   \n",
              "96  Northampton born MK. bred tax exile alleged genius bipolar  maniac currently on major meds change, Twitter is planets piss take platform and I take no prisoners   \n",
              "97                                                                                                                                                        Journalist   \n",
              "98                                                                                                               #JENNIE: most hated — i’m a fan account 😒 (she/her)   \n",
              "99         For #NIH NIAID's extramural research grants and R&D contracts. Following and followers does not equal endorsement. Privacy policy https://t.co/p9EREyWVEW   \n",
              "\n",
              "        user_created  user_followers user_friends user_favourites  \\\n",
              "0   24-05-2020 10:18            64.0         11.0           110.0   \n",
              "1   14-08-2020 16:42             1.0         17.0             0.0   \n",
              "2   14-12-2017 07:07           143.0        566.0             8.0   \n",
              "3   18-09-2019 11:01            29.0         25.0           620.0   \n",
              "4   24-01-2013 14:53            83.0        497.0         10737.0   \n",
              "..               ...             ...          ...             ...   \n",
              "95  02-06-2014 07:15          1057.0        124.0           275.0   \n",
              "96  29-09-2019 12:25            53.0         64.0          1721.0   \n",
              "97  27-07-2013 09:40           439.0        123.0           948.0   \n",
              "98  22-10-2016 21:38          1011.0       1005.0         19770.0   \n",
              "99  12-12-2011 13:58          4617.0         25.0           161.0   \n",
              "\n",
              "   user_verified              date  \\\n",
              "0          False  18-08-2020 12:55   \n",
              "1          False  18-08-2020 12:55   \n",
              "2          False  18-08-2020 12:46   \n",
              "3          False  18-08-2020 12:45   \n",
              "4          False  18-08-2020 12:45   \n",
              "..           ...               ...   \n",
              "95         False  17-08-2020 15:46   \n",
              "96         False  17-08-2020 15:39   \n",
              "97         False  17-08-2020 15:37   \n",
              "98         False  17-08-2020 15:24   \n",
              "99          True  17-08-2020 15:23   \n",
              "\n",
              "                                                                                                                                            text  \\\n",
              "0               Australia to Manufacture Covid-19 Vaccine and give it to the Citizens for free of cost: AFP quotes Prime Minister\\n#CovidVaccine   \n",
              "1                                          #CoronavirusVaccine #CoronaVaccine #CovidVaccine Australia is doing very good https://t.co/kBT7l6pArY   \n",
              "2          Deaths due to COVID-19 in Affected Countries\\nRead More: https://t.co/V8Y3Stu0UW\\n@r_piryani @shitalbhandary… https://t.co/6jpMxX2KtI   \n",
              "3               @Team_Subhashree @subhashreesotwe @iamrajchoco Stay safe @subhashreesotwe di &amp; @iamrajchoco da ❤️❤️… https://t.co/ayhoaQm0Ls   \n",
              "4   @michellegrattan @ConversationEDU This is what passes for leadership in our country: a voucher for something that w… https://t.co/OUUb1PeYIj   \n",
              "..                                                                                                                                           ...   \n",
              "95            National Expert Group on Vaccine Administration meets the Domestic Vaccine Manufactures\\nPIB (@PIB_India)… https://t.co/Eoci6vseWv   \n",
              "96  @BBCNews You pay me £5,000 cash tax free and I’ll take the chance..as this my life you playing with and .you can st… https://t.co/dHiuzEDwq2   \n",
              "97   Doctors seeking @rautsanjay61 's resignation from #Maharashtra CM @uddhavthackeray \\n\\n#DoctorSecondSingle #Doctor… https://t.co/HE5G7kQtTE   \n",
              "98  #Corona #iHeartDynamite #iHeartDay1Contest #CovidVaccine #Trump2020 #BidenHarrisLandslide2020 #MAGA donald trump jo… https://t.co/D9CwLkIgBl   \n",
              "99  NIAID Funding Opportunity: NOT-AI-20-065, Notice of Special Interest (NOSI)—Emergency Awards for Limited Clinical T… https://t.co/LtCYT5RlGL   \n",
              "\n",
              "                                                                                                              hashtags  \\\n",
              "0                                                                                                     ['CovidVaccine']   \n",
              "1                                                              ['CoronavirusVaccine', 'CoronaVaccine', 'CovidVaccine']   \n",
              "2                                                                                                                  NaN   \n",
              "3                                                                                                                  NaN   \n",
              "4                                                                                                                  NaN   \n",
              "..                                                                                                                 ...   \n",
              "95                                                                                                                 NaN   \n",
              "96                                                                                                                 NaN   \n",
              "97                                                                     ['Maharashtra', 'DoctorSecondSingle', 'Doctor']   \n",
              "98  ['Corona', 'iHeartDynamite', 'iHeartDay1Contest', 'CovidVaccine', 'Trump2020', 'BidenHarrisLandslide2020', 'MAGA']   \n",
              "99                                                                                                                 NaN   \n",
              "\n",
              "                 source is_retweet  \\\n",
              "0       Twitter Web App      False   \n",
              "1   Twitter for Android      False   \n",
              "2       Twitter Web App      False   \n",
              "3   Twitter for Android      False   \n",
              "4       Twitter Web App      False   \n",
              "..                  ...        ...   \n",
              "95      Twitter Web App      False   \n",
              "96      Twitter Web App      False   \n",
              "97  Twitter for Android      False   \n",
              "98   Twitter for iPhone      False   \n",
              "99      Twitter Web App      False   \n",
              "\n",
              "                                                                                                           tweet  \\\n",
              "0   australia to manufacture covid vaccine and give it to the citizens for free of cost afp quote prime minister   \n",
              "1                                                                                      australia be do very good   \n",
              "2                                                              deaths due to covid in affect countries read more   \n",
              "3                                                                                            stay safe di amp da   \n",
              "4                                     this be what pass for leadership in our country voucher for something that   \n",
              "..                                                                                                           ...   \n",
              "95                     national expert group on vaccine administration meet the domestic vaccine manufacture pib   \n",
              "96                  you pay me cash tax free and ll take the chance as this my life you play with and you can st   \n",
              "97                                                                               doctor seek resignation from cm   \n",
              "98                                                                                               donald trump jo   \n",
              "99              niaid fund opportunity not ai notice of special interest nosi emergency award for limit clinical   \n",
              "\n",
              "    Cluster  \n",
              "0         0  \n",
              "1         0  \n",
              "2         0  \n",
              "3         0  \n",
              "4         0  \n",
              "..      ...  \n",
              "95        0  \n",
              "96        0  \n",
              "97        0  \n",
              "98        0  \n",
              "99        0  \n",
              "\n",
              "[100 rows x 15 columns]"
            ],
            "text/html": [
              "\n",
              "  <div id=\"df-09c8674a-2fc1-40ce-905e-760c54ccadf9\">\n",
              "    <div class=\"colab-df-container\">\n",
              "      <div>\n",
              "<style scoped>\n",
              "    .dataframe tbody tr th:only-of-type {\n",
              "        vertical-align: middle;\n",
              "    }\n",
              "\n",
              "    .dataframe tbody tr th {\n",
              "        vertical-align: top;\n",
              "    }\n",
              "\n",
              "    .dataframe thead th {\n",
              "        text-align: right;\n",
              "    }\n",
              "</style>\n",
              "<table border=\"1\" class=\"dataframe\">\n",
              "  <thead>\n",
              "    <tr style=\"text-align: right;\">\n",
              "      <th></th>\n",
              "      <th>user_name</th>\n",
              "      <th>user_location</th>\n",
              "      <th>user_description</th>\n",
              "      <th>user_created</th>\n",
              "      <th>user_followers</th>\n",
              "      <th>user_friends</th>\n",
              "      <th>user_favourites</th>\n",
              "      <th>user_verified</th>\n",
              "      <th>date</th>\n",
              "      <th>text</th>\n",
              "      <th>hashtags</th>\n",
              "      <th>source</th>\n",
              "      <th>is_retweet</th>\n",
              "      <th>tweet</th>\n",
              "      <th>Cluster</th>\n",
              "    </tr>\n",
              "  </thead>\n",
              "  <tbody>\n",
              "    <tr>\n",
              "      <th>0</th>\n",
              "      <td>MyNewsNE</td>\n",
              "      <td>Assam</td>\n",
              "      <td>MyNewsNE a dedicated multi-lingual media house from North Eastern India.</td>\n",
              "      <td>24-05-2020 10:18</td>\n",
              "      <td>64.0</td>\n",
              "      <td>11.0</td>\n",
              "      <td>110.0</td>\n",
              "      <td>False</td>\n",
              "      <td>18-08-2020 12:55</td>\n",
              "      <td>Australia to Manufacture Covid-19 Vaccine and give it to the Citizens for free of cost: AFP quotes Prime Minister\\n#CovidVaccine</td>\n",
              "      <td>['CovidVaccine']</td>\n",
              "      <td>Twitter Web App</td>\n",
              "      <td>False</td>\n",
              "      <td>australia to manufacture covid vaccine and give it to the citizens for free of cost afp quote prime minister</td>\n",
              "      <td>0</td>\n",
              "    </tr>\n",
              "    <tr>\n",
              "      <th>1</th>\n",
              "      <td>Shubham Gupta</td>\n",
              "      <td>NaN</td>\n",
              "      <td>I will tell about all experiences of my life from my videos hope that you all like the videos 🙂</td>\n",
              "      <td>14-08-2020 16:42</td>\n",
              "      <td>1.0</td>\n",
              "      <td>17.0</td>\n",
              "      <td>0.0</td>\n",
              "      <td>False</td>\n",
              "      <td>18-08-2020 12:55</td>\n",
              "      <td>#CoronavirusVaccine #CoronaVaccine #CovidVaccine Australia is doing very good https://t.co/kBT7l6pArY</td>\n",
              "      <td>['CoronavirusVaccine', 'CoronaVaccine', 'CovidVaccine']</td>\n",
              "      <td>Twitter for Android</td>\n",
              "      <td>False</td>\n",
              "      <td>australia be do very good</td>\n",
              "      <td>0</td>\n",
              "    </tr>\n",
              "    <tr>\n",
              "      <th>2</th>\n",
              "      <td>Journal of Infectiology</td>\n",
              "      <td>NaN</td>\n",
              "      <td>Journal of Infectiology (ISSN 2689-9981) is accepting submissions for an upcoming Volume 3 Issue 2. For further queries contact editor@infectiologyjournal.com.</td>\n",
              "      <td>14-12-2017 07:07</td>\n",
              "      <td>143.0</td>\n",
              "      <td>566.0</td>\n",
              "      <td>8.0</td>\n",
              "      <td>False</td>\n",
              "      <td>18-08-2020 12:46</td>\n",
              "      <td>Deaths due to COVID-19 in Affected Countries\\nRead More: https://t.co/V8Y3Stu0UW\\n@r_piryani @shitalbhandary… https://t.co/6jpMxX2KtI</td>\n",
              "      <td>NaN</td>\n",
              "      <td>Twitter Web App</td>\n",
              "      <td>False</td>\n",
              "      <td>deaths due to covid in affect countries read more</td>\n",
              "      <td>0</td>\n",
              "    </tr>\n",
              "    <tr>\n",
              "      <th>3</th>\n",
              "      <td>Zane</td>\n",
              "      <td>NaN</td>\n",
              "      <td>Fresher than you.</td>\n",
              "      <td>18-09-2019 11:01</td>\n",
              "      <td>29.0</td>\n",
              "      <td>25.0</td>\n",
              "      <td>620.0</td>\n",
              "      <td>False</td>\n",
              "      <td>18-08-2020 12:45</td>\n",
              "      <td>@Team_Subhashree @subhashreesotwe @iamrajchoco Stay safe @subhashreesotwe di &amp;amp; @iamrajchoco da ❤️❤️… https://t.co/ayhoaQm0Ls</td>\n",
              "      <td>NaN</td>\n",
              "      <td>Twitter for Android</td>\n",
              "      <td>False</td>\n",
              "      <td>stay safe di amp da</td>\n",
              "      <td>0</td>\n",
              "    </tr>\n",
              "    <tr>\n",
              "      <th>4</th>\n",
              "      <td>Ann-Maree O’Connor</td>\n",
              "      <td>Adelaide, South Australia</td>\n",
              "      <td>Retired university administrator. Melburnian by birth, now living in Adelaide. Look back fondly to the Whitlam years; one of Keating’s true believers.</td>\n",
              "      <td>24-01-2013 14:53</td>\n",
              "      <td>83.0</td>\n",
              "      <td>497.0</td>\n",
              "      <td>10737.0</td>\n",
              "      <td>False</td>\n",
              "      <td>18-08-2020 12:45</td>\n",
              "      <td>@michellegrattan @ConversationEDU This is what passes for leadership in our country: a voucher for something that w… https://t.co/OUUb1PeYIj</td>\n",
              "      <td>NaN</td>\n",
              "      <td>Twitter Web App</td>\n",
              "      <td>False</td>\n",
              "      <td>this be what pass for leadership in our country voucher for something that</td>\n",
              "      <td>0</td>\n",
              "    </tr>\n",
              "    <tr>\n",
              "      <th>...</th>\n",
              "      <td>...</td>\n",
              "      <td>...</td>\n",
              "      <td>...</td>\n",
              "      <td>...</td>\n",
              "      <td>...</td>\n",
              "      <td>...</td>\n",
              "      <td>...</td>\n",
              "      <td>...</td>\n",
              "      <td>...</td>\n",
              "      <td>...</td>\n",
              "      <td>...</td>\n",
              "      <td>...</td>\n",
              "      <td>...</td>\n",
              "      <td>...</td>\n",
              "      <td>...</td>\n",
              "    </tr>\n",
              "    <tr>\n",
              "      <th>95</th>\n",
              "      <td>the indian national daily</td>\n",
              "      <td>India</td>\n",
              "      <td>India's NEWS Channel for Digital Media!\\nTo get in touch with us, send a Direct Message</td>\n",
              "      <td>02-06-2014 07:15</td>\n",
              "      <td>1057.0</td>\n",
              "      <td>124.0</td>\n",
              "      <td>275.0</td>\n",
              "      <td>False</td>\n",
              "      <td>17-08-2020 15:46</td>\n",
              "      <td>National Expert Group on Vaccine Administration meets the Domestic Vaccine Manufactures\\nPIB (@PIB_India)… https://t.co/Eoci6vseWv</td>\n",
              "      <td>NaN</td>\n",
              "      <td>Twitter Web App</td>\n",
              "      <td>False</td>\n",
              "      <td>national expert group on vaccine administration meet the domestic vaccine manufacture pib</td>\n",
              "      <td>0</td>\n",
              "    </tr>\n",
              "    <tr>\n",
              "      <th>96</th>\n",
              "      <td>Kev a man with a spud gun wielding hedgehog</td>\n",
              "      <td>northampton, middle england</td>\n",
              "      <td>Northampton born MK. bred tax exile alleged genius bipolar  maniac currently on major meds change, Twitter is planets piss take platform and I take no prisoners</td>\n",
              "      <td>29-09-2019 12:25</td>\n",
              "      <td>53.0</td>\n",
              "      <td>64.0</td>\n",
              "      <td>1721.0</td>\n",
              "      <td>False</td>\n",
              "      <td>17-08-2020 15:39</td>\n",
              "      <td>@BBCNews You pay me £5,000 cash tax free and I’ll take the chance..as this my life you playing with and .you can st… https://t.co/dHiuzEDwq2</td>\n",
              "      <td>NaN</td>\n",
              "      <td>Twitter Web App</td>\n",
              "      <td>False</td>\n",
              "      <td>you pay me cash tax free and ll take the chance as this my life you play with and you can st</td>\n",
              "      <td>0</td>\n",
              "    </tr>\n",
              "    <tr>\n",
              "      <th>97</th>\n",
              "      <td>Murtuza Merchant</td>\n",
              "      <td>Mumbai</td>\n",
              "      <td>Journalist</td>\n",
              "      <td>27-07-2013 09:40</td>\n",
              "      <td>439.0</td>\n",
              "      <td>123.0</td>\n",
              "      <td>948.0</td>\n",
              "      <td>False</td>\n",
              "      <td>17-08-2020 15:37</td>\n",
              "      <td>Doctors seeking @rautsanjay61 's resignation from #Maharashtra CM @uddhavthackeray \\n\\n#DoctorSecondSingle #Doctor… https://t.co/HE5G7kQtTE</td>\n",
              "      <td>['Maharashtra', 'DoctorSecondSingle', 'Doctor']</td>\n",
              "      <td>Twitter for Android</td>\n",
              "      <td>False</td>\n",
              "      <td>doctor seek resignation from cm</td>\n",
              "      <td>0</td>\n",
              "    </tr>\n",
              "    <tr>\n",
              "      <th>98</th>\n",
              "      <td>ً</td>\n",
              "      <td>NaN</td>\n",
              "      <td>#JENNIE: most hated — i’m a fan account 😒 (she/her)</td>\n",
              "      <td>22-10-2016 21:38</td>\n",
              "      <td>1011.0</td>\n",
              "      <td>1005.0</td>\n",
              "      <td>19770.0</td>\n",
              "      <td>False</td>\n",
              "      <td>17-08-2020 15:24</td>\n",
              "      <td>#Corona #iHeartDynamite #iHeartDay1Contest #CovidVaccine #Trump2020 #BidenHarrisLandslide2020 #MAGA donald trump jo… https://t.co/D9CwLkIgBl</td>\n",
              "      <td>['Corona', 'iHeartDynamite', 'iHeartDay1Contest', 'CovidVaccine', 'Trump2020', 'BidenHarrisLandslide2020', 'MAGA']</td>\n",
              "      <td>Twitter for iPhone</td>\n",
              "      <td>False</td>\n",
              "      <td>donald trump jo</td>\n",
              "      <td>0</td>\n",
              "    </tr>\n",
              "    <tr>\n",
              "      <th>99</th>\n",
              "      <td>NIAID Funding</td>\n",
              "      <td>Bethesda, Maryland</td>\n",
              "      <td>For #NIH NIAID's extramural research grants and R&amp;D contracts. Following and followers does not equal endorsement. Privacy policy https://t.co/p9EREyWVEW</td>\n",
              "      <td>12-12-2011 13:58</td>\n",
              "      <td>4617.0</td>\n",
              "      <td>25.0</td>\n",
              "      <td>161.0</td>\n",
              "      <td>True</td>\n",
              "      <td>17-08-2020 15:23</td>\n",
              "      <td>NIAID Funding Opportunity: NOT-AI-20-065, Notice of Special Interest (NOSI)—Emergency Awards for Limited Clinical T… https://t.co/LtCYT5RlGL</td>\n",
              "      <td>NaN</td>\n",
              "      <td>Twitter Web App</td>\n",
              "      <td>False</td>\n",
              "      <td>niaid fund opportunity not ai notice of special interest nosi emergency award for limit clinical</td>\n",
              "      <td>0</td>\n",
              "    </tr>\n",
              "  </tbody>\n",
              "</table>\n",
              "<p>100 rows × 15 columns</p>\n",
              "</div>\n",
              "      <button class=\"colab-df-convert\" onclick=\"convertToInteractive('df-09c8674a-2fc1-40ce-905e-760c54ccadf9')\"\n",
              "              title=\"Convert this dataframe to an interactive table.\"\n",
              "              style=\"display:none;\">\n",
              "        \n",
              "  <svg xmlns=\"http://www.w3.org/2000/svg\" height=\"24px\"viewBox=\"0 0 24 24\"\n",
              "       width=\"24px\">\n",
              "    <path d=\"M0 0h24v24H0V0z\" fill=\"none\"/>\n",
              "    <path d=\"M18.56 5.44l.94 2.06.94-2.06 2.06-.94-2.06-.94-.94-2.06-.94 2.06-2.06.94zm-11 1L8.5 8.5l.94-2.06 2.06-.94-2.06-.94L8.5 2.5l-.94 2.06-2.06.94zm10 10l.94 2.06.94-2.06 2.06-.94-2.06-.94-.94-2.06-.94 2.06-2.06.94z\"/><path d=\"M17.41 7.96l-1.37-1.37c-.4-.4-.92-.59-1.43-.59-.52 0-1.04.2-1.43.59L10.3 9.45l-7.72 7.72c-.78.78-.78 2.05 0 2.83L4 21.41c.39.39.9.59 1.41.59.51 0 1.02-.2 1.41-.59l7.78-7.78 2.81-2.81c.8-.78.8-2.07 0-2.86zM5.41 20L4 18.59l7.72-7.72 1.47 1.35L5.41 20z\"/>\n",
              "  </svg>\n",
              "      </button>\n",
              "      \n",
              "  <style>\n",
              "    .colab-df-container {\n",
              "      display:flex;\n",
              "      flex-wrap:wrap;\n",
              "      gap: 12px;\n",
              "    }\n",
              "\n",
              "    .colab-df-convert {\n",
              "      background-color: #E8F0FE;\n",
              "      border: none;\n",
              "      border-radius: 50%;\n",
              "      cursor: pointer;\n",
              "      display: none;\n",
              "      fill: #1967D2;\n",
              "      height: 32px;\n",
              "      padding: 0 0 0 0;\n",
              "      width: 32px;\n",
              "    }\n",
              "\n",
              "    .colab-df-convert:hover {\n",
              "      background-color: #E2EBFA;\n",
              "      box-shadow: 0px 1px 2px rgba(60, 64, 67, 0.3), 0px 1px 3px 1px rgba(60, 64, 67, 0.15);\n",
              "      fill: #174EA6;\n",
              "    }\n",
              "\n",
              "    [theme=dark] .colab-df-convert {\n",
              "      background-color: #3B4455;\n",
              "      fill: #D2E3FC;\n",
              "    }\n",
              "\n",
              "    [theme=dark] .colab-df-convert:hover {\n",
              "      background-color: #434B5C;\n",
              "      box-shadow: 0px 1px 3px 1px rgba(0, 0, 0, 0.15);\n",
              "      filter: drop-shadow(0px 1px 2px rgba(0, 0, 0, 0.3));\n",
              "      fill: #FFFFFF;\n",
              "    }\n",
              "  </style>\n",
              "\n",
              "      <script>\n",
              "        const buttonEl =\n",
              "          document.querySelector('#df-09c8674a-2fc1-40ce-905e-760c54ccadf9 button.colab-df-convert');\n",
              "        buttonEl.style.display =\n",
              "          google.colab.kernel.accessAllowed ? 'block' : 'none';\n",
              "\n",
              "        async function convertToInteractive(key) {\n",
              "          const element = document.querySelector('#df-09c8674a-2fc1-40ce-905e-760c54ccadf9');\n",
              "          const dataTable =\n",
              "            await google.colab.kernel.invokeFunction('convertToInteractive',\n",
              "                                                     [key], {});\n",
              "          if (!dataTable) return;\n",
              "\n",
              "          const docLinkHtml = 'Like what you see? Visit the ' +\n",
              "            '<a target=\"_blank\" href=https://colab.research.google.com/notebooks/data_table.ipynb>data table notebook</a>'\n",
              "            + ' to learn more about interactive tables.';\n",
              "          element.innerHTML = '';\n",
              "          dataTable['output_type'] = 'display_data';\n",
              "          await google.colab.output.renderOutput(dataTable, element);\n",
              "          const docLink = document.createElement('div');\n",
              "          docLink.innerHTML = docLinkHtml;\n",
              "          element.appendChild(docLink);\n",
              "        }\n",
              "      </script>\n",
              "    </div>\n",
              "  </div>\n",
              "  "
            ]
          },
          "metadata": {},
          "execution_count": 85
        }
      ],
      "source": [
        "df.head(100)"
      ]
    },
    {
      "cell_type": "code",
      "execution_count": null,
      "metadata": {
        "colab": {
          "base_uri": "https://localhost:8080/"
        },
        "outputId": "16b5fdb9-2611-4c1e-8118-173dcd377a4b",
        "id": "zoYLOpmmgG-I"
      },
      "outputs": [
        {
          "output_type": "stream",
          "name": "stdout",
          "text": [
            "Cluster 0: absolutely abingdon activity abt aaron absolute achieve abroad ache abc act account across ability add\n",
            "Cluster 1: abduct abc aaron absolute absolutely abt achieve abroad activity add across act ache activities account\n",
            "Cluster 2: absolutely absolute achieve abingdon abroad activity abt add abc act ache across activities ability account\n"
          ]
        }
      ],
      "source": [
        "strongest_features(k_means2, vec, topk=15)"
      ]
    },
    {
      "cell_type": "code",
      "execution_count": null,
      "metadata": {
        "colab": {
          "base_uri": "https://localhost:8080/",
          "height": 376
        },
        "outputId": "3623df82-cc89-4879-d560-436b0b425685",
        "id": "lMArc6WtgG-K"
      },
      "outputs": [
        {
          "output_type": "display_data",
          "data": {
            "text/plain": [
              "<Figure size 576x396 with 1 Axes>"
            ],
            "image/png": "[encoded data removed]"
          },
          "metadata": {}
        }
      ],
      "source": [
        "plt.bar(range(len(set(k_means2.labels_))), np.bincount(k_means2.labels_))\n",
        "\n",
        "plt.ylabel('population')\n",
        "plt.xlabel('cluster label')\n",
        "plt.title('population sizes with {} clusters'.format(len(set(k_means2.labels_))));\n",
        "\n",
        "# truncate y axis to see the rest better\n",
        "# (comment out to see the peak value for the largest cluster)\n",
        "plt.ylim(0,1000);"
      ]
    }
  ],
  "metadata": {
    "accelerator": "GPU",
    "colab": {
      "collapsed_sections": [],
      "machine_shape": "hm",
      "name": "AE_clustering_TFIDF.ipynb",
      "provenance": [],
      "authorship_tag": "ABX9TyM9DV8VO2ODRL7wbbGAF8yg",
      "include_colab_link": true
    },
    "kernelspec": {
      "display_name": "Python 3",
      "name": "python3"
    },
    "language_info": {
      "name": "python"
    }
  },
  "nbformat": 4,
  "nbformat_minor": 0
}